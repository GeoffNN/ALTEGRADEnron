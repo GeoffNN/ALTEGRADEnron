{
 "cells": [
  {
   "cell_type": "code",
   "execution_count": 1,
   "metadata": {
    "collapsed": false
   },
   "outputs": [],
   "source": [
    "from collections import defaultdict\n",
    "import datetime\n",
    "from gensim import corpora, models, similarities\n",
    "from matplotlib import pyplot as plt\n",
    "import numpy as np\n",
    "import operator\n",
    "import pandas as pd\n",
    "import pickle\n",
    "import random\n",
    "import re\n",
    "import scipy\n",
    "from sklearn.preprocessing import MultiLabelBinarizer\n",
    "from sklearn.ensemble import RandomForestClassifier\n",
    "\n",
    "from tqdm import tqdm_notebook\n",
    "\n",
    "import src.knntools as knntools\n",
    "import src.postprocess as postprocess\n",
    "import src.preprocess as preprocess\n",
    "import src.tfidftools as tfidftools\n",
    "import src.tools as tools\n",
    "import src.recencytools as recency\n",
    "import src.scoring as scoring\n",
    "import src.textembeddingtools as texttools\n",
    "\n",
    "%load_ext autoreload\n",
    "%autoreload 2\n",
    "%matplotlib inline"
   ]
  },
  {
   "cell_type": "code",
   "execution_count": 2,
   "metadata": {
    "collapsed": true
   },
   "outputs": [],
   "source": [
    "path_to_data = 'data/'\n",
    "\n",
    "training = pd.read_csv(path_to_data + 'training_set.csv', sep=',', header=0)\n",
    "\n",
    "training_info = pd.read_csv(\n",
    "    path_to_data + 'training_info.csv', sep=',', parse_dates=True, header=0)\n",
    "\n",
    "test = pd.read_csv(path_to_data + 'test_set.csv', sep=',', header=0)\n",
    "\n",
    "test_info = pd.read_csv(path_to_data + 'test_info.csv',\n",
    "                        sep=',', parse_dates=True, header=0)\n",
    "path_to_results = 'results/'"
   ]
  },
  {
   "cell_type": "code",
   "execution_count": 3,
   "metadata": {
    "collapsed": false
   },
   "outputs": [
    {
     "name": "stdout",
     "output_type": "stream",
     "text": [
      "Processing training !\n"
     ]
    },
    {
     "name": "stderr",
     "output_type": "stream",
     "text": [
      "Widget Javascript not detected.  It may not be installed properly. Did you enable the widgetsnbextension? If not, then run \"jupyter nbextension enable --py --sys-prefix widgetsnbextension\"\n"
     ]
    },
    {
     "name": "stdout",
     "output_type": "stream",
     "text": [
      "\n",
      "Processing val !\n"
     ]
    },
    {
     "name": "stderr",
     "output_type": "stream",
     "text": [
      "Widget Javascript not detected.  It may not be installed properly. Did you enable the widgetsnbextension? If not, then run \"jupyter nbextension enable --py --sys-prefix widgetsnbextension\"\n"
     ]
    },
    {
     "name": "stdout",
     "output_type": "stream",
     "text": [
      "\n"
     ]
    }
   ],
   "source": [
    "train_info, train_email_ids_per_sender, val_info, val_email_ids_per_sender = scoring.get_train_val(training, training_info, train_frac=0.95)"
   ]
  },
  {
   "cell_type": "code",
   "execution_count": 4,
   "metadata": {
    "collapsed": false
   },
   "outputs": [
    {
     "name": "stdout",
     "output_type": "stream",
     "text": [
      "\n",
      "\n"
     ]
    }
   ],
   "source": [
    "train_body_dict = preprocess.body_dict_from_panda(train_info)\n",
    "val_body_dict = preprocess.body_dict_from_panda(val_info)\n"
   ]
  },
  {
   "cell_type": "code",
   "execution_count": 5,
   "metadata": {
    "collapsed": false
   },
   "outputs": [
    {
     "name": "stdout",
     "output_type": "stream",
     "text": [
      "\n",
      "\n"
     ]
    }
   ],
   "source": [
    "train_token_dict = texttools.get_token_dict(train_body_dict)\n",
    "val_token_dict = texttools.get_token_dict(val_body_dict)"
   ]
  },
  {
   "cell_type": "code",
   "execution_count": 8,
   "metadata": {
    "collapsed": false
   },
   "outputs": [],
   "source": [
    "train_email_list, train_idx_to_mids = texttools.token_dicts_to_token_lists(train_token_dict, rarity_threshold=3)\n",
    "val_email_list, val_idx_to_mids = texttools.token_dicts_to_token_lists(val_token_dict, rarity_threshold=3)"
   ]
  },
  {
   "cell_type": "code",
   "execution_count": 9,
   "metadata": {
    "collapsed": false
   },
   "outputs": [],
   "source": [
    "# Assign unique id to word\n",
    "train_word_id_dic = corpora.Dictionary(train_email_list)\n",
    "\n",
    "# Compute email corpush as bow [[(wordid_1_1, count_1_1), ...] ...]\n",
    "train_email_corpus = [train_word_id_dic.doc2bow(text) for text in train_email_list]\n",
    "val_email_corpus = [train_word_id_dic.doc2bow(text) for text in val_email_list]"
   ]
  },
  {
   "cell_type": "code",
   "execution_count": 82,
   "metadata": {
    "collapsed": false
   },
   "outputs": [
    {
     "name": "stdout",
     "output_type": "stream",
     "text": [
      "41432\n"
     ]
    }
   ],
   "source": [
    "nb_topics = 200\n",
    "nb_emails = len(train_email_corpus)\n",
    "print(nb_emails)"
   ]
  },
  {
   "cell_type": "code",
   "execution_count": 83,
   "metadata": {
    "collapsed": false
   },
   "outputs": [
    {
     "name": "stdout",
     "output_type": "stream",
     "text": [
      "this will take some time...\n",
      "computed model\n",
      "saving new model to variables/train-lda-200.p\n"
     ]
    }
   ],
   "source": [
    "# model_vars_path = 'variables/hdp_similarities_{thres_nb}_words_out_no_punct'.format(thres_nb=rarity_thres)\n",
    "stored_model_results = ['variables/train-lda-{nb_topics}.p'.format(nb_topics=nb_topics)]\n",
    "\n",
    "lda_model = texttools.compute_model(train_email_corpus, train_word_id_dic, model='lda', nb_topics=nb_topics,\n",
    "                                    use_saved=False, save=True, model_results_path=stored_model_results[0])"
   ]
  },
  {
   "cell_type": "code",
   "execution_count": 84,
   "metadata": {
    "collapsed": false
   },
   "outputs": [],
   "source": [
    "train_senders_mid_features_dict, train_senders_idx_to_mid_dic = texttools.get_sender_model_features_from_tokens(train_email_ids_per_sender,\n",
    "                                                    train_token_dict, train_word_id_dic, lda_model, nb_topics)"
   ]
  },
  {
   "cell_type": "code",
   "execution_count": 85,
   "metadata": {
    "collapsed": false
   },
   "outputs": [],
   "source": [
    "train_lda_sender_features_path = 'variables/train-lda-{nb_topics}-sender-features-dic.p'.format(nb_topics=nb_topics)\n",
    "\n",
    "# with open(train_lda_sender_features_path, 'wb') as outfile:\n",
    "#     pickle.dump(train_senders_mid_features_dict, outfile)\n",
    "    \n",
    "with open(train_lda_sender_features_path, 'rb') as infile:\n",
    "    train_senders_mid_features_dict = pickle.load(infile)\n",
    "\n",
    "train_lda_sender_idx_to_mid_path = 'variables/train-lda-{nb_topics}-sender-idx-to-mids-dic.p'.format(nb_topics=nb_topics)\n",
    "\n",
    "# with open(train_lda_sender_idx_to_mid_path, 'wb') as outfile:\n",
    "#     pickle.dump(train_senders_idx_to_mid_dic, outfile)\n",
    "    \n",
    "with open(train_lda_sender_idx_to_mid_path, 'rb') as infile:\n",
    "    train_senders_idx_to_mid_dic = pickle.load(infile)"
   ]
  },
  {
   "cell_type": "code",
   "execution_count": 86,
   "metadata": {
    "collapsed": false
   },
   "outputs": [],
   "source": [
    "val_senders_mid_features_dict, val_senders_idx_to_mid_dic = texttools.get_sender_model_features_from_tokens(val_email_ids_per_sender, val_token_dict,\n",
    "                                                                                train_word_id_dic, lda_model, nb_topics)"
   ]
  },
  {
   "cell_type": "code",
   "execution_count": 87,
   "metadata": {
    "collapsed": false
   },
   "outputs": [],
   "source": [
    "train_day_features_dic = recency.get_sender_sparse_date_info(train_email_ids_per_sender, \n",
    "                                                         train_senders_idx_to_mid_dic, train_info)\n",
    "val_day_features_dic = recency.get_sender_sparse_date_info(val_email_ids_per_sender,\n",
    "                                                       val_senders_idx_to_mid_dic, val_info)"
   ]
  },
  {
   "cell_type": "code",
   "execution_count": 88,
   "metadata": {
    "collapsed": false
   },
   "outputs": [],
   "source": [
    "train_stacked_features_dict = texttools.create_stacked_feature_dic([train_senders_mid_features_dict, train_day_features_dic])\n",
    "val_stacked_features_dict = texttools.create_stacked_feature_dic([val_senders_mid_features_dict, val_day_features_dic])"
   ]
  },
  {
   "cell_type": "code",
   "execution_count": 101,
   "metadata": {
    "collapsed": false
   },
   "outputs": [],
   "source": [
    "train_sender_recipients_binaries, train_sender_idx_to_recipients = preprocess.get_one_hot_sender_recipients(train_senders_idx_to_mid_dic, train_info)"
   ]
  },
  {
   "cell_type": "code",
   "execution_count": 102,
   "metadata": {
    "collapsed": false
   },
   "outputs": [],
   "source": [
    "val_sender_recipients_binaries, val_sender_idx_to_recipients = preprocess.get_one_hot_sender_recipients(val_senders_idx_to_mid_dic, val_info)"
   ]
  },
  {
   "cell_type": "code",
   "execution_count": 109,
   "metadata": {
    "collapsed": false
   },
   "outputs": [
    {
     "name": "stdout",
     "output_type": "stream",
     "text": [
      "2181\n",
      "0.280677749117\n"
     ]
    }
   ],
   "source": [
    "tree_nbs = [10]\n",
    "scores = []\n",
    "for nb_tree in tree_nbs:\n",
    "    val_tree_predictions = texttools.tree_train_predict(train_stacked_features_dict, train_sender_recipients_binaries,\n",
    "                                                        train_sender_idx_to_recipients, val_stacked_features_dict,\n",
    "                                                        val_senders_idx_to_mid_dic, nb_tree=nb_tree,\n",
    "                                                        min_samples_split=20, min_samples_leaf=20)\n",
    "    print(len(val_tree_predictions))\n",
    "    score = scoring.compute_prediction_mad(val_tree_predictions, val_info)\n",
    "    scores.append(score)\n",
    "    print(score)"
   ]
  },
  {
   "cell_type": "markdown",
   "metadata": {},
   "source": [
    "### Monitor for overfitting on the training set"
   ]
  },
  {
   "cell_type": "code",
   "execution_count": 106,
   "metadata": {
    "collapsed": false
   },
   "outputs": [
    {
     "name": "stdout",
     "output_type": "stream",
     "text": [
      "41432\n",
      "0.478629686176\n"
     ]
    }
   ],
   "source": [
    "# Train on train\n",
    "tree_nbs = [20]\n",
    "scores = []\n",
    "for nb_tree in tree_nbs:\n",
    "    train_tree_predictions = texttools.tree_train_predict(train_stacked_features_dict, train_sender_recipients_binaries,\n",
    "                                                          train_sender_idx_to_recipients, train_stacked_features_dict,\n",
    "                                                          train_senders_idx_to_mid_dic,\n",
    "                                                          nb_tree=nb_tree, min_samples_split=15, min_samples_leaf=15)\n",
    "    print(len(train_tree_predictions))\n",
    "    score = scoring.compute_prediction_mad(train_tree_predictions, train_info)\n",
    "    scores.append(score)\n",
    "    print(score)"
   ]
  },
  {
   "cell_type": "markdown",
   "metadata": {},
   "source": [
    "## Observations\n",
    "\n",
    "We can clearly see some severe overfitting for the model on the train set, as the performance is much lower on the validation data then on the training data."
   ]
  },
  {
   "cell_type": "code",
   "execution_count": 110,
   "metadata": {
    "collapsed": true
   },
   "outputs": [],
   "source": [
    "path_to_trees = 'ranks_val/trees-tree-nb-{nb_tree}-nb-topics-{nb_topics}'.format(nb_tree=nb_tree,\n",
    "                                                                                nb_topics=nb_topics)\n",
    "with open(path_to_trees, 'wb') as infile:\n",
    "          pickle.dump(val_tree_predictions, infile)\n",
    "\n"
   ]
  },
  {
   "cell_type": "code",
   "execution_count": null,
   "metadata": {
    "collapsed": true
   },
   "outputs": [],
   "source": []
  }
 ],
 "metadata": {
  "kernelspec": {
   "display_name": "Python 3",
   "language": "python",
   "name": "python3"
  },
  "language_info": {
   "codemirror_mode": {
    "name": "ipython",
    "version": 3
   },
   "file_extension": ".py",
   "mimetype": "text/x-python",
   "name": "python",
   "nbconvert_exporter": "python",
   "pygments_lexer": "ipython3",
   "version": "3.4.3"
  },
  "widgets": {
   "state": {
    "001394f14d034ebeb335fba19c6c3e8e": {
     "views": [
      {
       "cell_index": 16
      }
     ]
    },
    "00929678cbba4b56b910b32055032c13": {
     "views": [
      {
       "cell_index": 12
      }
     ]
    },
    "010caeaebd6d483ea10a05774e23e206": {
     "views": [
      {
       "cell_index": 15
      }
     ]
    },
    "0196bae5034d4dd09b13109cab8e6e96": {
     "views": [
      {
       "cell_index": 11
      }
     ]
    },
    "0202afcd9bbd47b8902f89822b1374fd": {
     "views": [
      {
       "cell_index": 16
      }
     ]
    },
    "02225c0b3cfa4d81bc8885b000b48782": {
     "views": [
      {
       "cell_index": 10
      }
     ]
    },
    "022273ea69a8459d8ae8006b9172a055": {
     "views": [
      {
       "cell_index": 15
      }
     ]
    },
    "02b9265c838c48d6b7e733678da55e52": {
     "views": [
      {
       "cell_index": 10
      }
     ]
    },
    "02d9bb442916462f9d9ac230105a6581": {
     "views": [
      {
       "cell_index": 16
      }
     ]
    },
    "03595d7b15d74a6982a42cf7441adf72": {
     "views": [
      {
       "cell_index": 12
      }
     ]
    },
    "03adc49221b24df7889de28a75364974": {
     "views": [
      {
       "cell_index": 10
      }
     ]
    },
    "04cb4cceec9642cda1c0e1b023c465c6": {
     "views": [
      {
       "cell_index": 15
      }
     ]
    },
    "059ea70103954f5ab5619823a4fae0a2": {
     "views": [
      {
       "cell_index": 10
      }
     ]
    },
    "05bedcb406a54e11ad07cdb8e5657535": {
     "views": [
      {
       "cell_index": 15
      }
     ]
    },
    "05bf8b920268431598016f46066ee52c": {
     "views": [
      {
       "cell_index": 17
      }
     ]
    },
    "05dca93ee0d04379b1425845f6c2c0bb": {
     "views": [
      {
       "cell_index": 16
      }
     ]
    },
    "067fc2c1001740b596c6b250885dbd4a": {
     "views": [
      {
       "cell_index": 16
      }
     ]
    },
    "06a0e14fbb5f4f59bdebe4cb315f65c0": {
     "views": [
      {
       "cell_index": 17
      }
     ]
    },
    "06ad178f67744c61806f775ef7c9c945": {
     "views": [
      {
       "cell_index": 15
      }
     ]
    },
    "06fa9f10a9564c7cb924b93add0dac25": {
     "views": [
      {
       "cell_index": 15
      }
     ]
    },
    "07472d1427db4987b1ba5120be4740b4": {
     "views": [
      {
       "cell_index": 15
      }
     ]
    },
    "074c1dd80ea049fb9d06546cc650b1fc": {
     "views": [
      {
       "cell_index": 15
      }
     ]
    },
    "074de2c5473448c3ae9a3daf9383eccf": {
     "views": [
      {
       "cell_index": 12
      }
     ]
    },
    "077c3055b66747a8959e2295c0291918": {
     "views": [
      {
       "cell_index": 11
      }
     ]
    },
    "0789862893f94159b9ad070e8187df8f": {
     "views": [
      {
       "cell_index": 15
      }
     ]
    },
    "07a5eb3d6cb64e7dafe3484044405721": {
     "views": [
      {
       "cell_index": 10
      }
     ]
    },
    "07d6f6c989c54694b202d2c02ce84f81": {
     "views": [
      {
       "cell_index": 11
      }
     ]
    },
    "07d99eee0eff42659079809c4c807139": {
     "views": [
      {
       "cell_index": 12
      }
     ]
    },
    "080096d147d9483aa9735b3eb7b7f0e1": {
     "views": [
      {
       "cell_index": 17
      }
     ]
    },
    "08430708325f4c2d8179fd99dfddc66b": {
     "views": [
      {
       "cell_index": 11
      }
     ]
    },
    "084e9e082621457c9a387b6039000ef7": {
     "views": [
      {
       "cell_index": 16
      }
     ]
    },
    "086fe2fe76b649b19528d81c447897b0": {
     "views": [
      {
       "cell_index": 15
      }
     ]
    },
    "089960a4a4244660858093bcfbd5c2e5": {
     "views": [
      {
       "cell_index": 15
      }
     ]
    },
    "08bf48dbb7d44734b47b8ee485b3d373": {
     "views": [
      {
       "cell_index": 10
      }
     ]
    },
    "08e1817534e945f5abfe05fb466f21ab": {
     "views": [
      {
       "cell_index": 16
      }
     ]
    },
    "09a2678124084fa2ad81d2f062a81b39": {
     "views": [
      {
       "cell_index": 10
      }
     ]
    },
    "09dbf905938b4e588e4590b22e859831": {
     "views": [
      {
       "cell_index": 15
      }
     ]
    },
    "0a82e105bc824ae0bf7abe0a6d4394ab": {
     "views": [
      {
       "cell_index": 15
      }
     ]
    },
    "0a8e4c4fcc974ed1825ca577f5404e6b": {
     "views": [
      {
       "cell_index": 17
      }
     ]
    },
    "0a9b4a3e253c44a9b8aafe0c7cdde024": {
     "views": [
      {
       "cell_index": 10
      }
     ]
    },
    "0ac793f812bb4b049d98637c66793aca": {
     "views": [
      {
       "cell_index": 12
      }
     ]
    },
    "0b58b9a1ab8b44c6b900a95d6c24b1b3": {
     "views": [
      {
       "cell_index": 16
      }
     ]
    },
    "0b6274b6858a41b980589ecad66708fc": {
     "views": [
      {
       "cell_index": 15
      }
     ]
    },
    "0bac04c24fe14964b9ebbb7b32eba6a0": {
     "views": [
      {
       "cell_index": 11
      }
     ]
    },
    "0bf8514401f540ab843f16a3c942a212": {
     "views": [
      {
       "cell_index": 16
      }
     ]
    },
    "0c79a3787bc849a4afde72e0b48a2563": {
     "views": [
      {
       "cell_index": 16
      }
     ]
    },
    "0cf7020d219647658777f6d66eb5e7f4": {
     "views": [
      {
       "cell_index": 16
      }
     ]
    },
    "0cf80554401143d7b01b173b5f05f8ec": {
     "views": [
      {
       "cell_index": 11
      }
     ]
    },
    "0d295046eae948d0b9c302468bbc5cb2": {
     "views": [
      {
       "cell_index": 12
      }
     ]
    },
    "0d38f96979f54432ae0feadb66b4ba15": {
     "views": [
      {
       "cell_index": 12
      }
     ]
    },
    "0dbd5200516b4d78a1fc78097e032248": {
     "views": [
      {
       "cell_index": 11
      }
     ]
    },
    "0dce65bf019746658f9c443db62f78ca": {
     "views": [
      {
       "cell_index": 12
      }
     ]
    },
    "0e392a80baf2436daecc9f0ff80adc78": {
     "views": [
      {
       "cell_index": 11
      }
     ]
    },
    "0e465b8e044041e5bff557686e017174": {
     "views": [
      {
       "cell_index": 16
      }
     ]
    },
    "0eb9f7c327dc4f46ba469c36715645a4": {
     "views": [
      {
       "cell_index": 15
      }
     ]
    },
    "0eda07ee77e647f1be3c1fc82d047d6d": {
     "views": [
      {
       "cell_index": 11
      }
     ]
    },
    "0efb93fc749b48619a04b4125811b1ab": {
     "views": [
      {
       "cell_index": 15
      }
     ]
    },
    "0f0227e351a440d2ab2883a7b869d450": {
     "views": [
      {
       "cell_index": 15
      }
     ]
    },
    "0f04818947fd42898e2ab60c292103b6": {
     "views": [
      {
       "cell_index": 16
      }
     ]
    },
    "0f1db185e3e14c089eba77d71a292dc7": {
     "views": [
      {
       "cell_index": 16
      }
     ]
    },
    "0f48eea254fe456b90a71de5a97f6ae8": {
     "views": [
      {
       "cell_index": 17
      }
     ]
    },
    "0f6967e3244b415b8a06c5161cc83612": {
     "views": [
      {
       "cell_index": 12
      }
     ]
    },
    "0f897d0ea40b4c9e9f6d59536a4c2edf": {
     "views": [
      {
       "cell_index": 16
      }
     ]
    },
    "0f9d501869474a1f833a4cf0edf93c5a": {
     "views": [
      {
       "cell_index": 10
      }
     ]
    },
    "0fcea55dc1654e66be68c08f60301fdb": {
     "views": [
      {
       "cell_index": 16
      }
     ]
    },
    "0ff3dd5f74224bb0a29dd4b0b0184617": {
     "views": [
      {
       "cell_index": 16
      }
     ]
    },
    "10121e7050b248f5b54b431bd3f4fa44": {
     "views": [
      {
       "cell_index": 17
      }
     ]
    },
    "10212a5e452d4cd0891b9e1605965e9e": {
     "views": [
      {
       "cell_index": 15
      }
     ]
    },
    "103f12edbbf846efac344a0f86bad5fd": {
     "views": [
      {
       "cell_index": 10
      }
     ]
    },
    "1086618f6ae34f3884607f590db9b5fd": {
     "views": [
      {
       "cell_index": 15
      }
     ]
    },
    "119779deeaac474190ee8359a9c2d40e": {
     "views": [
      {
       "cell_index": 10
      }
     ]
    },
    "11cd36dfca444cfe8b05cc59cf4e978a": {
     "views": [
      {
       "cell_index": 17
      }
     ]
    },
    "12681a0d4f934fd786f1ebb7bbae31ac": {
     "views": [
      {
       "cell_index": 15
      }
     ]
    },
    "1284a0211c4c4e0b80555a982312ac4a": {
     "views": [
      {
       "cell_index": 12
      }
     ]
    },
    "12fc5aeb330347e2b6831cbc6984923e": {
     "views": [
      {
       "cell_index": 16
      }
     ]
    },
    "13e80c52dfe240ab960a44baca105792": {
     "views": [
      {
       "cell_index": 10
      }
     ]
    },
    "144af58207ed44d79b733998e3cbe61e": {
     "views": [
      {
       "cell_index": 12
      }
     ]
    },
    "145dbb0c98e046498cbc830e971537b9": {
     "views": [
      {
       "cell_index": 15
      }
     ]
    },
    "1473c570ae1148f082bf618f6472c4be": {
     "views": [
      {
       "cell_index": 12
      }
     ]
    },
    "14b9e4bddf0a45ceb45dd1cf7343e873": {
     "views": [
      {
       "cell_index": 16
      }
     ]
    },
    "14ea3ad16c6c44b59da33d99abd63677": {
     "views": [
      {
       "cell_index": 15
      }
     ]
    },
    "152dd5bf76634340b18678b8f942bc48": {
     "views": [
      {
       "cell_index": 12
      }
     ]
    },
    "158b56d3fb2d459d89f4351fa5b21c51": {
     "views": [
      {
       "cell_index": 10
      }
     ]
    },
    "16298c35f1df4e4f958852e82ceff6f9": {
     "views": [
      {
       "cell_index": 15
      }
     ]
    },
    "16d739744b434ec793dc6c68dbc7fbaf": {
     "views": [
      {
       "cell_index": 16
      }
     ]
    },
    "170314d10b6c43348fd2fe5a8e8d0c16": {
     "views": [
      {
       "cell_index": 15
      }
     ]
    },
    "1871769cb05149b5ae23b7fb611b127a": {
     "views": [
      {
       "cell_index": 10
      }
     ]
    },
    "1890d52a17934dee9d6924683be81d0d": {
     "views": [
      {
       "cell_index": 16
      }
     ]
    },
    "18a1cb0bbecc47cc82355e19a8fd2053": {
     "views": [
      {
       "cell_index": 15
      }
     ]
    },
    "196186bd511040768404db18917aed01": {
     "views": [
      {
       "cell_index": 15
      }
     ]
    },
    "197864097c324c679fc51edb05216967": {
     "views": [
      {
       "cell_index": 11
      }
     ]
    },
    "19a775d1f1c042dbb297d4daf85c30d2": {
     "views": [
      {
       "cell_index": 15
      }
     ]
    },
    "1ab1bde09b2242efa964390422153d89": {
     "views": [
      {
       "cell_index": 16
      }
     ]
    },
    "1b16a096384d4ed694010b5c55fc2f98": {
     "views": [
      {
       "cell_index": 10
      }
     ]
    },
    "1b44ac6ce28f4968b2b6d30db158a968": {
     "views": [
      {
       "cell_index": 17
      }
     ]
    },
    "1c3019ccf660488fb5d2a5b4ebf6ee25": {
     "views": [
      {
       "cell_index": 16
      }
     ]
    },
    "1c3ca819a79d44e6bf29daa8eca2d9b2": {
     "views": [
      {
       "cell_index": 12
      }
     ]
    },
    "1c5232cc3ff34ddea08c8ebefe4fddd8": {
     "views": [
      {
       "cell_index": 16
      }
     ]
    },
    "1c5cf27134374ac8a291233077bcda2a": {
     "views": [
      {
       "cell_index": 17
      }
     ]
    },
    "1c75db4a3e7945d5a2fcc6a7d3d0ac6d": {
     "views": [
      {
       "cell_index": 16
      }
     ]
    },
    "1d251ecbde4b4130ac957b6a9b453f41": {
     "views": [
      {
       "cell_index": 17
      }
     ]
    },
    "1d2bb344a3b645c4a76d3aab0bda220f": {
     "views": [
      {
       "cell_index": 10
      }
     ]
    },
    "1d3dc8a4fe664968b524c6aebe51441e": {
     "views": [
      {
       "cell_index": 16
      }
     ]
    },
    "1d6f3fa1d4564b3e82ba0dcec60c7b9f": {
     "views": [
      {
       "cell_index": 15
      }
     ]
    },
    "1d8389c5bbf14ef8b47b0dcfd35f1278": {
     "views": [
      {
       "cell_index": 17
      }
     ]
    },
    "1dc08ab4107c40a89795e0281b83037c": {
     "views": [
      {
       "cell_index": 11
      }
     ]
    },
    "1e0a04a727f345b4a291156a58a124ba": {
     "views": [
      {
       "cell_index": 16
      }
     ]
    },
    "1e19a0c7cf594ca5a8e43c55528b7e28": {
     "views": [
      {
       "cell_index": 16
      }
     ]
    },
    "1e23218f1ba942b2b6b4d0dd147789ec": {
     "views": [
      {
       "cell_index": 16
      }
     ]
    },
    "1e611775e29d47efa235f6511b67e804": {
     "views": [
      {
       "cell_index": 16
      }
     ]
    },
    "1e666b45c7ea47c695f52748c111c697": {
     "views": [
      {
       "cell_index": 12
      }
     ]
    },
    "1e7391e20c344367ab0b61c28ef1a7fe": {
     "views": [
      {
       "cell_index": 12
      }
     ]
    },
    "1f4dfc775bae43d19c477e1e8350a2f3": {
     "views": [
      {
       "cell_index": 15
      }
     ]
    },
    "1fde2e1e849b4bfe8e915de8cbf0aab8": {
     "views": [
      {
       "cell_index": 10
      }
     ]
    },
    "2065c6b116164685a5194471e021e5fa": {
     "views": [
      {
       "cell_index": 16
      }
     ]
    },
    "20a1bf34d71e4fe989991f114b3b26f4": {
     "views": [
      {
       "cell_index": 16
      }
     ]
    },
    "20a6002e8e924a2f946bcd1dad842278": {
     "views": [
      {
       "cell_index": 16
      }
     ]
    },
    "20e1aab15eba4fa48c797c1eba276732": {
     "views": [
      {
       "cell_index": 16
      }
     ]
    },
    "21c62d67daea402987000c7aeddb364e": {
     "views": [
      {
       "cell_index": 12
      }
     ]
    },
    "2222dfd732b64d1f8c319bcc63ca4445": {
     "views": [
      {
       "cell_index": 10
      }
     ]
    },
    "222db65f3d2d4652ba4384e44492de65": {
     "views": [
      {
       "cell_index": 10
      }
     ]
    },
    "2238f16037984e57889d7635b7c7d98c": {
     "views": [
      {
       "cell_index": 12
      }
     ]
    },
    "228e4157c987430ba0204d9d0ccba0cc": {
     "views": [
      {
       "cell_index": 15
      }
     ]
    },
    "2323b4e04578469ca60fa6ba62c523bb": {
     "views": [
      {
       "cell_index": 16
      }
     ]
    },
    "2499129d26634a4fb1463c2e651f9d37": {
     "views": [
      {
       "cell_index": 16
      }
     ]
    },
    "24ac851c6ee44a42ad74933db37f9552": {
     "views": [
      {
       "cell_index": 11
      }
     ]
    },
    "24d672dee3d8445f9439cb23d917d56c": {
     "views": [
      {
       "cell_index": 12
      }
     ]
    },
    "24e4c45ea9d74fea8daf62c188f20f97": {
     "views": [
      {
       "cell_index": 16
      }
     ]
    },
    "255082789f124c3f81556df1385eb1b8": {
     "views": [
      {
       "cell_index": 15
      }
     ]
    },
    "25b6c35d341240349d8d68c9315c8bcd": {
     "views": [
      {
       "cell_index": 15
      }
     ]
    },
    "25eafed2227e443283d9624d2c528159": {
     "views": [
      {
       "cell_index": 12
      }
     ]
    },
    "26c9e274f1ac4e8a8b5a4cd18bdf6f80": {
     "views": [
      {
       "cell_index": 15
      }
     ]
    },
    "26e51b5cdf6f48b7aa1aa9f6401bc60d": {
     "views": [
      {
       "cell_index": 17
      }
     ]
    },
    "274d368d3a57450ba3da1a4a2d094946": {
     "views": [
      {
       "cell_index": 16
      }
     ]
    },
    "27921b0aabfa4660b2c6f03b50d000e4": {
     "views": [
      {
       "cell_index": 12
      }
     ]
    },
    "27d537294f4740d1a24ed27dde53ef4d": {
     "views": [
      {
       "cell_index": 16
      }
     ]
    },
    "288610fca47c42d790a232d8cec4474a": {
     "views": [
      {
       "cell_index": 15
      }
     ]
    },
    "2897a15df287441382fdcdd7d9943b53": {
     "views": [
      {
       "cell_index": 17
      }
     ]
    },
    "28a94d431be54544944ced6a8161c5db": {
     "views": [
      {
       "cell_index": 10
      }
     ]
    },
    "28b19c6f3fcb4aa1a5777786203df3f3": {
     "views": [
      {
       "cell_index": 10
      }
     ]
    },
    "28dd97fe5c324a2997308c75add7a6ea": {
     "views": [
      {
       "cell_index": 10
      }
     ]
    },
    "29b1666713234270b6f42bf536a3ce53": {
     "views": [
      {
       "cell_index": 15
      }
     ]
    },
    "2a3f0f178723434cb6e6d856868b1194": {
     "views": [
      {
       "cell_index": 10
      }
     ]
    },
    "2aafd9834f0d42c2b5225d5df898b8be": {
     "views": [
      {
       "cell_index": 12
      }
     ]
    },
    "2af0fc9806dc408cacb4f4beb05c99b5": {
     "views": [
      {
       "cell_index": 12
      }
     ]
    },
    "2b3aeaebc2f947a9b7b38dc244f5134c": {
     "views": [
      {
       "cell_index": 16
      }
     ]
    },
    "2b5714396ee242889d6e063fed97bf23": {
     "views": [
      {
       "cell_index": 16
      }
     ]
    },
    "2ba5f76bc8004e1185dbd0b01d0c45e0": {
     "views": [
      {
       "cell_index": 10
      }
     ]
    },
    "2bae6bdb9d8f44299333066d1b6db4bc": {
     "views": [
      {
       "cell_index": 11
      }
     ]
    },
    "2c25b414f0164ead996b9494476b732a": {
     "views": [
      {
       "cell_index": 12
      }
     ]
    },
    "2cb16893848a4843b7bd3ea8e2e88b58": {
     "views": [
      {
       "cell_index": 10
      }
     ]
    },
    "2cb76bace51549f9a998e55f4b4bac91": {
     "views": [
      {
       "cell_index": 15
      }
     ]
    },
    "2d1bee3b594d4e53935298bce140c600": {
     "views": [
      {
       "cell_index": 16
      }
     ]
    },
    "2d472bf3fffd4f0b95d5d5a10caeaff8": {
     "views": [
      {
       "cell_index": 10
      }
     ]
    },
    "2d5eaeed5b7d44458dc377f46cfd4e52": {
     "views": [
      {
       "cell_index": 10
      }
     ]
    },
    "2d9ceb0f36be4af5b8336ec072e62ffa": {
     "views": [
      {
       "cell_index": 10
      }
     ]
    },
    "2dbb6dc11c904eb0a738547fee3af108": {
     "views": [
      {
       "cell_index": 15
      }
     ]
    },
    "2ede093917bc48d38fb4831bf8773105": {
     "views": [
      {
       "cell_index": 15
      }
     ]
    },
    "2ee3e643acf04e299a60df9597d3b1d6": {
     "views": [
      {
       "cell_index": 11
      }
     ]
    },
    "2f2936ba68a24fd29baf0c153dfc2bd5": {
     "views": [
      {
       "cell_index": 15
      }
     ]
    },
    "2f5e0be772234903990176a896e82228": {
     "views": [
      {
       "cell_index": 10
      }
     ]
    },
    "2fe27ae0068b42fd9452dff34891be43": {
     "views": [
      {
       "cell_index": 12
      }
     ]
    },
    "3006f86fd6694dc79f2766dd916b69ba": {
     "views": [
      {
       "cell_index": 16
      }
     ]
    },
    "30bcbde588e34e329de65a3268622692": {
     "views": [
      {
       "cell_index": 12
      }
     ]
    },
    "30e77f9bbd384d77b28a4ce78070eb8c": {
     "views": [
      {
       "cell_index": 12
      }
     ]
    },
    "311f1060b060481bbe6fe95c4a43dc5b": {
     "views": [
      {
       "cell_index": 10
      }
     ]
    },
    "3126f859c8384de9a3aedf2a7a4bc641": {
     "views": [
      {
       "cell_index": 16
      }
     ]
    },
    "315b7b0947ea471292cf7c563339dba3": {
     "views": [
      {
       "cell_index": 10
      }
     ]
    },
    "315d9254fb354e2da0a88a9015b84fdf": {
     "views": [
      {
       "cell_index": 10
      }
     ]
    },
    "316c2e719b9d4344a8f36f9b82c9d478": {
     "views": [
      {
       "cell_index": 17
      }
     ]
    },
    "31e04ec2ddf4411da48fae939c5dfbf4": {
     "views": [
      {
       "cell_index": 10
      }
     ]
    },
    "31ec2114b419497f95ae6ef2b85e2e75": {
     "views": [
      {
       "cell_index": 16
      }
     ]
    },
    "322d706a765a45e88d1d83c6e0709bb3": {
     "views": [
      {
       "cell_index": 16
      }
     ]
    },
    "3234d0722cfa4f98848821d4fba61ec4": {
     "views": [
      {
       "cell_index": 15
      }
     ]
    },
    "32357891b1174e7b9eb71e623afbae94": {
     "views": [
      {
       "cell_index": 16
      }
     ]
    },
    "3239a826a0854315b68d09f579102863": {
     "views": [
      {
       "cell_index": 15
      }
     ]
    },
    "32a15b2121314ffe82f5657dc1f1a7fb": {
     "views": [
      {
       "cell_index": 12
      }
     ]
    },
    "32ac65f880fd4af3a7813fa963235fab": {
     "views": [
      {
       "cell_index": 12
      }
     ]
    },
    "32d6deabafbf4d9aa08b58432a4b4d95": {
     "views": [
      {
       "cell_index": 16
      }
     ]
    },
    "32f52e9c345040ba8258cc1bb752e315": {
     "views": [
      {
       "cell_index": 10
      }
     ]
    },
    "32f5d00f284d49e4b91ace3f5215cfb1": {
     "views": [
      {
       "cell_index": 10
      }
     ]
    },
    "3377186a9a6741e0adbbbae6cd06ed44": {
     "views": [
      {
       "cell_index": 15
      }
     ]
    },
    "33aea27db89b4bd8a0a348ca87cdc896": {
     "views": [
      {
       "cell_index": 15
      }
     ]
    },
    "33ce4ebe30a44937b658d3408e20512f": {
     "views": [
      {
       "cell_index": 10
      }
     ]
    },
    "33dfcc5b6a4e427cabf8296af89a3d75": {
     "views": [
      {
       "cell_index": 15
      }
     ]
    },
    "34893f56f763483ab519b4749eda6ade": {
     "views": [
      {
       "cell_index": 15
      }
     ]
    },
    "34a05734f30043828440458de3398f49": {
     "views": [
      {
       "cell_index": 16
      }
     ]
    },
    "34b93711bfb34e16a06f4df35be1ad1f": {
     "views": [
      {
       "cell_index": 15
      }
     ]
    },
    "34c5b5123058480080d1e48cd2ef0dea": {
     "views": [
      {
       "cell_index": 10
      }
     ]
    },
    "34cb3451d2b14a24b2eaefacc0bee95f": {
     "views": [
      {
       "cell_index": 15
      }
     ]
    },
    "35045c90073e4a1e8f51ce3b19a0f7a0": {
     "views": [
      {
       "cell_index": 15
      }
     ]
    },
    "3509dfdbc4334c459d26b55ae080867b": {
     "views": [
      {
       "cell_index": 10
      }
     ]
    },
    "3523362b57974ff09d9f22916820aaed": {
     "views": [
      {
       "cell_index": 11
      }
     ]
    },
    "35626522ce3e4ca38717e59f03a91b14": {
     "views": [
      {
       "cell_index": 11
      }
     ]
    },
    "35afb48bf8754fe887e3113a9998be50": {
     "views": [
      {
       "cell_index": 15
      }
     ]
    },
    "35b6318da102435883d4c848576f78a7": {
     "views": [
      {
       "cell_index": 16
      }
     ]
    },
    "35bdd989bac94199a35a9cbd3304c6fc": {
     "views": [
      {
       "cell_index": 15
      }
     ]
    },
    "35caa6b0374843389958f4c96e4e261d": {
     "views": [
      {
       "cell_index": 12
      }
     ]
    },
    "360d7caa5fc14246b589a46ed29433c6": {
     "views": [
      {
       "cell_index": 17
      }
     ]
    },
    "3634fc63801842478f1ab533ff29b7d1": {
     "views": [
      {
       "cell_index": 16
      }
     ]
    },
    "36ac33e6b19c4f44a2eccf42020f1c8e": {
     "views": [
      {
       "cell_index": 16
      }
     ]
    },
    "36f1c61d421240358cd9c856b874390f": {
     "views": [
      {
       "cell_index": 12
      }
     ]
    },
    "37975a1225c44bf0a7a28015da2e7936": {
     "views": [
      {
       "cell_index": 17
      }
     ]
    },
    "37c286b3f48148f4b74485b3dd2f204c": {
     "views": [
      {
       "cell_index": 15
      }
     ]
    },
    "38eabc79f84d47eda36d6d6a8fcedb2d": {
     "views": [
      {
       "cell_index": 16
      }
     ]
    },
    "3916a431e51e47ac8967e6ef8a815092": {
     "views": [
      {
       "cell_index": 12
      }
     ]
    },
    "39aef6b7100446f4954be07c2bc16f8e": {
     "views": [
      {
       "cell_index": 16
      }
     ]
    },
    "39b681a0ebca475ba336037222263790": {
     "views": [
      {
       "cell_index": 11
      }
     ]
    },
    "39f47e46e55b460883a637fcdce1fa13": {
     "views": [
      {
       "cell_index": 16
      }
     ]
    },
    "3a19febdec814bb990c18f48df81ca01": {
     "views": [
      {
       "cell_index": 15
      }
     ]
    },
    "3a53f40a121942eca8da89ecfc113b9a": {
     "views": [
      {
       "cell_index": 16
      }
     ]
    },
    "3a5b00947bf5454686d3cd3c738f79c5": {
     "views": [
      {
       "cell_index": 16
      }
     ]
    },
    "3a6846bcd15042dc96f4b8998ce68f0c": {
     "views": [
      {
       "cell_index": 10
      }
     ]
    },
    "3a793f8bf4134777b8155dbae6989f7b": {
     "views": [
      {
       "cell_index": 16
      }
     ]
    },
    "3a86c9c621ec4895b8d04ec56e835cda": {
     "views": [
      {
       "cell_index": 15
      }
     ]
    },
    "3a9a095023be426b97414a79e714e860": {
     "views": [
      {
       "cell_index": 17
      }
     ]
    },
    "3acb3af3d49143ba98a9626eea5537ce": {
     "views": [
      {
       "cell_index": 12
      }
     ]
    },
    "3ad84f2f17ab488384ae6ac304fb8e11": {
     "views": [
      {
       "cell_index": 12
      }
     ]
    },
    "3b09add3bb6b4d75acf24c26ae795eb5": {
     "views": [
      {
       "cell_index": 15
      }
     ]
    },
    "3b0e937dc23f4d9fa6e6a142c12575d8": {
     "views": [
      {
       "cell_index": 12
      }
     ]
    },
    "3b136ccca16d4a9f9e06821f35f00ce4": {
     "views": [
      {
       "cell_index": 16
      }
     ]
    },
    "3b18aa6755b9470aa1fb75e3c2117339": {
     "views": [
      {
       "cell_index": 10
      }
     ]
    },
    "3b99d0be68404feb9214388eee6e1328": {
     "views": [
      {
       "cell_index": 15
      }
     ]
    },
    "3bbb165c49cf477baab2eaa66050abea": {
     "views": [
      {
       "cell_index": 16
      }
     ]
    },
    "3be13c4c01de48ea91add5a3a425c8e6": {
     "views": [
      {
       "cell_index": 12
      }
     ]
    },
    "3bfdce00a0d94b3da13e4516be8321d8": {
     "views": [
      {
       "cell_index": 10
      }
     ]
    },
    "3c41a9ff7eda4939b16077a5d23042ca": {
     "views": [
      {
       "cell_index": 17
      }
     ]
    },
    "3ce86e6a88a14b718e087d2df0fbced2": {
     "views": [
      {
       "cell_index": 12
      }
     ]
    },
    "3d4dd00bf1534bc3a723ec776e55ae65": {
     "views": [
      {
       "cell_index": 16
      }
     ]
    },
    "3d665db20c5a4da1b205824f5c046bef": {
     "views": [
      {
       "cell_index": 15
      }
     ]
    },
    "3d89979b6101421e8c24c3b999a7149a": {
     "views": [
      {
       "cell_index": 16
      }
     ]
    },
    "3db2e90ec6824cbcaa4903dd13a8887b": {
     "views": [
      {
       "cell_index": 12
      }
     ]
    },
    "3de67a4330db4459b8d0cac873a34960": {
     "views": [
      {
       "cell_index": 16
      }
     ]
    },
    "3df6577071b0442480a68f5960a0efa9": {
     "views": [
      {
       "cell_index": 15
      }
     ]
    },
    "3e3555bbadc543a5b383efde8c1804dd": {
     "views": [
      {
       "cell_index": 12
      }
     ]
    },
    "3e3d0da12c174ed89e0fc29ecf8ad85b": {
     "views": [
      {
       "cell_index": 16
      }
     ]
    },
    "3e508f7755644d7caeb47b4379a1f52d": {
     "views": [
      {
       "cell_index": 15
      }
     ]
    },
    "3e94000572884f859a53ff369d25d0e0": {
     "views": [
      {
       "cell_index": 16
      }
     ]
    },
    "3ec34062635e4f3a980ee84cce5d2a9d": {
     "views": [
      {
       "cell_index": 10
      }
     ]
    },
    "3f007a292e794a3ab45f649c3a0ccdf7": {
     "views": [
      {
       "cell_index": 12
      }
     ]
    },
    "3f2d879ee6d14834a6a6fcfcd3d3dbdc": {
     "views": [
      {
       "cell_index": 12
      }
     ]
    },
    "3fb45e1a3fb348fda2227986042369bc": {
     "views": [
      {
       "cell_index": 12
      }
     ]
    },
    "3fc971593b674b76bf80dbe4666e216a": {
     "views": [
      {
       "cell_index": 10
      }
     ]
    },
    "3fe9d618a95445fe8b89472c92b4dd05": {
     "views": [
      {
       "cell_index": 16
      }
     ]
    },
    "404b8e4580cc4dbba67e7ee7bc028ebd": {
     "views": [
      {
       "cell_index": 12
      }
     ]
    },
    "4089453aa065494d9997a358f392e98a": {
     "views": [
      {
       "cell_index": 16
      }
     ]
    },
    "409681664fd44f16bbf2aba9490bb57c": {
     "views": [
      {
       "cell_index": 15
      }
     ]
    },
    "414ea57ff08a41958f1fe8a74ed8a7bb": {
     "views": [
      {
       "cell_index": 15
      }
     ]
    },
    "416a478f32f742e999ba266399a7d61c": {
     "views": [
      {
       "cell_index": 16
      }
     ]
    },
    "41d616880d6a4ef8b7a25d08881f4386": {
     "views": [
      {
       "cell_index": 16
      }
     ]
    },
    "41de438d92ab46d1939bc0bbaaa9c628": {
     "views": [
      {
       "cell_index": 10
      }
     ]
    },
    "4218599cdd234fc08d3a0396ee6c92ca": {
     "views": [
      {
       "cell_index": 10
      }
     ]
    },
    "43174887b901468a862a9532d3565652": {
     "views": [
      {
       "cell_index": 16
      }
     ]
    },
    "4384e0089f274f40a3f93765009ba61b": {
     "views": [
      {
       "cell_index": 10
      }
     ]
    },
    "43f19d3c15884d9ea116e0071d97acd2": {
     "views": [
      {
       "cell_index": 16
      }
     ]
    },
    "444872320c234042a75666548fc53c2d": {
     "views": [
      {
       "cell_index": 10
      }
     ]
    },
    "44502048532341e18be92b1879af40dd": {
     "views": [
      {
       "cell_index": 15
      }
     ]
    },
    "4499c715b0d24d97996d97dc05054766": {
     "views": [
      {
       "cell_index": 11
      }
     ]
    },
    "449c882ff1fc4acaa4b4365f213603d7": {
     "views": [
      {
       "cell_index": 10
      }
     ]
    },
    "44cca303f30742babe590f1e76ff396d": {
     "views": [
      {
       "cell_index": 10
      }
     ]
    },
    "45dfb9cfa1844e42a62052585ecab394": {
     "views": [
      {
       "cell_index": 11
      }
     ]
    },
    "465d6c23d3f745c2a653cff4c8a16158": {
     "views": [
      {
       "cell_index": 16
      }
     ]
    },
    "468a10fcc4a94f8c85319bb71d5a0968": {
     "views": [
      {
       "cell_index": 16
      }
     ]
    },
    "46ac4610939a40b3b623a706b4f5a50b": {
     "views": [
      {
       "cell_index": 12
      }
     ]
    },
    "471d703343b340b88434fda3c25afb9a": {
     "views": [
      {
       "cell_index": 15
      }
     ]
    },
    "48270e536519431183525380987b1d92": {
     "views": [
      {
       "cell_index": 10
      }
     ]
    },
    "490cc7ffa0ad417ea8df6041b6b32050": {
     "views": [
      {
       "cell_index": 16
      }
     ]
    },
    "491915ee0b86475cb855262c8c6d3b4d": {
     "views": [
      {
       "cell_index": 15
      }
     ]
    },
    "49312dfc75bb4ddcb07ef40b00685410": {
     "views": [
      {
       "cell_index": 16
      }
     ]
    },
    "49835a3bdeca4a6787fb5f2fc135d297": {
     "views": [
      {
       "cell_index": 16
      }
     ]
    },
    "49ab6cb8b20e4f5ebfe9b73a4f1b8c16": {
     "views": [
      {
       "cell_index": 16
      }
     ]
    },
    "4a7c9d1c809942b381b3817d6d06e6f9": {
     "views": [
      {
       "cell_index": 16
      }
     ]
    },
    "4aec3d3bf91e46a5a35f4fcb1a0f4dd9": {
     "views": [
      {
       "cell_index": 16
      }
     ]
    },
    "4b72fb33c9f44471b76ec66e8b128391": {
     "views": [
      {
       "cell_index": 16
      }
     ]
    },
    "4b74a23f020c4576947376b7a59cd634": {
     "views": [
      {
       "cell_index": 15
      }
     ]
    },
    "4b99053997d245fbbcac5a90f48a12ea": {
     "views": [
      {
       "cell_index": 10
      }
     ]
    },
    "4bcae1312dcb47c2877133cd116505e4": {
     "views": [
      {
       "cell_index": 17
      }
     ]
    },
    "4c16006380ee4ea8be490a889ad444c2": {
     "views": [
      {
       "cell_index": 10
      }
     ]
    },
    "4cbb9cb091e54252813132fb245b6d24": {
     "views": [
      {
       "cell_index": 12
      }
     ]
    },
    "4cbc683a240b41ba82f93cdd1e89c16b": {
     "views": [
      {
       "cell_index": 12
      }
     ]
    },
    "4cd6782215614aafadcf0786dbd36976": {
     "views": [
      {
       "cell_index": 16
      }
     ]
    },
    "4d47761634494c64a231f2ca367e797c": {
     "views": [
      {
       "cell_index": 16
      }
     ]
    },
    "4e16f757b68747469661bec350e80d7f": {
     "views": [
      {
       "cell_index": 17
      }
     ]
    },
    "4e45991f229d444ca86b029d71afbedd": {
     "views": [
      {
       "cell_index": 12
      }
     ]
    },
    "4e8705cd68634ea5ac3c6166d96d64b3": {
     "views": [
      {
       "cell_index": 17
      }
     ]
    },
    "4ea7a663436444419424357b6dce9682": {
     "views": [
      {
       "cell_index": 11
      }
     ]
    },
    "4ea82a8953a64ab189e9c2a15481cbc3": {
     "views": [
      {
       "cell_index": 15
      }
     ]
    },
    "4eec98a204cd418396c43a5c19072b5a": {
     "views": [
      {
       "cell_index": 10
      }
     ]
    },
    "4f2f027c2d6440048509450fe1fa7199": {
     "views": [
      {
       "cell_index": 10
      }
     ]
    },
    "4f98a35225524c588f743ec27c765546": {
     "views": [
      {
       "cell_index": 15
      }
     ]
    },
    "4fabc759ce754b36a62a87bdefc442c0": {
     "views": [
      {
       "cell_index": 17
      }
     ]
    },
    "4fc7a2030e9e4aed8a3ce775da362019": {
     "views": [
      {
       "cell_index": 16
      }
     ]
    },
    "4fc880bd044e4aab802c6d1b806888f3": {
     "views": [
      {
       "cell_index": 10
      }
     ]
    },
    "502a220e7fdc4dd38e2008d9d390947d": {
     "views": [
      {
       "cell_index": 15
      }
     ]
    },
    "504c1b749a13421e8c8f7fdcf844f47d": {
     "views": [
      {
       "cell_index": 10
      }
     ]
    },
    "504febf162b74f1da924db9a75629cbd": {
     "views": [
      {
       "cell_index": 15
      }
     ]
    },
    "50a7034480894ffa97c5639c9ca80f6f": {
     "views": [
      {
       "cell_index": 15
      }
     ]
    },
    "50e1fe673ef44073b7cfe57b6d24fa6e": {
     "views": [
      {
       "cell_index": 11
      }
     ]
    },
    "512e4d323d894a88b6eded41dfc1cfce": {
     "views": [
      {
       "cell_index": 16
      }
     ]
    },
    "5200e4187e6e43d3a4b23594b0b901cf": {
     "views": [
      {
       "cell_index": 16
      }
     ]
    },
    "5382ecdb4886401bb66d73d53676d167": {
     "views": [
      {
       "cell_index": 15
      }
     ]
    },
    "53843b0349734f50b07096da12b6df23": {
     "views": [
      {
       "cell_index": 16
      }
     ]
    },
    "53a1e8a45edc452fa184332704e5bafb": {
     "views": [
      {
       "cell_index": 17
      }
     ]
    },
    "5423c6365231456291c6e67a9364f89b": {
     "views": [
      {
       "cell_index": 10
      }
     ]
    },
    "553b90e776a248eda9955c5a2597a2b2": {
     "views": [
      {
       "cell_index": 12
      }
     ]
    },
    "557f72c3c7cb47168a33631637b685cd": {
     "views": [
      {
       "cell_index": 16
      }
     ]
    },
    "55936532a00642ff80427ab5f34755da": {
     "views": [
      {
       "cell_index": 11
      }
     ]
    },
    "55b69626d31c4468a141e5554b7a75bb": {
     "views": [
      {
       "cell_index": 16
      }
     ]
    },
    "562675431e304dcca6374cba2e7aad29": {
     "views": [
      {
       "cell_index": 16
      }
     ]
    },
    "563e75617bc54ac189766193e143fd29": {
     "views": [
      {
       "cell_index": 16
      }
     ]
    },
    "56796e9c303e4bada2ad34b44cc53bb2": {
     "views": [
      {
       "cell_index": 10
      }
     ]
    },
    "568fd4d8b45242f2905643069fa2dcee": {
     "views": [
      {
       "cell_index": 12
      }
     ]
    },
    "56eb119745ee4b2aa8db1abdbe94bcb1": {
     "views": [
      {
       "cell_index": 10
      }
     ]
    },
    "57104754b6364a8db4c87b39b3f1e405": {
     "views": [
      {
       "cell_index": 15
      }
     ]
    },
    "57acafb861d84a608c62d8956b38f539": {
     "views": [
      {
       "cell_index": 12
      }
     ]
    },
    "57e660a704f24af9a84b48dcef5f476f": {
     "views": [
      {
       "cell_index": 11
      }
     ]
    },
    "580fd982230b4040a1f87705b2ec92cb": {
     "views": [
      {
       "cell_index": 12
      }
     ]
    },
    "58190298dee54835ba7472c65a6091ac": {
     "views": [
      {
       "cell_index": 17
      }
     ]
    },
    "581d0c485afa432c8cec1299a1d0e6b7": {
     "views": [
      {
       "cell_index": 11
      }
     ]
    },
    "588770e139254d54bca030236dd6ac36": {
     "views": [
      {
       "cell_index": 16
      }
     ]
    },
    "58d9619014574c34afaea39634946a5b": {
     "views": [
      {
       "cell_index": 12
      }
     ]
    },
    "58def78976884c10ba2b3c2d2e08fb5f": {
     "views": [
      {
       "cell_index": 16
      }
     ]
    },
    "58ff8f4834ce4a90bfa212bde1ec8560": {
     "views": [
      {
       "cell_index": 15
      }
     ]
    },
    "596456d2388c4efbaf55b332e7494343": {
     "views": [
      {
       "cell_index": 16
      }
     ]
    },
    "5966c797255442738c8056b69bf2d05b": {
     "views": [
      {
       "cell_index": 17
      }
     ]
    },
    "59ae40d83f5047ff9ca0377b7c851977": {
     "views": [
      {
       "cell_index": 16
      }
     ]
    },
    "59b5bdc4fdb64076af421a728995254d": {
     "views": [
      {
       "cell_index": 12
      }
     ]
    },
    "59d812517ac14a8bb1f02d12c038fa78": {
     "views": [
      {
       "cell_index": 12
      }
     ]
    },
    "59f68c12fd224370b95bde8c91c64b5c": {
     "views": [
      {
       "cell_index": 16
      }
     ]
    },
    "5a9113ffa23e49f386191030d387580a": {
     "views": [
      {
       "cell_index": 10
      }
     ]
    },
    "5b5ee131f61545a181fbb8229276ebd7": {
     "views": [
      {
       "cell_index": 11
      }
     ]
    },
    "5c2824d090b440cd9581f9c5f3278e8c": {
     "views": [
      {
       "cell_index": 16
      }
     ]
    },
    "5da5f1103acc49119ca9b839a789f201": {
     "views": [
      {
       "cell_index": 12
      }
     ]
    },
    "5e2c5f845f7d43a2a4fbd0ad50485e1a": {
     "views": [
      {
       "cell_index": 15
      }
     ]
    },
    "5e3cfa8e33f84c4cb2979102356b7f22": {
     "views": [
      {
       "cell_index": 12
      }
     ]
    },
    "5e6d9a674b4344039dba08fad7a198e3": {
     "views": [
      {
       "cell_index": 15
      }
     ]
    },
    "5ea2993bee63483f981c48ee016be484": {
     "views": [
      {
       "cell_index": 15
      }
     ]
    },
    "5ed52d6e010d4fb7959af75ae1d8a5c9": {
     "views": [
      {
       "cell_index": 15
      }
     ]
    },
    "5f1b61e4928f47ddb1cb4811fedfd9c1": {
     "views": [
      {
       "cell_index": 10
      }
     ]
    },
    "5f5ff54d1c4544baa63846ca1d5a4e29": {
     "views": [
      {
       "cell_index": 12
      }
     ]
    },
    "5fbefd1a591b4ca1ba164353cf167968": {
     "views": [
      {
       "cell_index": 12
      }
     ]
    },
    "5fd92ab0fb1049eaa698314c03be1a7c": {
     "views": [
      {
       "cell_index": 16
      }
     ]
    },
    "6023b67e15464d50adc508293d478395": {
     "views": [
      {
       "cell_index": 12
      }
     ]
    },
    "603ae66ad4594d81b3697d5577367c8f": {
     "views": [
      {
       "cell_index": 12
      }
     ]
    },
    "604247da6d7e495e80e1d8d3d2203420": {
     "views": [
      {
       "cell_index": 10
      }
     ]
    },
    "608bde93a6444657834f006fcbfcf02c": {
     "views": [
      {
       "cell_index": 17
      }
     ]
    },
    "61144f142c284113b4df330886ea52d9": {
     "views": [
      {
       "cell_index": 16
      }
     ]
    },
    "61407c3bb6564b19b6b831384bedac65": {
     "views": [
      {
       "cell_index": 12
      }
     ]
    },
    "61bd5bdf985d4f2d8329fc17a863f81e": {
     "views": [
      {
       "cell_index": 16
      }
     ]
    },
    "62294e40709944378a28fb499358cf0a": {
     "views": [
      {
       "cell_index": 17
      }
     ]
    },
    "62c29459f7444839b89f8e5f51f1ef2c": {
     "views": [
      {
       "cell_index": 10
      }
     ]
    },
    "62dfb0aceece43a4a8031aaeb72c55f5": {
     "views": [
      {
       "cell_index": 15
      }
     ]
    },
    "62f74c7822e841a990e37f54672540c2": {
     "views": [
      {
       "cell_index": 10
      }
     ]
    },
    "637ca8b8563a4458b81ee32c89d7747b": {
     "views": [
      {
       "cell_index": 15
      }
     ]
    },
    "644b719b0c6641cc8f5617378307a7a6": {
     "views": [
      {
       "cell_index": 16
      }
     ]
    },
    "648ae7a874064ff6817e2970439e7feb": {
     "views": [
      {
       "cell_index": 16
      }
     ]
    },
    "64b03e38ddd6479085a5da7e3b0fa204": {
     "views": [
      {
       "cell_index": 16
      }
     ]
    },
    "64d089f417d9422dbd38397487de4aa5": {
     "views": [
      {
       "cell_index": 16
      }
     ]
    },
    "64f211038677406f9bb58eab796cadae": {
     "views": [
      {
       "cell_index": 16
      }
     ]
    },
    "65294d0f838a4d1c9f11119150f19dc9": {
     "views": [
      {
       "cell_index": 15
      }
     ]
    },
    "654749b7115145cb9e3f3ad2a1d0df79": {
     "views": [
      {
       "cell_index": 11
      }
     ]
    },
    "6561bbac60cf4b7db08ad7db8d935595": {
     "views": [
      {
       "cell_index": 17
      }
     ]
    },
    "65ad2c042f35435592501bbf147b634d": {
     "views": [
      {
       "cell_index": 10
      }
     ]
    },
    "65cecd9d598845aa8e674c327008e440": {
     "views": [
      {
       "cell_index": 16
      }
     ]
    },
    "662dccc67b05413b833a8d208e1d78e2": {
     "views": [
      {
       "cell_index": 10
      }
     ]
    },
    "663c6660be9e400c8f8894027f0c811e": {
     "views": [
      {
       "cell_index": 16
      }
     ]
    },
    "67a75338f244491a911a1a93a78d4ffa": {
     "views": [
      {
       "cell_index": 15
      }
     ]
    },
    "687166a35f414ffb85a03feb22e5b50e": {
     "views": [
      {
       "cell_index": 12
      }
     ]
    },
    "6904cfe5ed214291b75ae727d2347f81": {
     "views": [
      {
       "cell_index": 15
      }
     ]
    },
    "691412358fe341d7ade19d6da751b058": {
     "views": [
      {
       "cell_index": 15
      }
     ]
    },
    "694118a52d0442d5afca3c82458311a1": {
     "views": [
      {
       "cell_index": 15
      }
     ]
    },
    "6959610b89fb44b8a1d550816f4c60ce": {
     "views": [
      {
       "cell_index": 15
      }
     ]
    },
    "6aa4ab392a1b441db7341d673a3d91a2": {
     "views": [
      {
       "cell_index": 12
      }
     ]
    },
    "6ae27275c3a540d4bf4fb97403cfb407": {
     "views": [
      {
       "cell_index": 16
      }
     ]
    },
    "6ba7235a0aca40f3a34d1b23e2050400": {
     "views": [
      {
       "cell_index": 10
      }
     ]
    },
    "6bba6e92a8b8412790eb984c7567d643": {
     "views": [
      {
       "cell_index": 15
      }
     ]
    },
    "6bcdc232ddcc4ef8b1868fcd9001cab5": {
     "views": [
      {
       "cell_index": 16
      }
     ]
    },
    "6c23cdfeb3ab4dec8b4a75e63c58c0ec": {
     "views": [
      {
       "cell_index": 17
      }
     ]
    },
    "6c316662f6454b2dbca0a9f35c0f1b7c": {
     "views": [
      {
       "cell_index": 15
      }
     ]
    },
    "6c631e5e6af140f4889adddf65132327": {
     "views": [
      {
       "cell_index": 10
      }
     ]
    },
    "6cae1a363d6d4b5ab1bfebd2981b52c7": {
     "views": [
      {
       "cell_index": 17
      }
     ]
    },
    "6d564360184c4229a6caf6b8d7a5c6fd": {
     "views": [
      {
       "cell_index": 16
      }
     ]
    },
    "6de732a512c644139e1e1a5c67820092": {
     "views": [
      {
       "cell_index": 10
      }
     ]
    },
    "6df15cf990814653bfc7e1d260f1e26f": {
     "views": [
      {
       "cell_index": 16
      }
     ]
    },
    "6e113a6e06134e768e385fe0a3e9d7be": {
     "views": [
      {
       "cell_index": 16
      }
     ]
    },
    "6e1ee927ad4e4175a62e786f5aa89676": {
     "views": [
      {
       "cell_index": 16
      }
     ]
    },
    "6e2e58fd6b4f4a2fbdb25a0416ddec44": {
     "views": [
      {
       "cell_index": 16
      }
     ]
    },
    "6e3ef8576e65469c84582d38f0216c77": {
     "views": [
      {
       "cell_index": 10
      }
     ]
    },
    "6e4d22461e8c4a0ba4f6f3da3f6f7ef7": {
     "views": [
      {
       "cell_index": 15
      }
     ]
    },
    "6e52cc74133e4182bc555bcc35431693": {
     "views": [
      {
       "cell_index": 12
      }
     ]
    },
    "6ea75131ee8a41339627fac7e44b03d6": {
     "views": [
      {
       "cell_index": 10
      }
     ]
    },
    "6eb93530b26746aab22ecc91a540523c": {
     "views": [
      {
       "cell_index": 16
      }
     ]
    },
    "6f0353bcecce496fbeab9bedf978be20": {
     "views": [
      {
       "cell_index": 17
      }
     ]
    },
    "6f2ea1788e8a4deb9ffff613a42414fd": {
     "views": [
      {
       "cell_index": 16
      }
     ]
    },
    "6f48e283ef0f43dbaef643104cd43045": {
     "views": [
      {
       "cell_index": 16
      }
     ]
    },
    "6f5fafbf630247728704c78dc7568a2b": {
     "views": [
      {
       "cell_index": 15
      }
     ]
    },
    "6f776c13dd79447db7ce465a9e8d6478": {
     "views": [
      {
       "cell_index": 17
      }
     ]
    },
    "6fd25aa58b1344bababb6816e474af29": {
     "views": [
      {
       "cell_index": 11
      }
     ]
    },
    "6ff76cf02e47480381cdcc86ba3dd62e": {
     "views": [
      {
       "cell_index": 12
      }
     ]
    },
    "70081418ccd94c20bf8ca42efedc6d2b": {
     "views": [
      {
       "cell_index": 15
      }
     ]
    },
    "70998fcea82449e2850c0e4fb046f503": {
     "views": [
      {
       "cell_index": 4
      }
     ]
    },
    "70e1cf9310e7480aa8f0234f9b8095e4": {
     "views": [
      {
       "cell_index": 16
      }
     ]
    },
    "713f99403a354e73bf092afb0e6247f8": {
     "views": [
      {
       "cell_index": 16
      }
     ]
    },
    "715c7eea58f64f0ba1fd7aa8ed8f26b6": {
     "views": [
      {
       "cell_index": 16
      }
     ]
    },
    "71728a3c7cdf4b8aaacbeda01cd31a1f": {
     "views": [
      {
       "cell_index": 11
      }
     ]
    },
    "7187db47d2fb4daaa179d3ec5235145a": {
     "views": [
      {
       "cell_index": 12
      }
     ]
    },
    "71cfb502bb0b4d22973523a4c92b2ead": {
     "views": [
      {
       "cell_index": 16
      }
     ]
    },
    "7234bc389d1c43949a1f14f53b875a0a": {
     "views": [
      {
       "cell_index": 11
      }
     ]
    },
    "7277d9c90c8d47538b4e9d219fac8c7c": {
     "views": [
      {
       "cell_index": 10
      }
     ]
    },
    "727eb07d96ad45ba893f41909c86bbbf": {
     "views": [
      {
       "cell_index": 16
      }
     ]
    },
    "72816eb6c0a046309cf100fe3a0770b8": {
     "views": [
      {
       "cell_index": 10
      }
     ]
    },
    "72fe48b9f8224d4ab587be3193a85947": {
     "views": [
      {
       "cell_index": 11
      }
     ]
    },
    "734216a80c2a4155b4aa0972aebc0994": {
     "views": [
      {
       "cell_index": 10
      }
     ]
    },
    "734d0f9ad94547b5a63b2ea2073a60d9": {
     "views": [
      {
       "cell_index": 12
      }
     ]
    },
    "73bf52e1c86446d298b491629dde654f": {
     "views": [
      {
       "cell_index": 10
      }
     ]
    },
    "73c84a36d7124a87b9d4512de7322601": {
     "views": [
      {
       "cell_index": 15
      }
     ]
    },
    "73e9a9b8882449e0996e759423820b07": {
     "views": [
      {
       "cell_index": 17
      }
     ]
    },
    "742fa82c7ab34b179bc525882cddccda": {
     "views": [
      {
       "cell_index": 16
      }
     ]
    },
    "746c356b4a6d47df9adb8e0463a23dc0": {
     "views": [
      {
       "cell_index": 12
      }
     ]
    },
    "7491e450931a491482081441a5934f0e": {
     "views": [
      {
       "cell_index": 16
      }
     ]
    },
    "752aa9e49c3642308c0ac36e149371d6": {
     "views": [
      {
       "cell_index": 12
      }
     ]
    },
    "759a95d26cf94b049e4f892c97ff33f0": {
     "views": [
      {
       "cell_index": 12
      }
     ]
    },
    "7610d0d3fd0747ac9d2caee0cf4fcc64": {
     "views": [
      {
       "cell_index": 10
      }
     ]
    },
    "7713579292874b5793a7ff51dd7ae1e7": {
     "views": [
      {
       "cell_index": 16
      }
     ]
    },
    "77445863bc674287b87b1f73cded3f49": {
     "views": [
      {
       "cell_index": 11
      }
     ]
    },
    "77734318097c4ec6903b78c223bef4d5": {
     "views": [
      {
       "cell_index": 16
      }
     ]
    },
    "779430fdfc734332bb0444fb120c6000": {
     "views": [
      {
       "cell_index": 10
      }
     ]
    },
    "77c527cdd9804e68a06dee2735d09e98": {
     "views": [
      {
       "cell_index": 16
      }
     ]
    },
    "77ee4aa7225f4509b644b982a7518245": {
     "views": [
      {
       "cell_index": 15
      }
     ]
    },
    "782ca7b0528d44b782e4ae05b3f33447": {
     "views": [
      {
       "cell_index": 16
      }
     ]
    },
    "78583e1fed74474a9ab252e2ffa3736b": {
     "views": [
      {
       "cell_index": 16
      }
     ]
    },
    "785e840614dc4c23b25d11f4514597eb": {
     "views": [
      {
       "cell_index": 12
      }
     ]
    },
    "78d04549bfa941ddaad1ec1edfef9d1b": {
     "views": [
      {
       "cell_index": 16
      }
     ]
    },
    "791a9cd502484c4692546afe5a8627d7": {
     "views": [
      {
       "cell_index": 15
      }
     ]
    },
    "7941aac439104aa2bfe4ae486fbc623f": {
     "views": [
      {
       "cell_index": 12
      }
     ]
    },
    "7a24b612d9fb4ea7a114b18a2ee4f311": {
     "views": [
      {
       "cell_index": 16
      }
     ]
    },
    "7a931c19c3cc476c8c336e302efb0986": {
     "views": [
      {
       "cell_index": 16
      }
     ]
    },
    "7ad670fcb53540c283544551b1c236b4": {
     "views": [
      {
       "cell_index": 10
      }
     ]
    },
    "7b1395224cf04cc28b490c3a3cea4ace": {
     "views": [
      {
       "cell_index": 15
      }
     ]
    },
    "7b5508eb30984241abe0b86b05fde77f": {
     "views": [
      {
       "cell_index": 11
      }
     ]
    },
    "7b8ae0c92e8741c2afed8c794ce01d23": {
     "views": [
      {
       "cell_index": 15
      }
     ]
    },
    "7c4a9ee462804b8b952d460a5b6d92e2": {
     "views": [
      {
       "cell_index": 15
      }
     ]
    },
    "7c8bfdad6701483bb512725598e1717a": {
     "views": [
      {
       "cell_index": 10
      }
     ]
    },
    "7cf9ab5a3f974f9298186ff371d544d9": {
     "views": [
      {
       "cell_index": 16
      }
     ]
    },
    "7d36c462633c4e9e8f802a40f56cceb3": {
     "views": [
      {
       "cell_index": 15
      }
     ]
    },
    "7d37e500039b4dad9e79d996f0feb55a": {
     "views": [
      {
       "cell_index": 12
      }
     ]
    },
    "7d39e5d41c6640ffa335afc925be77eb": {
     "views": [
      {
       "cell_index": 17
      }
     ]
    },
    "7d71dc6ebfa746478b9169ec45deb6a8": {
     "views": [
      {
       "cell_index": 12
      }
     ]
    },
    "7e027bb0021044b187132ec2c0205fb3": {
     "views": [
      {
       "cell_index": 16
      }
     ]
    },
    "7e0a667d4aa54688ae0928bc1f5b41cf": {
     "views": [
      {
       "cell_index": 16
      }
     ]
    },
    "7e18ad94cf204e319f631a25b157ae91": {
     "views": [
      {
       "cell_index": 16
      }
     ]
    },
    "7e60041cd2c94818890d21abb488fb4c": {
     "views": [
      {
       "cell_index": 16
      }
     ]
    },
    "7e7fffd0dd2241a7a6b3ba087f9dda77": {
     "views": [
      {
       "cell_index": 11
      }
     ]
    },
    "7e80409196e84f99bb62cd0177f3d8f4": {
     "views": [
      {
       "cell_index": 10
      }
     ]
    },
    "7f274572f0964ebeb44b15c9e455ab97": {
     "views": [
      {
       "cell_index": 16
      }
     ]
    },
    "7f94d1a25a0c4d13a2aa35e975caaa27": {
     "views": [
      {
       "cell_index": 12
      }
     ]
    },
    "7f9c1beb1a0d46fda3dd7ae5dcd96d39": {
     "views": [
      {
       "cell_index": 16
      }
     ]
    },
    "804565a279bf47f2a2344f4d6aedbe96": {
     "views": [
      {
       "cell_index": 16
      }
     ]
    },
    "80a9d42b83b54f5e86c7552f6653f2fa": {
     "views": [
      {
       "cell_index": 16
      }
     ]
    },
    "817608633da8418fbf948d3855b9a93d": {
     "views": [
      {
       "cell_index": 4
      }
     ]
    },
    "81c94010984d4687b9b47e0873f2227c": {
     "views": [
      {
       "cell_index": 10
      }
     ]
    },
    "81e4d50d7dd74583a399fa496ba1518c": {
     "views": [
      {
       "cell_index": 15
      }
     ]
    },
    "82087a0be27c4f47abd6124901a3ccb1": {
     "views": [
      {
       "cell_index": 15
      }
     ]
    },
    "82550de200a546ad9f4070e38b1a4276": {
     "views": [
      {
       "cell_index": 16
      }
     ]
    },
    "83734247de014844a51fea2c2f10ddee": {
     "views": [
      {
       "cell_index": 16
      }
     ]
    },
    "838806a03f9e45bcad9d1524ff8c5314": {
     "views": [
      {
       "cell_index": 12
      }
     ]
    },
    "840cb440f3b3468191165265553f1f24": {
     "views": [
      {
       "cell_index": 16
      }
     ]
    },
    "848f8df59dc6400cb99f982d7a1abbf1": {
     "views": [
      {
       "cell_index": 10
      }
     ]
    },
    "84bc76e57b7543b08f088426926764d0": {
     "views": [
      {
       "cell_index": 11
      }
     ]
    },
    "85e22f6a1ab74b2c9bdb858e4323a864": {
     "views": [
      {
       "cell_index": 17
      }
     ]
    },
    "86010465c5ed489daff89b34a31fcbd4": {
     "views": [
      {
       "cell_index": 16
      }
     ]
    },
    "8656e68dbc3841ffae2cfe1de2de3be8": {
     "views": [
      {
       "cell_index": 10
      }
     ]
    },
    "87ac62788d1f4136a315e7521aa475c9": {
     "views": [
      {
       "cell_index": 11
      }
     ]
    },
    "8896f212129e464e8b9af767f9a09f98": {
     "views": [
      {
       "cell_index": 11
      }
     ]
    },
    "88e9ab5f835748218b663a67f72327e2": {
     "views": [
      {
       "cell_index": 15
      }
     ]
    },
    "8998bba1b7f44f0fbe3f13067374b09b": {
     "views": [
      {
       "cell_index": 12
      }
     ]
    },
    "899c7a2c9ec940a2a3357b0376a2b903": {
     "views": [
      {
       "cell_index": 16
      }
     ]
    },
    "89ccdabec7954071b77ee50f0ec019d3": {
     "views": [
      {
       "cell_index": 15
      }
     ]
    },
    "89cd03584de245fc95cdb59d54bb6784": {
     "views": [
      {
       "cell_index": 12
      }
     ]
    },
    "89e7ae77e01342bc95f075cfec2b691b": {
     "views": [
      {
       "cell_index": 16
      }
     ]
    },
    "8a302506935d481d9c8d3922345a67cf": {
     "views": [
      {
       "cell_index": 10
      }
     ]
    },
    "8a866d4998d64664a02b0cd78aea0c97": {
     "views": [
      {
       "cell_index": 15
      }
     ]
    },
    "8b09fe9bdc3d422caffe15c352925486": {
     "views": [
      {
       "cell_index": 12
      }
     ]
    },
    "8b337c0545cb447699d4c7ab8afad312": {
     "views": [
      {
       "cell_index": 10
      }
     ]
    },
    "8b37b841b7a54f90b55d008799a0cf94": {
     "views": [
      {
       "cell_index": 12
      }
     ]
    },
    "8b853391869241188fb34b6630148125": {
     "views": [
      {
       "cell_index": 12
      }
     ]
    },
    "8c86c5d29b284f3399409b7d8b6e9411": {
     "views": [
      {
       "cell_index": 12
      }
     ]
    },
    "8ccc7b3a312f4a35951745f69b23e185": {
     "views": [
      {
       "cell_index": 16
      }
     ]
    },
    "8ce6166a8b404d0681b01644bbcd6b32": {
     "views": [
      {
       "cell_index": 16
      }
     ]
    },
    "8d10e04f6d424fc08e453e473f21f918": {
     "views": [
      {
       "cell_index": 16
      }
     ]
    },
    "8d14baebbff246cd97d08823d79e902a": {
     "views": [
      {
       "cell_index": 16
      }
     ]
    },
    "8d73cfac3a0a491f8be2b952a347aaf9": {
     "views": [
      {
       "cell_index": 15
      }
     ]
    },
    "8da8e0a3230d46c0892087ba888a1e78": {
     "views": [
      {
       "cell_index": 15
      }
     ]
    },
    "8db39bd54e3b4ec28049c4034e472a38": {
     "views": [
      {
       "cell_index": 16
      }
     ]
    },
    "8dc0848e342541748e94d64231b2db77": {
     "views": [
      {
       "cell_index": 15
      }
     ]
    },
    "8deca23b8f284e109e7c453ad3bcafc5": {
     "views": [
      {
       "cell_index": 16
      }
     ]
    },
    "8defaaeacef64d44acc1feac600bc777": {
     "views": [
      {
       "cell_index": 10
      }
     ]
    },
    "8f36738a9c884349b686780081075c7a": {
     "views": [
      {
       "cell_index": 10
      }
     ]
    },
    "8f7ffc223221487ba67e8d61a20e3600": {
     "views": [
      {
       "cell_index": 12
      }
     ]
    },
    "8f9361ebfa4c498ebef240af13fb7c81": {
     "views": [
      {
       "cell_index": 16
      }
     ]
    },
    "9013a2120ee9405f8d50465cfb47a07c": {
     "views": [
      {
       "cell_index": 15
      }
     ]
    },
    "90656a7f1d29404b89f3d5d03e150f81": {
     "views": [
      {
       "cell_index": 10
      }
     ]
    },
    "908ce5fde91243c896bde9c8c22b7aa2": {
     "views": [
      {
       "cell_index": 16
      }
     ]
    },
    "90df2a88aa984e30b434d4d743a8515d": {
     "views": [
      {
       "cell_index": 15
      }
     ]
    },
    "90e4cbcb7b254a15b5053ae4bbaf80e8": {
     "views": [
      {
       "cell_index": 16
      }
     ]
    },
    "9159ca6b500e4260b016f724001b2104": {
     "views": [
      {
       "cell_index": 16
      }
     ]
    },
    "92461b6c16c7482cbe9ba7366db3cea1": {
     "views": [
      {
       "cell_index": 10
      }
     ]
    },
    "92da13cadf3042feb167cc4035f18aac": {
     "views": [
      {
       "cell_index": 15
      }
     ]
    },
    "93b23e2474a94283a4902ec198e89a45": {
     "views": [
      {
       "cell_index": 16
      }
     ]
    },
    "93c269d705ce4fec95f350579aaa5321": {
     "views": [
      {
       "cell_index": 12
      }
     ]
    },
    "93c61322262b4daa8552815347c6a54c": {
     "views": [
      {
       "cell_index": 16
      }
     ]
    },
    "940cc805b4794d7b93e017b407dc9284": {
     "views": [
      {
       "cell_index": 11
      }
     ]
    },
    "9434e116c0474c15822ba2824b9800b5": {
     "views": [
      {
       "cell_index": 10
      }
     ]
    },
    "944b3e09c45b4d3fbdb3457ece0e88f7": {
     "views": [
      {
       "cell_index": 11
      }
     ]
    },
    "946defbf053846008d8bdce6f1ddcc12": {
     "views": [
      {
       "cell_index": 10
      }
     ]
    },
    "956316412c0549f596b7ee144c8b3f90": {
     "views": [
      {
       "cell_index": 16
      }
     ]
    },
    "9581ff3661644b3ab1ac476ff1635ceb": {
     "views": [
      {
       "cell_index": 16
      }
     ]
    },
    "958bc60c67d74be69967f5d41a7b9a4b": {
     "views": [
      {
       "cell_index": 17
      }
     ]
    },
    "964588f879e94986bd0bfe15b947194a": {
     "views": [
      {
       "cell_index": 16
      }
     ]
    },
    "966225a0e7e44039b4e265a279e25b4f": {
     "views": [
      {
       "cell_index": 10
      }
     ]
    },
    "96e50e47efe64990885c4d874000efc3": {
     "views": [
      {
       "cell_index": 16
      }
     ]
    },
    "97ac62df22f64598a94f34c5e21e644b": {
     "views": [
      {
       "cell_index": 15
      }
     ]
    },
    "97f87d289b0847e5a6ec4633cbb3bd70": {
     "views": [
      {
       "cell_index": 16
      }
     ]
    },
    "9803d905e2a54d0da34c51b4627bd85d": {
     "views": [
      {
       "cell_index": 12
      }
     ]
    },
    "980576e6d6574f6196c157051db21f27": {
     "views": [
      {
       "cell_index": 17
      }
     ]
    },
    "9812ed3d566148dda9c34373fac0ea77": {
     "views": [
      {
       "cell_index": 16
      }
     ]
    },
    "9889c4b3bc584b2bb51645780d325218": {
     "views": [
      {
       "cell_index": 10
      }
     ]
    },
    "98a7b78700d54b6a8aeb1d8149867df3": {
     "views": [
      {
       "cell_index": 10
      }
     ]
    },
    "98ea57bc459842caba85d554d84dbd60": {
     "views": [
      {
       "cell_index": 10
      }
     ]
    },
    "997d1c1fc6dc4f4eadeacad2342b5866": {
     "views": [
      {
       "cell_index": 12
      }
     ]
    },
    "99a546273d1049189e01aac0aefee846": {
     "views": [
      {
       "cell_index": 12
      }
     ]
    },
    "9a639da3cd6447d5bc08388b2b10618f": {
     "views": [
      {
       "cell_index": 16
      }
     ]
    },
    "9a6557a6347f4b759156d15288f4cc85": {
     "views": [
      {
       "cell_index": 12
      }
     ]
    },
    "9b09017e453944c19e811fc85e388d99": {
     "views": [
      {
       "cell_index": 10
      }
     ]
    },
    "9b482c6221e748e1acc22ca7fd7d7b80": {
     "views": [
      {
       "cell_index": 11
      }
     ]
    },
    "9b597e9551ca45bbbb999647f1bbbb6b": {
     "views": [
      {
       "cell_index": 10
      }
     ]
    },
    "9bb07bf2ef234730a177ffdd3c1b1365": {
     "views": [
      {
       "cell_index": 15
      }
     ]
    },
    "9bb2196c1f3849b7a83d4e62c8204727": {
     "views": [
      {
       "cell_index": 10
      }
     ]
    },
    "9bf06263ebf24fb18c8c0bfa266affe4": {
     "views": [
      {
       "cell_index": 12
      }
     ]
    },
    "9c12034aed2c4b3fb82614d759964b39": {
     "views": [
      {
       "cell_index": 16
      }
     ]
    },
    "9c6ecb41037640a8bbdff36c4af82755": {
     "views": [
      {
       "cell_index": 17
      }
     ]
    },
    "9c8a95d3fe2c462fb3e5f1d4a3841eb0": {
     "views": [
      {
       "cell_index": 12
      }
     ]
    },
    "9c8c664f05d44094ae7ec6afc8580881": {
     "views": [
      {
       "cell_index": 10
      }
     ]
    },
    "9ceb52da666a48dd97a8b4b5afc6c655": {
     "views": [
      {
       "cell_index": 12
      }
     ]
    },
    "9d277050c8fb47ac9568763feb0cee7d": {
     "views": [
      {
       "cell_index": 16
      }
     ]
    },
    "9d42a3b08f8c43aaa205b0eed44b2ab7": {
     "views": [
      {
       "cell_index": 12
      }
     ]
    },
    "9e047bd526174741aeb4fd119474e9d7": {
     "views": [
      {
       "cell_index": 12
      }
     ]
    },
    "9e3eb270291848e890433345d3456579": {
     "views": [
      {
       "cell_index": 16
      }
     ]
    },
    "9e719ebd033a4fa19d3fe3b720c50309": {
     "views": [
      {
       "cell_index": 12
      }
     ]
    },
    "9e8f97bb33464fbeb202594faff3f93e": {
     "views": [
      {
       "cell_index": 11
      }
     ]
    },
    "9ecaaf40bd564475bec5de06fda332a8": {
     "views": [
      {
       "cell_index": 15
      }
     ]
    },
    "9ee67166396f4c708de27fb25f0abc8d": {
     "views": [
      {
       "cell_index": 17
      }
     ]
    },
    "9fdf87fc6ef84438a9c3e482dbf13bbd": {
     "views": [
      {
       "cell_index": 16
      }
     ]
    },
    "9ff19ee3cdd24e40be168ee01097a596": {
     "views": [
      {
       "cell_index": 15
      }
     ]
    },
    "a00ccc4310f04e8b97252ae57f38f803": {
     "views": [
      {
       "cell_index": 16
      }
     ]
    },
    "a02f8253e5e14309bfa55e2b6d2d42fe": {
     "views": [
      {
       "cell_index": 16
      }
     ]
    },
    "a032a504cdfd4da2abb09f3b8b6408f5": {
     "views": [
      {
       "cell_index": 12
      }
     ]
    },
    "a03bcf16262e4ccdaae426aad8cf6b0d": {
     "views": [
      {
       "cell_index": 17
      }
     ]
    },
    "a043fd8f23e74bc4acd4cb01798a491e": {
     "views": [
      {
       "cell_index": 10
      }
     ]
    },
    "a055635642794deb9a7f6303e2b15e7a": {
     "views": [
      {
       "cell_index": 17
      }
     ]
    },
    "a08d68dbb7d7426397b95a3bdc13792d": {
     "views": [
      {
       "cell_index": 10
      }
     ]
    },
    "a0e8110d7094462a89a8b23b95832305": {
     "views": [
      {
       "cell_index": 15
      }
     ]
    },
    "a10fc3dd2a584ea59ada6a32f11c546f": {
     "views": [
      {
       "cell_index": 15
      }
     ]
    },
    "a136e90a09f14b22a45f1df3e9c30135": {
     "views": [
      {
       "cell_index": 15
      }
     ]
    },
    "a174f6d4b88145c886019ae10fdbf5a4": {
     "views": [
      {
       "cell_index": 12
      }
     ]
    },
    "a228b3934daf4658bd52f01f6b542578": {
     "views": [
      {
       "cell_index": 10
      }
     ]
    },
    "a26dc667a8fc48a1a68158e1f889745c": {
     "views": [
      {
       "cell_index": 15
      }
     ]
    },
    "a275600eb1324776abd39caf9bef39c2": {
     "views": [
      {
       "cell_index": 12
      }
     ]
    },
    "a287ad2f1008402187b3a99752f5c19a": {
     "views": [
      {
       "cell_index": 10
      }
     ]
    },
    "a28850f439c647209656e2af327d1562": {
     "views": [
      {
       "cell_index": 16
      }
     ]
    },
    "a2afadfd0dab4b3b83041a50adb91dfc": {
     "views": [
      {
       "cell_index": 16
      }
     ]
    },
    "a305b7ff79ba4b3391d1422944a4a177": {
     "views": [
      {
       "cell_index": 15
      }
     ]
    },
    "a499ecf57cac4628867937110f798b19": {
     "views": [
      {
       "cell_index": 10
      }
     ]
    },
    "a4a2d158a9764ee780d6b1f99afe070b": {
     "views": [
      {
       "cell_index": 16
      }
     ]
    },
    "a5410075688f456892e995660b36c87b": {
     "views": [
      {
       "cell_index": 10
      }
     ]
    },
    "a595deac228341f1a0e462b4e80e9e43": {
     "views": [
      {
       "cell_index": 15
      }
     ]
    },
    "a5c28e99f8be4e169f4cbe819159c177": {
     "views": [
      {
       "cell_index": 12
      }
     ]
    },
    "a60ae3556a644a2dad3b8a568ef6a500": {
     "views": [
      {
       "cell_index": 16
      }
     ]
    },
    "a64a141387a0433b8c61d1633356c3e0": {
     "views": [
      {
       "cell_index": 11
      }
     ]
    },
    "a65619c7dbae42efa89279ab98bc1d58": {
     "views": [
      {
       "cell_index": 10
      }
     ]
    },
    "a6ae748246094cb0b6c10e19fd66d105": {
     "views": [
      {
       "cell_index": 12
      }
     ]
    },
    "a6bd8b20a9454a3ea9068277678d7928": {
     "views": [
      {
       "cell_index": 12
      }
     ]
    },
    "a6f4ee41820d45b69fab8a2fd6b45b56": {
     "views": [
      {
       "cell_index": 17
      }
     ]
    },
    "a7298649148f482daffbdfd9a320789e": {
     "views": [
      {
       "cell_index": 12
      }
     ]
    },
    "a75d3d6d84ad45c0943fde11ea75aff8": {
     "views": [
      {
       "cell_index": 11
      }
     ]
    },
    "a772272fd74b48e4bba2766085e209e5": {
     "views": [
      {
       "cell_index": 16
      }
     ]
    },
    "a7abb38914cb4495ab831bcff1a12d32": {
     "views": [
      {
       "cell_index": 12
      }
     ]
    },
    "a802442dc3964aa49e06cd9140b2d564": {
     "views": [
      {
       "cell_index": 10
      }
     ]
    },
    "a819e48905e84a2db03ab613b636fa1f": {
     "views": [
      {
       "cell_index": 16
      }
     ]
    },
    "a82c2777bbe2458eab1f801e08661ed1": {
     "views": [
      {
       "cell_index": 16
      }
     ]
    },
    "a84c8d9b166e4ed0b2cd25f7fca3383a": {
     "views": [
      {
       "cell_index": 15
      }
     ]
    },
    "a8efbc6dac25453088802b50688f1fb4": {
     "views": [
      {
       "cell_index": 15
      }
     ]
    },
    "a8ffa1a7fe544cefa25987125995d9b7": {
     "views": [
      {
       "cell_index": 16
      }
     ]
    },
    "a9253e186bbe40aa87f15994672f9810": {
     "views": [
      {
       "cell_index": 10
      }
     ]
    },
    "a9384779927a4ab498ead16f32ed5fef": {
     "views": [
      {
       "cell_index": 10
      }
     ]
    },
    "a952f33d840b4e2f9d0273fc7aaff7a1": {
     "views": [
      {
       "cell_index": 15
      }
     ]
    },
    "a994f44a50dd4094aea75ce6b5bc9d70": {
     "views": [
      {
       "cell_index": 10
      }
     ]
    },
    "aa58db48d58d44aeb69fc2a2b816e9fd": {
     "views": [
      {
       "cell_index": 15
      }
     ]
    },
    "aa6255a6ec1840e2ba380d31c6a7d0ef": {
     "views": [
      {
       "cell_index": 12
      }
     ]
    },
    "aaf1e703710a42f8826c0261a69753ab": {
     "views": [
      {
       "cell_index": 17
      }
     ]
    },
    "ab000f57c15c481da144ca5eb97ef235": {
     "views": [
      {
       "cell_index": 17
      }
     ]
    },
    "ab7dbc0ad632472da06118681c098e3f": {
     "views": [
      {
       "cell_index": 10
      }
     ]
    },
    "ab9cb59d769d44bb8ceebe27568bd79f": {
     "views": [
      {
       "cell_index": 11
      }
     ]
    },
    "abc8796618054dd9b2fae18d735ec9cb": {
     "views": [
      {
       "cell_index": 15
      }
     ]
    },
    "ac4afe5d1523457f87a0d2112f3fa7e7": {
     "views": [
      {
       "cell_index": 10
      }
     ]
    },
    "ac4c8df18ddb44cb855ba433dc2474b9": {
     "views": [
      {
       "cell_index": 10
      }
     ]
    },
    "ac58ff2527bf461097d6a31c5b0fbbaf": {
     "views": [
      {
       "cell_index": 15
      }
     ]
    },
    "ac610f03d80e4a7896f398bdb3b9e2c9": {
     "views": [
      {
       "cell_index": 10
      }
     ]
    },
    "acf02162882c4514a894c8c5306f9d7e": {
     "views": [
      {
       "cell_index": 16
      }
     ]
    },
    "ad16f4624250453e908eda8275168c27": {
     "views": [
      {
       "cell_index": 15
      }
     ]
    },
    "ad5fff6afae1486fbd207f516c40921e": {
     "views": [
      {
       "cell_index": 10
      }
     ]
    },
    "ad80aecae9da496fb2c26860e34addfa": {
     "views": [
      {
       "cell_index": 12
      }
     ]
    },
    "ad86c10097674748aa81675abec2dbfb": {
     "views": [
      {
       "cell_index": 16
      }
     ]
    },
    "ad89a236fcad4c81a56b4821af1e45d3": {
     "views": [
      {
       "cell_index": 16
      }
     ]
    },
    "ad9eedab73014b9aa5d28cfe221d0d0b": {
     "views": [
      {
       "cell_index": 12
      }
     ]
    },
    "ae1366647c014323a29c7306ba5faf67": {
     "views": [
      {
       "cell_index": 16
      }
     ]
    },
    "aeaeff2e5a534e5db605c2f288137345": {
     "views": [
      {
       "cell_index": 10
      }
     ]
    },
    "aeb5e272f7724ed496a3fc5e3046d677": {
     "views": [
      {
       "cell_index": 16
      }
     ]
    },
    "aebedbd65f4f46948f1fad6cbb9dee8f": {
     "views": [
      {
       "cell_index": 15
      }
     ]
    },
    "af00859062d74672961079eca12dcef0": {
     "views": [
      {
       "cell_index": 16
      }
     ]
    },
    "af030ff7bf9e45bbb68075b2adb760c2": {
     "views": [
      {
       "cell_index": 16
      }
     ]
    },
    "af87d0c1110543c0b1297815c640ddb5": {
     "views": [
      {
       "cell_index": 16
      }
     ]
    },
    "afe3324cfd154a24bdee853c0921f2af": {
     "views": [
      {
       "cell_index": 12
      }
     ]
    },
    "afef12210e8443a48f94b0941f4a001f": {
     "views": [
      {
       "cell_index": 10
      }
     ]
    },
    "b013486a1ef141e888b38df13d7c2cdd": {
     "views": [
      {
       "cell_index": 15
      }
     ]
    },
    "b092f7e52ed145a881f6e4c8eee7a87c": {
     "views": [
      {
       "cell_index": 10
      }
     ]
    },
    "b0ab753220074280849fe8416f5135f5": {
     "views": [
      {
       "cell_index": 10
      }
     ]
    },
    "b15cf11dd4ce438c8c99f4b4f24ed65b": {
     "views": [
      {
       "cell_index": 11
      }
     ]
    },
    "b1a3a7c08ead402e9cd8fcb76aed69e3": {
     "views": [
      {
       "cell_index": 10
      }
     ]
    },
    "b1ab5c870a704a1fa42c2f206198b0ba": {
     "views": [
      {
       "cell_index": 10
      }
     ]
    },
    "b1c068bf719448e088c6e27f28f9e1d3": {
     "views": [
      {
       "cell_index": 10
      }
     ]
    },
    "b1d6207b55ce43bdbec18ec750acddb7": {
     "views": [
      {
       "cell_index": 17
      }
     ]
    },
    "b20534de786841bdadd120c63de735d5": {
     "views": [
      {
       "cell_index": 15
      }
     ]
    },
    "b21322336ae74b209d551eb03e40de71": {
     "views": [
      {
       "cell_index": 12
      }
     ]
    },
    "b27179a1776a40e8b9082a98c5f34326": {
     "views": [
      {
       "cell_index": 16
      }
     ]
    },
    "b28ab87138bf41a59289bbf868f6b17b": {
     "views": [
      {
       "cell_index": 11
      }
     ]
    },
    "b36978d3523d486fa981d9c35d4d5cc3": {
     "views": [
      {
       "cell_index": 16
      }
     ]
    },
    "b388f2d025d442db83310ef0acfd133a": {
     "views": [
      {
       "cell_index": 15
      }
     ]
    },
    "b48e30f828794bf1a0a43261f563af7b": {
     "views": [
      {
       "cell_index": 12
      }
     ]
    },
    "b4a3077ac9bb43ca83209b291bb94d63": {
     "views": [
      {
       "cell_index": 15
      }
     ]
    },
    "b4a596f58a054ec09e05dae95986d9e8": {
     "views": [
      {
       "cell_index": 12
      }
     ]
    },
    "b53f731f497442dbad5b37793bd1d507": {
     "views": [
      {
       "cell_index": 11
      }
     ]
    },
    "b5709874d60b43769e10f85322819ab6": {
     "views": [
      {
       "cell_index": 16
      }
     ]
    },
    "b5faae3668d34dc6958e18801a15b93e": {
     "views": [
      {
       "cell_index": 12
      }
     ]
    },
    "b63033cd89f04cecbd1b6ea3dcdc5c94": {
     "views": [
      {
       "cell_index": 12
      }
     ]
    },
    "b63713da73194aa0a5620b7f1343b433": {
     "views": [
      {
       "cell_index": 2
      }
     ]
    },
    "b6413ecd853d475384fb70caae7f5f48": {
     "views": [
      {
       "cell_index": 17
      }
     ]
    },
    "b68cb16740a74d02ac5dcf97827431ca": {
     "views": [
      {
       "cell_index": 16
      }
     ]
    },
    "b6a70636a6964c1b89b8955e923f8f7c": {
     "views": [
      {
       "cell_index": 15
      }
     ]
    },
    "b75e027b96a449dbabf6e28dc7c6149e": {
     "views": [
      {
       "cell_index": 11
      }
     ]
    },
    "b7aadffee0d3462baeaf3e7cc9d0f248": {
     "views": [
      {
       "cell_index": 12
      }
     ]
    },
    "b82b74c7995340b08386a65e2151aad2": {
     "views": [
      {
       "cell_index": 15
      }
     ]
    },
    "b834e3fcdf3b457397e8add67d94fa65": {
     "views": [
      {
       "cell_index": 16
      }
     ]
    },
    "b83f0fb4dc8745b68f53d106fc1b45db": {
     "views": [
      {
       "cell_index": 16
      }
     ]
    },
    "b8455a58f86b4b6981deb1d848b6c326": {
     "views": [
      {
       "cell_index": 17
      }
     ]
    },
    "b8cf38b4a720457990c03b1000bc6679": {
     "views": [
      {
       "cell_index": 12
      }
     ]
    },
    "b8f3559006404de28c671c0ed8a40f52": {
     "views": [
      {
       "cell_index": 10
      }
     ]
    },
    "b92cb70099ce41499f4a7c9777dd3533": {
     "views": [
      {
       "cell_index": 16
      }
     ]
    },
    "b96b447c487b4135afc5cfca7531cbcf": {
     "views": [
      {
       "cell_index": 10
      }
     ]
    },
    "b99e255ddcc74f29af2dcfd3ea6f78b9": {
     "views": [
      {
       "cell_index": 12
      }
     ]
    },
    "baa9d7a985854aacb6cae3d29e04e5c1": {
     "views": [
      {
       "cell_index": 10
      }
     ]
    },
    "bae22fa69fbe4b58aba901be90e7770f": {
     "views": [
      {
       "cell_index": 15
      }
     ]
    },
    "bb7af1f2f5e64dae9c2a8aa37136a025": {
     "views": [
      {
       "cell_index": 10
      }
     ]
    },
    "bb940b6b39c048e78d9ad3b0db7921e7": {
     "views": [
      {
       "cell_index": 10
      }
     ]
    },
    "bbe7810ba4164e9c8a64d105cdbe026e": {
     "views": [
      {
       "cell_index": 10
      }
     ]
    },
    "bc5f342ebc3c459cab2f61603b8d6540": {
     "views": [
      {
       "cell_index": 15
      }
     ]
    },
    "bca23237347e4680891f20aea7fa7faa": {
     "views": [
      {
       "cell_index": 15
      }
     ]
    },
    "bcc8352caf2b4c0fb227e5c612e39d5e": {
     "views": [
      {
       "cell_index": 10
      }
     ]
    },
    "bd7bfe23beb3462a8afff639ae504390": {
     "views": [
      {
       "cell_index": 11
      }
     ]
    },
    "bd86185f9d224e44a40c4facca9bc83d": {
     "views": [
      {
       "cell_index": 10
      }
     ]
    },
    "be539e97aebf475c90ccd195185b3428": {
     "views": [
      {
       "cell_index": 12
      }
     ]
    },
    "be66f366650942e885f07fdac766384e": {
     "views": [
      {
       "cell_index": 12
      }
     ]
    },
    "beb6d9dc842e4f589e00e1852bb93daa": {
     "views": [
      {
       "cell_index": 18
      }
     ]
    },
    "bef841a0d20644168019eebcea313058": {
     "views": [
      {
       "cell_index": 17
      }
     ]
    },
    "bf098e0f3d194be49ddbf903327c700b": {
     "views": [
      {
       "cell_index": 10
      }
     ]
    },
    "c04d8aede34e4a5583c9da7f14aa60f9": {
     "views": [
      {
       "cell_index": 11
      }
     ]
    },
    "c066f99e0bcf42e08e2fe45922e55769": {
     "views": [
      {
       "cell_index": 16
      }
     ]
    },
    "c0ffb7dcac654359946b59fc25a2bd77": {
     "views": [
      {
       "cell_index": 17
      }
     ]
    },
    "c10b1ae25824447e9daa1cf157e7695b": {
     "views": [
      {
       "cell_index": 10
      }
     ]
    },
    "c1aa9e3eb2dc49dc9b68051e51b4f72b": {
     "views": [
      {
       "cell_index": 17
      }
     ]
    },
    "c1cbc04c9a364fbeae9751c11dfdbeef": {
     "views": [
      {
       "cell_index": 16
      }
     ]
    },
    "c21ca61f0cb14c9e9ddf0c945ff7b991": {
     "views": [
      {
       "cell_index": 16
      }
     ]
    },
    "c257b8359fdc47d4a8531eb415ac188b": {
     "views": [
      {
       "cell_index": 10
      }
     ]
    },
    "c2d052a2f06b4d87b7c178d68c4d2132": {
     "views": [
      {
       "cell_index": 16
      }
     ]
    },
    "c2ed97e0f4d74aea9fc624dabe2b02a4": {
     "views": [
      {
       "cell_index": 16
      }
     ]
    },
    "c36272073a3e44c6aaa2bf985f1a5577": {
     "views": [
      {
       "cell_index": 16
      }
     ]
    },
    "c3774a54008041e5b48a117f5b96107e": {
     "views": [
      {
       "cell_index": 10
      }
     ]
    },
    "c37bc0c046e34e4e95f9d4e9d925419a": {
     "views": [
      {
       "cell_index": 15
      }
     ]
    },
    "c38d4693d3c84cdf9c87e659e12bfd82": {
     "views": [
      {
       "cell_index": 16
      }
     ]
    },
    "c3ad7a047cc1419989617f2296f290d9": {
     "views": [
      {
       "cell_index": 15
      }
     ]
    },
    "c3b546de91bf4f54870452f768421402": {
     "views": [
      {
       "cell_index": 15
      }
     ]
    },
    "c3c3eb34baad462790b61d02922cc301": {
     "views": [
      {
       "cell_index": 16
      }
     ]
    },
    "c3f65deb87274a8c92e958cb04bad82f": {
     "views": [
      {
       "cell_index": 17
      }
     ]
    },
    "c405a12b4d804d65b26c6c0e85a0d874": {
     "views": [
      {
       "cell_index": 10
      }
     ]
    },
    "c4552ccb27924e9aa86e58a3a1e4e2f2": {
     "views": [
      {
       "cell_index": 16
      }
     ]
    },
    "c461aec6cf784920afd97d3947eccb9e": {
     "views": [
      {
       "cell_index": 16
      }
     ]
    },
    "c4e8305dd1e2467abf19ca90b2e8d856": {
     "views": [
      {
       "cell_index": 16
      }
     ]
    },
    "c4edc0022b664f4fbb4602ffda974df8": {
     "views": [
      {
       "cell_index": 11
      }
     ]
    },
    "c500c27b735a46db88a3d1082f495958": {
     "views": [
      {
       "cell_index": 17
      }
     ]
    },
    "c5ec8b3dfa3747f2b997c3abff45edf6": {
     "views": [
      {
       "cell_index": 16
      }
     ]
    },
    "c603896e62514e09ad96bb44155a3224": {
     "views": [
      {
       "cell_index": 17
      }
     ]
    },
    "c634025243c64a8fa6cf8fde9a5aa7a5": {
     "views": [
      {
       "cell_index": 10
      }
     ]
    },
    "c6473f44f4b441cca7ca607d52a086da": {
     "views": [
      {
       "cell_index": 12
      }
     ]
    },
    "c66db09c24ea4889b412c04004a21905": {
     "views": [
      {
       "cell_index": 15
      }
     ]
    },
    "c66e8b93165b49d490724a614f73b902": {
     "views": [
      {
       "cell_index": 10
      }
     ]
    },
    "c705f04d518747c6a5804f982f557095": {
     "views": [
      {
       "cell_index": 15
      }
     ]
    },
    "c7822be6e6164d48bfbb071e0523b997": {
     "views": [
      {
       "cell_index": 10
      }
     ]
    },
    "c7a63b9fd4ee43daaeb11f23dec2e2d4": {
     "views": [
      {
       "cell_index": 16
      }
     ]
    },
    "c7ced36ac6514189a68c4b266a1b61d1": {
     "views": [
      {
       "cell_index": 15
      }
     ]
    },
    "c7fab4a06d4744a6a780b20bd611904c": {
     "views": [
      {
       "cell_index": 15
      }
     ]
    },
    "c819b6e9f9f747398e11e28cefb695d4": {
     "views": [
      {
       "cell_index": 16
      }
     ]
    },
    "c84771b5969543b6acdcafff79e4ea25": {
     "views": [
      {
       "cell_index": 12
      }
     ]
    },
    "c8df0512b12e4a388034ae71c8c2b5bf": {
     "views": [
      {
       "cell_index": 16
      }
     ]
    },
    "c9035d0b21784eb88387133605e32608": {
     "views": [
      {
       "cell_index": 11
      }
     ]
    },
    "c913ae834bb7407b8473bf134cb95747": {
     "views": [
      {
       "cell_index": 16
      }
     ]
    },
    "c95a2428001f466d9a13d672d307bd2f": {
     "views": [
      {
       "cell_index": 11
      }
     ]
    },
    "c9b77206be284217b72c099b056fe432": {
     "views": [
      {
       "cell_index": 10
      }
     ]
    },
    "c9ee5d14941a43089fde1d2461c8aab4": {
     "views": [
      {
       "cell_index": 10
      }
     ]
    },
    "cab0e456eccf462285a43b2cdb17bb8d": {
     "views": [
      {
       "cell_index": 15
      }
     ]
    },
    "cb7d825c0fc24f27af1c68414ab91dcd": {
     "views": [
      {
       "cell_index": 16
      }
     ]
    },
    "cba4ade3fc6042a0812a01390e13dcd8": {
     "views": [
      {
       "cell_index": 10
      }
     ]
    },
    "cbc24b5455ca4164902ec2abbdf742c6": {
     "views": [
      {
       "cell_index": 15
      }
     ]
    },
    "cbd86d6b30354aee9ce414325e086e14": {
     "views": [
      {
       "cell_index": 10
      }
     ]
    },
    "cc4f393ef02f4039bed0da7459627118": {
     "views": [
      {
       "cell_index": 11
      }
     ]
    },
    "ccbac80aef6e49e0ac2e47842b517fd3": {
     "views": [
      {
       "cell_index": 17
      }
     ]
    },
    "cdb30ad4804c4c07bdb4c5d750a67040": {
     "views": [
      {
       "cell_index": 12
      }
     ]
    },
    "ce1c468670184259827ab2b8acc406ec": {
     "views": [
      {
       "cell_index": 16
      }
     ]
    },
    "ce8cf412d92348d7987e2bc697b34c0c": {
     "views": [
      {
       "cell_index": 15
      }
     ]
    },
    "ced0ccc3290e404ab68bccd7daf724fe": {
     "views": [
      {
       "cell_index": 12
      }
     ]
    },
    "cef2be7277ca4afb95ead6a8c3056a47": {
     "views": [
      {
       "cell_index": 11
      }
     ]
    },
    "cf102875051c400dbfd6283e256c7925": {
     "views": [
      {
       "cell_index": 10
      }
     ]
    },
    "cf1bbefd288c41f989fcd9565dc69174": {
     "views": [
      {
       "cell_index": 10
      }
     ]
    },
    "cf6ac37a66434be9bb1ac3079dde2454": {
     "views": [
      {
       "cell_index": 15
      }
     ]
    },
    "cf75fab871f643e2946595e44aa21883": {
     "views": [
      {
       "cell_index": 10
      }
     ]
    },
    "cf879f9936dc44e1b740040a35c40647": {
     "views": [
      {
       "cell_index": 12
      }
     ]
    },
    "cfebca715cb54e01b3ff11cf164a0427": {
     "views": [
      {
       "cell_index": 16
      }
     ]
    },
    "d0395f3ce4b74c37a925d608e7f053c0": {
     "views": [
      {
       "cell_index": 16
      }
     ]
    },
    "d06bb0cb8cd1461ca78a0c989f7a2645": {
     "views": [
      {
       "cell_index": 15
      }
     ]
    },
    "d06d31d1ec7e4ff58c6bcd3c2699fb8d": {
     "views": [
      {
       "cell_index": 16
      }
     ]
    },
    "d125b15d97ec41eab111e563f8b0b987": {
     "views": [
      {
       "cell_index": 17
      }
     ]
    },
    "d188987965e34952aa7d7a2a57ef0fe1": {
     "views": [
      {
       "cell_index": 10
      }
     ]
    },
    "d1c2c562fa1f47d69b002aa4db1d257b": {
     "views": [
      {
       "cell_index": 15
      }
     ]
    },
    "d22920fdeabe43ceb639b15a12c3739a": {
     "views": [
      {
       "cell_index": 10
      }
     ]
    },
    "d239944aa1324ffba694ef5b82cc53e1": {
     "views": [
      {
       "cell_index": 16
      }
     ]
    },
    "d26b6f0a4e0c42178f4bbe0ba7bc2370": {
     "views": [
      {
       "cell_index": 12
      }
     ]
    },
    "d2790da12f1648b2a002ec33a0e8948f": {
     "views": [
      {
       "cell_index": 10
      }
     ]
    },
    "d28bad23e0344967b8deafd466a6968b": {
     "views": [
      {
       "cell_index": 10
      }
     ]
    },
    "d2e0b14264d84895a0539da8ddccaef4": {
     "views": [
      {
       "cell_index": 12
      }
     ]
    },
    "d34566087f634de5bd7e25d2e01ce7b0": {
     "views": [
      {
       "cell_index": 12
      }
     ]
    },
    "d36e2deac75d40f78022f07a6e551930": {
     "views": [
      {
       "cell_index": 16
      }
     ]
    },
    "d3eb4422232c4182aea31ad50d84eebc": {
     "views": [
      {
       "cell_index": 12
      }
     ]
    },
    "d41248b774134af4ae32335d0a48842f": {
     "views": [
      {
       "cell_index": 10
      }
     ]
    },
    "d42b95c59ade47debf417a1bc676ea72": {
     "views": [
      {
       "cell_index": 11
      }
     ]
    },
    "d438aaa5de294041b0ae01465361204a": {
     "views": [
      {
       "cell_index": 15
      }
     ]
    },
    "d440eb99bac14cec8300e171e673e5fc": {
     "views": [
      {
       "cell_index": 10
      }
     ]
    },
    "d46b10aafe6c4eb6b314bd6f420749b2": {
     "views": [
      {
       "cell_index": 16
      }
     ]
    },
    "d4a8dec7732746b6b277842eb1706c47": {
     "views": [
      {
       "cell_index": 11
      }
     ]
    },
    "d4edf157a6db434bba68dbca9a2326ae": {
     "views": [
      {
       "cell_index": 10
      }
     ]
    },
    "d53bd5fd97c845898748bd78d981d250": {
     "views": [
      {
       "cell_index": 10
      }
     ]
    },
    "d53c83c9d02042f2af384c601043141c": {
     "views": [
      {
       "cell_index": 12
      }
     ]
    },
    "d58e70aae007461e9541977a90418b23": {
     "views": [
      {
       "cell_index": 10
      }
     ]
    },
    "d5d5b7fff21440c0b86206ebd6b08a23": {
     "views": [
      {
       "cell_index": 15
      }
     ]
    },
    "d63f5bbffff546de8c0546e2b960b0a7": {
     "views": [
      {
       "cell_index": 15
      }
     ]
    },
    "d75f089d7cbc4bb2952782f15b393b26": {
     "views": [
      {
       "cell_index": 16
      }
     ]
    },
    "d7b55ede5f6643f6a2e5022ad585cfd5": {
     "views": [
      {
       "cell_index": 10
      }
     ]
    },
    "d7dd7dfed0024633a1c41c79e3677185": {
     "views": [
      {
       "cell_index": 16
      }
     ]
    },
    "d7df47c159f64178ba22a61f757e5a11": {
     "views": [
      {
       "cell_index": 15
      }
     ]
    },
    "d8e7f7a79b0c404889fc278d541d4a03": {
     "views": [
      {
       "cell_index": 15
      }
     ]
    },
    "d96febfffc50477aa4414c6d30efbfe7": {
     "views": [
      {
       "cell_index": 15
      }
     ]
    },
    "d981cd93dd5548c5892b3f29d8c4a0bb": {
     "views": [
      {
       "cell_index": 15
      }
     ]
    },
    "d993467e01374c4591fc9cddd376e29f": {
     "views": [
      {
       "cell_index": 17
      }
     ]
    },
    "d9a2a06b9b1d4c1a856d8cb3af42a901": {
     "views": [
      {
       "cell_index": 10
      }
     ]
    },
    "d9cee9148a5f4160bcd28e31e8cadbee": {
     "views": [
      {
       "cell_index": 15
      }
     ]
    },
    "d9dedbab08554888ad19bb911f1dd458": {
     "views": [
      {
       "cell_index": 11
      }
     ]
    },
    "da2cf8fd1b474829818cb819d0901b60": {
     "views": [
      {
       "cell_index": 17
      }
     ]
    },
    "da728020822548909f2475c331b5b85d": {
     "views": [
      {
       "cell_index": 15
      }
     ]
    },
    "db802f20d39748a39bb00fad02efd702": {
     "views": [
      {
       "cell_index": 16
      }
     ]
    },
    "dbae948ffcf04236a7d0c97831ad1a7c": {
     "views": [
      {
       "cell_index": 10
      }
     ]
    },
    "dbba7dd9dcc94f829eccccb8cd68d760": {
     "views": [
      {
       "cell_index": 16
      }
     ]
    },
    "dc314dc55c2a460ca9ffbc17e7b14e7e": {
     "views": [
      {
       "cell_index": 16
      }
     ]
    },
    "dc711089366d4252bbc6471fdefc9a86": {
     "views": [
      {
       "cell_index": 16
      }
     ]
    },
    "dca3a943514b4d36bf703e2bcc4fdebe": {
     "views": [
      {
       "cell_index": 15
      }
     ]
    },
    "dcfd3a56afd04947857415f0099aa4d0": {
     "views": [
      {
       "cell_index": 2
      }
     ]
    },
    "dd7ee024aa6144a287679513c5b624a6": {
     "views": [
      {
       "cell_index": 10
      }
     ]
    },
    "ddffb63eb66244438d57beaeca6fe765": {
     "views": [
      {
       "cell_index": 16
      }
     ]
    },
    "de3f6c5dae52433cb3faee2251246052": {
     "views": [
      {
       "cell_index": 12
      }
     ]
    },
    "de40647686ea426c8232df459178e6cf": {
     "views": [
      {
       "cell_index": 10
      }
     ]
    },
    "de48940257b542dfb125485c8e16723f": {
     "views": [
      {
       "cell_index": 10
      }
     ]
    },
    "de514aa2c1f14aad800f7b541a2daed8": {
     "views": [
      {
       "cell_index": 3
      }
     ]
    },
    "dec084a4bf3742a6a067e3710e2500f4": {
     "views": [
      {
       "cell_index": 12
      }
     ]
    },
    "def654d2afdf4c1bbf2f704ec228eb00": {
     "views": [
      {
       "cell_index": 16
      }
     ]
    },
    "df938fde4f9f45bab5c7e602bff8b1a0": {
     "views": [
      {
       "cell_index": 15
      }
     ]
    },
    "e04b4abf747f4013a04d70419ac8bd34": {
     "views": [
      {
       "cell_index": 16
      }
     ]
    },
    "e07c149d470f4ce2a36483178d8bd858": {
     "views": [
      {
       "cell_index": 15
      }
     ]
    },
    "e08807f6b27d43719e1536c137b652a4": {
     "views": [
      {
       "cell_index": 11
      }
     ]
    },
    "e09e0f634a6f4b1c8016383abb5b4b74": {
     "views": [
      {
       "cell_index": 10
      }
     ]
    },
    "e1067df7c3f243ffb2a1ff6a063ed2e4": {
     "views": [
      {
       "cell_index": 10
      }
     ]
    },
    "e13d026909664d4aaed094241f60362b": {
     "views": [
      {
       "cell_index": 15
      }
     ]
    },
    "e190f83de9e445d6963795b1c0de05da": {
     "views": [
      {
       "cell_index": 10
      }
     ]
    },
    "e1ec1ca058b24417a3e46bc01d848733": {
     "views": [
      {
       "cell_index": 12
      }
     ]
    },
    "e21df1279cf04fa6852884eaeeb8c909": {
     "views": [
      {
       "cell_index": 16
      }
     ]
    },
    "e23490a131914afbabc54f958cbc4c09": {
     "views": [
      {
       "cell_index": 11
      }
     ]
    },
    "e2605c0257c94009a547750877b5d1e6": {
     "views": [
      {
       "cell_index": 15
      }
     ]
    },
    "e34df9be970642efbb21a47efaa259bc": {
     "views": [
      {
       "cell_index": 15
      }
     ]
    },
    "e35afc91b3734050bfb6b9bd5a34fc86": {
     "views": [
      {
       "cell_index": 15
      }
     ]
    },
    "e3aaaf429b354fa6a5952ab6bd3e36a4": {
     "views": [
      {
       "cell_index": 15
      }
     ]
    },
    "e3acdedf020b4916a3ff9c3f9d0339db": {
     "views": [
      {
       "cell_index": 12
      }
     ]
    },
    "e3c01df667214cd7b379fbeb62a3135c": {
     "views": [
      {
       "cell_index": 15
      }
     ]
    },
    "e48ea7790e2648d599580050bcdc9a41": {
     "views": [
      {
       "cell_index": 10
      }
     ]
    },
    "e4da06ea47d64660a54d6f52069c735b": {
     "views": [
      {
       "cell_index": 15
      }
     ]
    },
    "e5064a52dd2e40508d68e074d6433553": {
     "views": [
      {
       "cell_index": 15
      }
     ]
    },
    "e54312e811184221ab7c788d59fa3718": {
     "views": [
      {
       "cell_index": 15
      }
     ]
    },
    "e54d30a89b4b491ba558aaaf3cfe5e70": {
     "views": [
      {
       "cell_index": 10
      }
     ]
    },
    "e5819459a9094ec98aa8a1179cd31c71": {
     "views": [
      {
       "cell_index": 10
      }
     ]
    },
    "e5b0192e5b454a73b522fd3432270216": {
     "views": [
      {
       "cell_index": 10
      }
     ]
    },
    "e6a7d579c6b647c5a4fb407c613e96de": {
     "views": [
      {
       "cell_index": 10
      }
     ]
    },
    "e6b0c5db99e44b13854994876057dc6f": {
     "views": [
      {
       "cell_index": 16
      }
     ]
    },
    "e6b404da1b0846d5b487e24f0224f07e": {
     "views": [
      {
       "cell_index": 10
      }
     ]
    },
    "e70cca28cf2e46569acccd8178180144": {
     "views": [
      {
       "cell_index": 12
      }
     ]
    },
    "e8f3b36c00f347b4a1e1710b968cc076": {
     "views": [
      {
       "cell_index": 12
      }
     ]
    },
    "e9896a477ebd472791cd63bd099bdd93": {
     "views": [
      {
       "cell_index": 12
      }
     ]
    },
    "e9e1d3cd6b0c4a49a2fca5db6fb0d13b": {
     "views": [
      {
       "cell_index": 11
      }
     ]
    },
    "ea06920d74d84ec8bb21861b1f75f742": {
     "views": [
      {
       "cell_index": 12
      }
     ]
    },
    "ea257acae609438da1db30d45ea02344": {
     "views": [
      {
       "cell_index": 16
      }
     ]
    },
    "ea4668e51f5e4c9c8633820a40a432f8": {
     "views": [
      {
       "cell_index": 15
      }
     ]
    },
    "ea59403cd2ef47be840280fcedb2a047": {
     "views": [
      {
       "cell_index": 10
      }
     ]
    },
    "eab42ae10cb5498c88a3e672b51d6c5b": {
     "views": [
      {
       "cell_index": 15
      }
     ]
    },
    "eb3d50915c914119854ea7c45c48dbe8": {
     "views": [
      {
       "cell_index": 10
      }
     ]
    },
    "ed10dbb8daf249a885dab8d1e216a22e": {
     "views": [
      {
       "cell_index": 10
      }
     ]
    },
    "ed10f73ec63c46e087d0f942c9a792e5": {
     "views": [
      {
       "cell_index": 16
      }
     ]
    },
    "ed1a11a10d864581b4f9ab4f0fb073ea": {
     "views": [
      {
       "cell_index": 16
      }
     ]
    },
    "ed32a8bcaf564e37886948f2d367f9d8": {
     "views": [
      {
       "cell_index": 17
      }
     ]
    },
    "ed5d22e48cac46eb9115607b61bcd94c": {
     "views": [
      {
       "cell_index": 10
      }
     ]
    },
    "ed5f492813cc43a7bd8c794a7b12fe57": {
     "views": [
      {
       "cell_index": 12
      }
     ]
    },
    "eda4632ca07b4db89210a792038db206": {
     "views": [
      {
       "cell_index": 10
      }
     ]
    },
    "edb5f3fe5a7346dab6f9788cdaac2b86": {
     "views": [
      {
       "cell_index": 11
      }
     ]
    },
    "ee1454c55772468ab9d25f72a925a8a0": {
     "views": [
      {
       "cell_index": 12
      }
     ]
    },
    "ee3ba97df02b41e08734205ed6544309": {
     "views": [
      {
       "cell_index": 10
      }
     ]
    },
    "ee54dd985c674d158581fbad84e7108a": {
     "views": [
      {
       "cell_index": 16
      }
     ]
    },
    "ee5e1af5843547ab876a316615607e94": {
     "views": [
      {
       "cell_index": 15
      }
     ]
    },
    "eedda93c5bed4f0cbba4e80e49201d89": {
     "views": [
      {
       "cell_index": 10
      }
     ]
    },
    "ef3838109edc4746aafb328d30ac23bd": {
     "views": [
      {
       "cell_index": 17
      }
     ]
    },
    "ef3a2ca1013548069e7ffb6de85d9956": {
     "views": [
      {
       "cell_index": 16
      }
     ]
    },
    "ef60d03d48284f55a39921122643eb73": {
     "views": [
      {
       "cell_index": 10
      }
     ]
    },
    "f044daca0cfd4327838246caf7ee375f": {
     "views": [
      {
       "cell_index": 15
      }
     ]
    },
    "f054ea3d89ad4ab6b18887a67b9b7704": {
     "views": [
      {
       "cell_index": 15
      }
     ]
    },
    "f068420b2fcf4afba1bdc2cab94cf2dd": {
     "views": [
      {
       "cell_index": 15
      }
     ]
    },
    "f094064a2e2243b9b19ca95ada9d61f2": {
     "views": [
      {
       "cell_index": 10
      }
     ]
    },
    "f0a60987bd454e6fa836708a6cdea118": {
     "views": [
      {
       "cell_index": 16
      }
     ]
    },
    "f0be4e01f6fb4557b796b2fbeaa2c84e": {
     "views": [
      {
       "cell_index": 10
      }
     ]
    },
    "f0c84813bc524a21b3a5734b05e522f3": {
     "views": [
      {
       "cell_index": 16
      }
     ]
    },
    "f1b0ad021fe74f789207007428331e77": {
     "views": [
      {
       "cell_index": 15
      }
     ]
    },
    "f1c22ba301a347f58e75c1e065743743": {
     "views": [
      {
       "cell_index": 11
      }
     ]
    },
    "f21b8e526c7043c0b57c860f393f0aab": {
     "views": [
      {
       "cell_index": 15
      }
     ]
    },
    "f25279fe8a304633ac5830a83cf76bb5": {
     "views": [
      {
       "cell_index": 12
      }
     ]
    },
    "f25b5cd954df43d093368bb642324124": {
     "views": [
      {
       "cell_index": 12
      }
     ]
    },
    "f2ef651acd744a30a53567556e6d1e4c": {
     "views": [
      {
       "cell_index": 10
      }
     ]
    },
    "f32b27d4020545fd87a55c1bad070c77": {
     "views": [
      {
       "cell_index": 15
      }
     ]
    },
    "f33346d1c67d40b893b8c9f68fb26c25": {
     "views": [
      {
       "cell_index": 12
      }
     ]
    },
    "f3a7ac984a3342c6b621632b3f5143b7": {
     "views": [
      {
       "cell_index": 12
      }
     ]
    },
    "f3c1d0e19dd24fc2908df4caef2820a4": {
     "views": [
      {
       "cell_index": 16
      }
     ]
    },
    "f4656e8176e24a29acb61a9927b75c94": {
     "views": [
      {
       "cell_index": 10
      }
     ]
    },
    "f48e803032a641f88f8af23464fd54a9": {
     "views": [
      {
       "cell_index": 10
      }
     ]
    },
    "f4982a36c94b498caf251b852511d441": {
     "views": [
      {
       "cell_index": 17
      }
     ]
    },
    "f4b3f5f35751414b8176233419cd5a7e": {
     "views": [
      {
       "cell_index": 16
      }
     ]
    },
    "f4e80d6dbe534cd8b3ca98a8b4403c0f": {
     "views": [
      {
       "cell_index": 15
      }
     ]
    },
    "f52dd9e7c63f49bca9dd122c6902f130": {
     "views": [
      {
       "cell_index": 15
      }
     ]
    },
    "f58b72cbfef24ae992a23c4fc29723a0": {
     "views": [
      {
       "cell_index": 16
      }
     ]
    },
    "f5c5487f0aa74a3298a39313c10da9a5": {
     "views": [
      {
       "cell_index": 10
      }
     ]
    },
    "f66a2b6fb0364377ab88086b82d0960e": {
     "views": [
      {
       "cell_index": 16
      }
     ]
    },
    "f6857f2a5c7e4b7a9e41d9574d7c8094": {
     "views": [
      {
       "cell_index": 15
      }
     ]
    },
    "f6c03f8d217f445ebd08d9c17a9ea372": {
     "views": [
      {
       "cell_index": 12
      }
     ]
    },
    "f724987cbd0c4bb3a2592a3648db4e3c": {
     "views": [
      {
       "cell_index": 15
      }
     ]
    },
    "f784422351dc4ebfa9a5e9f8cd29d93a": {
     "views": [
      {
       "cell_index": 16
      }
     ]
    },
    "f7b07ae500214ba5ba81f6fad6f0d70f": {
     "views": [
      {
       "cell_index": 15
      }
     ]
    },
    "f7fdb675dca744ff801bdac6aeb115bf": {
     "views": [
      {
       "cell_index": 15
      }
     ]
    },
    "f849eee1e6fe49d8b5da52b539724b2b": {
     "views": [
      {
       "cell_index": 17
      }
     ]
    },
    "f8731c5bcb9d4840970c3c41f75f0af7": {
     "views": [
      {
       "cell_index": 16
      }
     ]
    },
    "f8f156f7186d459c9d5c7cc4f35ce53f": {
     "views": [
      {
       "cell_index": 10
      }
     ]
    },
    "f907119b25754ea5b7d887e7cf4fee83": {
     "views": [
      {
       "cell_index": 12
      }
     ]
    },
    "f90be1a298da414589422e71744d3037": {
     "views": [
      {
       "cell_index": 16
      }
     ]
    },
    "f994055387d34bbeb31e518d59c4dc0c": {
     "views": [
      {
       "cell_index": 17
      }
     ]
    },
    "f9baab1ace57421fb3ebd67d67ba9b73": {
     "views": [
      {
       "cell_index": 11
      }
     ]
    },
    "fa429a97d0cf44f2b853715947077d2b": {
     "views": [
      {
       "cell_index": 10
      }
     ]
    },
    "fa85e063778c4c51b8c73df5ac97b04c": {
     "views": [
      {
       "cell_index": 12
      }
     ]
    },
    "fab310048d314183855894235fe51fca": {
     "views": [
      {
       "cell_index": 16
      }
     ]
    },
    "fab78d229dd94e4c92855dbcc62cff4a": {
     "views": [
      {
       "cell_index": 10
      }
     ]
    },
    "fae067fbb27342e48459ae0853a66907": {
     "views": [
      {
       "cell_index": 16
      }
     ]
    },
    "fb102c3c0a5c4e26861a3c534676c5be": {
     "views": [
      {
       "cell_index": 16
      }
     ]
    },
    "fb4835ae7295446c81ba9b444b9ceff5": {
     "views": [
      {
       "cell_index": 15
      }
     ]
    },
    "fb4e56acc8b24800bfd2dc39c9c52dac": {
     "views": [
      {
       "cell_index": 15
      }
     ]
    },
    "fb60d120e2f04848986de6659ac742b3": {
     "views": [
      {
       "cell_index": 12
      }
     ]
    },
    "fbfcc6fd06ea46da86651b5491be7738": {
     "views": [
      {
       "cell_index": 12
      }
     ]
    },
    "fc00b71bb4a34de9bec26ece8b21b314": {
     "views": [
      {
       "cell_index": 16
      }
     ]
    },
    "fc14488b8db14a6e92b89220c7b570e8": {
     "views": [
      {
       "cell_index": 16
      }
     ]
    },
    "fc3b3120e04f4c3f9ad5a7b828b9f1f5": {
     "views": [
      {
       "cell_index": 16
      }
     ]
    },
    "fc5352cc901441768a68f51b2e3ad655": {
     "views": [
      {
       "cell_index": 16
      }
     ]
    },
    "fc7965ad8cf4496fa46f040ce1f784ff": {
     "views": [
      {
       "cell_index": 16
      }
     ]
    },
    "fd0b97126e83458184537bd6570b35b7": {
     "views": [
      {
       "cell_index": 15
      }
     ]
    },
    "fd61d0eac45349f1bd632d7ea49b2cde": {
     "views": [
      {
       "cell_index": 15
      }
     ]
    },
    "fd79268bf6b94b2994cfd2e98fb26dcb": {
     "views": [
      {
       "cell_index": 17
      }
     ]
    },
    "fd79a4b7cca247189935d224073c3082": {
     "views": [
      {
       "cell_index": 10
      }
     ]
    },
    "fdc7ae715f3a418da6e62e3a071f074d": {
     "views": [
      {
       "cell_index": 15
      }
     ]
    },
    "fe64ba1f6ea54ac49015043cb65229f4": {
     "views": [
      {
       "cell_index": 10
      }
     ]
    },
    "fecf90dfecc84e1586f03e77100d741a": {
     "views": [
      {
       "cell_index": 16
      }
     ]
    },
    "fee7a68abd9045d386fc4121c9a22b85": {
     "views": [
      {
       "cell_index": 16
      }
     ]
    },
    "fef2eca49aff47b5ad21ac5c4b991e1d": {
     "views": [
      {
       "cell_index": 10
      }
     ]
    },
    "fefc16b8d0db4f76b9391031d9882340": {
     "views": [
      {
       "cell_index": 12
      }
     ]
    },
    "ff403d1a023b4abbb706a223dbc48bc4": {
     "views": [
      {
       "cell_index": 10
      }
     ]
    },
    "ff6506ae4359473e8980653ccc1e45a3": {
     "views": [
      {
       "cell_index": 10
      }
     ]
    },
    "fff9cdaabafe4c159c27599f6e1b67cc": {
     "views": [
      {
       "cell_index": 15
      }
     ]
    }
   },
   "version": "1.2.0"
  }
 },
 "nbformat": 4,
 "nbformat_minor": 2
}
