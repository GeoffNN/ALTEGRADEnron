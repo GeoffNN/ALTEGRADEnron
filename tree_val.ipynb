{
 "cells": [
  {
   "cell_type": "code",
   "execution_count": 1,
   "metadata": {
    "collapsed": false
   },
   "outputs": [],
   "source": [
    "from collections import defaultdict\n",
    "import datetime\n",
    "from gensim import corpora, models, similarities\n",
    "from matplotlib import pyplot as plt\n",
    "import numpy as np\n",
    "import operator\n",
    "import pandas as pd\n",
    "import pickle\n",
    "import random\n",
    "import re\n",
    "import scipy\n",
    "from sklearn.preprocessing import MultiLabelBinarizer\n",
    "from sklearn.ensemble import RandomForestClassifier\n",
    "\n",
    "from tqdm import tqdm_notebook\n",
    "\n",
    "import src.knntools as knntools\n",
    "import src.postprocess as postprocess\n",
    "import src.preprocess as preprocess\n",
    "import src.tfidftools as tfidftools\n",
    "import src.tools as tools\n",
    "import src.recencytools as recency\n",
    "import src.scoring as scoring\n",
    "import src.textembeddingtools as texttools\n",
    "\n",
    "%load_ext autoreload\n",
    "%autoreload 2\n",
    "%matplotlib inline"
   ]
  },
  {
   "cell_type": "code",
   "execution_count": 2,
   "metadata": {
    "collapsed": true
   },
   "outputs": [],
   "source": [
    "path_to_data = 'data/'\n",
    "\n",
    "training = pd.read_csv(path_to_data + 'training_set.csv', sep=',', header=0)\n",
    "\n",
    "training_info = pd.read_csv(\n",
    "    path_to_data + 'training_info.csv', sep=',', parse_dates=True, header=0)\n",
    "\n",
    "test = pd.read_csv(path_to_data + 'test_set.csv', sep=',', header=0)\n",
    "\n",
    "test_info = pd.read_csv(path_to_data + 'test_info.csv',\n",
    "                        sep=',', parse_dates=True, header=0)\n",
    "path_to_results = 'results/'"
   ]
  },
  {
   "cell_type": "code",
   "execution_count": 3,
   "metadata": {
    "collapsed": false
   },
   "outputs": [
    {
     "name": "stdout",
     "output_type": "stream",
     "text": [
      "Processing training !\n",
      "\n",
      "Processing val !\n",
      "\n"
     ]
    }
   ],
   "source": [
    "train_info, train_email_ids_per_sender, val_info, val_email_ids_per_sender = scoring.get_train_val(training, training_info, train_frac=0.95)"
   ]
  },
  {
   "cell_type": "code",
   "execution_count": 4,
   "metadata": {
    "collapsed": false
   },
   "outputs": [
    {
     "name": "stdout",
     "output_type": "stream",
     "text": [
      "\n",
      "\n"
     ]
    }
   ],
   "source": [
    "train_body_dict = preprocess.body_dict_from_panda(train_info)\n",
    "val_body_dict = preprocess.body_dict_from_panda(val_info)\n"
   ]
  },
  {
   "cell_type": "code",
   "execution_count": 5,
   "metadata": {
    "collapsed": false
   },
   "outputs": [
    {
     "name": "stdout",
     "output_type": "stream",
     "text": [
      "\n",
      "\n"
     ]
    }
   ],
   "source": [
    "train_token_dict = texttools.get_token_dict(train_body_dict)\n",
    "val_token_dict = texttools.get_token_dict(val_body_dict)"
   ]
  },
  {
   "cell_type": "code",
   "execution_count": 6,
   "metadata": {
    "collapsed": false
   },
   "outputs": [],
   "source": [
    "train_email_list, train_idx_to_mids = texttools.token_dicts_to_token_lists(train_token_dict, rarity_threshold=3)\n",
    "val_email_list, val_idx_to_mids = texttools.token_dicts_to_token_lists(val_token_dict, rarity_threshold=3)"
   ]
  },
  {
   "cell_type": "code",
   "execution_count": 7,
   "metadata": {
    "collapsed": false
   },
   "outputs": [],
   "source": [
    "# Assign unique id to word\n",
    "train_word_id_dic = corpora.Dictionary(train_email_list)\n",
    "\n",
    "# Compute email corpush as bow [[(wordid_1_1, count_1_1), ...] ...]\n",
    "train_email_corpus = [train_word_id_dic.doc2bow(text) for text in train_email_list]\n",
    "val_email_corpus = [train_word_id_dic.doc2bow(text) for text in val_email_list]"
   ]
  },
  {
   "cell_type": "code",
   "execution_count": 8,
   "metadata": {
    "collapsed": false
   },
   "outputs": [
    {
     "name": "stdout",
     "output_type": "stream",
     "text": [
      "41432\n"
     ]
    }
   ],
   "source": [
    "nb_topics = 200\n",
    "nb_emails = len(train_email_corpus)\n",
    "print(nb_emails)"
   ]
  },
  {
   "cell_type": "code",
   "execution_count": 9,
   "metadata": {
    "collapsed": false
   },
   "outputs": [],
   "source": [
    "# model_vars_path = 'variables/hdp_similarities_{thres_nb}_words_out_no_punct'.format(thres_nb=rarity_thres)\n",
    "stored_model_results = ['variables/train-lda-200.p']\n",
    "\n",
    "lda_model = texttools.compute_model(train_email_corpus, train_word_id_dic, model='lda', nb_topics=nb_topics,\n",
    "                                    use_saved=True, save=True, model_results_path=stored_model_results[0])"
   ]
  },
  {
   "cell_type": "code",
   "execution_count": 11,
   "metadata": {
    "collapsed": false
   },
   "outputs": [],
   "source": [
    "# train_senders_mid_features_dict, train_senders_idx_to_mid_dic = texttools.get_sender_model_features_from_tokens(train_email_ids_per_sender,\n",
    "#                                                     train_token_dict, train_word_id_dic, lda_model, nb_topics)"
   ]
  },
  {
   "cell_type": "code",
   "execution_count": 18,
   "metadata": {
    "collapsed": false
   },
   "outputs": [],
   "source": [
    "train_lda_sender_features_path = 'variables/train-lda-200-sender-features-dic.p'\n",
    "\n",
    "# with open(train_lda_sender_features_path, 'wb') as outfile:\n",
    "#     pickle.dump(train_senders_mid_features_dict, outfile)\n",
    "    \n",
    "with open(train_lda_sender_features_path, 'rb') as infile:\n",
    "    train_senders_mid_features_dict = pickle.load(infile)\n",
    "\n",
    "train_lda_sender_idx_to_mid_path = 'variables/train-lda-200-sender-idx-to-mids-dic.p'\n",
    "\n",
    "# with open(train_lda_sender_idx_to_mid_path, 'wb') as outfile:\n",
    "#     pickle.dump(train_senders_idx_to_mid_dic, outfile)\n",
    "    \n",
    "with open(train_lda_sender_idx_to_mid_path, 'rb') as infile:\n",
    "    train_senders_idx_to_mid_dic = pickle.load(infile)"
   ]
  },
  {
   "cell_type": "code",
   "execution_count": 19,
   "metadata": {
    "collapsed": false
   },
   "outputs": [
    {
     "name": "stdout",
     "output_type": "stream",
     "text": [
      "\n"
     ]
    }
   ],
   "source": [
    "val_senders_mid_features_dict, val_senders_idx_to_mid_dic = texttools.get_sender_model_features_from_tokens(val_email_ids_per_sender, val_token_dict,\n",
    "                                                                                train_word_id_dic, lda_model, nb_topics)"
   ]
  },
  {
   "cell_type": "code",
   "execution_count": 20,
   "metadata": {
    "collapsed": false
   },
   "outputs": [],
   "source": [
    "train_day_features_dic = recency.get_sender_sparse_date_info(train_email_ids_per_sender, \n",
    "                                                         train_senders_idx_to_mid_dic, train_info)\n",
    "val_day_features_dic = recency.get_sender_sparse_date_info(val_email_ids_per_sender,\n",
    "                                                       val_senders_idx_to_mid_dic, val_info)"
   ]
  },
  {
   "cell_type": "code",
   "execution_count": 21,
   "metadata": {
    "collapsed": false
   },
   "outputs": [],
   "source": [
    "train_stacked_features_dict = texttools.create_stacked_feature_dic([train_senders_mid_features_dict, train_day_features_dic])\n",
    "val_stacked_features_dict = texttools.create_stacked_feature_dic([val_senders_mid_features_dict, val_day_features_dic])"
   ]
  },
  {
   "cell_type": "code",
   "execution_count": 22,
   "metadata": {
    "collapsed": false
   },
   "outputs": [
    {
     "name": "stdout",
     "output_type": "stream",
     "text": [
      "\n"
     ]
    }
   ],
   "source": [
    "train_sender_recipients_binaries, train_sender_idx_to_recipients = preprocess.get_one_hot_sender_recipients(train_senders_idx_to_mid_dic, train_info)"
   ]
  },
  {
   "cell_type": "code",
   "execution_count": 23,
   "metadata": {
    "collapsed": false
   },
   "outputs": [
    {
     "name": "stdout",
     "output_type": "stream",
     "text": [
      "\n"
     ]
    }
   ],
   "source": [
    "val_sender_recipients_binaries, val_sender_idx_to_recipients = preprocess.get_one_hot_sender_recipients(val_senders_idx_to_mid_dic, val_info)"
   ]
  },
  {
   "cell_type": "code",
   "execution_count": 31,
   "metadata": {
    "collapsed": false
   },
   "outputs": [
    {
     "name": "stdout",
     "output_type": "stream",
     "text": [
      "\n",
      "0.332141113982\n"
     ]
    }
   ],
   "source": [
    "tree_nbs = [50, 100]\n",
    "scores = []\n",
    "for nb_tree in tree_nbs:\n",
    "    val_tree_predictions = texttools.tree_train_predict(train_stacked_features_dict, train_sender_recipients_binaries,\n",
    "                           train_sender_idx_to_recipients, val_stacked_features_dict, val_senders_idx_to_mid_dic, nb_tree=nb_tree)\n",
    "    score = scoring.compute_prediction_mad(val_tree_predictions, val_info)\n",
    "    scores.append(score)\n",
    "    print(score)"
   ]
  },
  {
   "cell_type": "code",
   "execution_count": 29,
   "metadata": {
    "collapsed": false
   },
   "outputs": [],
   "source": [
    "current_score = scoring.compute_prediction_mad(val_tree_predictions, val_info)"
   ]
  },
  {
   "cell_type": "code",
   "execution_count": 30,
   "metadata": {
    "collapsed": false
   },
   "outputs": [
    {
     "data": {
      "text/plain": [
       "0.29496893072474467"
      ]
     },
     "execution_count": 30,
     "metadata": {},
     "output_type": "execute_result"
    }
   ],
   "source": [
    "current_score"
   ]
  },
  {
   "cell_type": "code",
   "execution_count": 32,
   "metadata": {
    "collapsed": true
   },
   "outputs": [],
   "source": [
    "path_to_trees = 'ranks_val/trees-tree-nb-{nb_tree}'.format(nb_tree=nb_tree)\n",
    "with open(path_to_trees, 'wb') as infile:\n",
    "          pickle.dump(val_tree_predictions, infile)\n",
    "\n"
   ]
  },
  {
   "cell_type": "code",
   "execution_count": null,
   "metadata": {
    "collapsed": true
   },
   "outputs": [],
   "source": []
  }
 ],
 "metadata": {
  "kernelspec": {
   "display_name": "Python 3",
   "language": "python",
   "name": "python3"
  },
  "language_info": {
   "codemirror_mode": {
    "name": "ipython",
    "version": 3
   },
   "file_extension": ".py",
   "mimetype": "text/x-python",
   "name": "python",
   "nbconvert_exporter": "python",
   "pygments_lexer": "ipython3",
   "version": "3.4.3"
  },
  "widgets": {
   "state": {
    "002fe1ef138849c5944b6f086a6e87a3": {
     "views": [
      {
       "cell_index": 11
      }
     ]
    },
    "0357be3b89934f25ba9f3a98e45ded87": {
     "views": [
      {
       "cell_index": 11
      }
     ]
    },
    "0495507252e142e6bd462df626aa0224": {
     "views": [
      {
       "cell_index": 11
      }
     ]
    },
    "04b19f885d394ff282fa180074c12c91": {
     "views": [
      {
       "cell_index": 15
      }
     ]
    },
    "0608340b839f4ef58359428e0c4b9172": {
     "views": [
      {
       "cell_index": 11
      }
     ]
    },
    "0786bbb756c14a65a2513c6957bd6721": {
     "views": [
      {
       "cell_index": 11
      }
     ]
    },
    "0924a2fbeb6e4feb91a604431c3b625e": {
     "views": [
      {
       "cell_index": 11
      }
     ]
    },
    "0963548dca074533a00b87c2f13ba2ac": {
     "views": [
      {
       "cell_index": 11
      }
     ]
    },
    "0adbe1a8645044908b340e4e352bff1c": {
     "views": [
      {
       "cell_index": 11
      }
     ]
    },
    "0b350da247134e92ad5e106b8eb1e302": {
     "views": [
      {
       "cell_index": 11
      }
     ]
    },
    "0c61d39d3867435191e3e45604796785": {
     "views": [
      {
       "cell_index": 14
      }
     ]
    },
    "0cb39853960e4c6dac2477c837d86cc6": {
     "views": [
      {
       "cell_index": 14
      }
     ]
    },
    "0cc3fb42dd764149935601bb9914714d": {
     "views": [
      {
       "cell_index": 14
      }
     ]
    },
    "0cc9b432f13e4cc09c66792b4afd92c6": {
     "views": [
      {
       "cell_index": 11
      }
     ]
    },
    "0d230d9431e34625b970136a72d75dd1": {
     "views": [
      {
       "cell_index": 11
      }
     ]
    },
    "0d506984b57146c2b090c9bff0ab309d": {
     "views": [
      {
       "cell_index": 14
      }
     ]
    },
    "0e43e3c2fc6b4ce7ab223df1ea613771": {
     "views": [
      {
       "cell_index": 11
      }
     ]
    },
    "0ef68683c68f4d86874622c5e580cfaa": {
     "views": [
      {
       "cell_index": 14
      }
     ]
    },
    "0f2436291a5d428e95bf2da913d62a21": {
     "views": [
      {
       "cell_index": 11
      }
     ]
    },
    "0fefe2ed30214ada93203453a9dfea26": {
     "views": [
      {
       "cell_index": 11
      }
     ]
    },
    "10c4a427373548f1acbf87ea7f8b0347": {
     "views": [
      {
       "cell_index": 14
      }
     ]
    },
    "116ff02a40da429790fa3849ce070969": {
     "views": [
      {
       "cell_index": 14
      }
     ]
    },
    "1253afd690544325b88f1607eb3be2ff": {
     "views": [
      {
       "cell_index": 14
      }
     ]
    },
    "12b563209b134f0c814e2b1b77050370": {
     "views": [
      {
       "cell_index": 14
      }
     ]
    },
    "17881a83b948431cba01d9e530d1f3a2": {
     "views": [
      {
       "cell_index": 11
      }
     ]
    },
    "1b59b70166d24dabae475ee69346cc39": {
     "views": [
      {
       "cell_index": 11
      }
     ]
    },
    "1d68c13ae05e4df8b7b1bf395aa55b22": {
     "views": [
      {
       "cell_index": 14
      }
     ]
    },
    "1debc9ebbdc242d59e9a24bd4ab99cc5": {
     "views": [
      {
       "cell_index": 11
      }
     ]
    },
    "1fe3f93978874f11b752a2bebfc982e5": {
     "views": [
      {
       "cell_index": 9
      }
     ]
    },
    "227bfd756b704f96809b51dcad0463ac": {
     "views": [
      {
       "cell_index": 15
      }
     ]
    },
    "26237591d86f43938066cf4102e7516e": {
     "views": [
      {
       "cell_index": 15
      }
     ]
    },
    "26b7d831d8eb473bad314d2d71beb739": {
     "views": [
      {
       "cell_index": 11
      }
     ]
    },
    "2b519c54acf24eb59aeaa2dd32998428": {
     "views": [
      {
       "cell_index": 15
      }
     ]
    },
    "2c4295a260bf48bc98643a52130e368c": {
     "views": [
      {
       "cell_index": 15
      }
     ]
    },
    "2d4dad688d8f4f49ade30c6c574e36b9": {
     "views": [
      {
       "cell_index": 15
      }
     ]
    },
    "2d9bc5ccbce242048df5baa47c2076b8": {
     "views": [
      {
       "cell_index": 11
      }
     ]
    },
    "2e1aded6d576458e9b47a8512cce159c": {
     "views": [
      {
       "cell_index": 15
      }
     ]
    },
    "2fd3a548e8e94732a8f91efea12d8e73": {
     "views": [
      {
       "cell_index": 14
      }
     ]
    },
    "2ffa1250aec84f9da4feea76a31d685f": {
     "views": [
      {
       "cell_index": 11
      }
     ]
    },
    "3046a0ef9071404ab5b6bdfc9e9aaafb": {
     "views": [
      {
       "cell_index": 11
      }
     ]
    },
    "31d7487940024e26a3b0c1ee55b6a266": {
     "views": [
      {
       "cell_index": 4
      }
     ]
    },
    "32420adb1d9343859adf6ce09be6eb77": {
     "views": [
      {
       "cell_index": 14
      }
     ]
    },
    "3256a33d68de4c49adcc58551c9db51b": {
     "views": [
      {
       "cell_index": 15
      }
     ]
    },
    "32c57c417f2b4eb8a6ed753f2e966866": {
     "views": [
      {
       "cell_index": 14
      }
     ]
    },
    "331abedbcfc245118a44bf0daaa759a9": {
     "views": [
      {
       "cell_index": 11
      }
     ]
    },
    "33e5345f8e91468486f4e6aabac1251b": {
     "views": [
      {
       "cell_index": 11
      }
     ]
    },
    "3508f2d747444f9fad8fd060b36a247a": {
     "views": [
      {
       "cell_index": 14
      }
     ]
    },
    "3536661d5dd8450da7aacab04d7f45b4": {
     "views": [
      {
       "cell_index": 14
      }
     ]
    },
    "35ac353e083847afa30b39f154bbeed5": {
     "views": [
      {
       "cell_index": 11
      }
     ]
    },
    "35dd21caf6c24358be1de34feb19e570": {
     "views": [
      {
       "cell_index": 14
      }
     ]
    },
    "37923b540da64e24b5719ba3b606c4a5": {
     "views": [
      {
       "cell_index": 11
      }
     ]
    },
    "3794d44da8404841a7e37ca5cfb1f8f3": {
     "views": [
      {
       "cell_index": 11
      }
     ]
    },
    "37ee954df1fe4f13a4bbd3455e204afd": {
     "views": [
      {
       "cell_index": 15
      }
     ]
    },
    "37fb84b9ef604935aafe7dda016f1a14": {
     "views": [
      {
       "cell_index": 11
      }
     ]
    },
    "395d630737d7490b896934e2d5600011": {
     "views": [
      {
       "cell_index": 14
      }
     ]
    },
    "3bce8bff7b0c47688fca2123d8a4ed9e": {
     "views": [
      {
       "cell_index": 15
      }
     ]
    },
    "404c37a7d49c434ba5b044855d869023": {
     "views": [
      {
       "cell_index": 15
      }
     ]
    },
    "41f3822d38394d8a9fe0773fea782cdf": {
     "views": [
      {
       "cell_index": 9
      }
     ]
    },
    "445be641278c479583b8e1603dcd166c": {
     "views": [
      {
       "cell_index": 11
      }
     ]
    },
    "45862898c40a44fcb1bbd0b928d1f81c": {
     "views": [
      {
       "cell_index": 14
      }
     ]
    },
    "47087ea4722e45149faf6a7a0d257ed4": {
     "views": [
      {
       "cell_index": 15
      }
     ]
    },
    "481da171ccd44cfcac5f5731035dda08": {
     "views": [
      {
       "cell_index": 11
      }
     ]
    },
    "499ca7e47a99497cb4845b6b2c1f511b": {
     "views": [
      {
       "cell_index": 14
      }
     ]
    },
    "4b6da07ad62943548c4f7239e2c0fa64": {
     "views": [
      {
       "cell_index": 14
      }
     ]
    },
    "4b8095706cb440259c240d22f4bf26a1": {
     "views": [
      {
       "cell_index": 14
      }
     ]
    },
    "4b9b5ff607294c01af155e4bc7a70cfa": {
     "views": [
      {
       "cell_index": 11
      }
     ]
    },
    "4c8a4a9ebfe64efca28f9f17ffe883b8": {
     "views": [
      {
       "cell_index": 14
      }
     ]
    },
    "4ee991f173084a6b8c34a4f37140431c": {
     "views": [
      {
       "cell_index": 11
      }
     ]
    },
    "4f99335844dd45a7854a0403c2be4c6c": {
     "views": [
      {
       "cell_index": 15
      }
     ]
    },
    "5187156b8fd54326b7bf45821f836d09": {
     "views": [
      {
       "cell_index": 11
      }
     ]
    },
    "51fb94e0a3744130b3737f466c2e1b34": {
     "views": [
      {
       "cell_index": 15
      }
     ]
    },
    "549b7cebff004705ae8a24ba2ea9ddc5": {
     "views": [
      {
       "cell_index": 11
      }
     ]
    },
    "54fc0330d262449a85b594633808ff5f": {
     "views": [
      {
       "cell_index": 11
      }
     ]
    },
    "551bf058c5fb426283078dd6948eeebf": {
     "views": [
      {
       "cell_index": 14
      }
     ]
    },
    "5546d92772084d4bb470ee51f53ac0f7": {
     "views": [
      {
       "cell_index": 14
      }
     ]
    },
    "55f3279deacc45acb92dc2639625b130": {
     "views": [
      {
       "cell_index": 15
      }
     ]
    },
    "56a2d6f5f2a747a3a1c25b41bc1ab712": {
     "views": [
      {
       "cell_index": 11
      }
     ]
    },
    "58f8e7c37fa9491a871fdbadf52cea9f": {
     "views": [
      {
       "cell_index": 15
      }
     ]
    },
    "5abe173e46834373a54b06bef40763e2": {
     "views": [
      {
       "cell_index": 11
      }
     ]
    },
    "5d5bea4a81ff4f9081b30cf251551404": {
     "views": [
      {
       "cell_index": 11
      }
     ]
    },
    "5eb2cf0aec814def9d0d32b0fa8e28ce": {
     "views": [
      {
       "cell_index": 14
      }
     ]
    },
    "61d0c97ce03f4d5c9c71493e9ad3155d": {
     "views": [
      {
       "cell_index": 11
      }
     ]
    },
    "62415e26a04e4946844453f5c5c2e182": {
     "views": [
      {
       "cell_index": 15
      }
     ]
    },
    "639147ccb1804abbb67b837ed33f0797": {
     "views": [
      {
       "cell_index": 11
      }
     ]
    },
    "647acc75a2ac40518a32d98f8a6f8729": {
     "views": [
      {
       "cell_index": 14
      }
     ]
    },
    "64e1e9bce7094ba1ba4d25be9256c62a": {
     "views": [
      {
       "cell_index": 14
      }
     ]
    },
    "65d669164fd8421a891767aa7818a8c5": {
     "views": [
      {
       "cell_index": 11
      }
     ]
    },
    "689061df41bd46b3ba5b01fd411d2726": {
     "views": [
      {
       "cell_index": 11
      }
     ]
    },
    "68e51e5556ee4274ab6065ed95ec20d0": {
     "views": [
      {
       "cell_index": 14
      }
     ]
    },
    "69892a2ab72f4c8c846a9fc0af42144b": {
     "views": [
      {
       "cell_index": 14
      }
     ]
    },
    "69aa465ab64f4ec19c2065828d43baa3": {
     "views": [
      {
       "cell_index": 11
      }
     ]
    },
    "6ae3517d7758457e95c34dcbdec15e88": {
     "views": [
      {
       "cell_index": 15
      }
     ]
    },
    "6c7b4d5d8f124d9f9df96a7466a06cf9": {
     "views": [
      {
       "cell_index": 14
      }
     ]
    },
    "6c7cc0eb5fc045ed9114d36e343d361f": {
     "views": [
      {
       "cell_index": 11
      }
     ]
    },
    "6f4270da30f540c4a6bc594aed577179": {
     "views": [
      {
       "cell_index": 15
      }
     ]
    },
    "6fbefd2e4f6e47d399ce7423639d56fd": {
     "views": [
      {
       "cell_index": 11
      }
     ]
    },
    "7035b2ddc87f4f9abb7b421a504f36da": {
     "views": [
      {
       "cell_index": 11
      }
     ]
    },
    "7098f0c6d96d442380ee6b2a8d5fd57d": {
     "views": [
      {
       "cell_index": 15
      }
     ]
    },
    "70d9b6151d05457abd3a39ca943eebc9": {
     "views": [
      {
       "cell_index": 11
      }
     ]
    },
    "72273a78c868423f9d77b8b70dc0dbff": {
     "views": [
      {
       "cell_index": 15
      }
     ]
    },
    "726abcde52394eaa968c9e3368607abd": {
     "views": [
      {
       "cell_index": 14
      }
     ]
    },
    "72919b41a74b4b79b791457e11bd010b": {
     "views": [
      {
       "cell_index": 11
      }
     ]
    },
    "73701a5bed8d49628ed3f436391ec74d": {
     "views": [
      {
       "cell_index": 15
      }
     ]
    },
    "73c7697cdfc143f0a3dd87b8d3abb9ee": {
     "views": [
      {
       "cell_index": 11
      }
     ]
    },
    "7418a5aead8d43c3b46f86b059a7a66a": {
     "views": [
      {
       "cell_index": 11
      }
     ]
    },
    "76aa448c04c544d8b6ab450f5a14170d": {
     "views": [
      {
       "cell_index": 14
      }
     ]
    },
    "7724ad7c9f1e44e5a50de2b2db0a96c4": {
     "views": [
      {
       "cell_index": 15
      }
     ]
    },
    "7760c4bb56c04e6db3ff66b7e498b869": {
     "views": [
      {
       "cell_index": 11
      }
     ]
    },
    "78b2c9ae21fe47fb8d0d80ae66bd83cb": {
     "views": [
      {
       "cell_index": 14
      }
     ]
    },
    "7a039cbf103d440cb68992082fb9efc7": {
     "views": [
      {
       "cell_index": 15
      }
     ]
    },
    "7a6fa520842044468a0f7bea12564664": {
     "views": [
      {
       "cell_index": 3
      }
     ]
    },
    "7b00c3680d414d488cac853cf93187f8": {
     "views": [
      {
       "cell_index": 11
      }
     ]
    },
    "7b3a42eadd9e4043b227fab72cbbf9f2": {
     "views": [
      {
       "cell_index": 11
      }
     ]
    },
    "7be88e8bd9e3412d9523e3e9733941df": {
     "views": [
      {
       "cell_index": 11
      }
     ]
    },
    "7be9b2d980ab44ec980e00c35b9f394e": {
     "views": [
      {
       "cell_index": 11
      }
     ]
    },
    "7e335ce534c14e13ba3a2bc1c99cc848": {
     "views": [
      {
       "cell_index": 16
      }
     ]
    },
    "7e4e417dc1aa419eb9b5d1f3dabd1605": {
     "views": [
      {
       "cell_index": 11
      }
     ]
    },
    "7eaa6e33cf144aaf86e983fb0abbd7da": {
     "views": [
      {
       "cell_index": 11
      }
     ]
    },
    "7fa723785b954012893c37d204fe254d": {
     "views": [
      {
       "cell_index": 11
      }
     ]
    },
    "807cb571fed94319bb0e647f68798b8f": {
     "views": [
      {
       "cell_index": 11
      }
     ]
    },
    "80b3217463eb450fbbe0ee531c7a670d": {
     "views": [
      {
       "cell_index": 11
      }
     ]
    },
    "810819607e6a4d39ab600412e2e3e8aa": {
     "views": [
      {
       "cell_index": 11
      }
     ]
    },
    "812bb0ac43124a71ac3be057bebecfc0": {
     "views": [
      {
       "cell_index": 15
      }
     ]
    },
    "81741b89d2634de5ade24792b02abc9e": {
     "views": [
      {
       "cell_index": 15
      }
     ]
    },
    "84bba8eb516b4ecbac98a16f9e3a04b3": {
     "views": [
      {
       "cell_index": 14
      }
     ]
    },
    "852adf0e18484dfeb9551d0b490212bf": {
     "views": [
      {
       "cell_index": 15
      }
     ]
    },
    "862b6424c73d4d00bde81a70a7c746c0": {
     "views": [
      {
       "cell_index": 15
      }
     ]
    },
    "8673cb01b3c24374a3d37d2650a40d68": {
     "views": [
      {
       "cell_index": 11
      }
     ]
    },
    "86cdbc47a7aa48309b60113231447531": {
     "views": [
      {
       "cell_index": 11
      }
     ]
    },
    "8829added270440cb85ea9a90ddeddd5": {
     "views": [
      {
       "cell_index": 14
      }
     ]
    },
    "8966bdaa27534462bdcf24446bf88204": {
     "views": [
      {
       "cell_index": 15
      }
     ]
    },
    "8a83950bbb0a410587da0665df7ded42": {
     "views": [
      {
       "cell_index": 14
      }
     ]
    },
    "8b0a81a39fb34290aed92a5e7fdc0ea0": {
     "views": [
      {
       "cell_index": 11
      }
     ]
    },
    "8c3f8e826c47440089d3efb2912407eb": {
     "views": [
      {
       "cell_index": 14
      }
     ]
    },
    "8c5e947bd4d845d78f9a41b52808517f": {
     "views": [
      {
       "cell_index": 14
      }
     ]
    },
    "8ce8039054fc4e6cb3c88461a27e27f3": {
     "views": [
      {
       "cell_index": 11
      }
     ]
    },
    "8cecd0fca3df46f9ad55ea84392af4f4": {
     "views": [
      {
       "cell_index": 11
      }
     ]
    },
    "8ea08ed456b245eaa8cff1fd5a9b9030": {
     "views": [
      {
       "cell_index": 11
      }
     ]
    },
    "8fd4fce4ba9f46b2b11f1bf06e455caa": {
     "views": [
      {
       "cell_index": 11
      }
     ]
    },
    "90f53facbcb94748bd8bbd24baddde61": {
     "views": [
      {
       "cell_index": 15
      }
     ]
    },
    "911ac2e956604a22b7690ea6129e8ffe": {
     "views": [
      {
       "cell_index": 11
      }
     ]
    },
    "9142771dfb434ebcbf2d8c10c4924165": {
     "views": [
      {
       "cell_index": 11
      }
     ]
    },
    "935381649a56462eb42037bd1587a818": {
     "views": [
      {
       "cell_index": 2
      }
     ]
    },
    "95933138cf444da583b8293429b515f9": {
     "views": [
      {
       "cell_index": 11
      }
     ]
    },
    "961980ce59674722b1cf6dd279d1ddb6": {
     "views": [
      {
       "cell_index": 11
      }
     ]
    },
    "961be7540b834448b33fb6f835c9e5e6": {
     "views": [
      {
       "cell_index": 15
      }
     ]
    },
    "9786603c69524faf874b52fa046de9ca": {
     "views": [
      {
       "cell_index": 15
      }
     ]
    },
    "989a82a09baa4b468e8269134e7b7497": {
     "views": [
      {
       "cell_index": 11
      }
     ]
    },
    "98b47abd6d4e4b738b5eb1d5ab40b803": {
     "views": [
      {
       "cell_index": 11
      }
     ]
    },
    "99b549df45b8433ab20b48ab4a636669": {
     "views": [
      {
       "cell_index": 11
      }
     ]
    },
    "99cc3a7fdf4e41f083cb0131c298666c": {
     "views": [
      {
       "cell_index": 14
      }
     ]
    },
    "9a0187d57e074be0a2ea6faed54ffed3": {
     "views": [
      {
       "cell_index": 11
      }
     ]
    },
    "9a4d9434a43044dc8d07b1f0563df430": {
     "views": [
      {
       "cell_index": 11
      }
     ]
    },
    "9d4d2e50ad944df6886f57cf99bd0ab2": {
     "views": [
      {
       "cell_index": 11
      }
     ]
    },
    "9d80ab79a94a45c099db75cbf54c986a": {
     "views": [
      {
       "cell_index": 15
      }
     ]
    },
    "9e3bb2846cb244e993230e71cfec2f89": {
     "views": [
      {
       "cell_index": 2
      }
     ]
    },
    "9f38bac27acc47c996475aee039ce779": {
     "views": [
      {
       "cell_index": 15
      }
     ]
    },
    "9fc2fb782f60438d8ea6ad5e1511fe1c": {
     "views": [
      {
       "cell_index": 11
      }
     ]
    },
    "a045cd1a1542450b875ccce89f5299f2": {
     "views": [
      {
       "cell_index": 11
      }
     ]
    },
    "a19bafa0d8634005aa6d393581a57382": {
     "views": [
      {
       "cell_index": 14
      }
     ]
    },
    "a1b7b2c8427a4fe89b6547ea1ea9c333": {
     "views": [
      {
       "cell_index": 15
      }
     ]
    },
    "a2e75be2af6c461796e1e90e6a18838f": {
     "views": [
      {
       "cell_index": 14
      }
     ]
    },
    "a43d7692abbe40039dedb6f8d4c4749a": {
     "views": [
      {
       "cell_index": 11
      }
     ]
    },
    "a54a1e4060124e0da96742a7fd8d40de": {
     "views": [
      {
       "cell_index": 11
      }
     ]
    },
    "a5d7df9c6cbf408cbdd79c1ed0f6f0b5": {
     "views": [
      {
       "cell_index": 11
      }
     ]
    },
    "a5e1e19c0164447aa1ab0a24094ba29d": {
     "views": [
      {
       "cell_index": 14
      }
     ]
    },
    "a7cc77acf92044e88110609d09e6cf51": {
     "views": [
      {
       "cell_index": 15
      }
     ]
    },
    "a8b5bd5769e848a4b1b6461f15fc9200": {
     "views": [
      {
       "cell_index": 11
      }
     ]
    },
    "aa14646e4a6940c6bc6866c34a610d85": {
     "views": [
      {
       "cell_index": 15
      }
     ]
    },
    "acdbe59e75a841ceade48411e9d2f83f": {
     "views": [
      {
       "cell_index": 11
      }
     ]
    },
    "ae6b8134357349c0b7e30f9d4d79b112": {
     "views": [
      {
       "cell_index": 14
      }
     ]
    },
    "b031a38861b545aca8c9140ae3509eee": {
     "views": [
      {
       "cell_index": 14
      }
     ]
    },
    "b04e80d7f7394654aeeea26b20930ac6": {
     "views": [
      {
       "cell_index": 11
      }
     ]
    },
    "b0f319b7d0ae481f9a0439a2c79bd599": {
     "views": [
      {
       "cell_index": 11
      }
     ]
    },
    "b246697043144d0386101a236e945a28": {
     "views": [
      {
       "cell_index": 14
      }
     ]
    },
    "b3dbecf9c89b4097933b7adfa96406af": {
     "views": [
      {
       "cell_index": 11
      }
     ]
    },
    "b4710370d58442bab8031b3275a1761d": {
     "views": [
      {
       "cell_index": 11
      }
     ]
    },
    "b47193cad45c499294771ef2fcf55b72": {
     "views": [
      {
       "cell_index": 11
      }
     ]
    },
    "b5477fcc3ace496f9c0abe0a144f2277": {
     "views": [
      {
       "cell_index": 14
      }
     ]
    },
    "b55b08e863ec46e7ba7240fc799bccfb": {
     "views": [
      {
       "cell_index": 15
      }
     ]
    },
    "b5fb1e83cbf740c4bd7f5729fee15a9f": {
     "views": [
      {
       "cell_index": 11
      }
     ]
    },
    "b7c106dea42c49908a51137b8eaae8ca": {
     "views": [
      {
       "cell_index": 15
      }
     ]
    },
    "bac3eed2e57445d7ab37a7a78cda35ab": {
     "views": [
      {
       "cell_index": 14
      }
     ]
    },
    "bceccda5b7d54958904adb1dda355508": {
     "views": [
      {
       "cell_index": 11
      }
     ]
    },
    "bd2df6b00bb7467bb5442617008704a7": {
     "views": [
      {
       "cell_index": 14
      }
     ]
    },
    "be9c5cb5e6394e9099e812d0fa058a3a": {
     "views": [
      {
       "cell_index": 14
      }
     ]
    },
    "bf2b9a20e51d4e7a9b043638e3c28b18": {
     "views": [
      {
       "cell_index": 11
      }
     ]
    },
    "bf90e9b84327482299b92b3d995dea20": {
     "views": [
      {
       "cell_index": 11
      }
     ]
    },
    "bfd8916b506f4697a5da7b620d449fb8": {
     "views": [
      {
       "cell_index": 15
      }
     ]
    },
    "c103e651621e474fa280aa49e7c1cbf4": {
     "views": [
      {
       "cell_index": 11
      }
     ]
    },
    "c1f0d3f554234f54831adbd2b2202963": {
     "views": [
      {
       "cell_index": 11
      }
     ]
    },
    "c2da8a71c62542f9877d5d361e38fcda": {
     "views": [
      {
       "cell_index": 11
      }
     ]
    },
    "c36a76211114401c8ee05908382e25d1": {
     "views": [
      {
       "cell_index": 15
      }
     ]
    },
    "c39bf3f839da4382afe4384d06963534": {
     "views": [
      {
       "cell_index": 11
      }
     ]
    },
    "c455ca847406410e9cbd7829112275a6": {
     "views": [
      {
       "cell_index": 11
      }
     ]
    },
    "c510c891b1b74e6fb3f70eaa22177e5e": {
     "views": [
      {
       "cell_index": 4
      }
     ]
    },
    "c70f64c0c80a443284bcb0e894403da0": {
     "views": [
      {
       "cell_index": 11
      }
     ]
    },
    "c87597b7ee32402483e58d8ed604fe9d": {
     "views": [
      {
       "cell_index": 14
      }
     ]
    },
    "c9d359c95a36425d9e38d46289ea98e1": {
     "views": [
      {
       "cell_index": 14
      }
     ]
    },
    "cb23a92f49de42029832df9c6ffa0629": {
     "views": [
      {
       "cell_index": 15
      }
     ]
    },
    "cc818b20dcd94b04ac0e5b8b6b507de1": {
     "views": [
      {
       "cell_index": 11
      }
     ]
    },
    "cfdb23ba5eaf4123bf22b37252c59b31": {
     "views": [
      {
       "cell_index": 11
      }
     ]
    },
    "d03bb8cf0ab54d90ad97cd7e4867e92e": {
     "views": [
      {
       "cell_index": 15
      }
     ]
    },
    "d05ab78983214043906efd2e8baef5d5": {
     "views": [
      {
       "cell_index": 14
      }
     ]
    },
    "d06320c9410944d6a94f43d4df28b33a": {
     "views": [
      {
       "cell_index": 11
      }
     ]
    },
    "d14060feaeb74d25a4cd31d9b9fc4487": {
     "views": [
      {
       "cell_index": 11
      }
     ]
    },
    "d36d78bf515c493ea4d1ba26a4fe089e": {
     "views": [
      {
       "cell_index": 15
      }
     ]
    },
    "d3ae0edcf9344c9b807e70eaa50d3a44": {
     "views": [
      {
       "cell_index": 11
      }
     ]
    },
    "d74c79962bc24867a04ee28255a09cc2": {
     "views": [
      {
       "cell_index": 11
      }
     ]
    },
    "d8a8ebef8b9847b4bb8ed0c97eac7aca": {
     "views": [
      {
       "cell_index": 11
      }
     ]
    },
    "d9bd6fff41cf45ee8484abc6e1267447": {
     "views": [
      {
       "cell_index": 15
      }
     ]
    },
    "da1ea606fc124a4f92d972acc0f65307": {
     "views": [
      {
       "cell_index": 11
      }
     ]
    },
    "dae51bb3ffe54c70aa10ae87e93370f9": {
     "views": [
      {
       "cell_index": 15
      }
     ]
    },
    "dbe9f77386f2483fad257e7b6feb0119": {
     "views": [
      {
       "cell_index": 14
      }
     ]
    },
    "dc58af16c09641eaada55ad618618014": {
     "views": [
      {
       "cell_index": 15
      }
     ]
    },
    "df25e6e1dfc6438c9f1acee7de7bbbc0": {
     "views": [
      {
       "cell_index": 15
      }
     ]
    },
    "e02713b392814846bd73bf352cd10918": {
     "views": [
      {
       "cell_index": 15
      }
     ]
    },
    "e0cc5902a7f84755ae2b1d52f4429d32": {
     "views": [
      {
       "cell_index": 14
      }
     ]
    },
    "e11a075d19e84d3291456f9f5d218b9f": {
     "views": [
      {
       "cell_index": 14
      }
     ]
    },
    "e17643b6efea4cc491d656a7bf80da29": {
     "views": [
      {
       "cell_index": 3
      }
     ]
    },
    "e19a7338009e40bf830e9344d742b476": {
     "views": [
      {
       "cell_index": 15
      }
     ]
    },
    "e20f7410b31444e4951b68c0bd1a895d": {
     "views": [
      {
       "cell_index": 15
      }
     ]
    },
    "e5a4afd4b6b64bbaaeffac2e1a80f4f3": {
     "views": [
      {
       "cell_index": 11
      }
     ]
    },
    "e5e9821cec664cd0990e8b72715cf84d": {
     "views": [
      {
       "cell_index": 11
      }
     ]
    },
    "e7aab24c3abd4cfb9b96b366ae140efc": {
     "views": [
      {
       "cell_index": 11
      }
     ]
    },
    "e83ffc9d7c0343f2a60fb693d1928566": {
     "views": [
      {
       "cell_index": 15
      }
     ]
    },
    "e88fe9f2911942fb9c08cf5ee274bb36": {
     "views": [
      {
       "cell_index": 11
      }
     ]
    },
    "e8adfb13e51f4d63ba40f7d6fbb6de30": {
     "views": [
      {
       "cell_index": 14
      }
     ]
    },
    "e916e76ed0824d638a543deb47691c39": {
     "views": [
      {
       "cell_index": 11
      }
     ]
    },
    "ea8e7442c47847d1956a113ea388b6db": {
     "views": [
      {
       "cell_index": 11
      }
     ]
    },
    "eab4947762184e8abe21ba846c2e96ba": {
     "views": [
      {
       "cell_index": 15
      }
     ]
    },
    "eab7d77f76c44945b6a7a937d321eddc": {
     "views": [
      {
       "cell_index": 15
      }
     ]
    },
    "eb5218dcb18b4e19b1f71411ed603221": {
     "views": [
      {
       "cell_index": 15
      }
     ]
    },
    "ebb001fa4f8f41d5a5ccd6c19248223a": {
     "views": [
      {
       "cell_index": 11
      }
     ]
    },
    "ebb2ccb3127d4746b10c7cc838b49aee": {
     "views": [
      {
       "cell_index": 14
      }
     ]
    },
    "edab6007f32b42c09b97ce5319edfc69": {
     "views": [
      {
       "cell_index": 11
      }
     ]
    },
    "ee4e75a99f094fbd8bf35db32697873c": {
     "views": [
      {
       "cell_index": 11
      }
     ]
    },
    "eeff8635175648809bd30763434ae10f": {
     "views": [
      {
       "cell_index": 14
      }
     ]
    },
    "f0c20a6604dd4d16a8fbbbc33d1a554f": {
     "views": [
      {
       "cell_index": 15
      }
     ]
    },
    "f0da9938b0a441fba5719bd6319ffb85": {
     "views": [
      {
       "cell_index": 15
      }
     ]
    },
    "f17886dd7fa04f438d4e538376a11c84": {
     "views": [
      {
       "cell_index": 14
      }
     ]
    },
    "f1e804b6e336487a828ff6489e24ba1e": {
     "views": [
      {
       "cell_index": 14
      }
     ]
    },
    "f2545aa1c6c944b19aa725a0079efd12": {
     "views": [
      {
       "cell_index": 15
      }
     ]
    },
    "f2b1c35a766c447781f49937bb801f15": {
     "views": [
      {
       "cell_index": 11
      }
     ]
    },
    "f375d0df964b4f7889cd4c096c80c68c": {
     "views": [
      {
       "cell_index": 11
      }
     ]
    },
    "f51672903b984383873eaef9a5bcf6f8": {
     "views": [
      {
       "cell_index": 11
      }
     ]
    },
    "f532e1bc50d345d1b8a92d203aba6e5a": {
     "views": [
      {
       "cell_index": 15
      }
     ]
    },
    "f536ce1911e346769f43471075ca18b9": {
     "views": [
      {
       "cell_index": 11
      }
     ]
    },
    "f597fad882a544f1bc6371c672984c5c": {
     "views": [
      {
       "cell_index": 15
      }
     ]
    },
    "f5ebae64055a40d480cc12c95da2f211": {
     "views": [
      {
       "cell_index": 11
      }
     ]
    },
    "f6737ef2fd96481296721f913774845a": {
     "views": [
      {
       "cell_index": 11
      }
     ]
    },
    "f6c006c4f6e44591bb84248314fb5fb5": {
     "views": [
      {
       "cell_index": 11
      }
     ]
    },
    "f81a94f627e7469383029af25de966c5": {
     "views": [
      {
       "cell_index": 15
      }
     ]
    },
    "f83b4059d3334f06a408e91e49431e63": {
     "views": [
      {
       "cell_index": 15
      }
     ]
    },
    "f8ffc6c884f545c79c90bd85d0dc5ef3": {
     "views": [
      {
       "cell_index": 14
      }
     ]
    },
    "f93977e7bc844c498a2175880858fc00": {
     "views": [
      {
       "cell_index": 14
      }
     ]
    },
    "fc32590696834817a600f200c79386ba": {
     "views": [
      {
       "cell_index": 14
      }
     ]
    },
    "fde04b500e054168a0bd975cf0bbc002": {
     "views": [
      {
       "cell_index": 11
      }
     ]
    },
    "fdec131aee32417eb51ef4dd84795498": {
     "views": [
      {
       "cell_index": 11
      }
     ]
    },
    "ff7134128efc4bada358b2a6968111dd": {
     "views": [
      {
       "cell_index": 15
      }
     ]
    }
   },
   "version": "1.2.0"
  }
 },
 "nbformat": 4,
 "nbformat_minor": 2
}
