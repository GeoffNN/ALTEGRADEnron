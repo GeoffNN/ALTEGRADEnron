{
 "cells": [
  {
   "cell_type": "code",
   "execution_count": 1,
   "metadata": {
    "collapsed": false
   },
   "outputs": [],
   "source": [
    "from collections import defaultdict\n",
    "from matplotlib import pyplot as plt\n",
    "import numpy as np\n",
    "import operator\n",
    "import pickle\n",
    "\n",
    "import src.fusiontools as fusiontools\n",
    "import src.scoring as scoring\n",
    "import src.postprocess as postprocess\n",
    "\n",
    "%load_ext autoreload\n",
    "%autoreload 2\n",
    "%matplotlib inline"
   ]
  },
  {
   "cell_type": "code",
   "execution_count": 2,
   "metadata": {
    "collapsed": true
   },
   "outputs": [],
   "source": [
    "path_to_results = 'results/'"
   ]
  },
  {
   "cell_type": "markdown",
   "metadata": {},
   "source": [
    "# Load best models"
   ]
  },
  {
   "cell_type": "code",
   "execution_count": 16,
   "metadata": {
    "collapsed": false
   },
   "outputs": [],
   "source": [
    "# Load best recency model\n",
    "recency_rank_dic_path = 'ranks_test/recency_beta_7000_rec-all'\n",
    "with open(recency_rank_dic_path, 'rb') as infile:\n",
    "    recency_ranks = pickle.load(infile)\n",
    "    \n",
    "# Load best knn model\n",
    "knn_rank_dic_path = 'ranks_test/knn-k-50-rec-all'\n",
    "with open(knn_rank_dic_path, 'rb') as infile:\n",
    "    knn_ranks = pickle.load(infile)\n",
    "\n",
    "# Load best bayesian model\n",
    "bayes_rank_dic_path = 'ranks_test/bayesian_results_0-35785'\n",
    "with open(bayes_rank_dic_path, 'rb') as infile:\n",
    "    bayes_ranks = pickle.load(infile)\n",
    "    \n",
    "# # Load best graph_through_words model\n",
    "words_rank_dic_path = 'ranks_test/resjo_pickle_318'\n",
    "with open(words_rank_dic_path, 'rb') as infile:\n",
    "    words_ranks = pickle.load(infile)\n",
    "\n",
    "# Load best graph_through_words model\n",
    "centroids_rank_dic_path = 'ranks_test/centroids_dict_test'\n",
    "with open(centroids_rank_dic_path, 'rb') as infile:\n",
    "    centroids_ranks = pickle.load(infile)\n",
    "    \n",
    "# Load best word2vec model\n",
    "word2vec_rank_dic_path = 'ranks_test/centroids_w2v_sw0_test'\n",
    "with open(word2vec_rank_dic_path, 'rb') as infile:\n",
    "    word2vec_ranks = pickle.load(infile)\n",
    "    \n",
    "# Load best twidf model\n",
    "twidf_knn_rank_dic_path = 'ranks_test/twidf-knn-k-50-rec'\n",
    "with open(twidf_knn_rank_dic_path, 'rb') as infile:\n",
    "    twidf_knn_ranks = pickle.load(infile)\n",
    "    \n",
    "# Load best twidf sender model\n",
    "twidf_knn_sender_rank_dic_path = 'ranks_test/twidf-knn-k-senders-50-rec'\n",
    "with open(twidf_knn_sender_rank_dic_path, 'rb') as infile:\n",
    "    twidf_knn_sender_ranks = pickle.load(infile)\n",
    "    \n",
    "# Load best tree sender model\n",
    "tree_sender_rank_dic_path = 'ranks_test/trees-tree-nb-20-200'\n",
    "with open(tree_sender_rank_dic_path, 'rb') as infile:\n",
    "    tree_sender_ranks = pickle.load(infile)\n",
    "    \n",
    "# From model\n",
    "from_rank_dic_path = 'ranks_test/frompredictions'\n",
    "with open(from_rank_dic_path, 'rb') as infile:\n",
    "    from_ranks = pickle.load(infile)"
   ]
  },
  {
   "cell_type": "markdown",
   "metadata": {},
   "source": [
    "# Discard tail of recipients"
   ]
  },
  {
   "cell_type": "code",
   "execution_count": 17,
   "metadata": {
    "collapsed": false
   },
   "outputs": [],
   "source": [
    "nb_kept_recips = 100\n",
    "knn_ranks_cropped = fusiontools.keep_only_max_recips(knn_ranks, nb_kept_recips)\n",
    "recency_ranks_cropped = fusiontools.keep_only_max_recips(recency_ranks, nb_kept_recips)\n",
    "bayes_ranks_cropped = fusiontools.keep_only_max_recips(bayes_ranks, nb_kept_recips)\n",
    "centroids_ranks_cropped = fusiontools.keep_only_max_recips(centroids_ranks, nb_kept_recips)\n",
    "words_ranks_cropped = fusiontools.keep_only_max_recips(words_ranks, nb_kept_recips)\n",
    "twidf_knn_sender_ranks_cropped = fusiontools.keep_only_max_recips(twidf_knn_sender_ranks, nb_kept_recips)\n",
    "tree_sender_ranks_cropped = fusiontools.keep_only_max_recips(tree_sender_ranks, nb_kept_recips)\n",
    "from_ranks_cropped = fusiontools.keep_only_max_recips(from_ranks, nb_kept_recips)"
   ]
  },
  {
   "cell_type": "markdown",
   "metadata": {},
   "source": [
    "# Prepare models and weights"
   ]
  },
  {
   "cell_type": "code",
   "execution_count": 32,
   "metadata": {
    "collapsed": false
   },
   "outputs": [
    {
     "name": "stdout",
     "output_type": "stream",
     "text": [
      "2362\n",
      "2362\n",
      "2362\n",
      "2362\n",
      "2362\n",
      "521\n"
     ]
    }
   ],
   "source": [
    "# models = [knn_ranks, recency_ranks]\n",
    "# weights = [0.20716, 0.39316]\n",
    "\n",
    "# models = [bayes_100, recency_ranks]\n",
    "# weights = [0.34218, 0.39316]\n",
    "\n",
    "\n",
    "\n",
    "# models = [bayes_ranks_cropped, recency_ranks_cropped, tree_sender_ranks_cropped]\n",
    "# weights = [0.35785, 0.39316, 0.29137]\n",
    "\n",
    "\n",
    "# models = [bayes_ranks_cropped, recency_ranks_cropped, words_ranks_cropped]\n",
    "# weights = [0.35785, 0.39316, 0.33785]\n",
    "\n",
    "# models = [bayes_ranks_cropped, recency_ranks_cropped, words_ranks_cropped, knn_ranks_cropped]\n",
    "# weights = [0.35785*0.6, 0.39316*0.5, 0.33785*0.6, 0.20716*0.2]\n",
    "\n",
    "# models = [knn_ranks_cropped, recency_ranks_cropped, bayes_ranks_cropped, centroid_ranks_cropped, words_ranks_cropped]\n",
    "#val 0.5, 1, 0.5, 1, 0.5,\n",
    "# models = [bayes_ranks_cropped, centroids_ranks_cropped, recency_ranks_cropped, knn_ranks_cropped, twidf_knn_sender_ranks_cropped, tree_sender_ranks_cropped]\n",
    "# weights = [0.35785, 0.24153, 0.39316, 0.20716, 0.33785, 0.32109, 0.34583 ]\n",
    "\n",
    "models = [bayes_ranks_cropped, centroids_ranks_cropped, recency_ranks_cropped, knn_ranks_cropped, tree_sender_ranks_cropped, from_ranks_cropped]\n",
    "weights = [0.35785, 0.24153, 0.39316, 0.20716, 0.33785, 0.34583, 100 ]\n",
    "\n",
    "#Fast check that dictionnaries are the right lenght\n",
    "for model in models:\n",
    "    print(len(model))"
   ]
  },
  {
   "cell_type": "markdown",
   "metadata": {},
   "source": [
    "# Merge models and save results!"
   ]
  },
  {
   "cell_type": "code",
   "execution_count": 33,
   "metadata": {
    "collapsed": false
   },
   "outputs": [],
   "source": [
    "reranking_coeff = 7\n",
    "fusion_dic = fusiontools.reciprocal_rerank(models, reranking_coeff,  weights=weights)\n",
    "# print(fusion_dic)\n",
    "\n",
    "            \n",
    "                "
   ]
  },
  {
   "cell_type": "code",
   "execution_count": 82,
   "metadata": {
    "collapsed": true
   },
   "outputs": [],
   "source": [
    "postprocess.write_results_ranked(manual_dic, path_to_results, 'add-email-in-content-to-bayes-recency-knn-tfidf.csv')"
   ]
  },
  {
   "cell_type": "code",
   "execution_count": 34,
   "metadata": {
    "collapsed": false
   },
   "outputs": [],
   "source": [
    "postprocess.write_results_ranked(fusion_dic, path_to_results, 'fusion-weighted-reranking-7-bayes-recency-tree-centroids-add-from-weight-100.csv')"
   ]
  },
  {
   "cell_type": "code",
   "execution_count": 83,
   "metadata": {
    "collapsed": false
   },
   "outputs": [
    {
     "data": {
      "text/plain": [
       "True"
      ]
     },
     "execution_count": 83,
     "metadata": {},
     "output_type": "execute_result"
    }
   ],
   "source": [
    "189815 in emails_in_content.keys()"
   ]
  },
  {
   "cell_type": "code",
   "execution_count": null,
   "metadata": {
    "collapsed": true
   },
   "outputs": [],
   "source": []
  }
 ],
 "metadata": {
  "kernelspec": {
   "display_name": "Python 3",
   "language": "python",
   "name": "python3"
  },
  "language_info": {
   "codemirror_mode": {
    "name": "ipython",
    "version": 3
   },
   "file_extension": ".py",
   "mimetype": "text/x-python",
   "name": "python",
   "nbconvert_exporter": "python",
   "pygments_lexer": "ipython3",
   "version": "3.4.3"
  }
 },
 "nbformat": 4,
 "nbformat_minor": 2
}
