{
 "cells": [
  {
   "cell_type": "code",
   "execution_count": 1,
   "metadata": {
    "collapsed": false
   },
   "outputs": [],
   "source": [
    "from collections import defaultdict\n",
    "from matplotlib import pyplot as plt\n",
    "import numpy as np\n",
    "import operator\n",
    "import pickle\n",
    "\n",
    "import src.fusiontools as fusiontools\n",
    "import src.scoring as scoring\n",
    "import src.postprocess as postprocess\n",
    "\n",
    "%load_ext autoreload\n",
    "%autoreload 2\n",
    "%matplotlib inline"
   ]
  },
  {
   "cell_type": "code",
   "execution_count": 2,
   "metadata": {
    "collapsed": true
   },
   "outputs": [],
   "source": [
    "path_to_results = 'results/'"
   ]
  },
  {
   "cell_type": "markdown",
   "metadata": {},
   "source": [
    "# Load best models"
   ]
  },
  {
   "cell_type": "code",
   "execution_count": 41,
   "metadata": {
    "collapsed": false
   },
   "outputs": [],
   "source": [
    "# Load best recency model\n",
    "recency_rank_dic_path = 'ranks_test/recency_beta_7000_rec-all'\n",
    "with open(recency_rank_dic_path, 'rb') as infile:\n",
    "    recency_ranks = pickle.load(infile)\n",
    "    \n",
    "# Load best knn model\n",
    "knn_rank_dic_path = 'ranks_test/knn-k-50-rec-all'\n",
    "with open(knn_rank_dic_path, 'rb') as infile:\n",
    "    knn_ranks = pickle.load(infile)\n",
    "\n",
    "# Load best bayesian model\n",
    "bayes_rank_dic_path = 'ranks_test/bayesian_results_0-35785'\n",
    "with open(bayes_rank_dic_path, 'rb') as infile:\n",
    "    bayes_ranks = pickle.load(infile)\n"
   ]
  },
  {
   "cell_type": "markdown",
   "metadata": {},
   "source": [
    "# Discard tail of recipients"
   ]
  },
  {
   "cell_type": "code",
   "execution_count": 34,
   "metadata": {
    "collapsed": false
   },
   "outputs": [],
   "source": [
    "nb_kept_recips = 100\n",
    "knn_ranks_cropped = fusiontools.keep_only_max_recips(knn_ranks, nb_kept_recips)\n",
    "recency_ranks_cropped = fusiontools.keep_only_max_recips(recency_ranks, nb_kept_recips)\n",
    "bayes_ranks_cropped = fusiontools.keep_only_max_recips(bayes_ranks, nb_kept_recips)"
   ]
  },
  {
   "cell_type": "markdown",
   "metadata": {},
   "source": [
    "# Prepare models and weights"
   ]
  },
  {
   "cell_type": "code",
   "execution_count": 35,
   "metadata": {
    "collapsed": false
   },
   "outputs": [
    {
     "name": "stdout",
     "output_type": "stream",
     "text": [
      "2362\n",
      "2362\n",
      "2362\n"
     ]
    }
   ],
   "source": [
    "models = [bayes_ranks_cropped, recency_ranks_cropped, knn_ranks_cropped]\n",
    "weights = [0.35785, 0.39316, 0.20716]\n",
    "\n",
    "#Fast check that dictionnaries are the right lenght\n",
    "for model in models:\n",
    "    print(len(model))"
   ]
  },
  {
   "cell_type": "code",
   "execution_count": 28,
   "metadata": {
    "collapsed": false
   },
   "outputs": [],
   "source": [
    "# for mid, recipients in bayes_ranks_cropped.items():\n",
    "#     print(len(recipients))\n"
   ]
  },
  {
   "cell_type": "code",
   "execution_count": 42,
   "metadata": {
    "collapsed": false
   },
   "outputs": [],
   "source": [
    "# models = [knn_ranks, recency_ranks]\n",
    "# weights = [0.20716, 0.39316]\n",
    "\n",
    "# models = [bayes_100, recency_ranks]\n",
    "# weights = [0.34218, 0.39316]\n",
    "\n",
    "\n",
    "\n",
    "reranking_coeff = 7\n",
    "fusion_dic = fusiontools.reciprocal_rerank(models, reranking_coeff,  weights=weights)\n",
    "# print(fusion_dic)\n",
    "\n",
    "            \n",
    "                "
   ]
  },
  {
   "cell_type": "code",
   "execution_count": 38,
   "metadata": {
    "collapsed": false
   },
   "outputs": [],
   "source": [
    "postprocess.write_results_ranked(fusion_dic, path_to_results, 'fusion-weighted-reranking-7-bayes-recency-tfidf-knn.csv')"
   ]
  }
 ],
 "metadata": {
  "kernelspec": {
   "display_name": "Python 3",
   "language": "python",
   "name": "python3"
  },
  "language_info": {
   "codemirror_mode": {
    "name": "ipython",
    "version": 3
   },
   "file_extension": ".py",
   "mimetype": "text/x-python",
   "name": "python",
   "nbconvert_exporter": "python",
   "pygments_lexer": "ipython3",
   "version": "3.4.3"
  }
 },
 "nbformat": 4,
 "nbformat_minor": 2
}
