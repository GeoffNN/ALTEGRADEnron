{
 "cells": [
  {
   "cell_type": "code",
   "execution_count": 5,
   "metadata": {
    "collapsed": false
   },
   "outputs": [],
   "source": [
    "%load_ext autoreload\n",
    "%autoreload 2"
   ]
  },
  {
   "cell_type": "code",
   "execution_count": 6,
   "metadata": {
    "collapsed": false
   },
   "outputs": [
    {
     "name": "stdout",
     "output_type": "stream",
     "text": [
      "Loading probabilities...\n",
      "Done\n"
     ]
    }
   ],
   "source": [
    "import numpy as np\n",
    "import pandas as pd\n",
    "import pickle as pkl\n",
    "import src.bayesian as bayes\n",
    "import src.tools as tools\n",
    "from pathlib import Path\n",
    "\n",
    "path_to_data = 'data/'\n",
    "training = pd.read_csv(path_to_data + 'training_set.csv', sep=',', header=0)\n",
    "training_info = pd.read_csv(\n",
    "    path_to_data + 'training_info.csv', sep=',', header=0)\n",
    "test = pd.read_csv(path_to_data + 'test_set.csv', sep=',', header=0)\n",
    "test_info = pd.read_csv(\n",
    "    path_to_data + 'test_info.csv', sep=',', header=0)\n",
    "\n",
    "data_file = Path(path_to_data + 'data.p')\n",
    "\n",
    "if data_file.is_file():\n",
    "    print('Loading probabilities...')\n",
    "    data = pkl.load(open(path_to_data + 'data.p', 'rb'))  \n",
    "    print('Done')\n",
    "else:\n",
    "    print('Computing probabilities...')\n",
    "    print('Computing recipient prior')\n",
    "    p_r = bayes.compute_recipient_prior(training_info)\n",
    "    print('Computing sender likelihood given recipient')\n",
    "    p_s_r = bayes.compute_sender_likelihood_given_recipient(training, training_info)\n",
    "    print('Computing mail likelihood given recipient and sender')\n",
    "    p_w, p_w_r, p_w_r_s, r_s = bayes.compute_mail_likelihood_given_recipient_and_sender(training, training_info)\n",
    "    data = {}\n",
    "    data['p_r'] = p_r \n",
    "    data['p_s_r'] = p_s_r\n",
    "    data['p_w_r_s'] = p_w_r_s\n",
    "    data['p_w_r'] = p_w_r\n",
    "    data['p_w'] = p_w\n",
    "    data['r_s'] = r_s\n",
    "    pkl.dump(data, open(path_to_data + 'data.p', 'wb'))\n",
    "    print('Done')    "
   ]
  },
  {
   "cell_type": "code",
   "execution_count": null,
   "metadata": {
    "collapsed": false,
    "scrolled": false
   },
   "outputs": [
    {
     "name": "stdout",
     "output_type": "stream",
     "text": [
      "0\n",
      "1\n",
      "2\n",
      "3\n",
      "4\n",
      "5\n"
     ]
    }
   ],
   "source": [
    "%%time\n",
    "res = bayes.compute_results(test, test_info, data, a=0.7, b=0.15, c=0.15)\n",
    "pkl.dump(res, open(path_to_data + 'test_results.p', 'wb'))"
   ]
  },
  {
   "cell_type": "code",
   "execution_count": null,
   "metadata": {
    "collapsed": false
   },
   "outputs": [],
   "source": [
    "from src.postprocess import write_results_probas\n",
    "\n",
    "path_to_results = 'results/'\n",
    "write_results_probas(res, path_to_results, 'bayesian.txt')"
   ]
  },
  {
   "cell_type": "code",
   "execution_count": null,
   "metadata": {
    "collapsed": false
   },
   "outputs": [],
   "source": [
    "res"
   ]
  },
  {
   "cell_type": "code",
   "execution_count": null,
   "metadata": {
    "collapsed": false
   },
   "outputs": [],
   "source": [
    "count = 0\n",
    "for mid in res:\n",
    "    if sum([x[0] for x in res[mid]]) == 0:\n",
    "        count += 1\n",
    "count, len(res)"
   ]
  },
  {
   "cell_type": "code",
   "execution_count": null,
   "metadata": {
    "collapsed": true
   },
   "outputs": [],
   "source": [
    "pred = {}\n",
    "for mid in res:\n",
    "    pred[mid] = [x[1] for x in res[mid]]\n",
    "    \n",
    "from src.scoring import compute_prediction_mad\n",
    "\n",
    "compute_prediction_mad(compute_results, "
   ]
  },
  {
   "cell_type": "code",
   "execution_count": 29,
   "metadata": {
    "collapsed": false
   },
   "outputs": [
    {
     "data": {
      "text/plain": [
       "[(0.055929022335236868, 'chinn@millercanfield.com'),\n",
       " (0.050892631320865134, 'akurzer@tfsbrokers.com'),\n",
       " (0.029120461437296893, 'daniel.diamond@enron.com'),\n",
       " (0.024789271504881361, 'stephanie.panus@enron.com'),\n",
       " (0.0084473945863536206, 'tana.jones@enron.com'),\n",
       " (0.0014496253103108763, 'brenda.crabtree@sabre.com'),\n",
       " (0.0014090679087738387, 'rick.shoup@enron.com'),\n",
       " (0.0014090679087738387, 'rdezenzo@quallaby.com'),\n",
       " (0.0014090679087738387, 'dan.cummings@enron.com'),\n",
       " (0.0013889479848816382, 'erica.bess@enron.com')]"
      ]
     },
     "execution_count": 29,
     "metadata": {},
     "output_type": "execute_result"
    }
   ],
   "source": [
    "from heapq import heappush, heappop\n",
    "t_ = res['325459']\n",
    "h = []\n",
    "for e in t_:\n",
    "    heappush(h, e)\n",
    "\n",
    "r_ = []\n",
    "while h:\n",
    "    r_ = [heappop(h)] + r_\n",
    "r_"
   ]
  },
  {
   "cell_type": "code",
   "execution_count": null,
   "metadata": {
    "collapsed": false
   },
   "outputs": [],
   "source": [
    "i = 0\n",
    "for p in res:\n",
    "    if i == 5:\n",
    "        print(res[p], p)\n",
    "        break\n",
    "    i += 1\n",
    " \n",
    "c_ = 0\n",
    "for p in res:\n",
    "    if sum([x[0] for x in res[p]]) == 0:\n",
    "        c_ += 1\n",
    "c_, len(res)"
   ]
  },
  {
   "cell_type": "code",
   "execution_count": null,
   "metadata": {
    "collapsed": false,
    "scrolled": true
   },
   "outputs": [],
   "source": [
    "r_s = data['r_s']\n",
    "r_s.keys()\n",
    "n = []\n",
    "for r in r_s:\n",
    "    n.append(len(r_s[r]))\n",
    "print(sorted(n))\n",
    "print(sum(n))"
   ]
  },
  {
   "cell_type": "code",
   "execution_count": null,
   "metadata": {
    "collapsed": false
   },
   "outputs": [],
   "source": [
    "mail_ = list(test_info[test_info['mid'] == 286748].body)[0]"
   ]
  },
  {
   "cell_type": "code",
   "execution_count": null,
   "metadata": {
    "collapsed": false
   },
   "outputs": [],
   "source": [
    "for i in range(len(test)):\n",
    "        sender = test.loc[i, 'sender']\n",
    "        mids = test.loc[i, 'mids'].split()\n",
    "        for mid in mids:\n",
    "            if mid == '286748':\n",
    "                print(sender)\n",
    "                break\n",
    "\n",
    "sender_ = 'sandra.f.brawner@enron.com'\n",
    "recipients_ = data['r_s'][sender_]\n",
    "\n",
    "# check all recipients are matched with sender\n",
    "for r in recipients_:\n",
    "    data['p_r'][r]\n",
    "    data['p_s_r'][r][sender_]\n",
    "    print(len(data['p_w_r'][r].keys()))\n",
    "    break"
   ]
  },
  {
   "cell_type": "code",
   "execution_count": null,
   "metadata": {
    "collapsed": false
   },
   "outputs": [],
   "source": [
    "data['p_r']['tim.belden@enron.com']\n",
    "data['p_s_r']['tim.belden@enron.com'].keys()"
   ]
  },
  {
   "cell_type": "code",
   "execution_count": null,
   "metadata": {
    "collapsed": false
   },
   "outputs": [],
   "source": [
    "for r in recipients_:\n",
    "    print(bayes.predict(r, sender_, mail_, data))\n",
    "    break"
   ]
  },
  {
   "cell_type": "code",
   "execution_count": null,
   "metadata": {
    "collapsed": false
   },
   "outputs": [],
   "source": [
    "np.log(1e-40)"
   ]
  },
  {
   "cell_type": "code",
   "execution_count": null,
   "metadata": {
    "collapsed": false
   },
   "outputs": [],
   "source": [
    "np.union1d(['a', 'b', 'c'], [\"a\", \"d\"])[0]"
   ]
  },
  {
   "cell_type": "code",
   "execution_count": null,
   "metadata": {
    "collapsed": true
   },
   "outputs": [],
   "source": []
  },
  {
   "cell_type": "code",
   "execution_count": null,
   "metadata": {
    "collapsed": false
   },
   "outputs": [],
   "source": [
    "truth = list(training_info[training_info['mid'] == 285336].recipients)[0].split()\n",
    "[e[1] in truth for e in res['285336']] "
   ]
  },
  {
   "cell_type": "code",
   "execution_count": null,
   "metadata": {
    "collapsed": false
   },
   "outputs": [],
   "source": [
    "res = bayes.compute_results(training, training_info)"
   ]
  },
  {
   "cell_type": "code",
   "execution_count": null,
   "metadata": {
    "collapsed": false
   },
   "outputs": [],
   "source": [
    "import pickle as pkl\n",
    "pkl.dump(res, open('res.pkl', 'wb'))"
   ]
  },
  {
   "cell_type": "code",
   "execution_count": null,
   "metadata": {
    "collapsed": true
   },
   "outputs": [],
   "source": [
    "res2 = bayes.compute_results(test, test_info)"
   ]
  },
  {
   "cell_type": "code",
   "execution_count": null,
   "metadata": {
    "collapsed": true
   },
   "outputs": [],
   "source": [
    "import pickle as pkl\n",
    "pkl.dump(res2, open('res2.pkl', 'wb'))"
   ]
  },
  {
   "cell_type": "code",
   "execution_count": null,
   "metadata": {
    "collapsed": false
   },
   "outputs": [],
   "source": [
    "training_info[training_info['mid'] == ].receivers()"
   ]
  },
  {
   "cell_type": "code",
   "execution_count": null,
   "metadata": {
    "collapsed": false
   },
   "outputs": [],
   "source": [
    "bayes.compute_results(training.loc[[0]], training_info, all_recipients, probs)"
   ]
  },
  {
   "cell_type": "code",
   "execution_count": null,
   "metadata": {
    "collapsed": false
   },
   "outputs": [],
   "source": [
    "len(training_info)/len(test_info)"
   ]
  },
  {
   "cell_type": "code",
   "execution_count": null,
   "metadata": {
    "collapsed": false
   },
   "outputs": [],
   "source": [
    "training.loc[[1,2]]"
   ]
  },
  {
   "cell_type": "code",
   "execution_count": null,
   "metadata": {
    "collapsed": false
   },
   "outputs": [],
   "source": [
    "len(training.loc[10, 'mids'].split())"
   ]
  },
  {
   "cell_type": "code",
   "execution_count": null,
   "metadata": {
    "collapsed": false
   },
   "outputs": [],
   "source": [
    "from heapq import heappop, heappush\n",
    "h=[]\n",
    "heappush(h, 2)\n",
    "heappush(h, 3)\n",
    "heappop(h)\n",
    "h"
   ]
  },
  {
   "cell_type": "code",
   "execution_count": null,
   "metadata": {
    "collapsed": false
   },
   "outputs": [],
   "source": [
    "for a,b in res.items():\n",
    "    print(a,b)"
   ]
  },
  {
   "cell_type": "code",
   "execution_count": null,
   "metadata": {
    "collapsed": true
   },
   "outputs": [],
   "source": [
    "\n",
    "res2 = bayes.compute_results(test, test_info, all_recipients, data)\n",
    "pkl.dump(res2, open('res2.pkl', 'wb'))\n",
    "\n",
    "#training_info[training_info['mid'] == ].receivers()\n",
    "\n",
    "#mail_probable = list(training_info[training_info['mid'] == 158713].body)[0]\n",
    "#mail_unprobable = list(training_info[training_info['mid'] == 60].body)[0]\n",
    "#print(bayes.predict('karen.buckley@enron.com', 'jason.wolfe@enron.com', mail_probable, probs))\n",
    "#print(bayes.predict('karen.buckley@enron.com', 'jason.wolfe@enron.com', mail_unprobable, probs))"
   ]
  },
  {
   "cell_type": "code",
   "execution_count": null,
   "metadata": {
    "collapsed": false
   },
   "outputs": [],
   "source": [
    "if 0.0000:\n",
    "    print('a')"
   ]
  },
  {
   "cell_type": "code",
   "execution_count": null,
   "metadata": {
    "collapsed": false
   },
   "outputs": [],
   "source": [
    "1/3 * 2.1"
   ]
  },
  {
   "cell_type": "code",
   "execution_count": null,
   "metadata": {
    "collapsed": false
   },
   "outputs": [],
   "source": [
    "np.power(2, 3)"
   ]
  },
  {
   "cell_type": "code",
   "execution_count": 2,
   "metadata": {
    "collapsed": false
   },
   "outputs": [
    {
     "name": "stdout",
     "output_type": "stream",
     "text": [
      "2\n",
      "3\n",
      "4\n"
     ]
    }
   ],
   "source": [
    "from heapq import heappush, heappop\n",
    "\n",
    "h  =[]\n",
    "heappush(h, 2)\n",
    "heappush(h, 4)\n",
    "heappush(h, 3)\n",
    "\n",
    "while h:\n",
    "    print(heappop(h))\n"
   ]
  },
  {
   "cell_type": "code",
   "execution_count": 4,
   "metadata": {
    "collapsed": false
   },
   "outputs": [
    {
     "data": {
      "text/plain": [
       "4.3267487109222245"
      ]
     },
     "execution_count": 4,
     "metadata": {},
     "output_type": "execute_result"
    }
   ],
   "source": [
    "pow(3, 4/3)"
   ]
  },
  {
   "cell_type": "code",
   "execution_count": null,
   "metadata": {
    "collapsed": true
   },
   "outputs": [],
   "source": []
  }
 ],
 "metadata": {
  "anaconda-cloud": {},
  "kernelspec": {
   "display_name": "Python [Root]",
   "language": "python",
   "name": "Python [Root]"
  },
  "language_info": {
   "codemirror_mode": {
    "name": "ipython",
    "version": 3
   },
   "file_extension": ".py",
   "mimetype": "text/x-python",
   "name": "python",
   "nbconvert_exporter": "python",
   "pygments_lexer": "ipython3",
   "version": "3.5.2"
  }
 },
 "nbformat": 4,
 "nbformat_minor": 0
}
