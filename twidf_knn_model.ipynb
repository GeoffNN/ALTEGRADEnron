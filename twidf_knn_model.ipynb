{
 "cells": [
  {
   "cell_type": "code",
   "execution_count": 1,
   "metadata": {
    "collapsed": false
   },
   "outputs": [],
   "source": [
    "from collections import defaultdict\n",
    "import itertools\n",
    "from matplotlib import pyplot as plt\n",
    "import math\n",
    "import numpy as np\n",
    "import operator\n",
    "import pandas as pd\n",
    "import pickle\n",
    "import random\n",
    "import re\n",
    "import scipy\n",
    "import string\n",
    "from tqdm import tqdm_notebook\n",
    "\n",
    "\n",
    "import src.knntools as knntools\n",
    "import src.postprocess as postprocess\n",
    "import src.preprocess as preprocess\n",
    "import src.tfidftools as tfidftools\n",
    "import src.tools as tools\n",
    "import src.recencytools as recency\n",
    "import src.scoring as scoring\n",
    "import src.textembeddingtools as texttools\n",
    "import src.graphwordstools as graphtools\n",
    "\n",
    "%load_ext autoreload\n",
    "%autoreload 2\n",
    "%matplotlib inline"
   ]
  },
  {
   "cell_type": "code",
   "execution_count": 2,
   "metadata": {
    "collapsed": false
   },
   "outputs": [],
   "source": [
    "path_to_data = 'data/'\n",
    "\n",
    "training = pd.read_csv(path_to_data + 'training_set.csv', sep=',', header=0)\n",
    "\n",
    "training_info = pd.read_csv(\n",
    "    path_to_data + 'training_info.csv', sep=',', parse_dates=True, header=0)\n",
    "\n",
    "test = pd.read_csv(path_to_data + 'test_set.csv', sep=',', header=0)\n",
    "\n",
    "test_info = pd.read_csv(path_to_data + 'test_info.csv',\n",
    "                        sep=',', parse_dates=True, header=0)\n",
    "path_to_results = 'results/'"
   ]
  },
  {
   "cell_type": "code",
   "execution_count": 3,
   "metadata": {
    "collapsed": false
   },
   "outputs": [
    {
     "name": "stdout",
     "output_type": "stream",
     "text": [
      "\n",
      "\n"
     ]
    }
   ],
   "source": [
    "training_body_dict = preprocess.body_dict_from_panda(training_info)\n",
    "test_body_dict = preprocess.body_dict_from_panda(test_info)"
   ]
  },
  {
   "cell_type": "code",
   "execution_count": 5,
   "metadata": {
    "collapsed": false
   },
   "outputs": [
    {
     "name": "stdout",
     "output_type": "stream",
     "text": [
      "\n",
      "\n"
     ]
    }
   ],
   "source": [
    "training_email_ids_per_sender = preprocess.get_email_ids_per_sender(training)\n",
    "test_email_ids_per_sender = preprocess.get_email_ids_per_sender(test)"
   ]
  },
  {
   "cell_type": "code",
   "execution_count": 6,
   "metadata": {
    "collapsed": false
   },
   "outputs": [
    {
     "name": "stdout",
     "output_type": "stream",
     "text": [
      "\n",
      "\n"
     ]
    }
   ],
   "source": [
    "training_token_dict = texttools.get_token_dict(training_body_dict)\n",
    "test_token_dict = texttools.get_token_dict(test_body_dict)"
   ]
  },
  {
   "cell_type": "markdown",
   "metadata": {},
   "source": [
    "## Compute average length of doc in tokens"
   ]
  },
  {
   "cell_type": "code",
   "execution_count": 7,
   "metadata": {
    "collapsed": true
   },
   "outputs": [],
   "source": [
    "training_doc_lengths_dic, training_average_doc_len = texttools.get_doc_length_info(training_token_dict)"
   ]
  },
  {
   "cell_type": "code",
   "execution_count": 8,
   "metadata": {
    "collapsed": false
   },
   "outputs": [
    {
     "name": "stdout",
     "output_type": "stream",
     "text": [
      "\n"
     ]
    }
   ],
   "source": [
    "training_idf_dic, training_idf_words = tfidftools.get_idf_dic(training_token_dict)"
   ]
  },
  {
   "cell_type": "code",
   "execution_count": 9,
   "metadata": {
    "collapsed": false
   },
   "outputs": [
    {
     "name": "stdout",
     "output_type": "stream",
     "text": [
      "7702\n"
     ]
    }
   ],
   "source": [
    "print(len(training_idf_dic))"
   ]
  },
  {
   "cell_type": "code",
   "execution_count": 13,
   "metadata": {
    "collapsed": false
   },
   "outputs": [
    {
     "name": "stdout",
     "output_type": "stream",
     "text": [
      "\n",
      "\n"
     ]
    }
   ],
   "source": [
    "# %%time\n",
    "twidf_matrix, twidf_mids = graphtools.get_twidf_matrix(training_token_dict, training_doc_lengths_dic,\n",
    "                                                        training_average_doc_len, training_idf_dic,\n",
    "                                                        training_idf_words, 0.003)\n",
    "\n",
    "\n",
    "# with open('variables/twidf_matrix', 'wb') as outfile:\n",
    "#     pickle.dump(scipy.sparse.csr_matrix(twidf_matrix), outfile)\n",
    "    \n",
    "# with open('variables/twidf_mids', 'wb') as outfile:\n",
    "#     pickle.dump(twidf_mids, outfile)"
   ]
  },
  {
   "cell_type": "code",
   "execution_count": 14,
   "metadata": {
    "collapsed": false
   },
   "outputs": [
    {
     "name": "stdout",
     "output_type": "stream",
     "text": [
      "\n"
     ]
    }
   ],
   "source": [
    "test_vectors = graphtools.get_twidf_vectors_from_tokens(training_idf_dic, training_idf_words,\n",
    "                                                       test_token_dict, training_average_doc_len)"
   ]
  },
  {
   "cell_type": "code",
   "execution_count": 15,
   "metadata": {
    "collapsed": false
   },
   "outputs": [
    {
     "name": "stdout",
     "output_type": "stream",
     "text": [
      "2306/|/ 98%|| 2306/2362 [02:44<00:03, 14.01it/s]\n"
     ]
    }
   ],
   "source": [
    "test_recipient_scores = knntools.compute_twidf_similarity_scores(twidf_matrix, twidf_mids,\n",
    "                                                                 test_vectors, training_info,\n",
    "                                                                 nb_similars=50)"
   ]
  },
  {
   "cell_type": "code",
   "execution_count": 16,
   "metadata": {
    "collapsed": true
   },
   "outputs": [],
   "source": [
    "twidf_predictions = knntools.similar_dic_to_standard(test_recipient_scores, nb_recipients=100)"
   ]
  },
  {
   "cell_type": "code",
   "execution_count": 17,
   "metadata": {
    "collapsed": true
   },
   "outputs": [],
   "source": [
    "path_to_ranks = 'ranks_test/twidf-knn-k-{nb_neighbors}-rec'.format(nb_neighbors=50)\n",
    "with open(path_to_ranks, 'wb') as infile:\n",
    "              pickle.dump(twidf_predictions, infile)"
   ]
  },
  {
   "cell_type": "code",
   "execution_count": 21,
   "metadata": {
    "collapsed": false
   },
   "outputs": [],
   "source": [
    "postprocess.write_results_ranked(twidf_predictions, path_to_results, 'twidf-knn-50.txt')"
   ]
  },
  {
   "cell_type": "code",
   "execution_count": null,
   "metadata": {
    "collapsed": true
   },
   "outputs": [],
   "source": []
  }
 ],
 "metadata": {
  "kernelspec": {
   "display_name": "Python 3",
   "language": "python",
   "name": "python3"
  },
  "language_info": {
   "codemirror_mode": {
    "name": "ipython",
    "version": 3
   },
   "file_extension": ".py",
   "mimetype": "text/x-python",
   "name": "python",
   "nbconvert_exporter": "python",
   "pygments_lexer": "ipython3",
   "version": "3.4.3"
  },
  "widgets": {
   "state": {
    "02edefbebabf4ed5adf282010bd77745": {
     "views": [
      {
       "cell_index": 4
      }
     ]
    },
    "20ef5cdc65b1437a8e93d71ae9334cae": {
     "views": [
      {
       "cell_index": 2
      }
     ]
    },
    "2d0d2348b78b413ab51223aaf86a895e": {
     "views": [
      {
       "cell_index": 2
      }
     ]
    },
    "4ab2165bd86441e9b29c51db5e06a514": {
     "views": [
      {
       "cell_index": 9
      }
     ]
    },
    "58c43bbdb7bd46708d8c0d0552845a2a": {
     "views": [
      {
       "cell_index": 10
      }
     ]
    },
    "72e395e760fd4cdaada1d1a3c33422a8": {
     "views": [
      {
       "cell_index": 4
      }
     ]
    },
    "7d615cee3cef4a78b22313dcd2d67ea0": {
     "views": [
      {
       "cell_index": 7
      }
     ]
    },
    "8b5124cc8bae4b18899bda0f009685c9": {
     "views": [
      {
       "cell_index": 11
      }
     ]
    },
    "b306c14f20ed4e4194737a2aa51cce71": {
     "views": [
      {
       "cell_index": 3
      }
     ]
    },
    "e2990bebe6e7477bb161027c9c74a44a": {
     "views": [
      {
       "cell_index": 9
      }
     ]
    },
    "f36293850581493aa858e5e872aa0fe4": {
     "views": [
      {
       "cell_index": 3
      }
     ]
    }
   },
   "version": "1.2.0"
  }
 },
 "nbformat": 4,
 "nbformat_minor": 2
}
