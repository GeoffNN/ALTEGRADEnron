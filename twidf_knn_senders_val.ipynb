{
 "cells": [
  {
   "cell_type": "code",
   "execution_count": 1,
   "metadata": {
    "collapsed": false
   },
   "outputs": [],
   "source": [
    "from collections import defaultdict\n",
    "import itertools\n",
    "from matplotlib import pyplot as plt\n",
    "import math\n",
    "import numpy as np\n",
    "import operator\n",
    "import pandas as pd\n",
    "import pickle\n",
    "import random\n",
    "import re\n",
    "import scipy\n",
    "import string\n",
    "from tqdm import tqdm_notebook\n",
    "\n",
    "\n",
    "import src.knntools as knntools\n",
    "import src.postprocess as postprocess\n",
    "import src.preprocess as preprocess\n",
    "import src.tfidftools as tfidftools\n",
    "import src.tools as tools\n",
    "import src.recencytools as recency\n",
    "import src.scoring as scoring\n",
    "import src.textembeddingtools as texttools\n",
    "import src.graphwordstools as graphtools\n",
    "\n",
    "%load_ext autoreload\n",
    "%autoreload 2\n",
    "%matplotlib inline"
   ]
  },
  {
   "cell_type": "code",
   "execution_count": 2,
   "metadata": {
    "collapsed": false
   },
   "outputs": [],
   "source": [
    "path_to_data = 'data/'\n",
    "\n",
    "training = pd.read_csv(path_to_data + 'training_set.csv', sep=',', header=0)\n",
    "\n",
    "training_info = pd.read_csv(\n",
    "    path_to_data + 'training_info.csv', sep=',', parse_dates=True, header=0)\n",
    "\n",
    "test = pd.read_csv(path_to_data + 'test_set.csv', sep=',', header=0)\n",
    "\n",
    "test_info = pd.read_csv(path_to_data + 'test_info.csv',\n",
    "                        sep=',', parse_dates=True, header=0)\n",
    "path_to_results = 'results/'"
   ]
  },
  {
   "cell_type": "code",
   "execution_count": 3,
   "metadata": {
    "collapsed": false
   },
   "outputs": [
    {
     "name": "stdout",
     "output_type": "stream",
     "text": [
      "Processing training !\n",
      "\n",
      "Processing val !\n",
      "\n"
     ]
    }
   ],
   "source": [
    "train_info, train_email_ids_per_sender, val_info, val_email_ids_per_sender = scoring.get_train_val(training, training_info, train_frac=0.95)"
   ]
  },
  {
   "cell_type": "code",
   "execution_count": 4,
   "metadata": {
    "collapsed": false
   },
   "outputs": [
    {
     "name": "stdout",
     "output_type": "stream",
     "text": [
      "\n",
      "\n"
     ]
    }
   ],
   "source": [
    "train_body_dict = preprocess.body_dict_from_panda(train_info)\n",
    "val_body_dict = preprocess.body_dict_from_panda(val_info)"
   ]
  },
  {
   "cell_type": "code",
   "execution_count": null,
   "metadata": {
    "collapsed": true
   },
   "outputs": [],
   "source": [
    "for mid, body in train_body_dict.item():\n",
    "    # retreive emails in body\n",
    "    From: Mark.Taylor@enron.com\n",
    "    "
   ]
  },
  {
   "cell_type": "code",
   "execution_count": 5,
   "metadata": {
    "collapsed": false
   },
   "outputs": [
    {
     "name": "stdout",
     "output_type": "stream",
     "text": [
      "\n",
      "\n"
     ]
    }
   ],
   "source": [
    "train_token_dict = texttools.get_token_dict(train_body_dict)\n",
    "val_token_dict = texttools.get_token_dict(val_body_dict)"
   ]
  },
  {
   "cell_type": "markdown",
   "metadata": {},
   "source": [
    "## Compute average length of doc in tokens"
   ]
  },
  {
   "cell_type": "code",
   "execution_count": 10,
   "metadata": {
    "collapsed": false
   },
   "outputs": [
    {
     "name": "stdout",
     "output_type": "stream",
     "text": [
      "\n",
      "\n"
     ]
    }
   ],
   "source": [
    "senders_mean_lengths = {}\n",
    "senders_idf_dics = {}\n",
    "senders_idf_words = {}\n",
    "senders_twidf_matrixs = {}\n",
    "senders_twidf_mids = {}\n",
    "\n",
    "pbar_senders = tqdm_notebook(train_email_ids_per_sender.items())\n",
    "for sender, sender_mids in pbar_senders:\n",
    "    sender_token_dict = {mid:body for mid, body in train_token_dict.items() if int(mid) in sender_mids}\n",
    "    # Compute info about tokens\n",
    "    sender_doc_lengths_dic, sender_average_doc_len = texttools.get_doc_length_info(sender_token_dict)\n",
    "    senders_mean_lengths[sender] = sender_average_doc_len\n",
    "    # Get idf info\n",
    "    sender_idf_dic, sender_idf_words = tfidftools.get_idf_dic(train_token_dict)\n",
    "    senders_idf_dics[sender] = sender_idf_dic\n",
    "    senders_idf_words[sender] = sender_idf_words\n",
    "    # Get tw info\n",
    "    sender_twidf_matrix, sender_twidf_mids = graphtools.get_twidf_matrix(sender_token_dict, sender_doc_lengths_dic,\n",
    "                                                                         sender_average_doc_len, sender_idf_dic,\n",
    "                                                                         sender_idf_words, 0.003)\n",
    "    senders_twidf_mids[sender] = sender_twidf_mids\n",
    "    senders_twidf_matrixs[sender] = sender_twidf_matrix\n",
    "    "
   ]
  },
  {
   "cell_type": "code",
   "execution_count": 12,
   "metadata": {
    "collapsed": false
   },
   "outputs": [
    {
     "name": "stdout",
     "output_type": "stream",
     "text": [
      "\n",
      "\n"
     ]
    }
   ],
   "source": [
    "nb_close=50\n",
    "mid_recipient_scores = {}\n",
    "\n",
    "pbar_senders = tqdm_notebook(val_email_ids_per_sender.items())\n",
    "for sender, sender_val_mids in pbar_senders:\n",
    "    # Retrieve sender info\n",
    "    sender_average_doc_len = senders_mean_lengths[sender]\n",
    "    sender_idf_dic = senders_idf_dics[sender]\n",
    "    sender_idf_words = senders_idf_words[sender]\n",
    "    sender_twidf_mids = senders_twidf_mids[sender]\n",
    "    sender_twidf_matrix = senders_twidf_matrixs[sender]\n",
    "    for mid in sender_val_mids:\n",
    "        email_tokens = val_token_dict[mid]\n",
    "        query_vector = graphtools.get_twidf_vector_from_tokens(sender_idf_dic, sender_idf_words,\n",
    "                                                              email_tokens, sender_average_doc_len)\n",
    "        similars = knntools.find_similar(query_vector, sender_twidf_matrix,\n",
    "                                                                nb_similars=nb_close)\n",
    "        # Get mid in training set corresponding to best matches   \n",
    "        best_match_mid = [sender_twidf_mids[similar_item[0]] for similar_item in similars]\n",
    "        \n",
    "        # Get corresponding similarity scores\n",
    "        best_match_scores = [similar_item[1] for similar_item in similars]\n",
    "        test_mail_scores = defaultdict(lambda: 0)\n",
    "        for train_mid, train_score in zip(best_match_mid, best_match_scores):\n",
    "            recipients = preprocess.get_recipients(training_info, train_mid)\n",
    "            for recipient in recipients:\n",
    "                test_mail_scores[recipient] += train_score\n",
    "        mid_recipient_scores[mid] = test_mail_scores\n"
   ]
  },
  {
   "cell_type": "code",
   "execution_count": 13,
   "metadata": {
    "collapsed": false
   },
   "outputs": [],
   "source": [
    "twidf_predictions = knntools.similar_dic_to_standard(mid_recipient_scores, nb_recipients=100)\n",
    "current_score = scoring.compute_prediction_mad(twidf_predictions, val_info)"
   ]
  },
  {
   "cell_type": "code",
   "execution_count": 14,
   "metadata": {
    "collapsed": false
   },
   "outputs": [
    {
     "name": "stdout",
     "output_type": "stream",
     "text": [
      "0.290101495121\n"
     ]
    }
   ],
   "source": [
    "print(current_score)"
   ]
  },
  {
   "cell_type": "code",
   "execution_count": 15,
   "metadata": {
    "collapsed": true
   },
   "outputs": [],
   "source": [
    "path_to_ranks = 'ranks_val/twidf-knn-k-senders-{nb_neighbors}-rec'.format(nb_neighbors=nb_close)\n",
    "with open(path_to_ranks, 'wb') as infile:\n",
    "              pickle.dump(twidf_predictions, infile)"
   ]
  },
  {
   "cell_type": "code",
   "execution_count": null,
   "metadata": {
    "collapsed": true
   },
   "outputs": [],
   "source": []
  }
 ],
 "metadata": {
  "kernelspec": {
   "display_name": "Python 3",
   "language": "python",
   "name": "python3"
  },
  "language_info": {
   "codemirror_mode": {
    "name": "ipython",
    "version": 3
   },
   "file_extension": ".py",
   "mimetype": "text/x-python",
   "name": "python",
   "nbconvert_exporter": "python",
   "pygments_lexer": "ipython3",
   "version": "3.4.3"
  },
  "widgets": {
   "state": {
    "0014c825b22d453387c4b4f722a79e73": {
     "views": [
      {
       "cell_index": 6
      }
     ]
    },
    "012d3088aab347e3abb156094e8b657f": {
     "views": [
      {
       "cell_index": 7
      }
     ]
    },
    "0165ffcfbc1943c5b4ed07b7799f7668": {
     "views": [
      {
       "cell_index": 7
      }
     ]
    },
    "021c6d91ed004540acd2daf38f350014": {
     "views": [
      {
       "cell_index": 7
      }
     ]
    },
    "035294862aab456198e705ecc8bc8455": {
     "views": [
      {
       "cell_index": 7
      }
     ]
    },
    "041b997248a44fe9831d7a64efe169f7": {
     "views": [
      {
       "cell_index": 7
      }
     ]
    },
    "04b248f1c4e04b2faebed3911751fc5e": {
     "views": [
      {
       "cell_index": 6
      }
     ]
    },
    "0566f8f1d1fa49e1979322531013ed2d": {
     "views": [
      {
       "cell_index": 7
      }
     ]
    },
    "06118e510b2b40e281ef9c62f7e35259": {
     "views": [
      {
       "cell_index": 7
      }
     ]
    },
    "076a7472f7c548cf8ffd4eb4636c1b56": {
     "views": [
      {
       "cell_index": 7
      }
     ]
    },
    "08054f77c0244c1b8aeef2c43e743b47": {
     "views": [
      {
       "cell_index": 7
      }
     ]
    },
    "08144eea1324431a969af9dbbe190945": {
     "views": [
      {
       "cell_index": 7
      }
     ]
    },
    "0875e7c62a954eca891a1bdf3306a8ae": {
     "views": [
      {
       "cell_index": 7
      }
     ]
    },
    "08a9913f59c24251b093f2950361d36c": {
     "views": [
      {
       "cell_index": 7
      }
     ]
    },
    "08bae614aa074428af3b891a84c8f889": {
     "views": [
      {
       "cell_index": 7
      }
     ]
    },
    "0a5df763d8c447a4bc63509c6d3eb73a": {
     "views": [
      {
       "cell_index": 7
      }
     ]
    },
    "0a7019cba8da4648973c27b6c075f481": {
     "views": [
      {
       "cell_index": 7
      }
     ]
    },
    "0b06a12a68d24cc3876a362a92ea666e": {
     "views": [
      {
       "cell_index": 7
      }
     ]
    },
    "0bd5b48d44284488bc3586c27c720e03": {
     "views": [
      {
       "cell_index": 7
      }
     ]
    },
    "0c97acb3b4ff4e6cb12316d785951951": {
     "views": [
      {
       "cell_index": 6
      }
     ]
    },
    "0d76fbb6869a4b758543f85d11480d6a": {
     "views": [
      {
       "cell_index": 6
      }
     ]
    },
    "0d7840e0d4154525b76559c3f4386a75": {
     "views": [
      {
       "cell_index": 7
      }
     ]
    },
    "0d84a26184e54c618e60319d6c2f33b8": {
     "views": [
      {
       "cell_index": 7
      }
     ]
    },
    "0dbd9d48f497482983b879c03eb43631": {
     "views": [
      {
       "cell_index": 7
      }
     ]
    },
    "0f192ecfd2c3477cae78226ddf17e238": {
     "views": [
      {
       "cell_index": 7
      }
     ]
    },
    "0f6c8cce7f28468db7fca94ed663255f": {
     "views": [
      {
       "cell_index": 7
      }
     ]
    },
    "10902dd497f5409b81e97b73a4867211": {
     "views": [
      {
       "cell_index": 6
      }
     ]
    },
    "114759979ad94db596de6c61ff1a643c": {
     "views": [
      {
       "cell_index": 6
      }
     ]
    },
    "12712b44fcab405cbd470c06ad8629b0": {
     "views": [
      {
       "cell_index": 7
      }
     ]
    },
    "128ab1e6fe5446eba557379ad3be5666": {
     "views": [
      {
       "cell_index": 7
      }
     ]
    },
    "131823dbcfa54641a48c2c40113b32de": {
     "views": [
      {
       "cell_index": 7
      }
     ]
    },
    "1341d1b5eb0245c783c725762d2e41ef": {
     "views": [
      {
       "cell_index": 7
      }
     ]
    },
    "14194429520b4117a5f0a1934e42b24f": {
     "views": [
      {
       "cell_index": 7
      }
     ]
    },
    "1500ff28d7c748d8b94c5901b146362a": {
     "views": [
      {
       "cell_index": 6
      }
     ]
    },
    "1593b3ff46fc46688c5f891a9f738aa1": {
     "views": [
      {
       "cell_index": 7
      }
     ]
    },
    "170a9789594a45709de49e3f1e99b90a": {
     "views": [
      {
       "cell_index": 6
      }
     ]
    },
    "17acf1e23a584cb3a24a0918fb342355": {
     "views": [
      {
       "cell_index": 7
      }
     ]
    },
    "198d37b7068447969fda7d1565a50296": {
     "views": [
      {
       "cell_index": 7
      }
     ]
    },
    "19f8002e181b42faa80f48cff0d50ca1": {
     "views": [
      {
       "cell_index": 6
      }
     ]
    },
    "1a734b25ff344364bb2702d048db2a1a": {
     "views": [
      {
       "cell_index": 6
      }
     ]
    },
    "1bab34fd2c4840e186aa718eedaedcb6": {
     "views": [
      {
       "cell_index": 7
      }
     ]
    },
    "1c5e388cafac4807a68bcd08d36cd233": {
     "views": [
      {
       "cell_index": 7
      }
     ]
    },
    "1c73e09f0154411dbb7bf38523bb6a72": {
     "views": [
      {
       "cell_index": 7
      }
     ]
    },
    "1dd712db362042399d7763a52970f98e": {
     "views": [
      {
       "cell_index": 7
      }
     ]
    },
    "1e23f231157e46a4bda7146ee0648a8b": {
     "views": [
      {
       "cell_index": 7
      }
     ]
    },
    "1e4ae686d7294e6c80b1ab9e390728b6": {
     "views": [
      {
       "cell_index": 7
      }
     ]
    },
    "1ee4411e4c374052a9a114d04d9489a1": {
     "views": [
      {
       "cell_index": 7
      }
     ]
    },
    "2153c4e64ebe4884af74dd01d99d22d4": {
     "views": [
      {
       "cell_index": 7
      }
     ]
    },
    "21b856b716e34e00b7f3c4ded7088b4d": {
     "views": [
      {
       "cell_index": 7
      }
     ]
    },
    "224e9db1e93a4ab0a500783e05009eb0": {
     "views": [
      {
       "cell_index": 7
      }
     ]
    },
    "2278631266e340bd94000f0c3d84e3e6": {
     "views": [
      {
       "cell_index": 6
      }
     ]
    },
    "23044db055d849f28d2deff73a30040d": {
     "views": [
      {
       "cell_index": 7
      }
     ]
    },
    "236fbfcb256048fd9405cc4b06bc4b0c": {
     "views": [
      {
       "cell_index": 6
      }
     ]
    },
    "249124f30b604ab0bb84303cb2f347a0": {
     "views": [
      {
       "cell_index": 7
      }
     ]
    },
    "25f1df23ab18474593af6c61707310d0": {
     "views": [
      {
       "cell_index": 7
      }
     ]
    },
    "26158710054c4cec88d7951396228de0": {
     "views": [
      {
       "cell_index": 7
      }
     ]
    },
    "2689231b51b54a1ea491c85c5c6bb5a7": {
     "views": [
      {
       "cell_index": 7
      }
     ]
    },
    "27ce7b1e22d04a529a377146c7ac2adb": {
     "views": [
      {
       "cell_index": 7
      }
     ]
    },
    "282fe7fb1c804e789c693672be5e67ee": {
     "views": [
      {
       "cell_index": 6
      }
     ]
    },
    "28b2823ab69947a5b8724071809b017f": {
     "views": [
      {
       "cell_index": 7
      }
     ]
    },
    "2981ea099ee54393a26d0b6a48f0919e": {
     "views": [
      {
       "cell_index": 7
      }
     ]
    },
    "2b9db6d6c8604b2a8de2c609af7f3dd5": {
     "views": [
      {
       "cell_index": 7
      }
     ]
    },
    "2bc0253476124e2188766bd726c8b908": {
     "views": [
      {
       "cell_index": 6
      }
     ]
    },
    "2bff6ffa3cb04c1aa864e760a8107a81": {
     "views": [
      {
       "cell_index": 7
      }
     ]
    },
    "2c24309318114c0cb483d3fe28d0c779": {
     "views": [
      {
       "cell_index": 7
      }
     ]
    },
    "2c602800b8ee4c2cbfbabf5145bde9f7": {
     "views": [
      {
       "cell_index": 2
      }
     ]
    },
    "2c6e6d3a8f20432c82494409d3c89e28": {
     "views": [
      {
       "cell_index": 7
      }
     ]
    },
    "2cb95a7a8680499c872f3bd962a1fad6": {
     "views": [
      {
       "cell_index": 7
      }
     ]
    },
    "2d117756bef041b3b6d5d38b175b305a": {
     "views": [
      {
       "cell_index": 6
      }
     ]
    },
    "2e8850cd120548738a6eaec54fcb51fd": {
     "views": [
      {
       "cell_index": 7
      }
     ]
    },
    "2ecb8348407c4eda88415527b2d4f874": {
     "views": [
      {
       "cell_index": 6
      }
     ]
    },
    "2f43b30ef7614fcb91235f0b06bb0486": {
     "views": [
      {
       "cell_index": 7
      }
     ]
    },
    "2f838d15d5a94d7c81a91b5104b22108": {
     "views": [
      {
       "cell_index": 7
      }
     ]
    },
    "2ff643c66a914acc90d9b3c6d9d7be3b": {
     "views": [
      {
       "cell_index": 7
      }
     ]
    },
    "305b6b267bf34974a9433cc5f541a282": {
     "views": [
      {
       "cell_index": 7
      }
     ]
    },
    "3062bb64238a49869815659bf874e82a": {
     "views": [
      {
       "cell_index": 7
      }
     ]
    },
    "315404abd59b450abecdaa29dc4a2c1e": {
     "views": [
      {
       "cell_index": 7
      }
     ]
    },
    "31cfa8a4c74e42f4a8bc54133f47edbc": {
     "views": [
      {
       "cell_index": 6
      }
     ]
    },
    "3387d52725e0459c888bff55495436bf": {
     "views": [
      {
       "cell_index": 7
      }
     ]
    },
    "34218cc3c36046c59083ac5ec05e6d5a": {
     "views": [
      {
       "cell_index": 6
      }
     ]
    },
    "345b340844844fbfaf715eb57e72e76a": {
     "views": [
      {
       "cell_index": 7
      }
     ]
    },
    "34957145ebb34d8e9c94192add2ab32e": {
     "views": [
      {
       "cell_index": 6
      }
     ]
    },
    "34cc021293234eed9826507ac8f8e7b2": {
     "views": [
      {
       "cell_index": 6
      }
     ]
    },
    "362e9a4b06144878b81c307cf6d70364": {
     "views": [
      {
       "cell_index": 7
      }
     ]
    },
    "375802527ed241248d3b62b33e3ac040": {
     "views": [
      {
       "cell_index": 7
      }
     ]
    },
    "3797f23d2dba4302aee93e5f3fa2e78f": {
     "views": [
      {
       "cell_index": 7
      }
     ]
    },
    "37aafcec316640f1b1ef2f19b35cb264": {
     "views": [
      {
       "cell_index": 7
      }
     ]
    },
    "37af5f2136f24d8b9f7896de9739a165": {
     "views": [
      {
       "cell_index": 7
      }
     ]
    },
    "38357603ba1a4f1b9862dc2251145245": {
     "views": [
      {
       "cell_index": 7
      }
     ]
    },
    "383a0ef591314808aed1fc331d56fc62": {
     "views": [
      {
       "cell_index": 7
      }
     ]
    },
    "3937e9624eb34d28b577d75720c7950b": {
     "views": [
      {
       "cell_index": 7
      }
     ]
    },
    "39535715fe1349939a4b29717c6082ba": {
     "views": [
      {
       "cell_index": 7
      }
     ]
    },
    "398aec7d27764c9b876d7ffb24ed4926": {
     "views": [
      {
       "cell_index": 7
      }
     ]
    },
    "39b04be6bc454be89a75d07c9bd9177c": {
     "views": [
      {
       "cell_index": 7
      }
     ]
    },
    "3a77c39d1cc54b299e76b79c0b4a3705": {
     "views": [
      {
       "cell_index": 7
      }
     ]
    },
    "3b09de448d774cf4a4bc1a84d8cd0bd9": {
     "views": [
      {
       "cell_index": 6
      }
     ]
    },
    "3b65736d34fa4ac09fe0b65e845b8165": {
     "views": [
      {
       "cell_index": 7
      }
     ]
    },
    "3b95bea2f05344aebfd8188f4e343107": {
     "views": [
      {
       "cell_index": 7
      }
     ]
    },
    "3c81567721764937869c8ac2829098a2": {
     "views": [
      {
       "cell_index": 7
      }
     ]
    },
    "3cfd2f48823a49cba5afb126f93c1230": {
     "views": [
      {
       "cell_index": 3
      }
     ]
    },
    "3e1d1a3ff9c14d8aa62bb08c463919fb": {
     "views": [
      {
       "cell_index": 7
      }
     ]
    },
    "3e483c62c5674e3187808b8ae6b36674": {
     "views": [
      {
       "cell_index": 7
      }
     ]
    },
    "3ea5956bd47a454397b7360e4fb796d3": {
     "views": [
      {
       "cell_index": 7
      }
     ]
    },
    "3ea826de68874308987b16ce9970e787": {
     "views": [
      {
       "cell_index": 7
      }
     ]
    },
    "3ebbd85d1bba4b75a9d4d96caf6b70c6": {
     "views": [
      {
       "cell_index": 7
      }
     ]
    },
    "408eb1d311814f9197f0eae69501503c": {
     "views": [
      {
       "cell_index": 7
      }
     ]
    },
    "409f72ba446b4e81b456cfe7baa4119f": {
     "views": [
      {
       "cell_index": 7
      }
     ]
    },
    "40cf787e72bf4f1596015da87ef711ac": {
     "views": [
      {
       "cell_index": 7
      }
     ]
    },
    "40d9df00b86b4722a76ddb7ed556380d": {
     "views": [
      {
       "cell_index": 7
      }
     ]
    },
    "40f0067c083540f8a73d5b12b1f1325a": {
     "views": [
      {
       "cell_index": 7
      }
     ]
    },
    "422c22517d0745308cc4f64e46fe8cd3": {
     "views": [
      {
       "cell_index": 7
      }
     ]
    },
    "42b45383365847d894a6a8faf547b099": {
     "views": [
      {
       "cell_index": 7
      }
     ]
    },
    "42f4d6becb3e4da893b867741ea8f49f": {
     "views": [
      {
       "cell_index": 7
      }
     ]
    },
    "4378a0b89cff4a2c9a9d8925ec049412": {
     "views": [
      {
       "cell_index": 7
      }
     ]
    },
    "438d584f2aec4cd294007e7840541cf5": {
     "views": [
      {
       "cell_index": 6
      }
     ]
    },
    "43e1539912d749829f0736b3e6d3969a": {
     "views": [
      {
       "cell_index": 6
      }
     ]
    },
    "449af5e118a6481b8857c8f98befe4c9": {
     "views": [
      {
       "cell_index": 7
      }
     ]
    },
    "44ddefc83f1f4687b5e19fdbc9b6dced": {
     "views": [
      {
       "cell_index": 7
      }
     ]
    },
    "4557b06d5cf0412499bb18b846d4e5c2": {
     "views": [
      {
       "cell_index": 7
      }
     ]
    },
    "45a222aaf4134f3597ad1a27cc268faa": {
     "views": [
      {
       "cell_index": 7
      }
     ]
    },
    "477781df2cbb4f8d91ca11b7acefd733": {
     "views": [
      {
       "cell_index": 6
      }
     ]
    },
    "47bd6879e018456f8bcccebf53e785b6": {
     "views": [
      {
       "cell_index": 6
      }
     ]
    },
    "4809a5ed43424a778350f447c91d94d9": {
     "views": [
      {
       "cell_index": 7
      }
     ]
    },
    "480cda943a654f5a87e3ae495be0c39d": {
     "views": [
      {
       "cell_index": 6
      }
     ]
    },
    "484fd2bdff5b40318f823b479dc8707f": {
     "views": [
      {
       "cell_index": 7
      }
     ]
    },
    "4855114a7a8146c3ac3dbe3a6481885c": {
     "views": [
      {
       "cell_index": 7
      }
     ]
    },
    "48ed93e00d124d2aadce5d56a4907013": {
     "views": [
      {
       "cell_index": 7
      }
     ]
    },
    "4a6148696f364d2cb72d9dcbf2c1032c": {
     "views": [
      {
       "cell_index": 7
      }
     ]
    },
    "4c23a596a40d427bb502fb61392a3dd3": {
     "views": [
      {
       "cell_index": 7
      }
     ]
    },
    "4e34bfd8794741d281cfdc2406b52c65": {
     "views": [
      {
       "cell_index": 7
      }
     ]
    },
    "4eac9fbf6df8480cbe9ff7090193ad07": {
     "views": [
      {
       "cell_index": 6
      }
     ]
    },
    "4eaca9b74eca4786bc2ac7d1d1b45258": {
     "views": [
      {
       "cell_index": 7
      }
     ]
    },
    "50078c170a554b8481cbb4b1212d05ca": {
     "views": [
      {
       "cell_index": 6
      }
     ]
    },
    "5144825faba94b8b8599d29dbd6b2ac9": {
     "views": [
      {
       "cell_index": 7
      }
     ]
    },
    "5220f3e6c5d843888c9dc7e9a8e30e1b": {
     "views": [
      {
       "cell_index": 7
      }
     ]
    },
    "52d145caa62a4f24b5a16320579677e9": {
     "views": [
      {
       "cell_index": 7
      }
     ]
    },
    "536ceb2e18534fed91d6853bca070ee0": {
     "views": [
      {
       "cell_index": 7
      }
     ]
    },
    "53d93e92a56141b7953029cdac7a5d26": {
     "views": [
      {
       "cell_index": 7
      }
     ]
    },
    "5439dcbb521c4a70b3c335850854a26b": {
     "views": [
      {
       "cell_index": 7
      }
     ]
    },
    "547c9e7839cd413987371ad7e6183120": {
     "views": [
      {
       "cell_index": 7
      }
     ]
    },
    "54b4f491f34e4e91946ee4619fdc4e42": {
     "views": [
      {
       "cell_index": 7
      }
     ]
    },
    "54f0230617f74647941fcd65a57ae0e2": {
     "views": [
      {
       "cell_index": 7
      }
     ]
    },
    "54f2fbeaa76c4b09886cfca2afb4ba42": {
     "views": [
      {
       "cell_index": 7
      }
     ]
    },
    "554c3066ed504e53bc4485142afa0402": {
     "views": [
      {
       "cell_index": 7
      }
     ]
    },
    "556148f11468445ca7f98c5c53e55cb0": {
     "views": [
      {
       "cell_index": 7
      }
     ]
    },
    "55c4694fb990498386bc047b8c9b081b": {
     "views": [
      {
       "cell_index": 7
      }
     ]
    },
    "566301cfbe2c4bf0af2edc1f6557bb94": {
     "views": [
      {
       "cell_index": 7
      }
     ]
    },
    "56f71d4c639347e3a7d5319ccde679ba": {
     "views": [
      {
       "cell_index": 6
      }
     ]
    },
    "5725122054154bdcbaf49803ba910ba0": {
     "views": [
      {
       "cell_index": 7
      }
     ]
    },
    "58254910f8764607b5cc02a70da19c74": {
     "views": [
      {
       "cell_index": 7
      }
     ]
    },
    "5864602d2acf451397c50b14f3da9ee6": {
     "views": [
      {
       "cell_index": 7
      }
     ]
    },
    "586bb32dc4d9460f8ac06b41326074d9": {
     "views": [
      {
       "cell_index": 7
      }
     ]
    },
    "58e733a92ff44e7eb70eee2a7259deac": {
     "views": [
      {
       "cell_index": 7
      }
     ]
    },
    "58fbd453e8f046e498d6e99ad875858b": {
     "views": [
      {
       "cell_index": 7
      }
     ]
    },
    "5a6f3630cf95426eb3d9280f6e9e5f45": {
     "views": [
      {
       "cell_index": 6
      }
     ]
    },
    "5a9baa6612664535834498cd65c5c2ae": {
     "views": [
      {
       "cell_index": 7
      }
     ]
    },
    "5b4f5ce44b9540e0b16f1bf834dff2af": {
     "views": [
      {
       "cell_index": 7
      }
     ]
    },
    "5bc1817fe0194b929280bff9241e3b29": {
     "views": [
      {
       "cell_index": 7
      }
     ]
    },
    "5c0f5caa68c34f2e95aba89aa16632d3": {
     "views": [
      {
       "cell_index": 7
      }
     ]
    },
    "5c6ed941aa95400cba3ded906635aae4": {
     "views": [
      {
       "cell_index": 7
      }
     ]
    },
    "5cb1ee5c004242dd9246a8ee6d0fc4b3": {
     "views": [
      {
       "cell_index": 7
      }
     ]
    },
    "5d529c4ff4c648ab8ee1b8e95f5683bd": {
     "views": [
      {
       "cell_index": 7
      }
     ]
    },
    "5d6866e369e843beacb231ffa0942403": {
     "views": [
      {
       "cell_index": 7
      }
     ]
    },
    "5e76dc8809994315a9cb87c3ffdcdd7b": {
     "views": [
      {
       "cell_index": 6
      }
     ]
    },
    "5e9fc10e059246268c4a010ee48eca0a": {
     "views": [
      {
       "cell_index": 7
      }
     ]
    },
    "60097d8eb0704b2dba0f3c35ec76d568": {
     "views": [
      {
       "cell_index": 7
      }
     ]
    },
    "60f5c1de73cf400598af18ba24ae5160": {
     "views": [
      {
       "cell_index": 7
      }
     ]
    },
    "619304948cab4b19b864f068727049ce": {
     "views": [
      {
       "cell_index": 7
      }
     ]
    },
    "61ecc84c887f4fc4b69e7b722e0d572f": {
     "views": [
      {
       "cell_index": 6
      }
     ]
    },
    "62405571e38541d289a9103091cd7d1b": {
     "views": [
      {
       "cell_index": 7
      }
     ]
    },
    "6328b702681f4a7bbbbdeac1a8517656": {
     "views": [
      {
       "cell_index": 7
      }
     ]
    },
    "638616e148ed44af96cf4778164f3669": {
     "views": [
      {
       "cell_index": 7
      }
     ]
    },
    "63ce670d2ada48fe80bc5aeb1fac20ad": {
     "views": [
      {
       "cell_index": 7
      }
     ]
    },
    "6482869b55194279be43d0ffd948a145": {
     "views": [
      {
       "cell_index": 7
      }
     ]
    },
    "6537a16dd9714bd6982395663d11706f": {
     "views": [
      {
       "cell_index": 7
      }
     ]
    },
    "6980e7f7bac341ad8d9b426b1ad25927": {
     "views": [
      {
       "cell_index": 7
      }
     ]
    },
    "6987fd18e987465488ceeba3749d97d9": {
     "views": [
      {
       "cell_index": 7
      }
     ]
    },
    "69c8e3c18d7a4e17a79842ab093925e2": {
     "views": [
      {
       "cell_index": 7
      }
     ]
    },
    "6a9603bc861442eb90e0bd3a264571a5": {
     "views": [
      {
       "cell_index": 7
      }
     ]
    },
    "6b942cc8eeb046b285c0d0008dc22f31": {
     "views": [
      {
       "cell_index": 7
      }
     ]
    },
    "6bf4b61bb3ae4b97a5aa7e8f951a50db": {
     "views": [
      {
       "cell_index": 6
      }
     ]
    },
    "6ebb4682f9c242fc954cb350863a5726": {
     "views": [
      {
       "cell_index": 7
      }
     ]
    },
    "6f58024dbf0747bb8250e8b2e605cae4": {
     "views": [
      {
       "cell_index": 7
      }
     ]
    },
    "6f8d31643657463a89de398c872f218b": {
     "views": [
      {
       "cell_index": 7
      }
     ]
    },
    "7094974ee99047b88c16b52acb3157d6": {
     "views": [
      {
       "cell_index": 6
      }
     ]
    },
    "7129dfb17411446387a1f402a48f6658": {
     "views": [
      {
       "cell_index": 7
      }
     ]
    },
    "713052fe62024c479816baea01f0485b": {
     "views": [
      {
       "cell_index": 7
      }
     ]
    },
    "718375f15137415395c6a4d402cc07be": {
     "views": [
      {
       "cell_index": 7
      }
     ]
    },
    "71afacdda66e41c9aa068a64ba7c6339": {
     "views": [
      {
       "cell_index": 7
      }
     ]
    },
    "72c1c625640a447ea04df911c806f260": {
     "views": [
      {
       "cell_index": 7
      }
     ]
    },
    "7321606e70524e24898e8ae43c777a1a": {
     "views": [
      {
       "cell_index": 7
      }
     ]
    },
    "73f118cc439b4b76bb9dcb15a9ab510f": {
     "views": [
      {
       "cell_index": 7
      }
     ]
    },
    "747a2290985f4f8199bdf3b96ffe8ab7": {
     "views": [
      {
       "cell_index": 7
      }
     ]
    },
    "74b1e5fda4d549e4b204456c1cc2d880": {
     "views": [
      {
       "cell_index": 4
      }
     ]
    },
    "75ae5f2122f24b248cfc804ae89408e6": {
     "views": [
      {
       "cell_index": 6
      }
     ]
    },
    "76147058698b41b391918dbda111fb2b": {
     "views": [
      {
       "cell_index": 7
      }
     ]
    },
    "768c537ac28946489c028e98e7033efd": {
     "views": [
      {
       "cell_index": 6
      }
     ]
    },
    "789813039fa84102a4a2f67c85634214": {
     "views": [
      {
       "cell_index": 7
      }
     ]
    },
    "7990ef340b7948cb8fe27bdcf3d46d29": {
     "views": [
      {
       "cell_index": 7
      }
     ]
    },
    "79a20598f2b14d8aacc79d527f4f5b9b": {
     "views": [
      {
       "cell_index": 7
      }
     ]
    },
    "7a13c661b3494581ba737b6b680bbf2c": {
     "views": [
      {
       "cell_index": 7
      }
     ]
    },
    "7bc8ec8517a7469284efb25ae39bda46": {
     "views": [
      {
       "cell_index": 7
      }
     ]
    },
    "7be81d5d450648ecaf2a4d5bdf76295d": {
     "views": [
      {
       "cell_index": 7
      }
     ]
    },
    "7c3d0451546b41c9809cc3c35eded31c": {
     "views": [
      {
       "cell_index": 7
      }
     ]
    },
    "7c5b131821634985b0088df470ca29a5": {
     "views": [
      {
       "cell_index": 6
      }
     ]
    },
    "7c7e4a5dd50a4f16b2d0c17cc5d722b0": {
     "views": [
      {
       "cell_index": 7
      }
     ]
    },
    "7c817f0136ee410ab5acff24f52c1835": {
     "views": [
      {
       "cell_index": 7
      }
     ]
    },
    "7ccc6139af2b42ca8b7893b7624072a0": {
     "views": [
      {
       "cell_index": 7
      }
     ]
    },
    "7cfd04cdfa9041058d521133f1221cb3": {
     "views": [
      {
       "cell_index": 7
      }
     ]
    },
    "7d90bda9f4234a10beb997229e5c42d6": {
     "views": [
      {
       "cell_index": 6
      }
     ]
    },
    "7e5b450e7dad4b30baea7974ff69cb9e": {
     "views": [
      {
       "cell_index": 7
      }
     ]
    },
    "7e8f4de35e2e44139e441c094565c74c": {
     "views": [
      {
       "cell_index": 7
      }
     ]
    },
    "7edcc832b40c44f982d8c5fe37cf9d26": {
     "views": [
      {
       "cell_index": 7
      }
     ]
    },
    "8027acfef822433a97b67c3a7cdd751a": {
     "views": [
      {
       "cell_index": 7
      }
     ]
    },
    "82b776bcdb224a4787fefd0056690b2f": {
     "views": [
      {
       "cell_index": 6
      }
     ]
    },
    "82de143853464d8c98227b3a2cc9be02": {
     "views": [
      {
       "cell_index": 6
      }
     ]
    },
    "82fb51de16154b03a2592b6da3d4ff46": {
     "views": [
      {
       "cell_index": 7
      }
     ]
    },
    "840cbf4fada94961bfe4664d49d950c2": {
     "views": [
      {
       "cell_index": 7
      }
     ]
    },
    "8456e14f8bc84a90b417c7ce2f685def": {
     "views": [
      {
       "cell_index": 7
      }
     ]
    },
    "846b9707add2468abdda3298ce908e45": {
     "views": [
      {
       "cell_index": 7
      }
     ]
    },
    "8502e5d59b204adea9e60393338e0ff0": {
     "views": [
      {
       "cell_index": 7
      }
     ]
    },
    "853ca6ba85b544d4aa475d452a7ef2d3": {
     "views": [
      {
       "cell_index": 7
      }
     ]
    },
    "8552800d49334f30ab5178b4cb3005a0": {
     "views": [
      {
       "cell_index": 6
      }
     ]
    },
    "858e3b50e3414f4fb871b16065858289": {
     "views": [
      {
       "cell_index": 7
      }
     ]
    },
    "8688805ea65a437293bb8a7b79b8674e": {
     "views": [
      {
       "cell_index": 7
      }
     ]
    },
    "86fac9b791374f2b91e754b6ab2ecca6": {
     "views": [
      {
       "cell_index": 7
      }
     ]
    },
    "8727b3b629794e1ba97499af36609985": {
     "views": [
      {
       "cell_index": 7
      }
     ]
    },
    "87df1bf5748b430a85e46353f8978799": {
     "views": [
      {
       "cell_index": 7
      }
     ]
    },
    "882cd0b9121445aba49d4a27b2ccc14e": {
     "views": [
      {
       "cell_index": 6
      }
     ]
    },
    "88c1e811c20e490193b6b09ad9534bbb": {
     "views": [
      {
       "cell_index": 7
      }
     ]
    },
    "894e1a9f78924abeab4e2f2819b72c02": {
     "views": [
      {
       "cell_index": 7
      }
     ]
    },
    "89600b3cb7c7419987fac4a2f9df0dbd": {
     "views": [
      {
       "cell_index": 7
      }
     ]
    },
    "89679ecd71554b0c9427408453a2202d": {
     "views": [
      {
       "cell_index": 7
      }
     ]
    },
    "89a0698091f9420583eac516ad2d41f3": {
     "views": [
      {
       "cell_index": 7
      }
     ]
    },
    "89b0ef4dea6d40e1a77ae3c4a6583d3a": {
     "views": [
      {
       "cell_index": 7
      }
     ]
    },
    "89b2eef88ada47afa26658563b540f6c": {
     "views": [
      {
       "cell_index": 7
      }
     ]
    },
    "89fee3612bcb4d84b024c3101049d466": {
     "views": [
      {
       "cell_index": 2
      }
     ]
    },
    "8cce08ef3c4c429a8dfdac04f4af469f": {
     "views": [
      {
       "cell_index": 6
      }
     ]
    },
    "8e2262fca6f64d6ca7161d780d984294": {
     "views": [
      {
       "cell_index": 6
      }
     ]
    },
    "8ecf14fe69ed4aee89fcc3e9063ff6cd": {
     "views": [
      {
       "cell_index": 7
      }
     ]
    },
    "8eec28a60efa44e6b7378556b126577e": {
     "views": [
      {
       "cell_index": 4
      }
     ]
    },
    "90111e057fa14798a33aa06bb67ac534": {
     "views": [
      {
       "cell_index": 7
      }
     ]
    },
    "920fcddad7b44793939c46ab991a11cc": {
     "views": [
      {
       "cell_index": 7
      }
     ]
    },
    "948999bc137b46ee8eec6089b245ad74": {
     "views": [
      {
       "cell_index": 7
      }
     ]
    },
    "94f7be2c166947c58e412fa9adb08721": {
     "views": [
      {
       "cell_index": 7
      }
     ]
    },
    "96888bf5a9d34399a06e7b90df9b70db": {
     "views": [
      {
       "cell_index": 7
      }
     ]
    },
    "97acf53c4e6f492b94d0b6aa951e65ab": {
     "views": [
      {
       "cell_index": 7
      }
     ]
    },
    "98898865cb404f4aa8c49554600e7f50": {
     "views": [
      {
       "cell_index": 7
      }
     ]
    },
    "991263877f5c48beb1a385942c7e2d9d": {
     "views": [
      {
       "cell_index": 7
      }
     ]
    },
    "995189e2cab64af2a722758606b3c4d9": {
     "views": [
      {
       "cell_index": 7
      }
     ]
    },
    "998d69a6e00546babe879b5cadcc1af4": {
     "views": [
      {
       "cell_index": 7
      }
     ]
    },
    "99e9e19fb13a4c35952b154fc90ef978": {
     "views": [
      {
       "cell_index": 7
      }
     ]
    },
    "9a04ef61e5694da59e0b70dc910bef73": {
     "views": [
      {
       "cell_index": 6
      }
     ]
    },
    "9a67dc9a481d434da7465a85a6eeea3d": {
     "views": [
      {
       "cell_index": 7
      }
     ]
    },
    "9b8010944cbf4f1bbd0552ad615345d5": {
     "views": [
      {
       "cell_index": 7
      }
     ]
    },
    "9e2933ada04d48c1a0800ffa23e5b03c": {
     "views": [
      {
       "cell_index": 7
      }
     ]
    },
    "9efdfdcf99814742b3b3ca865a950905": {
     "views": [
      {
       "cell_index": 7
      }
     ]
    },
    "a04e9bd36ddb4bd88c9029bbb07752e6": {
     "views": [
      {
       "cell_index": 7
      }
     ]
    },
    "a188c9ab14c343cba081b42100a5184e": {
     "views": [
      {
       "cell_index": 7
      }
     ]
    },
    "a3cc370f647540bdaafc478d6c823e1a": {
     "views": [
      {
       "cell_index": 7
      }
     ]
    },
    "a45c31d9d71e4befbae219fb1723b617": {
     "views": [
      {
       "cell_index": 7
      }
     ]
    },
    "a4863863421345e6b33c1b0b22861e5c": {
     "views": [
      {
       "cell_index": 7
      }
     ]
    },
    "a4cff4a492654539b8378ec7f0c9b470": {
     "views": [
      {
       "cell_index": 3
      }
     ]
    },
    "a4deb0982310462b9682f3365118ff61": {
     "views": [
      {
       "cell_index": 7
      }
     ]
    },
    "a5ed300736d743acbbca535af0ae813b": {
     "views": [
      {
       "cell_index": 7
      }
     ]
    },
    "a5ef5217559348dfb2124c64dd4211d9": {
     "views": [
      {
       "cell_index": 7
      }
     ]
    },
    "a60690bdc3344b30ae46078b52163753": {
     "views": [
      {
       "cell_index": 7
      }
     ]
    },
    "a630ce8576aa4ee79fe3c2a92d4f440d": {
     "views": [
      {
       "cell_index": 7
      }
     ]
    },
    "a6bfe2a81c64451b907a9442fe70d957": {
     "views": [
      {
       "cell_index": 7
      }
     ]
    },
    "a8fe03c412f448cdab73be65739d158f": {
     "views": [
      {
       "cell_index": 7
      }
     ]
    },
    "a95299a2d9894e2d9a5f3c2280a65709": {
     "views": [
      {
       "cell_index": 7
      }
     ]
    },
    "aa1d0206c1e04a75ae53ea1fdc360669": {
     "views": [
      {
       "cell_index": 7
      }
     ]
    },
    "aaf25f2a8b274eb8bd6ac8fdb25b314d": {
     "views": [
      {
       "cell_index": 7
      }
     ]
    },
    "abbc5137d7a24b3b9dfba0088dfffac9": {
     "views": [
      {
       "cell_index": 6
      }
     ]
    },
    "ad7a282e30cd4752abeac6d3fb741fb1": {
     "views": [
      {
       "cell_index": 7
      }
     ]
    },
    "af28b3ca8d9c485f8c3c07dff5827a43": {
     "views": [
      {
       "cell_index": 7
      }
     ]
    },
    "af2a93173f6141c08ad432528b2fd955": {
     "views": [
      {
       "cell_index": 7
      }
     ]
    },
    "b0e3e709285f4ab794e6383dec2b5491": {
     "views": [
      {
       "cell_index": 7
      }
     ]
    },
    "b0fcac6e3bbd4898a7c493fa11b126b1": {
     "views": [
      {
       "cell_index": 7
      }
     ]
    },
    "b10a2270663d4becafb460a737a1ca88": {
     "views": [
      {
       "cell_index": 6
      }
     ]
    },
    "b15395ed4db749dda5b6d43f1d0a9446": {
     "views": [
      {
       "cell_index": 7
      }
     ]
    },
    "b24c6abcc5ef4cf69166f72360a736d4": {
     "views": [
      {
       "cell_index": 7
      }
     ]
    },
    "b2e8b94d1f494373a610037d2ec7e215": {
     "views": [
      {
       "cell_index": 7
      }
     ]
    },
    "b308d2067b894a9ab6cff809d9333304": {
     "views": [
      {
       "cell_index": 6
      }
     ]
    },
    "b42eef0bbc1e4816b5c7f6e5fd1f0781": {
     "views": [
      {
       "cell_index": 6
      }
     ]
    },
    "b45475940c9e42d18b1452e4de7e5fe9": {
     "views": [
      {
       "cell_index": 7
      }
     ]
    },
    "b4a38cf1df0c475d87b60879efbc4751": {
     "views": [
      {
       "cell_index": 7
      }
     ]
    },
    "b5c596c0f7514379b141dca199ad93d7": {
     "views": [
      {
       "cell_index": 7
      }
     ]
    },
    "b60d10eca8f14644a545e13fc628a3dc": {
     "views": [
      {
       "cell_index": 7
      }
     ]
    },
    "b68f814d6e644d559308c33ac3fe9b5b": {
     "views": [
      {
       "cell_index": 7
      }
     ]
    },
    "b6c3c1bf034649b7981fc2e6dac69262": {
     "views": [
      {
       "cell_index": 7
      }
     ]
    },
    "b701b7503b9640efbc56f29866f45a90": {
     "views": [
      {
       "cell_index": 7
      }
     ]
    },
    "b872c18b6f154829b0413463617e9a1d": {
     "views": [
      {
       "cell_index": 7
      }
     ]
    },
    "ba1594968f5e4fcfad8dd8433d768491": {
     "views": [
      {
       "cell_index": 7
      }
     ]
    },
    "ba94827087c24f2ea642d51611260038": {
     "views": [
      {
       "cell_index": 7
      }
     ]
    },
    "baa570cbf1334b70b10b3c37f4235728": {
     "views": [
      {
       "cell_index": 7
      }
     ]
    },
    "bb5a122f3f5e499d889fcbb2fd0d1ac1": {
     "views": [
      {
       "cell_index": 7
      }
     ]
    },
    "bd9de64be4764649a146a9be8b8eb7ce": {
     "views": [
      {
       "cell_index": 7
      }
     ]
    },
    "be29afad78d947968063ebbe18057de7": {
     "views": [
      {
       "cell_index": 6
      }
     ]
    },
    "be41d9a1c21b419fad7f45574df43fa4": {
     "views": [
      {
       "cell_index": 7
      }
     ]
    },
    "be9ccb3443c643cdb33cdae0cf571a1e": {
     "views": [
      {
       "cell_index": 6
      }
     ]
    },
    "bffe6819f85f480b852a9e6ff71b1ee1": {
     "views": [
      {
       "cell_index": 7
      }
     ]
    },
    "c0292125409f4a188645adf0d1244fb0": {
     "views": [
      {
       "cell_index": 7
      }
     ]
    },
    "c29b913b379e4b97b95a4319b7e744e7": {
     "views": [
      {
       "cell_index": 7
      }
     ]
    },
    "c33030890fac4d959ea054bd16dc88eb": {
     "views": [
      {
       "cell_index": 6
      }
     ]
    },
    "c3647fe8462442d19de7518503c0b04c": {
     "views": [
      {
       "cell_index": 7
      }
     ]
    },
    "c40f11e4a8ba4859802400b5c8b90ef6": {
     "views": [
      {
       "cell_index": 7
      }
     ]
    },
    "c46fef784dd648e3a2938b40921d408a": {
     "views": [
      {
       "cell_index": 7
      }
     ]
    },
    "c483d65fe9ee4121b1693dbe7d2ada8f": {
     "views": [
      {
       "cell_index": 7
      }
     ]
    },
    "c5709cd2c6874bc086c47d07c3e4b752": {
     "views": [
      {
       "cell_index": 6
      }
     ]
    },
    "c5b3dacc166f427ab8d60e3ed4d009bb": {
     "views": [
      {
       "cell_index": 7
      }
     ]
    },
    "c68203060ae74731ad70ec7585b32d8d": {
     "views": [
      {
       "cell_index": 6
      }
     ]
    },
    "c73a8bbed15d45fa90b4953ebfed603d": {
     "views": [
      {
       "cell_index": 7
      }
     ]
    },
    "c7d56b1991ba4879b30f519c896e6615": {
     "views": [
      {
       "cell_index": 6
      }
     ]
    },
    "c860dd9226a749729c22db160e93d398": {
     "views": [
      {
       "cell_index": 6
      }
     ]
    },
    "ca301838e279409183d8901aea935246": {
     "views": [
      {
       "cell_index": 7
      }
     ]
    },
    "cab76f5a25fe4046b7023f40daac9e80": {
     "views": [
      {
       "cell_index": 7
      }
     ]
    },
    "cabe748b2d3046eda9d8cd41192ad8be": {
     "views": [
      {
       "cell_index": 7
      }
     ]
    },
    "cb5777f2c1d042c7a9b35753cdea0abd": {
     "views": [
      {
       "cell_index": 6
      }
     ]
    },
    "ce2987dcad7c40b1b65d4a48b81f12ef": {
     "views": [
      {
       "cell_index": 6
      }
     ]
    },
    "ce7812558aad42f290b2a2e0b063ba07": {
     "views": [
      {
       "cell_index": 7
      }
     ]
    },
    "cfea0719e2e843cea88b36cf8ad08eda": {
     "views": [
      {
       "cell_index": 7
      }
     ]
    },
    "d08ac0fe0ea64e239acc9cefeda9a111": {
     "views": [
      {
       "cell_index": 7
      }
     ]
    },
    "d1b6ae08665240a38674bcfff5bfeb30": {
     "views": [
      {
       "cell_index": 7
      }
     ]
    },
    "d1eef74e24d1494ea1d31be04df55115": {
     "views": [
      {
       "cell_index": 7
      }
     ]
    },
    "d23b71d7a302492f8a09880d2f2087cd": {
     "views": [
      {
       "cell_index": 7
      }
     ]
    },
    "d29d781812424b99b8934db77e1a32d7": {
     "views": [
      {
       "cell_index": 6
      }
     ]
    },
    "d2b03e02ebb047b09d948ca64200a903": {
     "views": [
      {
       "cell_index": 7
      }
     ]
    },
    "d31b58d1ef9c41b78ce709fe1b39ba6e": {
     "views": [
      {
       "cell_index": 7
      }
     ]
    },
    "d398ada9ce4141fe87d710c14e52439b": {
     "views": [
      {
       "cell_index": 7
      }
     ]
    },
    "d4b60ac107594c2d9111ca9b28f8752e": {
     "views": [
      {
       "cell_index": 7
      }
     ]
    },
    "d651d7125fb2400d8255da02bd43f257": {
     "views": [
      {
       "cell_index": 7
      }
     ]
    },
    "d6f8f6959c4e434bb039c9eb358c6a66": {
     "views": [
      {
       "cell_index": 7
      }
     ]
    },
    "d71e21bd52d644e0ae04ded56f87dbdf": {
     "views": [
      {
       "cell_index": 7
      }
     ]
    },
    "d7521da6791547fc8d7083b2d3d812ad": {
     "views": [
      {
       "cell_index": 7
      }
     ]
    },
    "d7a86fe30aa84f06bb86f7600e371b18": {
     "views": [
      {
       "cell_index": 7
      }
     ]
    },
    "d7b9523c22054bd19fd79675e6707794": {
     "views": [
      {
       "cell_index": 7
      }
     ]
    },
    "db81e0bdec9e453bbecabc1b504ac207": {
     "views": [
      {
       "cell_index": 7
      }
     ]
    },
    "dbcb870b5d794138b196bd0113b5fb4b": {
     "views": [
      {
       "cell_index": 7
      }
     ]
    },
    "dc30042771244d8bbcc91288669d243c": {
     "views": [
      {
       "cell_index": 7
      }
     ]
    },
    "dd86a735f70c48cbbd356ecf1151901c": {
     "views": [
      {
       "cell_index": 7
      }
     ]
    },
    "ddb0afe1dee14836921770779ed53d83": {
     "views": [
      {
       "cell_index": 7
      }
     ]
    },
    "de38e24b367d46e687e0b5642ef76c94": {
     "views": [
      {
       "cell_index": 7
      }
     ]
    },
    "dfddc19dda2e4d7fb793a9b9c3a1174c": {
     "views": [
      {
       "cell_index": 7
      }
     ]
    },
    "e0753a22c171481d89dd287bad85f6b7": {
     "views": [
      {
       "cell_index": 7
      }
     ]
    },
    "e0b2e92a021f493f95bf2f36dc6fe8a8": {
     "views": [
      {
       "cell_index": 7
      }
     ]
    },
    "e1822c27013e4af9b6174a975448443b": {
     "views": [
      {
       "cell_index": 7
      }
     ]
    },
    "e211b7b422e44843b63f682a3c812d52": {
     "views": [
      {
       "cell_index": 7
      }
     ]
    },
    "e54d90421d6941509b2a44fbdec8a789": {
     "views": [
      {
       "cell_index": 6
      }
     ]
    },
    "e5738741a4714639bf558a4245641102": {
     "views": [
      {
       "cell_index": 7
      }
     ]
    },
    "e6a13855f816474f8cdcafa5c797446d": {
     "views": [
      {
       "cell_index": 6
      }
     ]
    },
    "e6ee2d65d8dd4684960167d2bb58014a": {
     "views": [
      {
       "cell_index": 7
      }
     ]
    },
    "e6f9650f72de43079e4704e252cec30e": {
     "views": [
      {
       "cell_index": 7
      }
     ]
    },
    "e825d7c62d8f410c866b09f9f62e0b4d": {
     "views": [
      {
       "cell_index": 7
      }
     ]
    },
    "e9870172958048f598b5cbe31565a037": {
     "views": [
      {
       "cell_index": 6
      }
     ]
    },
    "ea2f0448fe9e4698a3df9e5cbf62e33d": {
     "views": [
      {
       "cell_index": 7
      }
     ]
    },
    "eb0bc76419f740b8ac19a21b8481a1d7": {
     "views": [
      {
       "cell_index": 7
      }
     ]
    },
    "eb499990f7cf470d8e2e9febd2c59963": {
     "views": [
      {
       "cell_index": 6
      }
     ]
    },
    "eb78f70a70c84301b482440e2afc75e2": {
     "views": [
      {
       "cell_index": 7
      }
     ]
    },
    "ecc12028c82a42ac826b5f93b870bb5d": {
     "views": [
      {
       "cell_index": 7
      }
     ]
    },
    "ecd1be5583a0403dafaf572ed73dc5bc": {
     "views": [
      {
       "cell_index": 6
      }
     ]
    },
    "ed9fb2501339497580bdbd2fdffbdb2a": {
     "views": [
      {
       "cell_index": 7
      }
     ]
    },
    "eeb342fd2b3e48c0ad0b652d1e30da0e": {
     "views": [
      {
       "cell_index": 7
      }
     ]
    },
    "f0101ffe75a74667ba6c5de66132002e": {
     "views": [
      {
       "cell_index": 7
      }
     ]
    },
    "f0c83fb3f2d74e0596cc3220bdf41279": {
     "views": [
      {
       "cell_index": 7
      }
     ]
    },
    "f1ca9a5a765d4d73810652388c5825ac": {
     "views": [
      {
       "cell_index": 7
      }
     ]
    },
    "f2c7aa53717b4cedba75f5035a1587fe": {
     "views": [
      {
       "cell_index": 7
      }
     ]
    },
    "f4431142923a49c2ac688ae133127a52": {
     "views": [
      {
       "cell_index": 6
      }
     ]
    },
    "f55a5eca4450459a968639529b3a5ae5": {
     "views": [
      {
       "cell_index": 7
      }
     ]
    },
    "f5a5e76783a04e908710a67d4d270fd8": {
     "views": [
      {
       "cell_index": 7
      }
     ]
    },
    "f63281c5aee74bf7bc69ba1ba6d4926a": {
     "views": [
      {
       "cell_index": 7
      }
     ]
    },
    "f9841244b63b4402a8d651659b27c004": {
     "views": [
      {
       "cell_index": 7
      }
     ]
    },
    "f9b17af47bd2403ea1f5cfe7dac8c9a4": {
     "views": [
      {
       "cell_index": 6
      }
     ]
    },
    "fa4261fa2b91415da470c8f0b524c312": {
     "views": [
      {
       "cell_index": 7
      }
     ]
    },
    "fa46038bbb5948e7a7ea96741906ff51": {
     "views": [
      {
       "cell_index": 7
      }
     ]
    },
    "fad5bb5b008f498bbc5dd3998ed52963": {
     "views": [
      {
       "cell_index": 6
      }
     ]
    },
    "fb030dbe617c47bba83f8001d09d7ac8": {
     "views": [
      {
       "cell_index": 7
      }
     ]
    },
    "fb69a034cedc4e72a45825c79aa8a40c": {
     "views": [
      {
       "cell_index": 7
      }
     ]
    },
    "fb74a7dd992246399536bb1b2d49e51a": {
     "views": [
      {
       "cell_index": 6
      }
     ]
    },
    "fc5d1a8bf49040f4839011281183f2b5": {
     "views": [
      {
       "cell_index": 6
      }
     ]
    },
    "fcbcb207491340dbbda777467d80fefc": {
     "views": [
      {
       "cell_index": 7
      }
     ]
    },
    "fcc1e3ffd4704c308f725034a410614b": {
     "views": [
      {
       "cell_index": 7
      }
     ]
    },
    "fe8bbda0a5e94805a5c8026b99fb51d6": {
     "views": [
      {
       "cell_index": 7
      }
     ]
    }
   },
   "version": "1.2.0"
  }
 },
 "nbformat": 4,
 "nbformat_minor": 2
}
