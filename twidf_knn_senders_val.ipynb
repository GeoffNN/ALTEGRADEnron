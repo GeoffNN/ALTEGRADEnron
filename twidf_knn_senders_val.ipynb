{
 "cells": [
  {
   "cell_type": "code",
   "execution_count": 1,
   "metadata": {
    "collapsed": false
   },
   "outputs": [],
   "source": [
    "from collections import defaultdict\n",
    "import itertools\n",
    "from matplotlib import pyplot as plt\n",
    "import math\n",
    "import numpy as np\n",
    "import operator\n",
    "import pandas as pd\n",
    "import pickle\n",
    "import random\n",
    "import re\n",
    "import scipy\n",
    "import string\n",
    "from tqdm import tqdm_notebook\n",
    "\n",
    "\n",
    "import src.knntools as knntools\n",
    "import src.postprocess as postprocess\n",
    "import src.preprocess as preprocess\n",
    "import src.tfidftools as tfidftools\n",
    "import src.tools as tools\n",
    "import src.recencytools as recency\n",
    "import src.scoring as scoring\n",
    "import src.textembeddingtools as texttools\n",
    "import src.graphwordstools as graphtools\n",
    "\n",
    "%load_ext autoreload\n",
    "%autoreload 2\n",
    "%matplotlib inline"
   ]
  },
  {
   "cell_type": "code",
   "execution_count": 2,
   "metadata": {
    "collapsed": false
   },
   "outputs": [],
   "source": [
    "path_to_data = 'data/'\n",
    "\n",
    "training = pd.read_csv(path_to_data + 'training_set.csv', sep=',', header=0)\n",
    "\n",
    "training_info = pd.read_csv(\n",
    "    path_to_data + 'training_info.csv', sep=',', parse_dates=True, header=0)\n",
    "\n",
    "test = pd.read_csv(path_to_data + 'test_set.csv', sep=',', header=0)\n",
    "\n",
    "test_info = pd.read_csv(path_to_data + 'test_info.csv',\n",
    "                        sep=',', parse_dates=True, header=0)\n",
    "path_to_results = 'results/'"
   ]
  },
  {
   "cell_type": "code",
   "execution_count": 3,
   "metadata": {
    "collapsed": false
   },
   "outputs": [
    {
     "name": "stdout",
     "output_type": "stream",
     "text": [
      "Processing training !\n",
      "\n",
      "Processing val !\n",
      "\n"
     ]
    }
   ],
   "source": [
    "train_info, train_email_ids_per_sender, val_info, val_email_ids_per_sender = scoring.get_train_val(training, training_info, train_frac=0.95)"
   ]
  },
  {
   "cell_type": "code",
   "execution_count": 4,
   "metadata": {
    "collapsed": false
   },
   "outputs": [
    {
     "name": "stdout",
     "output_type": "stream",
     "text": [
      "\n",
      "\n"
     ]
    }
   ],
   "source": [
    "train_body_dict = preprocess.body_dict_from_panda(train_info)\n",
    "val_body_dict = preprocess.body_dict_from_panda(val_info)"
   ]
  },
  {
   "cell_type": "code",
   "execution_count": 7,
   "metadata": {
    "collapsed": false
   },
   "outputs": [],
   "source": [
    "train_token_dict = texttools.get_token_dict(train_body_dict)\n",
    "val_token_dict = texttools.get_token_dict(val_body_dict)"
   ]
  },
  {
   "cell_type": "markdown",
   "metadata": {},
   "source": [
    "## Compute average length of doc in tokens"
   ]
  },
  {
   "cell_type": "code",
   "execution_count": 14,
   "metadata": {
    "collapsed": false
   },
   "outputs": [
    {
     "name": "stdout",
     "output_type": "stream",
     "text": [
      "\n"
     ]
    }
   ],
   "source": [
    "senders_mean_lengths = {}\n",
    "senders_idf_dics = {}\n",
    "senders_idf_words = {}\n",
    "senders_twidf_matrixs = {}\n",
    "senders_twidf_mids = {}\n",
    "\n",
    "pbar_senders = tqdm_notebook(train_email_ids_per_sender.items())\n",
    "for sender, sender_mids in pbar_senders:\n",
    "    sender_token_dict = {mid:body for mid, body in train_token_dict.items() if int(mid) in sender_mids}\n",
    "    # Compute info about tokens\n",
    "    sender_doc_lengths_dic, sender_average_doc_len = texttools.get_doc_length_info(sender_token_dict)\n",
    "    senders_mean_lengths[sender] = sender_average_doc_len\n",
    "    # Get idf info\n",
    "    sender_idf_dic, sender_idf_words = tfidftools.get_idf_dic(train_token_dict)\n",
    "    senders_idf_dics[sender] = sender_idf_dic\n",
    "    senders_idf_words[sender] = sender_idf_words\n",
    "    # Get tw info\n",
    "    sender_twidf_matrix, sender_twidf_mids = graphtools.get_twidf_matrix(sender_token_dict, sender_doc_lengths_dic,\n",
    "                                                                         sender_average_doc_len, sender_idf_dic,\n",
    "                                                                         sender_idf_words, 0.003)\n",
    "    senders_twidf_mids[sender] = sender_twidf_mids\n",
    "    senders_twidf_matrixs[sender] = sender_twidf_matrix\n",
    "    "
   ]
  },
  {
   "cell_type": "code",
   "execution_count": 15,
   "metadata": {
    "collapsed": false
   },
   "outputs": [
    {
     "name": "stdout",
     "output_type": "stream",
     "text": [
      "\n"
     ]
    }
   ],
   "source": [
    "nb_close=50\n",
    "mid_recipient_scores = {}\n",
    "\n",
    "pbar_senders = tqdm_notebook(val_email_ids_per_sender.items())\n",
    "for sender, sender_val_mids in pbar_senders:\n",
    "    # Retrieve sender info\n",
    "    sender_average_doc_len = senders_mean_lengths[sender]\n",
    "    sender_idf_dic = senders_idf_dics[sender]\n",
    "    sender_idf_words = senders_idf_words[sender]\n",
    "    sender_twidf_mids = senders_twidf_mids[sender]\n",
    "    sender_twidf_matrix = senders_twidf_matrixs[sender]\n",
    "    for mid in sender_val_mids:\n",
    "        email_tokens = val_token_dict[mid]\n",
    "        query_vector = graphtools.get_twidf_vector_from_tokens(sender_idf_dic, sender_idf_words,\n",
    "                                                              email_tokens, sender_average_doc_len)\n",
    "        similars = knntools.find_similar(query_vector, sender_twidf_matrix,\n",
    "                                                                nb_similars=nb_close)\n",
    "        # Get mid in training set corresponding to best matches   \n",
    "        best_match_mid = [sender_twidf_mids[similar_item[0]] for similar_item in similars]\n",
    "        \n",
    "        # Get corresponding similarity scores\n",
    "        best_match_scores = [similar_item[1] for similar_item in similars]\n",
    "        test_mail_scores = defaultdict(lambda: 0)\n",
    "        for train_mid, train_score in zip(best_match_mid, best_match_scores):\n",
    "            recipients = preprocess.get_recipients(training_info, train_mid)\n",
    "            for recipient in recipients:\n",
    "                test_mail_scores[recipient] += train_score\n",
    "        mid_recipient_scores[mid] = test_mail_scores\n"
   ]
  },
  {
   "cell_type": "code",
   "execution_count": 16,
   "metadata": {
    "collapsed": false
   },
   "outputs": [],
   "source": [
    "twidf_predictions = knntools.similar_dic_to_standard(mid_recipient_scores, nb_recipients=100)\n",
    "current_score = scoring.compute_prediction_mad(twidf_predictions, val_info)"
   ]
  },
  {
   "cell_type": "code",
   "execution_count": 17,
   "metadata": {
    "collapsed": false
   },
   "outputs": [
    {
     "name": "stdout",
     "output_type": "stream",
     "text": [
      "0.289463602837\n"
     ]
    }
   ],
   "source": [
    "print(current_score)"
   ]
  },
  {
   "cell_type": "code",
   "execution_count": 19,
   "metadata": {
    "collapsed": true
   },
   "outputs": [],
   "source": [
    "path_to_ranks = 'ranks_val/twidf-knn-k-senders-{nb_neighbors}-rec'.format(nb_neighbors=nb_close)\n",
    "with open(path_to_ranks, 'wb') as infile:\n",
    "              pickle.dump(twidf_predictions, infile)"
   ]
  },
  {
   "cell_type": "code",
   "execution_count": null,
   "metadata": {
    "collapsed": true
   },
   "outputs": [],
   "source": []
  }
 ],
 "metadata": {
  "kernelspec": {
   "display_name": "Python 3",
   "language": "python",
   "name": "python3"
  },
  "language_info": {
   "codemirror_mode": {
    "name": "ipython",
    "version": 3
   },
   "file_extension": ".py",
   "mimetype": "text/x-python",
   "name": "python",
   "nbconvert_exporter": "python",
   "pygments_lexer": "ipython3",
   "version": "3.4.3"
  },
  "widgets": {
   "state": {
    "0039aff0073446949cac080e7608fb49": {
     "views": [
      {
       "cell_index": 6
      }
     ]
    },
    "00afc786e48445fb8abfecd06cfdd71e": {
     "views": [
      {
       "cell_index": 6
      }
     ]
    },
    "014c5b211b2c453bbea163ebc14a08e9": {
     "views": [
      {
       "cell_index": 6
      }
     ]
    },
    "023dfe5cc58c477bb0c4d5de2b0a5a0a": {
     "views": [
      {
       "cell_index": 6
      }
     ]
    },
    "02497bb6a35f4d08b5ab919c661f6d15": {
     "views": [
      {
       "cell_index": 6
      }
     ]
    },
    "033293174feb47a8bdc1ac1f7eff6626": {
     "views": [
      {
       "cell_index": 6
      }
     ]
    },
    "03ae5f32f12940228815216ecf4b89f5": {
     "views": [
      {
       "cell_index": 6
      }
     ]
    },
    "048f59826d844fd780276908e00866b2": {
     "views": [
      {
       "cell_index": 6
      }
     ]
    },
    "0567cbc1a6cb4241960b7d01658c93b6": {
     "views": [
      {
       "cell_index": 6
      }
     ]
    },
    "061a8d582aab48bb9e7000f3512169e2": {
     "views": [
      {
       "cell_index": 6
      }
     ]
    },
    "065bc0ce33c740dfa1c025c1b1c88df0": {
     "views": [
      {
       "cell_index": 6
      }
     ]
    },
    "06a86c464a1443e0a1396085169a093d": {
     "views": [
      {
       "cell_index": 6
      }
     ]
    },
    "0811ab4802f64f37aa2ab9a72f49916e": {
     "views": [
      {
       "cell_index": 6
      }
     ]
    },
    "088ebfb94c2145ae8641fdf0351a41cf": {
     "views": [
      {
       "cell_index": 6
      }
     ]
    },
    "08f2920904a24c0780d72c94e4b8b4f3": {
     "views": [
      {
       "cell_index": 6
      }
     ]
    },
    "0972183ade27468890a73b8f276db8d8": {
     "views": [
      {
       "cell_index": 6
      }
     ]
    },
    "0a380977858440f28d875a067ec95666": {
     "views": [
      {
       "cell_index": 6
      }
     ]
    },
    "0ae6a8d8c377472ea9b115beb3590e87": {
     "views": [
      {
       "cell_index": 6
      }
     ]
    },
    "0bf32a666db64cb28f911ab22900e21c": {
     "views": [
      {
       "cell_index": 6
      }
     ]
    },
    "0cc28821690040578fd25ed246e47e65": {
     "views": [
      {
       "cell_index": 6
      }
     ]
    },
    "0d45b74137ce4f72b4f6b5f33e57ee1b": {
     "views": [
      {
       "cell_index": 6
      }
     ]
    },
    "0dd999a0a1114ad1b5ea163c772d0f2a": {
     "views": [
      {
       "cell_index": 6
      }
     ]
    },
    "0ef4ed6c69354c18a792b5cb1a69eb05": {
     "views": [
      {
       "cell_index": 6
      }
     ]
    },
    "0ef95a2d35f74ce3a281b39f0401caec": {
     "views": [
      {
       "cell_index": 6
      }
     ]
    },
    "0f421a91cebc4bb9a4ab7389619a9cd5": {
     "views": [
      {
       "cell_index": 6
      }
     ]
    },
    "1002fcf0745742a1acfdb15b6cd98ffa": {
     "views": [
      {
       "cell_index": 6
      }
     ]
    },
    "10decdcafb024b8385ea7b8a508b5e30": {
     "views": [
      {
       "cell_index": 6
      }
     ]
    },
    "1142168b10834a21bc6cf623120db036": {
     "views": [
      {
       "cell_index": 6
      }
     ]
    },
    "116abffa1dc2496a81687717299e552b": {
     "views": [
      {
       "cell_index": 6
      }
     ]
    },
    "11b247a6191340db806ff1c81884b08d": {
     "views": [
      {
       "cell_index": 6
      }
     ]
    },
    "11bf331b2201495fa0a6d048eea41e08": {
     "views": [
      {
       "cell_index": 6
      }
     ]
    },
    "12d6c76ac05f4d61b20fed5995dc92e2": {
     "views": [
      {
       "cell_index": 6
      }
     ]
    },
    "1434f409633949aa9be367c41fcd55b3": {
     "views": [
      {
       "cell_index": 6
      }
     ]
    },
    "14bad003a7c74774ad11869f255bc307": {
     "views": [
      {
       "cell_index": 6
      }
     ]
    },
    "1512cdcbf93a4e7695cca833b5838171": {
     "views": [
      {
       "cell_index": 6
      }
     ]
    },
    "1546f2324b0f48f9a780a2102c49b1b9": {
     "views": [
      {
       "cell_index": 6
      }
     ]
    },
    "1551bac40a254b6aa85dca35012ecf48": {
     "views": [
      {
       "cell_index": 6
      }
     ]
    },
    "1606bcbc8b414032b433fc15d241736f": {
     "views": [
      {
       "cell_index": 6
      }
     ]
    },
    "16a8dd45abd84724bd64becf96b617d7": {
     "views": [
      {
       "cell_index": 6
      }
     ]
    },
    "173953bbf2334819950410dd705bd9a2": {
     "views": [
      {
       "cell_index": 6
      }
     ]
    },
    "176783708aad4ba5972697b6ba4477ef": {
     "views": [
      {
       "cell_index": 6
      }
     ]
    },
    "177b770664544ce2ac848404d160310d": {
     "views": [
      {
       "cell_index": 6
      }
     ]
    },
    "182b694aeb2b4f87b5d20b91558c1abb": {
     "views": [
      {
       "cell_index": 6
      }
     ]
    },
    "18741a5b2eb04939afeb6d30c4f19f24": {
     "views": [
      {
       "cell_index": 6
      }
     ]
    },
    "18eee7752b1f4df595c296d5ff784f65": {
     "views": [
      {
       "cell_index": 6
      }
     ]
    },
    "195ba364b2254149b16f386531dfcc48": {
     "views": [
      {
       "cell_index": 6
      }
     ]
    },
    "199f2202f67542258230d717213dbe78": {
     "views": [
      {
       "cell_index": 6
      }
     ]
    },
    "1b06b019038749a4a7259d7d11528696": {
     "views": [
      {
       "cell_index": 6
      }
     ]
    },
    "1b85715d5f284a9f96a2c9463b774273": {
     "views": [
      {
       "cell_index": 6
      }
     ]
    },
    "1c8e42fc89064ce8aeb9b5366d81c96b": {
     "views": [
      {
       "cell_index": 6
      }
     ]
    },
    "1ca51a0decae419d8e54c1a58b8d7a79": {
     "views": [
      {
       "cell_index": 6
      }
     ]
    },
    "1d5bf541c31c4fb18e204fdf12ca847f": {
     "views": [
      {
       "cell_index": 6
      }
     ]
    },
    "1e9860e7a78a4328b8a4dba9a8d1627f": {
     "views": [
      {
       "cell_index": 6
      }
     ]
    },
    "1fa06420515a4112a2eb80d2ddfc4b39": {
     "views": [
      {
       "cell_index": 6
      }
     ]
    },
    "1fd215ba446545439147ff92364945c4": {
     "views": [
      {
       "cell_index": 6
      }
     ]
    },
    "20d63ce37a974e1cb97a2e61a246c0cb": {
     "views": [
      {
       "cell_index": 6
      }
     ]
    },
    "224ada14b5164ef2a48167bda9556fa9": {
     "views": [
      {
       "cell_index": 6
      }
     ]
    },
    "22c01a71e8a1487fb2ca726b3c39047b": {
     "views": [
      {
       "cell_index": 6
      }
     ]
    },
    "2357d61fdaaa46b9bd79ca9ef11d9c15": {
     "views": [
      {
       "cell_index": 6
      }
     ]
    },
    "24399fc7cefc4b15b320e96655c06f6b": {
     "views": [
      {
       "cell_index": 6
      }
     ]
    },
    "24a22952986842d18e7db72f3464a29e": {
     "views": [
      {
       "cell_index": 6
      }
     ]
    },
    "2509c29b4328403a9c3c03f13b241110": {
     "views": [
      {
       "cell_index": 6
      }
     ]
    },
    "253c9b1ba8754817a32fcfd2432a6ceb": {
     "views": [
      {
       "cell_index": 6
      }
     ]
    },
    "25fc4a003e9943ae9f14023ad5f4552c": {
     "views": [
      {
       "cell_index": 6
      }
     ]
    },
    "26fb8b3efe744826be909c902d619e1d": {
     "views": [
      {
       "cell_index": 6
      }
     ]
    },
    "2889ac9d959941e2a3cf213cee9dc6cf": {
     "views": [
      {
       "cell_index": 6
      }
     ]
    },
    "28fc38719bba46679158f2c50336f835": {
     "views": [
      {
       "cell_index": 6
      }
     ]
    },
    "2980d35f8395472692106d56c2783ca3": {
     "views": [
      {
       "cell_index": 6
      }
     ]
    },
    "29e4018ee8cc4ec3b099a76f48b7ecca": {
     "views": [
      {
       "cell_index": 6
      }
     ]
    },
    "2a1c95bacae440b88b726fba07d1e59a": {
     "views": [
      {
       "cell_index": 6
      }
     ]
    },
    "2b21093ef25a47169df81295164ef3fe": {
     "views": [
      {
       "cell_index": 6
      }
     ]
    },
    "2b2139127f0f46b0a6441d5eeee0dc94": {
     "views": [
      {
       "cell_index": 6
      }
     ]
    },
    "2bcc70f2b05e447bb8ea227c8129bc49": {
     "views": [
      {
       "cell_index": 6
      }
     ]
    },
    "2c319b6243ca4b05b1631b5026eae824": {
     "views": [
      {
       "cell_index": 6
      }
     ]
    },
    "2d8d9d9b19474d2faab5b05e666b08b7": {
     "views": [
      {
       "cell_index": 6
      }
     ]
    },
    "2de335b2a3d341c089e402cfe4ace133": {
     "views": [
      {
       "cell_index": 6
      }
     ]
    },
    "2f29be6dee3440aa92bb9be5526c74e5": {
     "views": [
      {
       "cell_index": 6
      }
     ]
    },
    "3039b2ac02ad475684dab97d27d7e100": {
     "views": [
      {
       "cell_index": 6
      }
     ]
    },
    "30462dbd020940928efa4361f2b5608d": {
     "views": [
      {
       "cell_index": 6
      }
     ]
    },
    "3055c1775ea840fe86570cc782d1f9e1": {
     "views": [
      {
       "cell_index": 6
      }
     ]
    },
    "30a996aeff014a53918e91fcb131643a": {
     "views": [
      {
       "cell_index": 6
      }
     ]
    },
    "30d3290e684b44419c7a950b82bc0296": {
     "views": [
      {
       "cell_index": 6
      }
     ]
    },
    "30db7dab03154ae2bfb4780d73dcae6c": {
     "views": [
      {
       "cell_index": 6
      }
     ]
    },
    "322975a3766840fa94d55141bccfe1da": {
     "views": [
      {
       "cell_index": 6
      }
     ]
    },
    "323f2ed92a5740baad9c5bda5a754c08": {
     "views": [
      {
       "cell_index": 6
      }
     ]
    },
    "339ea8f607b64b398acaef197bf381a0": {
     "views": [
      {
       "cell_index": 6
      }
     ]
    },
    "33ddc6c6b2e34c4b911a854c69c4e37e": {
     "views": [
      {
       "cell_index": 6
      }
     ]
    },
    "345531dd7df749229d9a8d9e4bd21ca2": {
     "views": [
      {
       "cell_index": 6
      }
     ]
    },
    "347c3d2493f649b1b7733ace3b77ea33": {
     "views": [
      {
       "cell_index": 6
      }
     ]
    },
    "34d73a6386334583a19a3761e9235659": {
     "views": [
      {
       "cell_index": 6
      }
     ]
    },
    "3513f07bb0884b6a8be60394711e87f3": {
     "views": [
      {
       "cell_index": 6
      }
     ]
    },
    "3578c0979e474b339da47691be1a008d": {
     "views": [
      {
       "cell_index": 6
      }
     ]
    },
    "357cd6fd2f784afeb8341b9fdede379a": {
     "views": [
      {
       "cell_index": 6
      }
     ]
    },
    "384caa5507714ba398985df3a903da7d": {
     "views": [
      {
       "cell_index": 6
      }
     ]
    },
    "3867588785e94edea1a3076496b06325": {
     "views": [
      {
       "cell_index": 6
      }
     ]
    },
    "393ce06fcdd44e78974725b5c1e3f293": {
     "views": [
      {
       "cell_index": 6
      }
     ]
    },
    "3a2339804fc040308d7ab35fe9d40709": {
     "views": [
      {
       "cell_index": 6
      }
     ]
    },
    "3c3cf3093e47497ea74597aa5f0f39ff": {
     "views": [
      {
       "cell_index": 6
      }
     ]
    },
    "3cc12465ced04690887ad5d89b970d3b": {
     "views": [
      {
       "cell_index": 6
      }
     ]
    },
    "3cc222eb1ab84ecc84451e6a5afea4a3": {
     "views": [
      {
       "cell_index": 6
      }
     ]
    },
    "3d56c4970a0c475cb4ce48c8a5594368": {
     "views": [
      {
       "cell_index": 6
      }
     ]
    },
    "3d5e21261822449cb8a7ce450be88847": {
     "views": [
      {
       "cell_index": 6
      }
     ]
    },
    "3dd829615eb44a118a128e107f31bfa8": {
     "views": [
      {
       "cell_index": 6
      }
     ]
    },
    "3dfdb120b1684710ae66e1fb14553b35": {
     "views": [
      {
       "cell_index": 6
      }
     ]
    },
    "3e2c6ceed5a0448983660e4b6b3bf094": {
     "views": [
      {
       "cell_index": 6
      }
     ]
    },
    "3e88e5fbfec347e9bb10b5360bc6f099": {
     "views": [
      {
       "cell_index": 6
      }
     ]
    },
    "3f40bafb0a0749bd99c639bdb20e08cf": {
     "views": [
      {
       "cell_index": 6
      }
     ]
    },
    "402b3509b1054f4f81c6bb15120246b6": {
     "views": [
      {
       "cell_index": 6
      }
     ]
    },
    "402f00831390404dbaa9acae521f3846": {
     "views": [
      {
       "cell_index": 6
      }
     ]
    },
    "40898b7d89aa4b9e956896f37c321445": {
     "views": [
      {
       "cell_index": 6
      }
     ]
    },
    "40a4abbe3f8247b4b7d7476ad84835fb": {
     "views": [
      {
       "cell_index": 6
      }
     ]
    },
    "40e4352669674ae792566b480d411bb5": {
     "views": [
      {
       "cell_index": 6
      }
     ]
    },
    "41a26ba136e14c5f8fad8ff24710df5c": {
     "views": [
      {
       "cell_index": 6
      }
     ]
    },
    "4490a287a98244f192a0847ba6ac71ce": {
     "views": [
      {
       "cell_index": 6
      }
     ]
    },
    "449fc70e6f2a434d9ed4375d70d7362a": {
     "views": [
      {
       "cell_index": 7
      }
     ]
    },
    "44b47471aedd4a3ebe4d34f98a2e83c1": {
     "views": [
      {
       "cell_index": 6
      }
     ]
    },
    "44e9884730624210add100fbe6b65632": {
     "views": [
      {
       "cell_index": 6
      }
     ]
    },
    "465061c39235486197fb1af1f091977b": {
     "views": [
      {
       "cell_index": 6
      }
     ]
    },
    "467b66636a19444da574626e10b22bb0": {
     "views": [
      {
       "cell_index": 6
      }
     ]
    },
    "47f8a0af1dbe455cb198c1219d324249": {
     "views": [
      {
       "cell_index": 6
      }
     ]
    },
    "4817c14c272c484b9f289b08489c8667": {
     "views": [
      {
       "cell_index": 6
      }
     ]
    },
    "48a8a1068ee0451a9df8ea1268cb6ec5": {
     "views": [
      {
       "cell_index": 6
      }
     ]
    },
    "4920d2869676493d9a782addb217ca4f": {
     "views": [
      {
       "cell_index": 2
      }
     ]
    },
    "4b3b3a206d0746648135e9727d56c694": {
     "views": [
      {
       "cell_index": 6
      }
     ]
    },
    "4c180b6c9e824aebad8d8285d565c4ea": {
     "views": [
      {
       "cell_index": 6
      }
     ]
    },
    "4d201a017e2f4f93aa6f26704395b4b3": {
     "views": [
      {
       "cell_index": 6
      }
     ]
    },
    "4d90558713f54ce6a59f6a14996ac2e4": {
     "views": [
      {
       "cell_index": 6
      }
     ]
    },
    "4e480c5efe754553aa1b974df121411f": {
     "views": [
      {
       "cell_index": 6
      }
     ]
    },
    "4eb45d3bd28f4c06be1f5d0084ab7ada": {
     "views": [
      {
       "cell_index": 6
      }
     ]
    },
    "4f42b49b5c3a4a2193affeb54d295cb7": {
     "views": [
      {
       "cell_index": 6
      }
     ]
    },
    "508e90b0925b406c862e1a6ed2741185": {
     "views": [
      {
       "cell_index": 6
      }
     ]
    },
    "5172cbd574314f35a57f8925671353a1": {
     "views": [
      {
       "cell_index": 6
      }
     ]
    },
    "51aa13d70b574d19b7b7be75d72160b3": {
     "views": [
      {
       "cell_index": 6
      }
     ]
    },
    "5233cbc564124bcca5ad23f2a4bcc097": {
     "views": [
      {
       "cell_index": 6
      }
     ]
    },
    "52c24e76f12640cfae2faac70e085c3e": {
     "views": [
      {
       "cell_index": 6
      }
     ]
    },
    "530abc0c20394b779dafdbaa8424dfb2": {
     "views": [
      {
       "cell_index": 6
      }
     ]
    },
    "5374d3d356c44446a6370651afcf0e96": {
     "views": [
      {
       "cell_index": 6
      }
     ]
    },
    "53c43c47ffe54376b89282c16ce649a3": {
     "views": [
      {
       "cell_index": 6
      }
     ]
    },
    "5424c9525fe14910b32df5eb019ffcff": {
     "views": [
      {
       "cell_index": 6
      }
     ]
    },
    "543025e289d44c5f8f7936af07eb52c7": {
     "views": [
      {
       "cell_index": 6
      }
     ]
    },
    "549ce87aa6504f6aa058eeb8fa745657": {
     "views": [
      {
       "cell_index": 6
      }
     ]
    },
    "54f329a2ae714a1db93fc70a468b9db2": {
     "views": [
      {
       "cell_index": 6
      }
     ]
    },
    "550950c7c3bd4807af36875bb2da5194": {
     "views": [
      {
       "cell_index": 6
      }
     ]
    },
    "550ae5c4759b4ffb964b534275251afd": {
     "views": [
      {
       "cell_index": 6
      }
     ]
    },
    "55a40cf245f04c05ab4c67e8e6ef6a56": {
     "views": [
      {
       "cell_index": 6
      }
     ]
    },
    "58190d203e6f42099bc211b2fc90dc95": {
     "views": [
      {
       "cell_index": 6
      }
     ]
    },
    "5930cffe0fad4e3ea9cd34e82306434b": {
     "views": [
      {
       "cell_index": 6
      }
     ]
    },
    "5a081c367e3745988143ace4dc3c9b9c": {
     "views": [
      {
       "cell_index": 6
      }
     ]
    },
    "5a1e7af538004a1785156f6fefb31cfd": {
     "views": [
      {
       "cell_index": 6
      }
     ]
    },
    "5afc547538c64170b0c233ca7f1752f5": {
     "views": [
      {
       "cell_index": 6
      }
     ]
    },
    "5b0738a00b3545a9921c9e30433801d0": {
     "views": [
      {
       "cell_index": 6
      }
     ]
    },
    "5c115a425ebb4538ad4cdbd732fb2c11": {
     "views": [
      {
       "cell_index": 6
      }
     ]
    },
    "5cc235b79eb645efa7b747341562c108": {
     "views": [
      {
       "cell_index": 6
      }
     ]
    },
    "5f425f49ddfe47bc91b10eb6f55fb671": {
     "views": [
      {
       "cell_index": 6
      }
     ]
    },
    "5f69769e399e46658146163833d43b0f": {
     "views": [
      {
       "cell_index": 6
      }
     ]
    },
    "5f6a5f6a88344a55b13ba8b0e3a1b373": {
     "views": [
      {
       "cell_index": 6
      }
     ]
    },
    "5f8fe4f0e4f94affa7af821213345373": {
     "views": [
      {
       "cell_index": 6
      }
     ]
    },
    "6003d4d5494846c89ca64ce8d08ed118": {
     "views": [
      {
       "cell_index": 6
      }
     ]
    },
    "60a58d69844d4f90a49a94cfa144ff35": {
     "views": [
      {
       "cell_index": 6
      }
     ]
    },
    "62d85be89df94a51a3c7cd7a9d603a81": {
     "views": [
      {
       "cell_index": 6
      }
     ]
    },
    "65df439d1cad4404b7145eabfbd4f49a": {
     "views": [
      {
       "cell_index": 6
      }
     ]
    },
    "665f1997db924e5b8675734f89d74b9d": {
     "views": [
      {
       "cell_index": 6
      }
     ]
    },
    "668bed1372b64dc49d3382338d32cf20": {
     "views": [
      {
       "cell_index": 6
      }
     ]
    },
    "677a4637a42e4493a9adcdc67cb9d230": {
     "views": [
      {
       "cell_index": 6
      }
     ]
    },
    "69da276bb7cf424c976bf7d9de6ef30a": {
     "views": [
      {
       "cell_index": 6
      }
     ]
    },
    "69fb8a1ac71f4211aff51f594580a676": {
     "views": [
      {
       "cell_index": 6
      }
     ]
    },
    "6b03f94088b1483c90d41b00359aa004": {
     "views": [
      {
       "cell_index": 6
      }
     ]
    },
    "6c0a5abb03a546b29bab3bf72f6f118e": {
     "views": [
      {
       "cell_index": 6
      }
     ]
    },
    "6c16764684aa44438f9638e79b138699": {
     "views": [
      {
       "cell_index": 6
      }
     ]
    },
    "6d5affb479cc4eda95e52d10e50677df": {
     "views": [
      {
       "cell_index": 6
      }
     ]
    },
    "6d8b4bfe9b584a1898e3a9930f81f07b": {
     "views": [
      {
       "cell_index": 6
      }
     ]
    },
    "6ddbc766a19a423e91d9a42b1476f00e": {
     "views": [
      {
       "cell_index": 6
      }
     ]
    },
    "6e890588a11045e29fb5ee0e6754729d": {
     "views": [
      {
       "cell_index": 2
      }
     ]
    },
    "6f3106fd93ae4277ae93a2d215144b9c": {
     "views": [
      {
       "cell_index": 6
      }
     ]
    },
    "6f84e5c97f7f40d0b9094f750d574f90": {
     "views": [
      {
       "cell_index": 6
      }
     ]
    },
    "6ffe8750ff644d69be85a030557cbd3e": {
     "views": [
      {
       "cell_index": 6
      }
     ]
    },
    "70021ff0a6344e7b9efd7d61ac2032d2": {
     "views": [
      {
       "cell_index": 6
      }
     ]
    },
    "71461591c74c4eba8d65b585eff409dc": {
     "views": [
      {
       "cell_index": 6
      }
     ]
    },
    "72337efce5434b05aaef05075ac282c9": {
     "views": [
      {
       "cell_index": 6
      }
     ]
    },
    "75f8dc4864b54d4f95f839532a9d0188": {
     "views": [
      {
       "cell_index": 6
      }
     ]
    },
    "773b4e9841bf4d73836c3708944d2157": {
     "views": [
      {
       "cell_index": 6
      }
     ]
    },
    "77d50dc91d564e1ba157a57e8ef341b9": {
     "views": [
      {
       "cell_index": 6
      }
     ]
    },
    "77d51248644745d38b24fd3ac6c04765": {
     "views": [
      {
       "cell_index": 6
      }
     ]
    },
    "79287802e74e474a87d416a8a3ec1e21": {
     "views": [
      {
       "cell_index": 6
      }
     ]
    },
    "79d30e7705f4419ea70b10b38e628d37": {
     "views": [
      {
       "cell_index": 6
      }
     ]
    },
    "7ba08fa65d364f1183f158ac5aa9f99e": {
     "views": [
      {
       "cell_index": 6
      }
     ]
    },
    "7c067f48b07742eea0f41d1d0653e4c1": {
     "views": [
      {
       "cell_index": 6
      }
     ]
    },
    "7e05976295214cb5a58c12a5578507f5": {
     "views": [
      {
       "cell_index": 6
      }
     ]
    },
    "7e97b81c876c4f7eb6410f06dc356908": {
     "views": [
      {
       "cell_index": 6
      }
     ]
    },
    "7eb74e2ad01d428a90264cb7144aff42": {
     "views": [
      {
       "cell_index": 6
      }
     ]
    },
    "7f1e335c472b432da7f1b697ce83f921": {
     "views": [
      {
       "cell_index": 6
      }
     ]
    },
    "7f2f61400c1446dcb194461f2d2b377c": {
     "views": [
      {
       "cell_index": 6
      }
     ]
    },
    "84532db176274eab9b898cb1b5376670": {
     "views": [
      {
       "cell_index": 6
      }
     ]
    },
    "847150fa82f6474f8309848cb413e925": {
     "views": [
      {
       "cell_index": 6
      }
     ]
    },
    "853a5b312cd4464fb54d88c2ef4cae96": {
     "views": [
      {
       "cell_index": 6
      }
     ]
    },
    "873c2ed72e9341cda562c4b7d6ebed4a": {
     "views": [
      {
       "cell_index": 6
      }
     ]
    },
    "88f8a98b37a541b5b1e54279d140da98": {
     "views": [
      {
       "cell_index": 6
      }
     ]
    },
    "893233c6f87c481eb12e11567bb9a22e": {
     "views": [
      {
       "cell_index": 6
      }
     ]
    },
    "89a4146f6a1b4406a29c835a27d12806": {
     "views": [
      {
       "cell_index": 6
      }
     ]
    },
    "89b09bd5d1d9424da68e9c38c2f3eac9": {
     "views": [
      {
       "cell_index": 6
      }
     ]
    },
    "8a10cb203f5c4820acfbdc276f4f8588": {
     "views": [
      {
       "cell_index": 6
      }
     ]
    },
    "8a50c7a4212c49a2a7121695706adcf3": {
     "views": [
      {
       "cell_index": 6
      }
     ]
    },
    "8ab2a7d86a9f4666978d706dc0e39307": {
     "views": [
      {
       "cell_index": 6
      }
     ]
    },
    "8ade7e1d8111417aa5962f371e2a1926": {
     "views": [
      {
       "cell_index": 6
      }
     ]
    },
    "8af0ff7cef254eeba9ca8f31107a6f04": {
     "views": [
      {
       "cell_index": 6
      }
     ]
    },
    "8b5468ae2a4340db9f76919463178eeb": {
     "views": [
      {
       "cell_index": 6
      }
     ]
    },
    "8c3f7317bab2447e8b000b5aa11af313": {
     "views": [
      {
       "cell_index": 6
      }
     ]
    },
    "8c6fe904639b4517a932fef6e68bfab3": {
     "views": [
      {
       "cell_index": 6
      }
     ]
    },
    "8c7ab0286ef241f5a08d92474ffa1e70": {
     "views": [
      {
       "cell_index": 6
      }
     ]
    },
    "8cdde828eba3424b98654126261d98d8": {
     "views": [
      {
       "cell_index": 6
      }
     ]
    },
    "8e29a3e0e24441f69106ac51110e5586": {
     "views": [
      {
       "cell_index": 6
      }
     ]
    },
    "8e3248e9376441f6a71ec728b26d4a2c": {
     "views": [
      {
       "cell_index": 6
      }
     ]
    },
    "8e640c8d07f342de96593d4423df39d2": {
     "views": [
      {
       "cell_index": 6
      }
     ]
    },
    "8edda57df7694e3380e9d5a4af91c1e3": {
     "views": [
      {
       "cell_index": 6
      }
     ]
    },
    "8fa07646b8cc459f8249ed6c4aae3887": {
     "views": [
      {
       "cell_index": 6
      }
     ]
    },
    "902fb053cb7c40f49a1b461365ac61fd": {
     "views": [
      {
       "cell_index": 6
      }
     ]
    },
    "9171038eaebe4260b1203aa77147aad1": {
     "views": [
      {
       "cell_index": 3
      }
     ]
    },
    "9389c6ba38994b8b8ca2715414b3914a": {
     "views": [
      {
       "cell_index": 6
      }
     ]
    },
    "93d474c221c94c558788c0f5e27b81cd": {
     "views": [
      {
       "cell_index": 6
      }
     ]
    },
    "94c99bd644594f608940168134f186c4": {
     "views": [
      {
       "cell_index": 6
      }
     ]
    },
    "95b5a53dd1d4486085bd992da3495ecf": {
     "views": [
      {
       "cell_index": 6
      }
     ]
    },
    "9615ba7459924530972ba41cdd7735ef": {
     "views": [
      {
       "cell_index": 6
      }
     ]
    },
    "96f37cbd888546b2914ca3186c81c363": {
     "views": [
      {
       "cell_index": 6
      }
     ]
    },
    "9832e5c1f30245b0b48be3bdc92ec544": {
     "views": [
      {
       "cell_index": 6
      }
     ]
    },
    "98e56ca0c61f405a92d2affeba87dda3": {
     "views": [
      {
       "cell_index": 6
      }
     ]
    },
    "9a213431125341cda67d2c8c0134d1a5": {
     "views": [
      {
       "cell_index": 6
      }
     ]
    },
    "9a2d09d76d3d405aa2662c1957ab82a1": {
     "views": [
      {
       "cell_index": 6
      }
     ]
    },
    "9a536637955a4fe78a66956bc85c1ff2": {
     "views": [
      {
       "cell_index": 6
      }
     ]
    },
    "9b664b45f9264edd914f07d60c416eb1": {
     "views": [
      {
       "cell_index": 6
      }
     ]
    },
    "9b8e4c9038cf4648bf657d513c0cbc68": {
     "views": [
      {
       "cell_index": 6
      }
     ]
    },
    "9bca3882fac14b9e9ef54ae82e963517": {
     "views": [
      {
       "cell_index": 6
      }
     ]
    },
    "9cea9dbbc75a44988ed7952e69dce968": {
     "views": [
      {
       "cell_index": 6
      }
     ]
    },
    "9d29185e0d58465f98a4cb414250e509": {
     "views": [
      {
       "cell_index": 6
      }
     ]
    },
    "9d8f24a570594d4cb663f1a2ce428aa5": {
     "views": [
      {
       "cell_index": 6
      }
     ]
    },
    "9dba45e119e94081b1c608455c3db872": {
     "views": [
      {
       "cell_index": 6
      }
     ]
    },
    "9e51b299583d4895b1a7b230e17b0d33": {
     "views": [
      {
       "cell_index": 6
      }
     ]
    },
    "9f97f1d94b864e408fefc609a9572b06": {
     "views": [
      {
       "cell_index": 6
      }
     ]
    },
    "a0660f56c646466d844463c42c932759": {
     "views": [
      {
       "cell_index": 6
      }
     ]
    },
    "a1761b4d310b4cf69e875c55fbda07d1": {
     "views": [
      {
       "cell_index": 6
      }
     ]
    },
    "a1b9cafb5dd84efd9312bfb473688e00": {
     "views": [
      {
       "cell_index": 6
      }
     ]
    },
    "a3d98c08febf4d99a0e7a1e0b244f33d": {
     "views": [
      {
       "cell_index": 6
      }
     ]
    },
    "a46099a323b14176aa672e604100b62f": {
     "views": [
      {
       "cell_index": 6
      }
     ]
    },
    "a4fe5cee035f4f6da0855a3b701545f1": {
     "views": [
      {
       "cell_index": 6
      }
     ]
    },
    "a5d11da7a7c24d52adf38f63a3c62c8a": {
     "views": [
      {
       "cell_index": 6
      }
     ]
    },
    "a5eb5686e3bd4eb5abfbd4ed44da5bb1": {
     "views": [
      {
       "cell_index": 6
      }
     ]
    },
    "a666fc590d7a4453a0be33fa00f72ab3": {
     "views": [
      {
       "cell_index": 6
      }
     ]
    },
    "a67f2666100d44dba0c5803d5d385a9d": {
     "views": [
      {
       "cell_index": 6
      }
     ]
    },
    "a6c5ab3b5a8c49cfb05ce8f4ec7123ea": {
     "views": [
      {
       "cell_index": 6
      }
     ]
    },
    "a6d65046176f4e05a004a0c05ea74bc6": {
     "views": [
      {
       "cell_index": 6
      }
     ]
    },
    "a6e15ebfbda04d5a8eae0ed85dcab2fe": {
     "views": [
      {
       "cell_index": 6
      }
     ]
    },
    "a703380d903242c6b1ee2045b9bbd54c": {
     "views": [
      {
       "cell_index": 6
      }
     ]
    },
    "a7b9d71fde4f49dd8548addc3ba008d2": {
     "views": [
      {
       "cell_index": 6
      }
     ]
    },
    "a8ee90edd78442afa83034bfe7a9925a": {
     "views": [
      {
       "cell_index": 6
      }
     ]
    },
    "a961c98a05274acb949b80f2fca9cb1c": {
     "views": [
      {
       "cell_index": 6
      }
     ]
    },
    "a977aab0f44c413787d28615c9b578be": {
     "views": [
      {
       "cell_index": 6
      }
     ]
    },
    "a9eb09c53f5444e9b27caaa7d3928ec2": {
     "views": [
      {
       "cell_index": 6
      }
     ]
    },
    "a9f2e6fa34614b92a40d6a62e804a023": {
     "views": [
      {
       "cell_index": 6
      }
     ]
    },
    "ac493fb56dcc4534b076c285273fafa9": {
     "views": [
      {
       "cell_index": 6
      }
     ]
    },
    "ae5047f9e25d4f1c825ccd80461f313a": {
     "views": [
      {
       "cell_index": 6
      }
     ]
    },
    "ae54026df17c4913bb866004159a118d": {
     "views": [
      {
       "cell_index": 6
      }
     ]
    },
    "af65be51b13b4cc8bfcfd7a3d4fb3fc1": {
     "views": [
      {
       "cell_index": 6
      }
     ]
    },
    "b1ac7ce4c20748529e330138bc614b33": {
     "views": [
      {
       "cell_index": 6
      }
     ]
    },
    "b2cbfca559d04385aa171139cbca1156": {
     "views": [
      {
       "cell_index": 6
      }
     ]
    },
    "b2f00fe362e946f98826361be4098144": {
     "views": [
      {
       "cell_index": 6
      }
     ]
    },
    "b3a385b6630a470e9dd9ef1e55c3739c": {
     "views": [
      {
       "cell_index": 6
      }
     ]
    },
    "b3e89dffeb1c4a2bb5bcbfc56f37c776": {
     "views": [
      {
       "cell_index": 6
      }
     ]
    },
    "b5f0f46656734bb4b5acc5fc11748918": {
     "views": [
      {
       "cell_index": 6
      }
     ]
    },
    "b6a87db0104d487eb1054b11a01e6108": {
     "views": [
      {
       "cell_index": 6
      }
     ]
    },
    "b6e48cc0c9354a48a20f94b5e611bf4b": {
     "views": [
      {
       "cell_index": 6
      }
     ]
    },
    "b82691eda4e44b88845b5bf6015baae9": {
     "views": [
      {
       "cell_index": 6
      }
     ]
    },
    "b8bdd7f3b6fd4e12a44c5714eb17d43d": {
     "views": [
      {
       "cell_index": 6
      }
     ]
    },
    "b8fec2e8c9784951905e9cac83feb659": {
     "views": [
      {
       "cell_index": 6
      }
     ]
    },
    "b980b50746ab4c41a3ff46f97aac943d": {
     "views": [
      {
       "cell_index": 6
      }
     ]
    },
    "b9d08affc0664df495e40c36252bcfa4": {
     "views": [
      {
       "cell_index": 6
      }
     ]
    },
    "ba193a74155542c2bff38a651b91b5be": {
     "views": [
      {
       "cell_index": 6
      }
     ]
    },
    "ba1c4de744fe462991179232a8c5f259": {
     "views": [
      {
       "cell_index": 6
      }
     ]
    },
    "ba35c919598d4da89e87208dcf9ae121": {
     "views": [
      {
       "cell_index": 6
      }
     ]
    },
    "ba55da0bcdce404285964d5b426ae161": {
     "views": [
      {
       "cell_index": 6
      }
     ]
    },
    "ba6a482e37c84249b06b576d58f8ae5e": {
     "views": [
      {
       "cell_index": 6
      }
     ]
    },
    "bc76f9194d15427b8c9dacb9033e94e1": {
     "views": [
      {
       "cell_index": 6
      }
     ]
    },
    "bd52e932fc864fb2a218070d9a0428d9": {
     "views": [
      {
       "cell_index": 6
      }
     ]
    },
    "bef5a9111c6a4e9c8f747e5618f68c30": {
     "views": [
      {
       "cell_index": 6
      }
     ]
    },
    "bf0c2a91d1154a8b8caa588cfe2e86b1": {
     "views": [
      {
       "cell_index": 6
      }
     ]
    },
    "bfba096abc564185a74e2162533ed8f7": {
     "views": [
      {
       "cell_index": 6
      }
     ]
    },
    "bfe2bccdcf3047f5a8b89155deb849a1": {
     "views": [
      {
       "cell_index": 6
      }
     ]
    },
    "c0325e1d48244db1bd7ecd21dcfc17db": {
     "views": [
      {
       "cell_index": 6
      }
     ]
    },
    "c03940714f454952b3fe60cda0da4927": {
     "views": [
      {
       "cell_index": 6
      }
     ]
    },
    "c2a32a7f49214520bde1428fdc9f929d": {
     "views": [
      {
       "cell_index": 6
      }
     ]
    },
    "c39ea89e3d324400b0ffce65e1f20177": {
     "views": [
      {
       "cell_index": 6
      }
     ]
    },
    "c3adb95af7a84582bf727bb21d9502f7": {
     "views": [
      {
       "cell_index": 6
      }
     ]
    },
    "c41d019e06f44a2c868cb2f800d14d22": {
     "views": [
      {
       "cell_index": 3
      }
     ]
    },
    "c557bbda8fc447bf8cb2e779c75ceb00": {
     "views": [
      {
       "cell_index": 6
      }
     ]
    },
    "c5c4a9792c644502b8a579fa41e0d0e5": {
     "views": [
      {
       "cell_index": 6
      }
     ]
    },
    "c5eb1bc084704037ae27a11e568617eb": {
     "views": [
      {
       "cell_index": 6
      }
     ]
    },
    "c6bc6cce691e458882deddf58e902655": {
     "views": [
      {
       "cell_index": 6
      }
     ]
    },
    "c78cc199302142b88d9e9fd8bad148f1": {
     "views": [
      {
       "cell_index": 6
      }
     ]
    },
    "c8003d820d514e8083219d5f53823de1": {
     "views": [
      {
       "cell_index": 6
      }
     ]
    },
    "c8ff0729f1d44832a2cfe038e54d56d8": {
     "views": [
      {
       "cell_index": 6
      }
     ]
    },
    "cc3a2a684c8b42cf964e9f78b1be3df4": {
     "views": [
      {
       "cell_index": 6
      }
     ]
    },
    "cc790c889af147b996ecd45f84f22fdf": {
     "views": [
      {
       "cell_index": 6
      }
     ]
    },
    "cd0397b164364d4091fbc222bfdd397c": {
     "views": [
      {
       "cell_index": 6
      }
     ]
    },
    "cebd48c05e354b5d8a82d0f06e5ee762": {
     "views": [
      {
       "cell_index": 6
      }
     ]
    },
    "cee0525942c943a79a3674090ca043d7": {
     "views": [
      {
       "cell_index": 6
      }
     ]
    },
    "cf7568f800ac4f5792a9c5e88b3a04b3": {
     "views": [
      {
       "cell_index": 6
      }
     ]
    },
    "d01ce110cc7a47c1bfbcfc1ece315250": {
     "views": [
      {
       "cell_index": 6
      }
     ]
    },
    "d090f813a468447e8dc9fa3b6df793be": {
     "views": [
      {
       "cell_index": 6
      }
     ]
    },
    "d0c804a0468944e3a78e35fe775341bc": {
     "views": [
      {
       "cell_index": 6
      }
     ]
    },
    "d12eb8e6d1184a288476585905e142c8": {
     "views": [
      {
       "cell_index": 6
      }
     ]
    },
    "d1847806f4cc4617a4502d0542ee9d48": {
     "views": [
      {
       "cell_index": 6
      }
     ]
    },
    "d1c228c3765f4836854c2e706d9af717": {
     "views": [
      {
       "cell_index": 6
      }
     ]
    },
    "d26aa4a246d345cea5486914396dd1f8": {
     "views": [
      {
       "cell_index": 6
      }
     ]
    },
    "d2a119dc03834c92925ade99d89fbbf3": {
     "views": [
      {
       "cell_index": 6
      }
     ]
    },
    "d4bef4daa6e348aa9e5b1b24b6678207": {
     "views": [
      {
       "cell_index": 6
      }
     ]
    },
    "d4d2891eb2c6496fa0bb639272d6d35a": {
     "views": [
      {
       "cell_index": 6
      }
     ]
    },
    "d4fa97fbb57e43a588c7ebd85f3dfe69": {
     "views": [
      {
       "cell_index": 6
      }
     ]
    },
    "d539d8ea5964484784f7ff997d4e19cb": {
     "views": [
      {
       "cell_index": 6
      }
     ]
    },
    "d6310bf9260c424da68db6748aee32bd": {
     "views": [
      {
       "cell_index": 6
      }
     ]
    },
    "d6703870b79b4ab0aaeee33b18548837": {
     "views": [
      {
       "cell_index": 6
      }
     ]
    },
    "d6735ee552f540af9579bf1008d94265": {
     "views": [
      {
       "cell_index": 6
      }
     ]
    },
    "d7aea1305b3f4bdc9870dcec8d26d933": {
     "views": [
      {
       "cell_index": 6
      }
     ]
    },
    "d7f0c55bf947433db9350bd9b9490cc4": {
     "views": [
      {
       "cell_index": 4
      }
     ]
    },
    "d831b4603c544eb9a809a67487982f45": {
     "views": [
      {
       "cell_index": 6
      }
     ]
    },
    "d90870084fb44facb955093065158cd9": {
     "views": [
      {
       "cell_index": 6
      }
     ]
    },
    "d909ae7880af48b0a03329bd88f2d733": {
     "views": [
      {
       "cell_index": 6
      }
     ]
    },
    "da1919ae516f4590b5ccb2d6b901b606": {
     "views": [
      {
       "cell_index": 6
      }
     ]
    },
    "da55b4519ecf4ed3bbe05b306e643bd9": {
     "views": [
      {
       "cell_index": 4
      }
     ]
    },
    "da71f9f2dc8b475abe3b6c872b9a308f": {
     "views": [
      {
       "cell_index": 6
      }
     ]
    },
    "dad0b907bf5a4f13a0f6fff87c4cd2eb": {
     "views": [
      {
       "cell_index": 6
      }
     ]
    },
    "db6217601d1047ac85eff8f8554f21e9": {
     "views": [
      {
       "cell_index": 6
      }
     ]
    },
    "db8d61f93b1a4306a8cb9338840dba20": {
     "views": [
      {
       "cell_index": 6
      }
     ]
    },
    "db998228ad674f31845869051de6e853": {
     "views": [
      {
       "cell_index": 6
      }
     ]
    },
    "dc458543d2c2421688f52649f50555a1": {
     "views": [
      {
       "cell_index": 6
      }
     ]
    },
    "dcba3332d67e4392aa60d377defc1eb0": {
     "views": [
      {
       "cell_index": 6
      }
     ]
    },
    "dce027c38a994993bd7b5ae9b2d79136": {
     "views": [
      {
       "cell_index": 6
      }
     ]
    },
    "ddfd117d8cb741b9aed4417ff7653599": {
     "views": [
      {
       "cell_index": 6
      }
     ]
    },
    "dee38c256a934affa9c24edf207a313a": {
     "views": [
      {
       "cell_index": 6
      }
     ]
    },
    "df886b80ba23417ca5e7cfbbdc782ea7": {
     "views": [
      {
       "cell_index": 6
      }
     ]
    },
    "e01a2088de8740898970eb1eb1c9f9bc": {
     "views": [
      {
       "cell_index": 6
      }
     ]
    },
    "e13ee1d3a48845d891ffcaf3cad50c5f": {
     "views": [
      {
       "cell_index": 6
      }
     ]
    },
    "e14b4292569c4f4c860d0e1c7cb3ccab": {
     "views": [
      {
       "cell_index": 6
      }
     ]
    },
    "e199bb1b2cca4f039ae926895fc240a4": {
     "views": [
      {
       "cell_index": 6
      }
     ]
    },
    "e2a3baf01c784bf3bd190d8f6e26cb3d": {
     "views": [
      {
       "cell_index": 6
      }
     ]
    },
    "e3a58dd2b802487a9a380b065ae3b568": {
     "views": [
      {
       "cell_index": 6
      }
     ]
    },
    "e3e077c946e24d11a82d3107c0ff9f71": {
     "views": [
      {
       "cell_index": 6
      }
     ]
    },
    "e4750f20cbe9407689a4fb631c574af2": {
     "views": [
      {
       "cell_index": 6
      }
     ]
    },
    "e673b58432014755a8adc3f9eedd0103": {
     "views": [
      {
       "cell_index": 6
      }
     ]
    },
    "e789e9b68f944c8089ca3d8e60caa290": {
     "views": [
      {
       "cell_index": 6
      }
     ]
    },
    "e8bc2f9bda0a4090a35314f7a9f19c62": {
     "views": [
      {
       "cell_index": 6
      }
     ]
    },
    "e9107fdb86834372b2b98b2aa58541ea": {
     "views": [
      {
       "cell_index": 6
      }
     ]
    },
    "e9b4097f34b94de2a16205e932e67290": {
     "views": [
      {
       "cell_index": 6
      }
     ]
    },
    "ea1c12f19070479599b0f33becbb5b27": {
     "views": [
      {
       "cell_index": 6
      }
     ]
    },
    "ea90b49877fb4f5bb5c38c8bec9e4210": {
     "views": [
      {
       "cell_index": 6
      }
     ]
    },
    "ead570c4406b44bb9e91d3c0348ca441": {
     "views": [
      {
       "cell_index": 6
      }
     ]
    },
    "eb9d1de08106435ba7654bb26892f7f5": {
     "views": [
      {
       "cell_index": 6
      }
     ]
    },
    "ebdbc58ed1e44da09d5d6391c73f0fd9": {
     "views": [
      {
       "cell_index": 6
      }
     ]
    },
    "ecf599931d2d4ce5ab96d618dac018ee": {
     "views": [
      {
       "cell_index": 6
      }
     ]
    },
    "ed2ce01563614c9d9e82ad27fa4cb576": {
     "views": [
      {
       "cell_index": 6
      }
     ]
    },
    "ed3bfac39fcb4605934dd4e5f6ec01d0": {
     "views": [
      {
       "cell_index": 6
      }
     ]
    },
    "edbd1b49684e44a0b7b14d23f42a34b1": {
     "views": [
      {
       "cell_index": 6
      }
     ]
    },
    "ee4f3a314a034506988fe953ff40ad44": {
     "views": [
      {
       "cell_index": 6
      }
     ]
    },
    "ee8c049e4542415ca8ed0f22d39aa374": {
     "views": [
      {
       "cell_index": 6
      }
     ]
    },
    "efe447cdeb274c568f017745b6b58051": {
     "views": [
      {
       "cell_index": 6
      }
     ]
    },
    "f0b5b4972eec4107b283d868bd13987e": {
     "views": [
      {
       "cell_index": 6
      }
     ]
    },
    "f15c1c0ac437414189f57f07ca472bbd": {
     "views": [
      {
       "cell_index": 6
      }
     ]
    },
    "f1c0ac06354441c189c62fb5d1235297": {
     "views": [
      {
       "cell_index": 6
      }
     ]
    },
    "f1d6420ab1ec41dba47d025fc06ac448": {
     "views": [
      {
       "cell_index": 6
      }
     ]
    },
    "f251c7a9bd2e4358b0d5e429e5c68afd": {
     "views": [
      {
       "cell_index": 6
      }
     ]
    },
    "f2e8c68f21184b8fb189ef080ad9d77a": {
     "views": [
      {
       "cell_index": 6
      }
     ]
    },
    "f45f763c31a5449fbaa16169ded6997c": {
     "views": [
      {
       "cell_index": 6
      }
     ]
    },
    "f5c6ef06ce9640cc917e95b4c6d63aad": {
     "views": [
      {
       "cell_index": 6
      }
     ]
    },
    "f7b388d2d31e45468fc3b6fb2c8061ca": {
     "views": [
      {
       "cell_index": 6
      }
     ]
    },
    "f8145b9b42dc4e6281487238686491d4": {
     "views": [
      {
       "cell_index": 6
      }
     ]
    },
    "f9886bdc002a4f6ea9563fdacf514f92": {
     "views": [
      {
       "cell_index": 6
      }
     ]
    },
    "f9ca7d26a7d84c0b9b4c84fd4d2b9ee1": {
     "views": [
      {
       "cell_index": 6
      }
     ]
    },
    "f9ea2863b88545cf8db18b36042ecc9c": {
     "views": [
      {
       "cell_index": 6
      }
     ]
    },
    "fa2ed8e965834def9b2748aa5eca6c28": {
     "views": [
      {
       "cell_index": 6
      }
     ]
    },
    "fb0d0e4cc2984c55a3d9d83f3ad30bd4": {
     "views": [
      {
       "cell_index": 6
      }
     ]
    },
    "fb1d7e7243514da5b9287841af3ad7a7": {
     "views": [
      {
       "cell_index": 6
      }
     ]
    },
    "fb83547813664d1b9a28ac3c25379bb6": {
     "views": [
      {
       "cell_index": 6
      }
     ]
    },
    "fd212a5536bd4f8994b68b8bc32ced34": {
     "views": [
      {
       "cell_index": 6
      }
     ]
    },
    "fd759dbfbea24c008a59676dd8402aa5": {
     "views": [
      {
       "cell_index": 6
      }
     ]
    },
    "fe42bd2933074a24a7359fb3025f07cd": {
     "views": [
      {
       "cell_index": 6
      }
     ]
    },
    "ff38ee75cf6748c0bd9b59c8950ece8c": {
     "views": [
      {
       "cell_index": 6
      }
     ]
    }
   },
   "version": "1.2.0"
  }
 },
 "nbformat": 4,
 "nbformat_minor": 2
}
