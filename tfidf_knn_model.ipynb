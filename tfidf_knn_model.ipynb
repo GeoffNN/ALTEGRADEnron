{
 "cells": [
  {
   "cell_type": "code",
   "execution_count": 1,
   "metadata": {
    "collapsed": false
   },
   "outputs": [],
   "source": [
    "from matplotlib import pyplot as plt\n",
    "import numpy as np\n",
    "import operator\n",
    "import pandas as pd\n",
    "import pickle\n",
    "import random\n",
    "import scipy\n",
    "from sklearn.metrics.pairwise import linear_kernel\n",
    "from sklearn.neighbors import NearestNeighbors\n",
    "\n",
    "import src.tools as tools\n",
    "import src.recencytools as recency\n",
    "import src.postprocess as postprocess\n",
    "import src.preprocess as preprocess\n",
    "import src.tfidftools as tfidftools\n",
    "import src.knntools as knntools\n",
    "\n",
    "%load_ext autoreload\n",
    "%autoreload 2\n",
    "%matplotlib inline"
   ]
  },
  {
   "cell_type": "code",
   "execution_count": 2,
   "metadata": {
    "collapsed": false
   },
   "outputs": [],
   "source": [
    "path_to_data = 'data/'\n",
    "\n",
    "training = pd.read_csv(path_to_data + 'training_set.csv', sep=',', header=0)\n",
    "\n",
    "training_info = pd.read_csv(\n",
    "    path_to_data + 'training_info.csv', sep=',', parse_dates=True, header=0)\n",
    "\n",
    "test = pd.read_csv(path_to_data + 'test_set.csv', sep=',', header=0)\n",
    "\n",
    "test_info = pd.read_csv(path_to_data + 'test_info.csv',\n",
    "                        sep=',', parse_dates=True, header=0)\n",
    "path_to_results = 'results/'"
   ]
  },
  {
   "cell_type": "code",
   "execution_count": 3,
   "metadata": {
    "collapsed": false
   },
   "outputs": [
    {
     "name": "stdout",
     "output_type": "stream",
     "text": [
      "Constructing dictionnary from dataframe...\n",
      "0 / 43613\n",
      "10000 / 43613\n",
      "20000 / 43613\n",
      "30000 / 43613\n",
      "40000 / 43613\n",
      "done !\n"
     ]
    }
   ],
   "source": [
    "token_dict = preprocess.body_dict_from_panda(training_info)"
   ]
  },
  {
   "cell_type": "code",
   "execution_count": 4,
   "metadata": {
    "collapsed": false
   },
   "outputs": [],
   "source": [
    "path_to_tfidf_model = 'results/tfidf_model'\n",
    "path_to_tfidf_matrix = 'results/tfidf_matrix'"
   ]
  },
  {
   "cell_type": "markdown",
   "metadata": {},
   "source": [
    "## Create tfidf representation\n",
    "\n",
    "If model not available at path_to_tfidf_model\n",
    "launch cell and then comment !"
   ]
  },
  {
   "cell_type": "code",
   "execution_count": 5,
   "metadata": {
    "collapsed": false
   },
   "outputs": [],
   "source": [
    "tfidf_model, tfidf_matrix, tfidf_mids = tfidftools.get_tfidf(token_dict, 0.001, 0.10)\n",
    "\n",
    "# Save to files\n",
    "with open(path_to_tfidf_model, 'wb') as infile:\n",
    "    pickle.dump(tfidf_model, infile)\n",
    "with open(path_to_tfidf_matrix, 'wb') as infile:\n",
    "    pickle.dump(tfidf_matrix, infile)"
   ]
  },
  {
   "cell_type": "markdown",
   "metadata": {},
   "source": [
    "Else, launch this cell right away !"
   ]
  },
  {
   "cell_type": "code",
   "execution_count": 14,
   "metadata": {
    "collapsed": false
   },
   "outputs": [],
   "source": [
    "with open(path_to_tfidf_model, 'rb') as infile:\n",
    "    tfidf_model = pickle.load(infile)\n",
    "    \n",
    "with open(path_to_tfidf_matrix, 'rb') as infile:\n",
    "    tfidf_matrix = pickle.load(infile)"
   ]
  },
  {
   "cell_type": "markdown",
   "metadata": {},
   "source": [
    "## K-NN\n",
    "\n",
    "Compute recipients by finding k-nearest tfidf neighbors over **all** the emails (not only the ones sent by the same sender) "
   ]
  },
  {
   "cell_type": "code",
   "execution_count": 6,
   "metadata": {
    "collapsed": false,
    "scrolled": true
   },
   "outputs": [
    {
     "name": "stdout",
     "output_type": "stream",
     "text": [
      "\n"
     ]
    }
   ],
   "source": [
    "nb_neighbors = 50\n",
    "\n",
    "mid_recipient_scores = knntools.compute_similarity_scores(tfidf_model, tfidf_matrix,\n",
    "                              tfidf_mids, training_info, test_info, nb_similars=nb_neighbors)\n"
   ]
  },
  {
   "cell_type": "code",
   "execution_count": 7,
   "metadata": {
    "collapsed": false
   },
   "outputs": [],
   "source": [
    "nb_recipients = 10\n",
    "knn_dic = knntools.similar_dic_to_standard(mid_recipient_scores, keep_all=True)"
   ]
  },
  {
   "cell_type": "markdown",
   "metadata": {},
   "source": [
    "## Save results for fusion and submission"
   ]
  },
  {
   "cell_type": "code",
   "execution_count": 8,
   "metadata": {
    "collapsed": false
   },
   "outputs": [],
   "source": [
    "path_to_ranks = 'ranks_test/knn-k-{nb_neighbors}-rec-all'.format(nb_neighbors=nb_neighbors)\n",
    "with open(path_to_ranks, 'wb') as infile:\n",
    "          pickle.dump(knn_dic, infile)"
   ]
  },
  {
   "cell_type": "code",
   "execution_count": 14,
   "metadata": {
    "collapsed": false
   },
   "outputs": [],
   "source": [
    "postprocess.write_results_ranked(knn_dic,path_to_results, 'knn-k-{nb_neighbors}.csv'.format(nb_neighbors=nb_neighbors))"
   ]
  }
 ],
 "metadata": {
  "kernelspec": {
   "display_name": "Python 3",
   "language": "python",
   "name": "python3"
  },
  "language_info": {
   "codemirror_mode": {
    "name": "ipython",
    "version": 3
   },
   "file_extension": ".py",
   "mimetype": "text/x-python",
   "name": "python",
   "nbconvert_exporter": "python",
   "pygments_lexer": "ipython3",
   "version": "3.4.3"
  }
 },
 "nbformat": 4,
 "nbformat_minor": 2
}
