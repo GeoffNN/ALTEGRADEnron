{
 "cells": [
  {
   "cell_type": "code",
   "execution_count": 1,
   "metadata": {
    "collapsed": false
   },
   "outputs": [],
   "source": [
    "from collections import defaultdict\n",
    "import datetime\n",
    "from gensim import corpora, models, similarities\n",
    "from matplotlib import pyplot as plt\n",
    "import numpy as np\n",
    "import operator\n",
    "import pandas as pd\n",
    "import pickle\n",
    "import random\n",
    "import re\n",
    "import scipy\n",
    "from sklearn.preprocessing import MultiLabelBinarizer\n",
    "\n",
    "from tqdm import tqdm_notebook\n",
    "\n",
    "import src.knntools as knntools\n",
    "import src.postprocess as postprocess\n",
    "import src.preprocess as preprocess\n",
    "import src.tfidftools as tfidftools\n",
    "import src.tools as tools\n",
    "import src.recencytools as recency\n",
    "import src.scoring as scoring\n",
    "import src.textembeddingtools as texttools\n",
    "\n",
    "%load_ext autoreload\n",
    "%autoreload 2\n",
    "%matplotlib inline"
   ]
  },
  {
   "cell_type": "markdown",
   "metadata": {},
   "source": [
    "## Random forests with topic and day-of-week features\n",
    "\n",
    "Because of RAM limitations we did not experiment with a global model and instead limitated ourselves to sender specific models"
   ]
  },
  {
   "cell_type": "code",
   "execution_count": 2,
   "metadata": {
    "collapsed": true
   },
   "outputs": [],
   "source": [
    "path_to_data = 'data/'\n",
    "\n",
    "training = pd.read_csv(path_to_data + 'training_set.csv', sep=',', header=0)\n",
    "\n",
    "training_info = pd.read_csv(\n",
    "    path_to_data + 'training_info.csv', sep=',', parse_dates=True, header=0)\n",
    "\n",
    "test = pd.read_csv(path_to_data + 'test_set.csv', sep=',', header=0)\n",
    "\n",
    "test_info = pd.read_csv(path_to_data + 'test_info.csv',\n",
    "                        sep=',', parse_dates=True, header=0)\n",
    "path_to_results = 'results/'"
   ]
  },
  {
   "cell_type": "code",
   "execution_count": 3,
   "metadata": {
    "collapsed": false
   },
   "outputs": [
    {
     "name": "stdout",
     "output_type": "stream",
     "text": [
      "\n",
      "\n"
     ]
    },
    {
     "name": "stderr",
     "output_type": "stream",
     "text": [
      "Widget Javascript not detected.  It may not be installed properly. Did you enable the widgetsnbextension? If not, then run \"jupyter nbextension enable --py --sys-prefix widgetsnbextension\"\n",
      "Widget Javascript not detected.  It may not be installed properly. Did you enable the widgetsnbextension? If not, then run \"jupyter nbextension enable --py --sys-prefix widgetsnbextension\"\n"
     ]
    }
   ],
   "source": [
    "training_email_ids_per_sender = preprocess.get_email_ids_per_sender(training)\n",
    "test_email_ids_per_sender = preprocess.get_email_ids_per_sender(test)"
   ]
  },
  {
   "cell_type": "code",
   "execution_count": 4,
   "metadata": {
    "collapsed": false
   },
   "outputs": [
    {
     "name": "stdout",
     "output_type": "stream",
     "text": [
      "\n",
      "\n"
     ]
    }
   ],
   "source": [
    "training_body_dict = preprocess.body_dict_from_panda(training_info)\n",
    "test_body_dict = preprocess.body_dict_from_panda(test_info)\n"
   ]
  },
  {
   "cell_type": "code",
   "execution_count": 5,
   "metadata": {
    "collapsed": false
   },
   "outputs": [
    {
     "name": "stdout",
     "output_type": "stream",
     "text": [
      "\n",
      "\n"
     ]
    }
   ],
   "source": [
    "training_token_dict = texttools.get_token_dict(training_body_dict)\n",
    "test_token_dict = texttools.get_token_dict(test_body_dict)"
   ]
  },
  {
   "cell_type": "code",
   "execution_count": 6,
   "metadata": {
    "collapsed": false
   },
   "outputs": [],
   "source": [
    "training_email_list, training_idx_to_mids = texttools.token_dicts_to_token_lists(training_token_dict, rarity_threshold=3)\n",
    "test_email_list, test_idx_to_mids = texttools.token_dicts_to_token_lists(test_token_dict, rarity_threshold=3)"
   ]
  },
  {
   "cell_type": "code",
   "execution_count": 7,
   "metadata": {
    "collapsed": false
   },
   "outputs": [],
   "source": [
    "# Assign unique id to word\n",
    "training_word_id_dic = corpora.Dictionary(training_email_list)\n",
    "\n",
    "# Compute email corpush as bow [[(wordid_1_1, count_1_1), ...] ...]\n",
    "training_email_corpus = [training_word_id_dic.doc2bow(text) for text in training_email_list]\n",
    "test_email_corpus = [training_word_id_dic.doc2bow(text) for text in test_email_list]"
   ]
  },
  {
   "cell_type": "code",
   "execution_count": 8,
   "metadata": {
    "collapsed": false
   },
   "outputs": [
    {
     "name": "stdout",
     "output_type": "stream",
     "text": [
      "43613\n"
     ]
    }
   ],
   "source": [
    "nb_topics = 200\n",
    "nb_training_emails = len(training_email_corpus)\n",
    "print(nb_training_emails)"
   ]
  },
  {
   "cell_type": "code",
   "execution_count": 9,
   "metadata": {
    "collapsed": false
   },
   "outputs": [],
   "source": [
    "# model_vars_path = 'variables/hdp_similarities_{thres_nb}_words_out_no_punct'.format(thres_nb=rarity_thres)\n",
    "stored_model_results = ['variables/training-lda-200.p']\n",
    "\n",
    "lda_model = texttools.compute_model(training_email_corpus, training_word_id_dic, model='lda', nb_topics=nb_topics,\n",
    "                                    use_saved=True, save=True, model_results_path=stored_model_results[0])"
   ]
  },
  {
   "cell_type": "code",
   "execution_count": 10,
   "metadata": {
    "collapsed": false
   },
   "outputs": [
    {
     "name": "stdout",
     "output_type": "stream",
     "text": [
      "\n"
     ]
    }
   ],
   "source": [
    "training_senders_mid_features_dict, training_senders_idx_to_mid_dic = texttools.get_sender_model_features_from_tokens(training_email_ids_per_sender,\n",
    "                                                    training_token_dict, training_word_id_dic, lda_model, nb_topics)"
   ]
  },
  {
   "cell_type": "code",
   "execution_count": 11,
   "metadata": {
    "collapsed": false
   },
   "outputs": [],
   "source": [
    "training_lda_sender_features_path = 'variables/training-lda-200-sender-features-dic.p'\n",
    "\n",
    "# with open(training_lda_sender_features_path, 'wb') as outfile:\n",
    "#     pickle.dump(training_senders_mid_features_dict, outfile)\n",
    "    \n",
    "with open(training_lda_sender_features_path, 'rb') as infile:\n",
    "    training_senders_mid_features_dict = pickle.load(infile)\n",
    "\n",
    "training_lda_sender_idx_to_mid_path = 'variables/training-lda-200-sender-idx-to-mids-dic.p'\n",
    "\n",
    "# with open(training_lda_sender_idx_to_mid_path, 'wb') as outfile:\n",
    "#     pickle.dump(training_senders_idx_to_mid_dic, outfile)\n",
    "    \n",
    "with open(training_lda_sender_idx_to_mid_path, 'rb') as infile:\n",
    "    training_senders_idx_to_mid_dic = pickle.load(infile)"
   ]
  },
  {
   "cell_type": "code",
   "execution_count": 12,
   "metadata": {
    "collapsed": false
   },
   "outputs": [
    {
     "name": "stdout",
     "output_type": "stream",
     "text": [
      "\n"
     ]
    }
   ],
   "source": [
    "test_senders_mid_features_dict, test_senders_idx_to_mid_dic = texttools.get_sender_model_features_from_tokens(test_email_ids_per_sender, test_token_dict,\n",
    "                                                                                training_word_id_dic, lda_model, nb_topics)"
   ]
  },
  {
   "cell_type": "code",
   "execution_count": 13,
   "metadata": {
    "collapsed": true
   },
   "outputs": [],
   "source": [
    "training_day_features_dic = recency.get_sender_sparse_date_info(training_email_ids_per_sender, \n",
    "                                                         training_senders_idx_to_mid_dic, training_info)\n",
    "test_day_features_dic = recency.get_sender_sparse_date_info(test_email_ids_per_sender,\n",
    "                                                       test_senders_idx_to_mid_dic, test_info)"
   ]
  },
  {
   "cell_type": "code",
   "execution_count": 14,
   "metadata": {
    "collapsed": true
   },
   "outputs": [],
   "source": [
    "training_stacked_features_dict = texttools.create_stacked_feature_dic([training_senders_mid_features_dict, training_day_features_dic])\n",
    "test_stacked_features_dict = texttools.create_stacked_feature_dic([test_senders_mid_features_dict, test_day_features_dic])"
   ]
  },
  {
   "cell_type": "code",
   "execution_count": 15,
   "metadata": {
    "collapsed": false
   },
   "outputs": [
    {
     "name": "stdout",
     "output_type": "stream",
     "text": [
      "\n"
     ]
    }
   ],
   "source": [
    "training_sender_recipients_binaries, training_sender_idx_to_recipients = preprocess.get_one_hot_sender_recipients(training_senders_idx_to_mid_dic, training_info)"
   ]
  },
  {
   "cell_type": "code",
   "execution_count": 16,
   "metadata": {
    "collapsed": false
   },
   "outputs": [
    {
     "name": "stdout",
     "output_type": "stream",
     "text": [
      "\n"
     ]
    }
   ],
   "source": [
    "nb_tree=20\n",
    "test_tree_predictions = texttools.tree_train_predict(training_stacked_features_dict, training_sender_recipients_binaries,\n",
    "                           training_sender_idx_to_recipients, test_stacked_features_dict, test_senders_idx_to_mid_dic,\n",
    "                                                     nb_tree=nb_tree, min_samples_split=20, min_samples_leaf=10)"
   ]
  },
  {
   "cell_type": "markdown",
   "metadata": {
    "collapsed": true
   },
   "source": [
    "## Save results"
   ]
  },
  {
   "cell_type": "code",
   "execution_count": 17,
   "metadata": {
    "collapsed": false
   },
   "outputs": [],
   "source": [
    "path_to_ranks = 'ranks_test/trees-tree-nb-{nb_tree}-{nb_topics}'.format(nb_tree=nb_tree, nb_topics=nb_topics)\n",
    "with open(path_to_ranks, 'wb') as infile:\n",
    "          pickle.dump(test_tree_predictions, infile)"
   ]
  },
  {
   "cell_type": "code",
   "execution_count": 18,
   "metadata": {
    "collapsed": true
   },
   "outputs": [],
   "source": [
    "postprocess.write_results_ranked(test_tree_predictions, path_to_results,\n",
    "                                 'trees-tree-nb-{nb_tree}-topics-{nb_topics}.txt'.format(nb_tree=nb_tree,\n",
    "                                                                                     nb_topics=nb_topics))"
   ]
  },
  {
   "cell_type": "code",
   "execution_count": 34,
   "metadata": {
    "collapsed": false
   },
   "outputs": [
    {
     "name": "stdout",
     "output_type": "stream",
     "text": [
      "2362\n"
     ]
    }
   ],
   "source": [
    "print(len(test_tree_predictions))"
   ]
  },
  {
   "cell_type": "code",
   "execution_count": null,
   "metadata": {
    "collapsed": true
   },
   "outputs": [],
   "source": []
  }
 ],
 "metadata": {
  "kernelspec": {
   "display_name": "Python 3",
   "language": "python",
   "name": "python3"
  },
  "language_info": {
   "codemirror_mode": {
    "name": "ipython",
    "version": 3
   },
   "file_extension": ".py",
   "mimetype": "text/x-python",
   "name": "python",
   "nbconvert_exporter": "python",
   "pygments_lexer": "ipython3",
   "version": "3.4.3"
  },
  "widgets": {
   "state": {
    "0051b6a2dc6044c7bd990817b233bc75": {
     "views": [
      {
       "cell_index": 9
      }
     ]
    },
    "00f0f0c86024478f887ee85151df63ee": {
     "views": [
      {
       "cell_index": 14
      }
     ]
    },
    "0117d58fbd7643aa9f437e51ed50f893": {
     "views": [
      {
       "cell_index": 9
      }
     ]
    },
    "0221a10c3a9b40c581d3ad75abde32ff": {
     "views": [
      {
       "cell_index": 14
      }
     ]
    },
    "03cd7800fa39445b8e31f95c4ed8768d": {
     "views": [
      {
       "cell_index": 9
      }
     ]
    },
    "03eda4baf89e4e0486f5dbffb795ccef": {
     "views": [
      {
       "cell_index": 9
      }
     ]
    },
    "07a396668c994f99bbeb6999b872e84b": {
     "views": [
      {
       "cell_index": 14
      }
     ]
    },
    "0859cf4afdaa41e8b0a6bb9831dd3bd5": {
     "views": [
      {
       "cell_index": 11
      }
     ]
    },
    "097bc65cea80448d8516df7baed0008b": {
     "views": [
      {
       "cell_index": 11
      }
     ]
    },
    "0aabb2a0a780401d835b56d632a0dcf6": {
     "views": [
      {
       "cell_index": 9
      }
     ]
    },
    "0cfbe72ac3e34f3d8eea29ab5c7835c6": {
     "views": [
      {
       "cell_index": 11
      }
     ]
    },
    "0d5b2e5e99964cfeb1dcc226fc862ff2": {
     "views": [
      {
       "cell_index": 9
      }
     ]
    },
    "0f8916c91e194abc823169d9e2bb1519": {
     "views": [
      {
       "cell_index": 2
      }
     ]
    },
    "111e851eb1eb44bf841df54eea63c217": {
     "views": [
      {
       "cell_index": 14
      }
     ]
    },
    "138e8b66ab154c9abc88b3c5d6b78cfc": {
     "views": [
      {
       "cell_index": 14
      }
     ]
    },
    "139761a81fb64716babc03ad2815eae8": {
     "views": [
      {
       "cell_index": 9
      }
     ]
    },
    "15037ed224d54b51985db698470486e7": {
     "views": [
      {
       "cell_index": 9
      }
     ]
    },
    "1539de11b40647918237f71e96be2cce": {
     "views": [
      {
       "cell_index": 11
      }
     ]
    },
    "155aaa13b2cb4bd9b3f16012f015090a": {
     "views": [
      {
       "cell_index": 9
      }
     ]
    },
    "16b49357d3314e2e93cb0e3ffed57f41": {
     "views": [
      {
       "cell_index": 14
      }
     ]
    },
    "17cc35c1a4cd4f0a81990f1a06621113": {
     "views": [
      {
       "cell_index": 11
      }
     ]
    },
    "17dd2a3986e742a68b4128469eb88199": {
     "views": [
      {
       "cell_index": 3
      }
     ]
    },
    "17e27533f974466aa800590fe63a3ff8": {
     "views": [
      {
       "cell_index": 14
      }
     ]
    },
    "1a25d6e767984a5b96c138e326b7486a": {
     "views": [
      {
       "cell_index": 14
      }
     ]
    },
    "1bdcf624f2c2471cb6760f95f7f89c81": {
     "views": [
      {
       "cell_index": 14
      }
     ]
    },
    "1d3dd7a757784afaa6ccd92721eaf0a3": {
     "views": [
      {
       "cell_index": 14
      }
     ]
    },
    "1e8a7995760b4c7c91a584dac7a4233e": {
     "views": [
      {
       "cell_index": 11
      }
     ]
    },
    "20223841d49b42eb927330532b52dd36": {
     "views": [
      {
       "cell_index": 9
      }
     ]
    },
    "2044ae8e58e343369b9f00ef3896b2f2": {
     "views": [
      {
       "cell_index": 9
      }
     ]
    },
    "209e8ee7e5cb4eabbb74cd996492aa53": {
     "views": [
      {
       "cell_index": 11
      }
     ]
    },
    "21c1129ddf224ec88edd5f8b827441a3": {
     "views": [
      {
       "cell_index": 4
      }
     ]
    },
    "2298a3dd0eb94035a84fe6402ee44180": {
     "views": [
      {
       "cell_index": 9
      }
     ]
    },
    "22c9879c948f454995d30efb39912719": {
     "views": [
      {
       "cell_index": 9
      }
     ]
    },
    "270d9b4db96e4a699cd0fc6c0fe9c692": {
     "views": [
      {
       "cell_index": 11
      }
     ]
    },
    "29827ea40a754dcc9a7e753f59f4d4ba": {
     "views": [
      {
       "cell_index": 9
      }
     ]
    },
    "2c775441dfc4468d8ade39956515a893": {
     "views": [
      {
       "cell_index": 14
      }
     ]
    },
    "2c9d1350cf3a492986a6825a551861dc": {
     "views": [
      {
       "cell_index": 9
      }
     ]
    },
    "2dc355026f35447bb89d00262f949edb": {
     "views": [
      {
       "cell_index": 11
      }
     ]
    },
    "31571dd9cccc4bd0af27a26edea4646c": {
     "views": [
      {
       "cell_index": 9
      }
     ]
    },
    "36adeefbc6074826b9cee31836e5f5ad": {
     "views": [
      {
       "cell_index": 14
      }
     ]
    },
    "37f3545276a343538334452b47510d3e": {
     "views": [
      {
       "cell_index": 9
      }
     ]
    },
    "3bafd5a921e94d759b67aa78f757d63b": {
     "views": [
      {
       "cell_index": 9
      }
     ]
    },
    "3bc4bcd329cb4f20ac79605d9742ed8e": {
     "views": [
      {
       "cell_index": 9
      }
     ]
    },
    "3be79321a68341269f8c5eae702334da": {
     "views": [
      {
       "cell_index": 9
      }
     ]
    },
    "3c4fd77b56174f5788e35ba706550f29": {
     "views": [
      {
       "cell_index": 14
      }
     ]
    },
    "3c52a64e3af14b7883f73e8d68423fa2": {
     "views": [
      {
       "cell_index": 11
      }
     ]
    },
    "3dba73db2fa4423bb6a7fd86877f8624": {
     "views": [
      {
       "cell_index": 14
      }
     ]
    },
    "4298f42e7e0a40f5a4bf89d43798029b": {
     "views": [
      {
       "cell_index": 14
      }
     ]
    },
    "4319de6008724a4aa6e69544067d6da9": {
     "views": [
      {
       "cell_index": 14
      }
     ]
    },
    "43dd97a086dc464ab35acab6caa2a7c2": {
     "views": [
      {
       "cell_index": 11
      }
     ]
    },
    "447b3b0e15554686a19208914eb608e0": {
     "views": [
      {
       "cell_index": 14
      }
     ]
    },
    "4661597af714428bb1f2676b9eb9d7cb": {
     "views": [
      {
       "cell_index": 9
      }
     ]
    },
    "48355a4f8093423b927f2d3d4c510298": {
     "views": [
      {
       "cell_index": 9
      }
     ]
    },
    "49e06223bdb947aabae0941376bb976c": {
     "views": [
      {
       "cell_index": 11
      }
     ]
    },
    "4b09822a5ea14e30bbca8577e62eb041": {
     "views": [
      {
       "cell_index": 14
      }
     ]
    },
    "4b3aaff8cb0840438fb7d4993cd08a16": {
     "views": [
      {
       "cell_index": 14
      }
     ]
    },
    "4baea9ae39f14430aa49fdb1c5d48e33": {
     "views": [
      {
       "cell_index": 11
      }
     ]
    },
    "4d80b1780cab40d6a0d43bd40cc0b66e": {
     "views": [
      {
       "cell_index": 11
      }
     ]
    },
    "4f92d967de86496da8e347927cde0092": {
     "views": [
      {
       "cell_index": 9
      }
     ]
    },
    "51c461e1078245ad9b14434be411dce8": {
     "views": [
      {
       "cell_index": 11
      }
     ]
    },
    "53337b4c1aee459382c055164150e075": {
     "views": [
      {
       "cell_index": 2
      }
     ]
    },
    "55d3745cc2884007a46e9619f52ce3fc": {
     "views": [
      {
       "cell_index": 11
      }
     ]
    },
    "56748d46ac7a4d4c86843d86d14ad1a6": {
     "views": [
      {
       "cell_index": 14
      }
     ]
    },
    "568939a21f1a44aeb431756d807fada7": {
     "views": [
      {
       "cell_index": 11
      }
     ]
    },
    "56a3a7a0625c4d5f889861b729f7e400": {
     "views": [
      {
       "cell_index": 9
      }
     ]
    },
    "572f581a9857486980e71aa2cb2dd8c1": {
     "views": [
      {
       "cell_index": 11
      }
     ]
    },
    "5791cd0194db4dc0a0e5b8ec19a1ed92": {
     "views": [
      {
       "cell_index": 9
      }
     ]
    },
    "588d2c8406b64000aa6f26e56f3cdee9": {
     "views": [
      {
       "cell_index": 11
      }
     ]
    },
    "5900272b7f8c4088a20ef7eb2ca5f058": {
     "views": [
      {
       "cell_index": 11
      }
     ]
    },
    "59b6c29ea32a431ea87b3d03353f9f9c": {
     "views": [
      {
       "cell_index": 9
      }
     ]
    },
    "5cf07905084e4eb1aaac1ce584338a22": {
     "views": [
      {
       "cell_index": 9
      }
     ]
    },
    "5d69b81fac3b4857be1e3c84aebb7f48": {
     "views": [
      {
       "cell_index": 9
      }
     ]
    },
    "5e06d853e0fd4b0d97db9cbaede61908": {
     "views": [
      {
       "cell_index": 9
      }
     ]
    },
    "5fc6e5295f32456ea53d14a84783494f": {
     "views": [
      {
       "cell_index": 14
      }
     ]
    },
    "61ae877a2d584324bf0df6824bba5559": {
     "views": [
      {
       "cell_index": 9
      }
     ]
    },
    "61cef1b3e9e34c9196b8f49e7ab576ec": {
     "views": [
      {
       "cell_index": 9
      }
     ]
    },
    "6270a068358447c38642358df74e54b9": {
     "views": [
      {
       "cell_index": 11
      }
     ]
    },
    "6569b84cdc5d41ce93c7c27c3bb68a1c": {
     "views": [
      {
       "cell_index": 11
      }
     ]
    },
    "6756825e78164d1eabbe5090cf4d9d29": {
     "views": [
      {
       "cell_index": 14
      }
     ]
    },
    "686d9b7778434a1bac8dfdb4c1292937": {
     "views": [
      {
       "cell_index": 14
      }
     ]
    },
    "69177a90518a4c448e00a3b098a52acf": {
     "views": [
      {
       "cell_index": 14
      }
     ]
    },
    "6a70eaf090fd4f82a8a0d9e3332f6dbc": {
     "views": [
      {
       "cell_index": 9
      }
     ]
    },
    "6ca710d387cf4ae885cfb2ae15494ba2": {
     "views": [
      {
       "cell_index": 9
      }
     ]
    },
    "6d5e6882d0ff460cab6e4028f603da23": {
     "views": [
      {
       "cell_index": 9
      }
     ]
    },
    "6dec7af8a12d4df3901a0ce27062ca70": {
     "views": [
      {
       "cell_index": 14
      }
     ]
    },
    "6fa0c1acaa0544f6bda486fe03ea07a0": {
     "views": [
      {
       "cell_index": 11
      }
     ]
    },
    "6ff154ce184a41178f161a13e610a280": {
     "views": [
      {
       "cell_index": 14
      }
     ]
    },
    "70c33a9e76d74d23922ac77b2385b91f": {
     "views": [
      {
       "cell_index": 14
      }
     ]
    },
    "74b64706f43a4fe38610798b579146d4": {
     "views": [
      {
       "cell_index": 11
      }
     ]
    },
    "74ea4fd2fb6d4550ade783d3114a18d7": {
     "views": [
      {
       "cell_index": 11
      }
     ]
    },
    "756b9e8b7a5e410599023d3a88920f96": {
     "views": [
      {
       "cell_index": 14
      }
     ]
    },
    "76eb4e15cfc9431a8122cac4ca1aff93": {
     "views": [
      {
       "cell_index": 9
      }
     ]
    },
    "778066d070064ff999e61a499fa87e90": {
     "views": [
      {
       "cell_index": 9
      }
     ]
    },
    "794f2ee37fc44486a0c012975dea7e2b": {
     "views": [
      {
       "cell_index": 9
      }
     ]
    },
    "7aa29bebe06a4e4eae4c613516ce5fe1": {
     "views": [
      {
       "cell_index": 14
      }
     ]
    },
    "7aa3a923ea344c94b5f988b14c4e992c": {
     "views": [
      {
       "cell_index": 11
      }
     ]
    },
    "7ac36f93588b45efac5288a8e3c152a4": {
     "views": [
      {
       "cell_index": 14
      }
     ]
    },
    "7b59cea19a1d4ec99585b019a5d7fdbf": {
     "views": [
      {
       "cell_index": 11
      }
     ]
    },
    "7e75ccbc86c84c619240aa6d9625791f": {
     "views": [
      {
       "cell_index": 14
      }
     ]
    },
    "7ee63d9ca5c94695810ecdfd5cfb5136": {
     "views": [
      {
       "cell_index": 14
      }
     ]
    },
    "7f011e5bf1bd43749da5f7108a00e2f5": {
     "views": [
      {
       "cell_index": 9
      }
     ]
    },
    "82be0dc951da4402b0643dff4e971030": {
     "views": [
      {
       "cell_index": 14
      }
     ]
    },
    "82c0f474d7a24a64b646e8f974e6cfe7": {
     "views": [
      {
       "cell_index": 14
      }
     ]
    },
    "8462ae4589c74e939c73db796a1626c4": {
     "views": [
      {
       "cell_index": 14
      }
     ]
    },
    "890da5bfd1b84ceeb379e7d94a1fb7bf": {
     "views": [
      {
       "cell_index": 11
      }
     ]
    },
    "8a76a45c274d46ff875ecfd04979f23a": {
     "views": [
      {
       "cell_index": 14
      }
     ]
    },
    "8c24f5f0e56c47b7b406916485e8c795": {
     "views": [
      {
       "cell_index": 4
      }
     ]
    },
    "8d12237c562b4200bf3bbf78b6b5e6fb": {
     "views": [
      {
       "cell_index": 14
      }
     ]
    },
    "8d39f726feb14c7e8587c6994153bd43": {
     "views": [
      {
       "cell_index": 14
      }
     ]
    },
    "8db40fa7d38d40fdbebd6916958c0473": {
     "views": [
      {
       "cell_index": 14
      }
     ]
    },
    "9005095a29e14081922f6f4ff35a20d4": {
     "views": [
      {
       "cell_index": 11
      }
     ]
    },
    "92f0a362c96f4a628810cf0190af2cfb": {
     "views": [
      {
       "cell_index": 11
      }
     ]
    },
    "945da57acbc544c3b6dd791630e5ee22": {
     "views": [
      {
       "cell_index": 11
      }
     ]
    },
    "94d14edddcd64ea4b07216c5978bf1a7": {
     "views": [
      {
       "cell_index": 11
      }
     ]
    },
    "95dfc6e4f8c246a7a2ec7c26ea1bd2aa": {
     "views": [
      {
       "cell_index": 14
      }
     ]
    },
    "965f2d77e0b748b580662e5bc9cba1f3": {
     "views": [
      {
       "cell_index": 11
      }
     ]
    },
    "9700c7d41f81464698dc97240be564c6": {
     "views": [
      {
       "cell_index": 14
      }
     ]
    },
    "9709402032724643952bd1d4b78c56bf": {
     "views": [
      {
       "cell_index": 11
      }
     ]
    },
    "98d4421052a242a6b91fdb2dc65191e0": {
     "views": [
      {
       "cell_index": 11
      }
     ]
    },
    "9967803aeee34a56b944cc8561b6de08": {
     "views": [
      {
       "cell_index": 11
      }
     ]
    },
    "99efaa70272b458081fbaf218f3ae90c": {
     "views": [
      {
       "cell_index": 14
      }
     ]
    },
    "9acd837116ab43aab3347dd7a2febcdc": {
     "views": [
      {
       "cell_index": 14
      }
     ]
    },
    "9aefe08278a745578984bf0d7310c439": {
     "views": [
      {
       "cell_index": 11
      }
     ]
    },
    "9c2ae66ecea74402a793de70dd9c3e3a": {
     "views": [
      {
       "cell_index": 9
      }
     ]
    },
    "9cd6e6c5deaf46b9837a69e2bb2740d1": {
     "views": [
      {
       "cell_index": 11
      }
     ]
    },
    "9d07abc8c8c74bd19dd47fcc29a372af": {
     "views": [
      {
       "cell_index": 9
      }
     ]
    },
    "9f7d6f3489f346ef86460f8b1af1abdf": {
     "views": [
      {
       "cell_index": 14
      }
     ]
    },
    "a07dbae2a39f40c998f73b9fc71d66b0": {
     "views": [
      {
       "cell_index": 11
      }
     ]
    },
    "a17322bdaec44420a00fec6d942a45bc": {
     "views": [
      {
       "cell_index": 14
      }
     ]
    },
    "a190828accfd45339224c37666d20ea1": {
     "views": [
      {
       "cell_index": 14
      }
     ]
    },
    "a1b9c232a00c41a4b204f7faf9227837": {
     "views": [
      {
       "cell_index": 11
      }
     ]
    },
    "a1d4c3925de445ecbd3b77953ddee580": {
     "views": [
      {
       "cell_index": 11
      }
     ]
    },
    "a31bb6dd9cd0447189d3b4d086d2ff7b": {
     "views": [
      {
       "cell_index": 14
      }
     ]
    },
    "a4615683005245de859c75b057a5f6db": {
     "views": [
      {
       "cell_index": 11
      }
     ]
    },
    "a67bbfe7b92043829c74d9e8f7475b82": {
     "views": [
      {
       "cell_index": 11
      }
     ]
    },
    "a68ccc6f640b44fd951ab6e15c6e5d8b": {
     "views": [
      {
       "cell_index": 11
      }
     ]
    },
    "a7087b4f0e8144eea893144b1b396404": {
     "views": [
      {
       "cell_index": 11
      }
     ]
    },
    "a9150e231f534777be8dc8cda97b702c": {
     "views": [
      {
       "cell_index": 9
      }
     ]
    },
    "abc444f70e0444ed954032d890b404c1": {
     "views": [
      {
       "cell_index": 14
      }
     ]
    },
    "ac8b99c9e1fd4e19abb1a9b4bf3f3f25": {
     "views": [
      {
       "cell_index": 14
      }
     ]
    },
    "af8517292c9f404caad92abafc4c6826": {
     "views": [
      {
       "cell_index": 14
      }
     ]
    },
    "b06759d0379e421dab07a1c96764767f": {
     "views": [
      {
       "cell_index": 11
      }
     ]
    },
    "b086846b6c6a443485e9bbdf8c20f921": {
     "views": [
      {
       "cell_index": 9
      }
     ]
    },
    "b0f2029a32aa4bd480580667b363db77": {
     "views": [
      {
       "cell_index": 14
      }
     ]
    },
    "b11c8f09d9e44542b8b62c859b885410": {
     "views": [
      {
       "cell_index": 11
      }
     ]
    },
    "b15fb5e7445a45d2ab0233a6192d45be": {
     "views": [
      {
       "cell_index": 9
      }
     ]
    },
    "b1ee331ee81e4e1c84969222e26c1ed7": {
     "views": [
      {
       "cell_index": 9
      }
     ]
    },
    "b229ef2aa866441b9b788a47d228ecc6": {
     "views": [
      {
       "cell_index": 11
      }
     ]
    },
    "b415cafd458646dea1f307562d0c86ee": {
     "views": [
      {
       "cell_index": 14
      }
     ]
    },
    "b4721fb98a5e433bb1162ea0a14274ec": {
     "views": [
      {
       "cell_index": 11
      }
     ]
    },
    "b761fddac456462990bf2400409992be": {
     "views": [
      {
       "cell_index": 14
      }
     ]
    },
    "b9b933e6deba4a5f9c38e51ed98dfa11": {
     "views": [
      {
       "cell_index": 11
      }
     ]
    },
    "bb3566d8193249f59aadf75f475a41b7": {
     "views": [
      {
       "cell_index": 14
      }
     ]
    },
    "bc55fb1593364a19bd7196e3b6db9e05": {
     "views": [
      {
       "cell_index": 14
      }
     ]
    },
    "be4f532ed0364d35800d278c7afee6f2": {
     "views": [
      {
       "cell_index": 15
      }
     ]
    },
    "be585800f06d40d3859de5ed3a69b994": {
     "views": [
      {
       "cell_index": 14
      }
     ]
    },
    "bf4b1c360b7247b487ca18ae8cfee3d9": {
     "views": [
      {
       "cell_index": 9
      }
     ]
    },
    "bf94b9bf832c45deab09550e0e69920e": {
     "views": [
      {
       "cell_index": 11
      }
     ]
    },
    "c0355563cc0143bbb1395412ed89b691": {
     "views": [
      {
       "cell_index": 14
      }
     ]
    },
    "c1c6dd20c7244f59a4f7b17045d4d471": {
     "views": [
      {
       "cell_index": 9
      }
     ]
    },
    "c24e15a141004d4dace2138cb13f9394": {
     "views": [
      {
       "cell_index": 14
      }
     ]
    },
    "c8674b541fc9475d83d1e9a269213663": {
     "views": [
      {
       "cell_index": 11
      }
     ]
    },
    "cb17d83fdc354db48b78ba4b788615ee": {
     "views": [
      {
       "cell_index": 9
      }
     ]
    },
    "ccc58cd287214bdda3d58ae9dbab7a81": {
     "views": [
      {
       "cell_index": 14
      }
     ]
    },
    "cd32597e18b0432eba4fc54e36bfd3d9": {
     "views": [
      {
       "cell_index": 14
      }
     ]
    },
    "d57731a16b2146a885e2434883ea7074": {
     "views": [
      {
       "cell_index": 9
      }
     ]
    },
    "d5e547a90d8d4caa962c219dfced5591": {
     "views": [
      {
       "cell_index": 11
      }
     ]
    },
    "d76cfd7dd7b7489f9784e725dd7c97b6": {
     "views": [
      {
       "cell_index": 9
      }
     ]
    },
    "d779ccd09aa24e87bc71f58b75e98a77": {
     "views": [
      {
       "cell_index": 9
      }
     ]
    },
    "d8bad158a2744fe8b7ba099d02f17a74": {
     "views": [
      {
       "cell_index": 9
      }
     ]
    },
    "d8bbd3c6d2474e758364891ba0e47f82": {
     "views": [
      {
       "cell_index": 9
      }
     ]
    },
    "dc6896b9fbb04745b6fe6972da4e9c9c": {
     "views": [
      {
       "cell_index": 9
      }
     ]
    },
    "df2d3d8c444b44f8a8863e579bd48d81": {
     "views": [
      {
       "cell_index": 11
      }
     ]
    },
    "df4eff10c63849f5909cb3334d2125a2": {
     "views": [
      {
       "cell_index": 11
      }
     ]
    },
    "e0d553eafe2241d880bafa1594a008fe": {
     "views": [
      {
       "cell_index": 3
      }
     ]
    },
    "e2bdcb4aea074976889aead73da2c3ee": {
     "views": [
      {
       "cell_index": 11
      }
     ]
    },
    "e30bc360ca7645cc9cebe486c8895457": {
     "views": [
      {
       "cell_index": 9
      }
     ]
    },
    "e3d9d01b05fa46fa872ae2a364508ba8": {
     "views": [
      {
       "cell_index": 14
      }
     ]
    },
    "e6c276b056e8410ca51c33456189c142": {
     "views": [
      {
       "cell_index": 9
      }
     ]
    },
    "e854add985b1431ab97ee38aed5849aa": {
     "views": [
      {
       "cell_index": 9
      }
     ]
    },
    "ea9a600d0eca40238917ccfbab3b6ffa": {
     "views": [
      {
       "cell_index": 9
      }
     ]
    },
    "eabaa34cfdbc401884799ed5c37f6bda": {
     "views": [
      {
       "cell_index": 14
      }
     ]
    },
    "ed44facaa16d4cc6a14df81ba7b422af": {
     "views": [
      {
       "cell_index": 11
      }
     ]
    },
    "f0b9813cd93c4ef6b2813ca0a0bdfe40": {
     "views": [
      {
       "cell_index": 11
      }
     ]
    },
    "f36db4a98c70402fb0221ec5698e5cf3": {
     "views": [
      {
       "cell_index": 11
      }
     ]
    },
    "f42ab079184f4acdac9477140d15187a": {
     "views": [
      {
       "cell_index": 9
      }
     ]
    },
    "f53ed24f0d084733a23c83121f748d8d": {
     "views": [
      {
       "cell_index": 11
      }
     ]
    },
    "f78332e778b54b43b1c215aac001d722": {
     "views": [
      {
       "cell_index": 9
      }
     ]
    },
    "f78af8b6ece147f9860a1726c6ecd9eb": {
     "views": [
      {
       "cell_index": 14
      }
     ]
    },
    "fad3d1c9246d414f9f8b8474e1ac6401": {
     "views": [
      {
       "cell_index": 9
      }
     ]
    },
    "fbcf564d8cdf4856b3974cce65952328": {
     "views": [
      {
       "cell_index": 9
      }
     ]
    },
    "fc07dc8ba41d48e1a63505cfefbac708": {
     "views": [
      {
       "cell_index": 11
      }
     ]
    },
    "fc7cccc578b847589eef743888ba2618": {
     "views": [
      {
       "cell_index": 9
      }
     ]
    },
    "fda03fa359ad44dd9b57d1f79b5ba7a8": {
     "views": [
      {
       "cell_index": 9
      }
     ]
    },
    "ff4b16563cb94d4fafada0bfae949338": {
     "views": [
      {
       "cell_index": 11
      }
     ]
    },
    "ff5940f7beeb4f8b8b19fc8b0c5371f2": {
     "views": [
      {
       "cell_index": 11
      }
     ]
    }
   },
   "version": "1.2.0"
  }
 },
 "nbformat": 4,
 "nbformat_minor": 2
}
