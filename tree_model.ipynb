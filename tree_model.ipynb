{
 "cells": [
  {
   "cell_type": "code",
   "execution_count": 8,
   "metadata": {
    "collapsed": false
   },
   "outputs": [
    {
     "name": "stdout",
     "output_type": "stream",
     "text": [
      "The autoreload extension is already loaded. To reload it, use:\n",
      "  %reload_ext autoreload\n"
     ]
    }
   ],
   "source": [
    "from collections import defaultdict\n",
    "import datetime\n",
    "from gensim import corpora, models, similarities\n",
    "from matplotlib import pyplot as plt\n",
    "import numpy as np\n",
    "import operator\n",
    "import pandas as pd\n",
    "import pickle\n",
    "import random\n",
    "import re\n",
    "import scipy\n",
    "from sklearn.preprocessing import MultiLabelBinarizer\n",
    "\n",
    "from tqdm import tqdm_notebook\n",
    "\n",
    "import src.knntools as knntools\n",
    "import src.postprocess as postprocess\n",
    "import src.preprocess as preprocess\n",
    "import src.tfidftools as tfidftools\n",
    "import src.tools as tools\n",
    "import src.recencytools as recency\n",
    "import src.scoring as scoring\n",
    "import src.textembeddingtools as texttools\n",
    "\n",
    "%load_ext autoreload\n",
    "%autoreload 2\n",
    "%matplotlib inline"
   ]
  },
  {
   "cell_type": "code",
   "execution_count": 9,
   "metadata": {
    "collapsed": true
   },
   "outputs": [],
   "source": [
    "path_to_data = 'data/'\n",
    "\n",
    "training = pd.read_csv(path_to_data + 'training_set.csv', sep=',', header=0)\n",
    "\n",
    "training_info = pd.read_csv(\n",
    "    path_to_data + 'training_info.csv', sep=',', parse_dates=True, header=0)\n",
    "\n",
    "test = pd.read_csv(path_to_data + 'test_set.csv', sep=',', header=0)\n",
    "\n",
    "test_info = pd.read_csv(path_to_data + 'test_info.csv',\n",
    "                        sep=',', parse_dates=True, header=0)\n",
    "path_to_results = 'results/'"
   ]
  },
  {
   "cell_type": "code",
   "execution_count": 10,
   "metadata": {
    "collapsed": false
   },
   "outputs": [
    {
     "name": "stdout",
     "output_type": "stream",
     "text": [
      "\n",
      "\n"
     ]
    }
   ],
   "source": [
    "training_email_ids_per_sender = preprocess.get_email_ids_per_sender(training)\n",
    "test_email_ids_per_sender = preprocess.get_email_ids_per_sender(test)"
   ]
  },
  {
   "cell_type": "code",
   "execution_count": 11,
   "metadata": {
    "collapsed": false
   },
   "outputs": [
    {
     "name": "stdout",
     "output_type": "stream",
     "text": [
      "\n",
      "\n"
     ]
    }
   ],
   "source": [
    "training_body_dict = preprocess.body_dict_from_panda(training_info)\n",
    "test_body_dict = preprocess.body_dict_from_panda(test_info)\n"
   ]
  },
  {
   "cell_type": "code",
   "execution_count": 12,
   "metadata": {
    "collapsed": false
   },
   "outputs": [
    {
     "name": "stdout",
     "output_type": "stream",
     "text": [
      "\n",
      "\n"
     ]
    }
   ],
   "source": [
    "training_token_dict = texttools.get_token_dict(training_body_dict)\n",
    "test_token_dict = texttools.get_token_dict(test_body_dict)"
   ]
  },
  {
   "cell_type": "code",
   "execution_count": 13,
   "metadata": {
    "collapsed": false
   },
   "outputs": [],
   "source": [
    "training_email_list, training_idx_to_mids = texttools.token_dicts_to_token_lists(training_token_dict, rarity_threshold=3)\n",
    "test_email_list, test_idx_to_mids = texttools.token_dicts_to_token_lists(test_token_dict, rarity_threshold=3)"
   ]
  },
  {
   "cell_type": "code",
   "execution_count": 14,
   "metadata": {
    "collapsed": false
   },
   "outputs": [],
   "source": [
    "# Assign unique id to word\n",
    "training_word_id_dic = corpora.Dictionary(training_email_list)\n",
    "\n",
    "# Compute email corpush as bow [[(wordid_1_1, count_1_1), ...] ...]\n",
    "training_email_corpus = [training_word_id_dic.doc2bow(text) for text in training_email_list]\n",
    "test_email_corpus = [training_word_id_dic.doc2bow(text) for text in test_email_list]"
   ]
  },
  {
   "cell_type": "code",
   "execution_count": 15,
   "metadata": {
    "collapsed": false
   },
   "outputs": [
    {
     "name": "stdout",
     "output_type": "stream",
     "text": [
      "43613\n"
     ]
    }
   ],
   "source": [
    "nb_topics = 200\n",
    "nb_training_emails = len(training_email_corpus)\n",
    "print(nb_training_emails)"
   ]
  },
  {
   "cell_type": "code",
   "execution_count": 16,
   "metadata": {
    "collapsed": false
   },
   "outputs": [
    {
     "name": "stdout",
     "output_type": "stream",
     "text": [
      "this will take some time...\n",
      "computed model\n",
      "saving new model to variables/training-lda-200.p\n"
     ]
    }
   ],
   "source": [
    "# model_vars_path = 'variables/hdp_similarities_{thres_nb}_words_out_no_punct'.format(thres_nb=rarity_thres)\n",
    "stored_model_results = ['variables/training-lda-200.p']\n",
    "\n",
    "lda_model = texttools.compute_model(training_email_corpus, training_word_id_dic, model='lda', nb_topics=nb_topics,\n",
    "                                    use_saved=True, save=True, model_results_path=stored_model_results[0])"
   ]
  },
  {
   "cell_type": "code",
   "execution_count": 33,
   "metadata": {
    "collapsed": false
   },
   "outputs": [],
   "source": [
    "training_lda_vectors = lda_model[training_email_corpus]\n",
    "test_lda_vectors = lda_model[test_email_corpus]"
   ]
  },
  {
   "cell_type": "code",
   "execution_count": 54,
   "metadata": {
    "collapsed": false
   },
   "outputs": [
    {
     "data": {
      "text/plain": [
       "2181"
      ]
     },
     "execution_count": 54,
     "metadata": {},
     "output_type": "execute_result"
    }
   ],
   "source": [
    "len(test_lda_vectors)"
   ]
  },
  {
   "cell_type": "code",
   "execution_count": 57,
   "metadata": {
    "collapsed": false
   },
   "outputs": [],
   "source": [
    "training_lda_feature_matrix = texttools.model_vectors_to_matrix_features(training_lda_vectors, nb_topics)"
   ]
  },
  {
   "cell_type": "code",
   "execution_count": 58,
   "metadata": {
    "collapsed": true
   },
   "outputs": [],
   "source": [
    "test_lda_feature_matrix = texttools.model_vectors_to_matrix_features(test_lda_vectors, nb_topics)"
   ]
  },
  {
   "cell_type": "code",
   "execution_count": 64,
   "metadata": {
    "collapsed": false
   },
   "outputs": [
    {
     "data": {
      "text/plain": [
       "[(58,\n",
       "  '0.069*\"edison\" + 0.065*\"sce\" + 0.056*\"bankruptcy\" + 0.028*\"petition\" + 0.025*\"renewable\" + 0.024*\"qf\" + 0.022*\"eix\" + 0.019*\"pcg\" + 0.019*\"creditors\" + 0.016*\"filing\"'),\n",
       " (89,\n",
       "  '0.098*\"jim\" + 0.068*\"karen\" + 0.046*\"presentation\" + 0.040*\"steve\" + 0.035*\"fyi\" + 0.034*\"denne\" + 0.033*\"--\" + 0.033*\"page\" + 0.020*\"derrick\" + 0.017*\"palmer\"')]"
      ]
     },
     "execution_count": 64,
     "metadata": {},
     "output_type": "execute_result"
    }
   ],
   "source": [
    "lda_model.print_topics(2,10)"
   ]
  },
  {
   "cell_type": "code",
   "execution_count": 107,
   "metadata": {
    "collapsed": false
   },
   "outputs": [],
   "source": [
    "training_day_features = recency.get_sparse_date_info(training_idx_to_mids, training_info)\n",
    "test_day_features = recency.get_sparse_date_info(test_idx_to_mids, test_info)"
   ]
  },
  {
   "cell_type": "code",
   "execution_count": 108,
   "metadata": {
    "collapsed": false
   },
   "outputs": [
    {
     "name": "stdout",
     "output_type": "stream",
     "text": [
      "(41432, 7)\n",
      "(2181, 7)\n"
     ]
    }
   ],
   "source": [
    "print(test_day_features.shape)\n",
    "print(test_day_features.shape)"
   ]
  },
  {
   "cell_type": "code",
   "execution_count": 114,
   "metadata": {
    "collapsed": false
   },
   "outputs": [],
   "source": [
    "training_sender_idx_dic = preprocess.get_sender_idx_dics(training_email_ids_per_sender)\n",
    "training_sender_features = preprocess.get_sparse_sender_info(training_idx_to_mids, training_sender_idx_dic,\n",
    "                                       training_email_ids_per_sender, training_info)\n",
    "test_sender_features = preprocess.get_sparse_sender_info(test_idx_to_mids, training_sender_idx_dic,\n",
    "                                       test_email_ids_per_sender, test_info)"
   ]
  },
  {
   "cell_type": "code",
   "execution_count": 113,
   "metadata": {
    "collapsed": false
   },
   "outputs": [
    {
     "name": "stdout",
     "output_type": "stream",
     "text": [
      "(41432, 125)\n",
      "(2181, 125)\n",
      "41432.0\n",
      "2181.0\n"
     ]
    }
   ],
   "source": [
    "print(train_sender_features.shape)\n",
    "print(val_sender_features.shape)\n",
    "print(np.sum(train_sender_features))\n",
    "print(np.sum(val_sender_features))\n"
   ]
  },
  {
   "cell_type": "code",
   "execution_count": 121,
   "metadata": {
    "collapsed": false
   },
   "outputs": [],
   "source": [
    "stacked_training_features = scipy.sparse.hstack([training_sender_features, training_day_features, training_lda_feature_matrix])"
   ]
  },
  {
   "cell_type": "code",
   "execution_count": 122,
   "metadata": {
    "collapsed": false
   },
   "outputs": [
    {
     "data": {
      "text/plain": [
       "(41432, 332)"
      ]
     },
     "execution_count": 122,
     "metadata": {},
     "output_type": "execute_result"
    }
   ],
   "source": [
    "stacked_train_features.shape"
   ]
  },
  {
   "cell_type": "code",
   "execution_count": null,
   "metadata": {
    "collapsed": true
   },
   "outputs": [],
   "source": [
    "stacked_test_features = scipy.sparse.hstack([test_sender_features, test_day_features, test_lda_feature_matrix])"
   ]
  },
  {
   "cell_type": "code",
   "execution_count": null,
   "metadata": {
    "collapsed": true
   },
   "outputs": [],
   "source": []
  },
  {
   "cell_type": "code",
   "execution_count": 18,
   "metadata": {
    "collapsed": false
   },
   "outputs": [
    {
     "name": "stdout",
     "output_type": "stream",
     "text": [
      "0.0807795545579\n"
     ]
    }
   ],
   "source": [
    "current_score = scoring.compute_prediction_mad(hdp_predictions, val_info)\n",
    "print(current_score)"
   ]
  }
 ],
 "metadata": {
  "kernelspec": {
   "display_name": "Python 3",
   "language": "python",
   "name": "python3"
  },
  "language_info": {
   "codemirror_mode": {
    "name": "ipython",
    "version": 3
   },
   "file_extension": ".py",
   "mimetype": "text/x-python",
   "name": "python",
   "nbconvert_exporter": "python",
   "pygments_lexer": "ipython3",
   "version": "3.4.3"
  },
  "widgets": {
   "state": {
    "4f6fc49549674a3b8154c5fddde342d9": {
     "views": [
      {
       "cell_index": 4
      }
     ]
    },
    "703283c3c8524a3ebd05020e1585f4e8": {
     "views": [
      {
       "cell_index": 3
      }
     ]
    },
    "ac0557aa63bc46fb9baa567b2cfd1f75": {
     "views": [
      {
       "cell_index": 2
      }
     ]
    },
    "c88e55d31c9441c2a63d165125963ddd": {
     "views": [
      {
       "cell_index": 3
      }
     ]
    },
    "cd5fac2928694f8faf2367ef9fc319fe": {
     "views": [
      {
       "cell_index": 4
      }
     ]
    },
    "f3330a95a73d445ba0813b4d453b00bb": {
     "views": [
      {
       "cell_index": 3
      }
     ]
    },
    "f40e3f300d1f4570a75ea869e84985ca": {
     "views": [
      {
       "cell_index": 2
      }
     ]
    },
    "fd79cc6e265e4b2ba38276cf6e3e3292": {
     "views": [
      {
       "cell_index": 2
      }
     ]
    }
   },
   "version": "1.2.0"
  }
 },
 "nbformat": 4,
 "nbformat_minor": 2
}
