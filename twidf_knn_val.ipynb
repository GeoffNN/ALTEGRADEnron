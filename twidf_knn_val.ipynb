{
 "cells": [
  {
   "cell_type": "code",
   "execution_count": 1,
   "metadata": {
    "collapsed": false
   },
   "outputs": [],
   "source": [
    "from collections import defaultdict\n",
    "import itertools\n",
    "from matplotlib import pyplot as plt\n",
    "import math\n",
    "import numpy as np\n",
    "import operator\n",
    "import pandas as pd\n",
    "import pickle\n",
    "import random\n",
    "import re\n",
    "import scipy\n",
    "import string\n",
    "from tqdm import tqdm_notebook\n",
    "\n",
    "\n",
    "import src.knntools as knntools\n",
    "import src.postprocess as postprocess\n",
    "import src.preprocess as preprocess\n",
    "import src.tfidftools as tfidftools\n",
    "import src.tools as tools\n",
    "import src.recencytools as recency\n",
    "import src.scoring as scoring\n",
    "import src.textembeddingtools as texttools\n",
    "import src.graphwordstools as graphtools\n",
    "\n",
    "%load_ext autoreload\n",
    "%autoreload 2\n",
    "%matplotlib inline"
   ]
  },
  {
   "cell_type": "code",
   "execution_count": 2,
   "metadata": {
    "collapsed": false
   },
   "outputs": [],
   "source": [
    "path_to_data = 'data/'\n",
    "\n",
    "training = pd.read_csv(path_to_data + 'training_set.csv', sep=',', header=0)\n",
    "\n",
    "training_info = pd.read_csv(\n",
    "    path_to_data + 'training_info.csv', sep=',', parse_dates=True, header=0)\n",
    "\n",
    "test = pd.read_csv(path_to_data + 'test_set.csv', sep=',', header=0)\n",
    "\n",
    "test_info = pd.read_csv(path_to_data + 'test_info.csv',\n",
    "                        sep=',', parse_dates=True, header=0)\n",
    "path_to_results = 'results/'"
   ]
  },
  {
   "cell_type": "code",
   "execution_count": 3,
   "metadata": {
    "collapsed": false
   },
   "outputs": [
    {
     "name": "stdout",
     "output_type": "stream",
     "text": [
      "Processing training !\n",
      "\n",
      "Processing val !\n",
      "\n"
     ]
    }
   ],
   "source": [
    "train_info, train_email_ids_per_sender, val_info, val_email_ids_per_sender = scoring.get_train_val(training, training_info, train_frac=0.95)"
   ]
  },
  {
   "cell_type": "code",
   "execution_count": 4,
   "metadata": {
    "collapsed": false
   },
   "outputs": [
    {
     "name": "stdout",
     "output_type": "stream",
     "text": [
      "\n",
      "\n"
     ]
    }
   ],
   "source": [
    "train_body_dict = preprocess.body_dict_from_panda(train_info)\n",
    "val_body_dict = preprocess.body_dict_from_panda(val_info)"
   ]
  },
  {
   "cell_type": "code",
   "execution_count": 5,
   "metadata": {
    "collapsed": false
   },
   "outputs": [
    {
     "name": "stdout",
     "output_type": "stream",
     "text": [
      "\n",
      "\n"
     ]
    }
   ],
   "source": [
    "train_token_dict = texttools.get_token_dict(train_body_dict)\n",
    "val_token_dict = texttools.get_token_dict(val_body_dict)"
   ]
  },
  {
   "cell_type": "markdown",
   "metadata": {},
   "source": [
    "## Compute average length of doc in tokens"
   ]
  },
  {
   "cell_type": "code",
   "execution_count": 7,
   "metadata": {
    "collapsed": false
   },
   "outputs": [],
   "source": [
    "train_doc_lengths_dic, train_average_doc_len = texttools.get_doc_length_info(train_token_dict)"
   ]
  },
  {
   "cell_type": "code",
   "execution_count": 8,
   "metadata": {
    "collapsed": false
   },
   "outputs": [
    {
     "name": "stdout",
     "output_type": "stream",
     "text": [
      "\n"
     ]
    }
   ],
   "source": [
    "train_idf_dic, train_idf_words = tfidftools.get_idf_dic(train_token_dict)"
   ]
  },
  {
   "cell_type": "code",
   "execution_count": 9,
   "metadata": {
    "collapsed": false
   },
   "outputs": [
    {
     "name": "stdout",
     "output_type": "stream",
     "text": [
      "7161\n"
     ]
    }
   ],
   "source": [
    "print(len(train_idf_dic))"
   ]
  },
  {
   "cell_type": "code",
   "execution_count": 12,
   "metadata": {
    "collapsed": false
   },
   "outputs": [
    {
     "name": "stdout",
     "output_type": "stream",
     "text": [
      "10979/|/ 26%|| 10979/41432 [00:20<00:56, 540.37it/s]"
     ]
    }
   ],
   "source": []
  },
  {
   "cell_type": "code",
   "execution_count": 28,
   "metadata": {
    "collapsed": false
   },
   "outputs": [
    {
     "name": "stdout",
     "output_type": "stream",
     "text": [
      "\r",
      "          \r",
      "1063/|/  3%|| 1063/41432 [00:43<27:15, 24.68it/s]CPU times: user 22min 32s, sys: 28.5 s, total: 23min 1s\n",
      "Wall time: 24min 33s\n"
     ]
    }
   ],
   "source": [
    "%%time\n",
    "twidf_matrix, twidf_mids = graphtools.get_twidf_matrix(train_token_dict, train_doc_lengths_dic,\n",
    "                                                       train_average_doc_len, train_idf_dic,\n",
    "                                                       train_idf_words, 0.003)\n",
    "\n",
    "\n",
    "# with open('variables/twidf_matrix', 'wb') as outfile:\n",
    "#     pickle.dump(scipy.sparse.csr_matrix(twidf_matrix), outfile)\n",
    "    \n",
    "# with open('variables/twidf_mids', 'wb') as outfile:\n",
    "#     pickle.dump(twidf_mids, outfile)"
   ]
  },
  {
   "cell_type": "code",
   "execution_count": 24,
   "metadata": {
    "collapsed": false
   },
   "outputs": [],
   "source": [
    "# with open('variables/twidf_matrix', 'rb') as outfile:\n",
    "#     twidf_matrix_ = pickle.load(outfile)\n",
    "    \n",
    "# with open('variables/twidf_mids', 'rb') as outfile:\n",
    "#     twidf_mids_ = pickle.load(outfile)"
   ]
  },
  {
   "cell_type": "code",
   "execution_count": null,
   "metadata": {
    "collapsed": true
   },
   "outputs": [],
   "source": [
    "# val_doc_lengths_dic, average_test_length = texttools.get_doc_length_info(val_token_dict)"
   ]
  },
  {
   "cell_type": "code",
   "execution_count": 33,
   "metadata": {
    "collapsed": false
   },
   "outputs": [],
   "source": [
    "val_vectors = graphtools.get_twidf_vectors_from_tokens(train_idf_dic, train_idf_words,\n",
    "                                                       val_token_dict, train_average_doc_len)"
   ]
  },
  {
   "cell_type": "code",
   "execution_count": 32,
   "metadata": {
    "collapsed": false
   },
   "outputs": [],
   "source": [
    "mid_recipient_scores = knntools.compute_twidf_similarity_scores(twidf_matrix, twidf_mids,\n",
    "                                                                val_vectors, train_info,\n",
    "                                                                nb_similars=50)"
   ]
  },
  {
   "cell_type": "code",
   "execution_count": 29,
   "metadata": {
    "collapsed": false
   },
   "outputs": [
    {
     "ename": "NameError",
     "evalue": "name 'mid_recipient_scores' is not defined",
     "output_type": "error",
     "traceback": [
      "\u001b[0;31m---------------------------------------------------------------------------\u001b[0m",
      "\u001b[0;31mNameError\u001b[0m                                 Traceback (most recent call last)",
      "\u001b[0;32m<ipython-input-29-21156cb1509b>\u001b[0m in \u001b[0;36m<module>\u001b[0;34m()\u001b[0m\n\u001b[0;32m----> 1\u001b[0;31m \u001b[0mtwidf_predictions\u001b[0m \u001b[0;34m=\u001b[0m \u001b[0mknntools\u001b[0m\u001b[0;34m.\u001b[0m\u001b[0msimilar_dic_to_standard\u001b[0m\u001b[0;34m(\u001b[0m\u001b[0mmid_recipient_scores\u001b[0m\u001b[0;34m,\u001b[0m \u001b[0mnb_recipients\u001b[0m\u001b[0;34m=\u001b[0m\u001b[0;36m100\u001b[0m\u001b[0;34m)\u001b[0m\u001b[0;34m\u001b[0m\u001b[0m\n\u001b[0m\u001b[1;32m      2\u001b[0m \u001b[0mcurrent_score\u001b[0m \u001b[0;34m=\u001b[0m \u001b[0mscoring\u001b[0m\u001b[0;34m.\u001b[0m\u001b[0mcompute_prediction_mad\u001b[0m\u001b[0;34m(\u001b[0m\u001b[0mtwidf_predictions\u001b[0m\u001b[0;34m,\u001b[0m \u001b[0mval_info\u001b[0m\u001b[0;34m)\u001b[0m\u001b[0;34m\u001b[0m\u001b[0m\n",
      "\u001b[0;31mNameError\u001b[0m: name 'mid_recipient_scores' is not defined"
     ]
    }
   ],
   "source": [
    "twidf_predictions = knntools.similar_dic_to_standard(mid_recipient_scores, nb_recipients=100)\n",
    "current_score = scoring.compute_prediction_mad(twidf_predictions, val_info)"
   ]
  },
  {
   "cell_type": "code",
   "execution_count": 52,
   "metadata": {
    "collapsed": false
   },
   "outputs": [
    {
     "name": "stdout",
     "output_type": "stream",
     "text": [
      "0.206168659357\n"
     ]
    }
   ],
   "source": [
    "print(current_score)"
   ]
  },
  {
   "cell_type": "code",
   "execution_count": 53,
   "metadata": {
    "collapsed": true
   },
   "outputs": [],
   "source": [
    "path_to_ranks = 'ranks_val/twidf-knn-k-{nb_neighbors}-rec'.format(nb_neighbors=50)\n",
    "with open(path_to_ranks, 'wb') as infile:\n",
    "              pickle.dump(twidf_predictions, infile)"
   ]
  },
  {
   "cell_type": "code",
   "execution_count": null,
   "metadata": {
    "collapsed": true
   },
   "outputs": [],
   "source": []
  }
 ],
 "metadata": {
  "kernelspec": {
   "display_name": "Python 3",
   "language": "python",
   "name": "python3"
  },
  "language_info": {
   "codemirror_mode": {
    "name": "ipython",
    "version": 3
   },
   "file_extension": ".py",
   "mimetype": "text/x-python",
   "name": "python",
   "nbconvert_exporter": "python",
   "pygments_lexer": "ipython3",
   "version": "3.4.3"
  },
  "widgets": {
   "state": {
    "118dc603cab84e10aeb48773bcb38b58": {
     "views": [
      {
       "cell_index": 3
      }
     ]
    },
    "260cb7953611442b88937f036ca5dcac": {
     "views": [
      {
       "cell_index": 3
      }
     ]
    },
    "51db59fa6ccd4814b1ef751b7a25e40d": {
     "views": [
      {
       "cell_index": 4
      }
     ]
    },
    "582bf445d9404ec59aa23bb53b1c7200": {
     "views": [
      {
       "cell_index": 9
      }
     ]
    },
    "6a0e06de5a8147cd80b038f1896ab9f3": {
     "views": [
      {
       "cell_index": 2
      }
     ]
    },
    "817d5d38fc3a45c7b81b4e599e231366": {
     "views": [
      {
       "cell_index": 3
      }
     ]
    },
    "8f4dadca914b470f9567e6bd9593574a": {
     "views": [
      {
       "cell_index": 9
      }
     ]
    },
    "932c9c0be54e44e382a88341fca52c5b": {
     "views": [
      {
       "cell_index": 2
      }
     ]
    },
    "9a92217708fb49abb912d203ad7e22e2": {
     "views": [
      {
       "cell_index": 4
      }
     ]
    },
    "af464d8e3b9f43a6995cf238b21d169b": {
     "views": [
      {
       "cell_index": 4
      }
     ]
    },
    "b1411b616fa14e45a8f395ad7dfa82f8": {
     "views": [
      {
       "cell_index": 9
      }
     ]
    },
    "deda1ace53be45359913a8197f2917cc": {
     "views": [
      {
       "cell_index": 14
      }
     ]
    },
    "e570223b1db84e9992b9ca5bce6da7b8": {
     "views": [
      {
       "cell_index": 2
      }
     ]
    },
    "e77652f183484fd6a155a2ceae785d78": {
     "views": [
      {
       "cell_index": 10
      }
     ]
    },
    "ea09ab7322e34444af0ad434bb0d9a30": {
     "views": [
      {
       "cell_index": 7
      }
     ]
    },
    "ece99f8856ed4b42982a641ba01e5784": {
     "views": [
      {
       "cell_index": 2
      }
     ]
    },
    "f30cd08f89b14cafa1080551964560d7": {
     "views": [
      {
       "cell_index": 2
      }
     ]
    },
    "ff3a33bff84645ca9f17a23c286577b1": {
     "views": [
      {
       "cell_index": 13
      }
     ]
    }
   },
   "version": "1.2.0"
  }
 },
 "nbformat": 4,
 "nbformat_minor": 2
}
