{
 "cells": [
  {
   "cell_type": "code",
   "execution_count": 57,
   "metadata": {
    "collapsed": false
   },
   "outputs": [
    {
     "name": "stdout",
     "output_type": "stream",
     "text": [
      "The autoreload extension is already loaded. To reload it, use:\n",
      "  %reload_ext autoreload\n"
     ]
    }
   ],
   "source": [
    "import matplotlib.pyplot as plt\n",
    "import math\n",
    "import numpy\n",
    "import pandas as pd\n",
    "import time\n",
    "\n",
    "\n",
    "import src.tools as tools\n",
    "import src.recencytools as recency\n",
    "import src.postprocess as postprocess\n",
    "import src.preprocess as preprocess\n",
    "import src.tfidftools as tfidftools\n",
    "\n",
    "%load_ext autoreload\n",
    "%autoreload 2"
   ]
  },
  {
   "cell_type": "markdown",
   "metadata": {},
   "source": [
    "## Load files"
   ]
  },
  {
   "cell_type": "code",
   "execution_count": 58,
   "metadata": {
    "collapsed": true
   },
   "outputs": [],
   "source": [
    "path_to_data = 'data/'\n",
    "\n",
    "training = pd.read_csv(path_to_data + 'training_set.csv', sep=',', header=0)\n",
    "\n",
    "training_info = pd.read_csv(\n",
    "    path_to_data + 'training_info.csv', sep=',', parse_dates=True, header=0)\n",
    "\n",
    "test = pd.read_csv(path_to_data + 'test_set.csv', sep=',', header=0)\n",
    "\n",
    "path_to_results = 'results/'"
   ]
  },
  {
   "cell_type": "markdown",
   "metadata": {},
   "source": [
    "Beta is the coefficient that regulates time discrepancy.\n",
    "The higher beta is, the more importance is given to older messages.\n",
    "\n",
    "Each mail is weighted according to its rank (order of anciency)."
   ]
  },
  {
   "cell_type": "code",
   "execution_count": 59,
   "metadata": {
    "collapsed": false
   },
   "outputs": [],
   "source": [
    "beta = 6000\n",
    "training_info = recency.add_time_rank_to_dataframe(training_info) # Run only once !\n",
    "email_ranks_dic = recency.get_email_ranks(training_info)"
   ]
  },
  {
   "cell_type": "code",
   "execution_count": 60,
   "metadata": {
    "collapsed": false
   },
   "outputs": [
    {
     "data": {
      "text/plain": [
       "0.10389927764229338"
      ]
     },
     "execution_count": 60,
     "metadata": {},
     "output_type": "execute_result"
    }
   ],
   "source": [
    "# Compute score for a given mid\n",
    "some_mid = 378257\n",
    "recency.get_email_recency_score(email_ranks_dic, some_mid, beta)"
   ]
  },
  {
   "cell_type": "markdown",
   "metadata": {},
   "source": [
    "Compute the recency address book."
   ]
  },
  {
   "cell_type": "code",
   "execution_count": 61,
   "metadata": {
    "collapsed": false
   },
   "outputs": [
    {
     "name": "stdout",
     "output_type": "stream",
     "text": [
      "processed 0 senders\n",
      "processed 10 senders\n",
      "processed 20 senders\n",
      "processed 30 senders\n",
      "processed 40 senders\n",
      "processed 50 senders\n",
      "processed 60 senders\n",
      "processed 70 senders\n",
      "processed 80 senders\n",
      "processed 90 senders\n",
      "processed 100 senders\n",
      "processed 110 senders\n",
      "processed 120 senders\n"
     ]
    }
   ],
   "source": [
    "email_ids_per_sender = preprocess.get_email_ids_per_sender(training)\n",
    "recency_address_books = recency.get_recency_address_books(email_ids_per_sender, training_info, beta)"
   ]
  },
  {
   "cell_type": "code",
   "execution_count": 62,
   "metadata": {
    "collapsed": false
   },
   "outputs": [],
   "source": [
    "# Write recency predictions to file\n",
    "test_email_ids_per_sender = preprocess.get_email_ids_per_sender(test)\n",
    "recency_predictions = recency.predictions_from_addressbook(test_email_ids_per_sender, recency_address_books)\n",
    "recency_predictions = recency.recency_predictions_to_standard(recency_predictions)\n",
    "postprocess.write_results_ranked(recency_predictions, path_to_results,\n",
    "                                 'predictions_recency_{beta}.txt'.format(beta=beta))"
   ]
  },
  {
   "cell_type": "code",
   "execution_count": null,
   "metadata": {
    "collapsed": true
   },
   "outputs": [],
   "source": []
  },
  {
   "cell_type": "code",
   "execution_count": null,
   "metadata": {
    "collapsed": true
   },
   "outputs": [],
   "source": []
  }
 ],
 "metadata": {
  "kernelspec": {
   "display_name": "Python 3",
   "language": "python",
   "name": "python3"
  },
  "language_info": {
   "codemirror_mode": {
    "name": "ipython",
    "version": 3
   },
   "file_extension": ".py",
   "mimetype": "text/x-python",
   "name": "python",
   "nbconvert_exporter": "python",
   "pygments_lexer": "ipython3",
   "version": "3.4.3"
  }
 },
 "nbformat": 4,
 "nbformat_minor": 2
}
