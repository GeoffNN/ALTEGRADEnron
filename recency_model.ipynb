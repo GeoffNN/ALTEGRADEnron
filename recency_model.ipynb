{
 "cells": [
  {
   "cell_type": "code",
   "execution_count": 1,
   "metadata": {
    "collapsed": false
   },
   "outputs": [],
   "source": [
    "import matplotlib.pyplot as plt\n",
    "import math\n",
    "import numpy\n",
    "import pandas as pd\n",
    "import pickle\n",
    "import time\n",
    "\n",
    "\n",
    "import src.tools as tools\n",
    "import src.recencytools as recency\n",
    "import src.postprocess as postprocess\n",
    "import src.preprocess as preprocess\n",
    "import src.tfidftools as tfidftools\n",
    "\n",
    "%load_ext autoreload\n",
    "%autoreload 2"
   ]
  },
  {
   "cell_type": "markdown",
   "metadata": {},
   "source": [
    "## Load files"
   ]
  },
  {
   "cell_type": "code",
   "execution_count": 2,
   "metadata": {
    "collapsed": true
   },
   "outputs": [],
   "source": [
    "path_to_data = 'data/'\n",
    "\n",
    "training = pd.read_csv(path_to_data + 'training_set.csv', sep=',', header=0)\n",
    "\n",
    "training_info = pd.read_csv(\n",
    "    path_to_data + 'training_info.csv', sep=',', parse_dates=True, header=0)\n",
    "\n",
    "test = pd.read_csv(path_to_data + 'test_set.csv', sep=',', header=0)\n",
    "\n",
    "path_to_results = 'results/'"
   ]
  },
  {
   "cell_type": "code",
   "execution_count": 11,
   "metadata": {
    "collapsed": false
   },
   "outputs": [],
   "source": [
    "training_info = recency.add_time_rank_to_dataframe(training_info)\n",
    "training_email_ids_per_sender = preprocess.get_email_ids_per_sender(training)"
   ]
  },
  {
   "cell_type": "markdown",
   "metadata": {},
   "source": [
    "Beta is the coefficient that regulates time discrepancy.\n",
    "The higher beta is, the more importance is given to older messages.\n",
    "\n",
    "Each mail is weighted according to its rank (order of anciency)."
   ]
  },
  {
   "cell_type": "code",
   "execution_count": 13,
   "metadata": {
    "collapsed": false
   },
   "outputs": [
    {
     "name": "stdout",
     "output_type": "stream",
     "text": [
      "\n"
     ]
    }
   ],
   "source": [
    "beta = 2.1*math.pow(10,6)\n",
    "recency_address_books = recency.get_recency_address_books(training_email_ids_per_sender,\n",
    "                                                          training_info, beta, use_rank=False)\n",
    "recency_predictions = recency.predictions_from_addressbook(training_email_ids_per_sender, recency_address_books)"
   ]
  },
  {
   "cell_type": "markdown",
   "metadata": {},
   "source": [
    "Compute the recency address book."
   ]
  },
  {
   "cell_type": "code",
   "execution_count": 17,
   "metadata": {
    "collapsed": false
   },
   "outputs": [],
   "source": [
    "# Write recency predictions to file\n",
    "test_email_ids_per_sender = preprocess.get_email_ids_per_sender(test)\n",
    "recency_predictions = recency.predictions_from_addressbook(test_email_ids_per_sender, recency_address_books)\n",
    "recency_predictions = recency.recency_predictions_to_standard(recency_predictions)\n",
    "postprocess.write_results_ranked(recency_predictions, path_to_results,\n",
    "                                 'predictions_recency_time_{beta}.txt'.format(beta=beta))"
   ]
  },
  {
   "cell_type": "code",
   "execution_count": 18,
   "metadata": {
    "collapsed": false
   },
   "outputs": [],
   "source": [
    "# Model for fusion\n",
    "test_email_ids_per_sender = preprocess.get_email_ids_per_sender(test)\n",
    "recency_predictions = recency.predictions_from_addressbook(test_email_ids_per_sender, recency_address_books, keep_all=True)\n",
    "recency_predictions = recency.recency_predictions_to_standard(recency_predictions)\n",
    "path_to_ranks = 'ranks_test/recency_time_beta_{beta}_rec-all'.format(beta=beta)\n",
    "with open(path_to_ranks, 'wb') as infile:\n",
    "          pickle.dump(recency_predictions, infile)"
   ]
  },
  {
   "cell_type": "code",
   "execution_count": null,
   "metadata": {
    "collapsed": true
   },
   "outputs": [],
   "source": []
  }
 ],
 "metadata": {
  "kernelspec": {
   "display_name": "Python 3",
   "language": "python",
   "name": "python3"
  },
  "language_info": {
   "codemirror_mode": {
    "name": "ipython",
    "version": 3
   },
   "file_extension": ".py",
   "mimetype": "text/x-python",
   "name": "python",
   "nbconvert_exporter": "python",
   "pygments_lexer": "ipython3",
   "version": "3.4.3"
  },
  "widgets": {
   "state": {
    "fcedc96424734a1496f854c3f4df2818": {
     "views": [
      {
       "cell_index": 5
      }
     ]
    }
   },
   "version": "1.2.0"
  }
 },
 "nbformat": 4,
 "nbformat_minor": 2
}
