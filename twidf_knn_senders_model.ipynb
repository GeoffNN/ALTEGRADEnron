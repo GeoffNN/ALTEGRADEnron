{
 "cells": [
  {
   "cell_type": "code",
   "execution_count": 2,
   "metadata": {
    "collapsed": false
   },
   "outputs": [],
   "source": [
    "from collections import defaultdict\n",
    "import itertools\n",
    "from matplotlib import pyplot as plt\n",
    "import math\n",
    "import numpy as np\n",
    "import operator\n",
    "import pandas as pd\n",
    "import pickle\n",
    "import random\n",
    "import re\n",
    "import scipy\n",
    "import string\n",
    "from tqdm import tqdm_notebook\n",
    "\n",
    "\n",
    "import src.knntools as knntools\n",
    "import src.postprocess as postprocess\n",
    "import src.preprocess as preprocess\n",
    "import src.tfidftools as tfidftools\n",
    "import src.tools as tools\n",
    "import src.recencytools as recency\n",
    "import src.scoring as scoring\n",
    "import src.textembeddingtools as texttools\n",
    "import src.graphwordstools as graphtools\n",
    "\n",
    "%load_ext autoreload\n",
    "%autoreload 2\n",
    "%matplotlib inline"
   ]
  },
  {
   "cell_type": "code",
   "execution_count": 3,
   "metadata": {
    "collapsed": false
   },
   "outputs": [],
   "source": [
    "path_to_data = 'data/'\n",
    "\n",
    "training = pd.read_csv(path_to_data + 'training_set.csv', sep=',', header=0)\n",
    "\n",
    "training_info = pd.read_csv(\n",
    "    path_to_data + 'training_info.csv', sep=',', parse_dates=True, header=0)\n",
    "\n",
    "test = pd.read_csv(path_to_data + 'test_set.csv', sep=',', header=0)\n",
    "\n",
    "test_info = pd.read_csv(path_to_data + 'test_info.csv',\n",
    "                        sep=',', parse_dates=True, header=0)\n",
    "path_to_results = 'results/'"
   ]
  },
  {
   "cell_type": "code",
   "execution_count": 4,
   "metadata": {
    "collapsed": false
   },
   "outputs": [
    {
     "name": "stdout",
     "output_type": "stream",
     "text": [
      "\n",
      "\n"
     ]
    }
   ],
   "source": [
    "training_body_dict = preprocess.body_dict_from_panda(training_info)\n",
    "test_body_dict = preprocess.body_dict_from_panda(test_info)"
   ]
  },
  {
   "cell_type": "code",
   "execution_count": 5,
   "metadata": {
    "collapsed": false
   },
   "outputs": [
    {
     "name": "stdout",
     "output_type": "stream",
     "text": [
      "\n",
      "\n"
     ]
    }
   ],
   "source": [
    "training_email_ids_per_sender = preprocess.get_email_ids_per_sender(training)\n",
    "test_email_ids_per_sender = preprocess.get_email_ids_per_sender(test)"
   ]
  },
  {
   "cell_type": "code",
   "execution_count": 6,
   "metadata": {
    "collapsed": false
   },
   "outputs": [
    {
     "name": "stdout",
     "output_type": "stream",
     "text": [
      "\n",
      "\n"
     ]
    }
   ],
   "source": [
    "training_token_dict = texttools.get_token_dict(training_body_dict)\n",
    "test_token_dict = texttools.get_token_dict(test_body_dict)"
   ]
  },
  {
   "cell_type": "markdown",
   "metadata": {},
   "source": [
    "# Prepare models\n",
    "\n",
    "knn based on twidf\n",
    "\n",
    "One model per sender"
   ]
  },
  {
   "cell_type": "code",
   "execution_count": 7,
   "metadata": {
    "collapsed": false
   },
   "outputs": [
    {
     "name": "stdout",
     "output_type": "stream",
     "text": [
      "\n"
     ]
    }
   ],
   "source": [
    "senders_mean_lengths = {}\n",
    "senders_idf_dics = {}\n",
    "senders_idf_words = {}\n",
    "senders_twidf_matrixs = {}\n",
    "senders_twidf_mids = {}\n",
    "\n",
    "pbar_senders = tqdm_notebook(training_email_ids_per_sender.items())\n",
    "for sender, sender_mids in pbar_senders:\n",
    "    sender_token_dict = {mid:body for mid, body in training_token_dict.items() if int(mid) in sender_mids}\n",
    "    # Compute info about tokens\n",
    "    sender_doc_lengths_dic, sender_average_doc_len = texttools.get_doc_length_info(sender_token_dict)\n",
    "    senders_mean_lengths[sender] = sender_average_doc_len\n",
    "    # Get idf info\n",
    "    sender_idf_dic, sender_idf_words = tfidftools.get_idf_dic(training_token_dict)\n",
    "    senders_idf_dics[sender] = sender_idf_dic\n",
    "    senders_idf_words[sender] = sender_idf_words\n",
    "    # Get tw info\n",
    "    sender_twidf_matrix, sender_twidf_mids = graphtools.get_twidf_matrix(sender_token_dict, sender_doc_lengths_dic,\n",
    "                                                                         sender_average_doc_len, sender_idf_dic,\n",
    "                                                                         sender_idf_words, 0.003)\n",
    "    senders_twidf_mids[sender] = sender_twidf_mids\n",
    "    senders_twidf_matrixs[sender] = sender_twidf_matrix\n",
    "    "
   ]
  },
  {
   "cell_type": "markdown",
   "metadata": {},
   "source": [
    "## Make predictions"
   ]
  },
  {
   "cell_type": "code",
   "execution_count": 8,
   "metadata": {
    "collapsed": false
   },
   "outputs": [
    {
     "name": "stdout",
     "output_type": "stream",
     "text": [
      "\n"
     ]
    }
   ],
   "source": [
    "nb_close=50\n",
    "mid_recipient_scores = {}\n",
    "\n",
    "pbar_senders = tqdm_notebook(test_email_ids_per_sender.items())\n",
    "for sender, sender_test_mids in pbar_senders:\n",
    "    # Retrieve sender info\n",
    "    sender_average_doc_len = senders_mean_lengths[sender]\n",
    "    sender_idf_dic = senders_idf_dics[sender]\n",
    "    sender_idf_words = senders_idf_words[sender]\n",
    "    sender_twidf_mids = senders_twidf_mids[sender]\n",
    "    sender_twidf_matrix = senders_twidf_matrixs[sender]\n",
    "    for mid in sender_test_mids:\n",
    "        email_tokens = test_token_dict[mid]\n",
    "        query_vector = graphtools.get_twidf_vector_from_tokens(sender_idf_dic, sender_idf_words,\n",
    "                                                              email_tokens, sender_average_doc_len)\n",
    "        similars = knntools.find_similar(query_vector, sender_twidf_matrix,\n",
    "                                                                nb_similars=nb_close)\n",
    "        # Get mid in training set corresponding to best matches   \n",
    "        best_match_mid = [sender_twidf_mids[similar_item[0]] for similar_item in similars]\n",
    "        \n",
    "        # Get corresponding similarity scores\n",
    "        best_match_scores = [similar_item[1] for similar_item in similars]\n",
    "        test_mail_scores = defaultdict(lambda: 0)\n",
    "        for train_mid, train_score in zip(best_match_mid, best_match_scores):\n",
    "            recipients = preprocess.get_recipients(training_info, train_mid)\n",
    "            for recipient in recipients:\n",
    "                test_mail_scores[recipient] += train_score\n",
    "        mid_recipient_scores[mid] = test_mail_scores\n"
   ]
  },
  {
   "cell_type": "code",
   "execution_count": 9,
   "metadata": {
    "collapsed": false
   },
   "outputs": [],
   "source": [
    "twidf_predictions = knntools.similar_dic_to_standard(mid_recipient_scores, nb_recipients=100)"
   ]
  },
  {
   "cell_type": "code",
   "execution_count": 10,
   "metadata": {
    "collapsed": true
   },
   "outputs": [],
   "source": [
    "path_to_ranks = 'ranks_test/twidf-knn-k-senders-{nb_neighbors}-rec'.format(nb_neighbors=nb_close)\n",
    "with open(path_to_ranks, 'wb') as infile:\n",
    "              pickle.dump(twidf_predictions, infile)"
   ]
  },
  {
   "cell_type": "code",
   "execution_count": 11,
   "metadata": {
    "collapsed": false
   },
   "outputs": [],
   "source": [
    "postprocess.write_results_ranked(twidf_predictions, path_to_results, 'twidf_sender_50_nn_tw_0_003.csv')"
   ]
  },
  {
   "cell_type": "code",
   "execution_count": null,
   "metadata": {
    "collapsed": true
   },
   "outputs": [],
   "source": []
  }
 ],
 "metadata": {
  "kernelspec": {
   "display_name": "Python 3",
   "language": "python",
   "name": "python3"
  },
  "language_info": {
   "codemirror_mode": {
    "name": "ipython",
    "version": 3
   },
   "file_extension": ".py",
   "mimetype": "text/x-python",
   "name": "python",
   "nbconvert_exporter": "python",
   "pygments_lexer": "ipython3",
   "version": "3.4.3"
  },
  "widgets": {
   "state": {
    "03afc529f5d04f8e80b44cf55a080f3d": {
     "views": [
      {
       "cell_index": 6
      }
     ]
    },
    "044f181383d740a6989769fd83c350b6": {
     "views": [
      {
       "cell_index": 6
      }
     ]
    },
    "050fd409296f477191f6da73371b8e26": {
     "views": [
      {
       "cell_index": 6
      }
     ]
    },
    "0744175bb10c42e5b35ff4961670b00d": {
     "views": [
      {
       "cell_index": 6
      }
     ]
    },
    "079a020b852d4803b9735d2c3bf823bf": {
     "views": [
      {
       "cell_index": 6
      }
     ]
    },
    "0a5f62d071734415b868ef5760c9b8f8": {
     "views": [
      {
       "cell_index": 6
      }
     ]
    },
    "11cd6552ee774a658beae7fb745c4aad": {
     "views": [
      {
       "cell_index": 6
      }
     ]
    },
    "1204281d4e5b4d54ae421b5aa6a0bc89": {
     "views": [
      {
       "cell_index": 6
      }
     ]
    },
    "120c7494beee49b199aff27fd576a9f7": {
     "views": [
      {
       "cell_index": 6
      }
     ]
    },
    "139806922f8d4bc7aff41055f257fe60": {
     "views": [
      {
       "cell_index": 6
      }
     ]
    },
    "141f0387ba744bbbb0b72152bb0ee606": {
     "views": [
      {
       "cell_index": 6
      }
     ]
    },
    "14e5ccac2e53448ab793eab03fcb85c4": {
     "views": [
      {
       "cell_index": 6
      }
     ]
    },
    "152724d2f7544654ab1f39481138b558": {
     "views": [
      {
       "cell_index": 6
      }
     ]
    },
    "15467ffa14d24ad69e3fb4794864faf2": {
     "views": [
      {
       "cell_index": 6
      }
     ]
    },
    "15d74fef33ab40b4b78a7398a002930b": {
     "views": [
      {
       "cell_index": 6
      }
     ]
    },
    "15fad7a6d4a14bc38bf9dc3e8d0c34c0": {
     "views": [
      {
       "cell_index": 6
      }
     ]
    },
    "160d380c81ae4afba4f46b926efdff92": {
     "views": [
      {
       "cell_index": 6
      }
     ]
    },
    "18498a54163e4049b55d4049ce14aaf4": {
     "views": [
      {
       "cell_index": 6
      }
     ]
    },
    "18b1e8ae7e794ece988d38fb64c5747c": {
     "views": [
      {
       "cell_index": 6
      }
     ]
    },
    "1974c6af3cf64501b90dffa303b8394b": {
     "views": [
      {
       "cell_index": 6
      }
     ]
    },
    "1a6014c891e64671bc25748e06f7c827": {
     "views": [
      {
       "cell_index": 6
      }
     ]
    },
    "1aa761627b974dcaa4e1764c334bac5d": {
     "views": [
      {
       "cell_index": 6
      }
     ]
    },
    "1c20cc90b2334661a3959699cd3ce4f9": {
     "views": [
      {
       "cell_index": 6
      }
     ]
    },
    "1d4291d4b04a47b0b0a8a02dcc48da1f": {
     "views": [
      {
       "cell_index": 6
      }
     ]
    },
    "1d5d15e4393548a5a3fd2c65776a1a7f": {
     "views": [
      {
       "cell_index": 6
      }
     ]
    },
    "1e17f08fe8684f0983eacaed2e7b5257": {
     "views": [
      {
       "cell_index": 3
      }
     ]
    },
    "1eace64e19bd40cc9453f43b82900df9": {
     "views": [
      {
       "cell_index": 6
      }
     ]
    },
    "22320b7c43c245b3aac00e9133c77c21": {
     "views": [
      {
       "cell_index": 6
      }
     ]
    },
    "22970c67e8294785ae102bddd9134425": {
     "views": [
      {
       "cell_index": 6
      }
     ]
    },
    "22aff538304941aeb281a14e8f73c298": {
     "views": [
      {
       "cell_index": 6
      }
     ]
    },
    "25aa6293b2c94a0e85332739b38b4f84": {
     "views": [
      {
       "cell_index": 6
      }
     ]
    },
    "27474aab032748c99fe3f90de81a8c03": {
     "views": [
      {
       "cell_index": 6
      }
     ]
    },
    "2768ea9e123f4ddeb40730a30ff2f6cb": {
     "views": [
      {
       "cell_index": 6
      }
     ]
    },
    "278ffd1ce9d64131b9024dd03fef89f9": {
     "views": [
      {
       "cell_index": 6
      }
     ]
    },
    "294c93cf07754e45a7998e55b985b022": {
     "views": [
      {
       "cell_index": 6
      }
     ]
    },
    "29b037b246aa4e6c873d3f44161d8169": {
     "views": [
      {
       "cell_index": 2
      }
     ]
    },
    "29b47df313f6487fa693e146a807c383": {
     "views": [
      {
       "cell_index": 6
      }
     ]
    },
    "2be2cd71d9c246c8a23c69da05345d92": {
     "views": [
      {
       "cell_index": 6
      }
     ]
    },
    "2c0e5c9a3e5b4c6ba7c6df74cb414533": {
     "views": [
      {
       "cell_index": 6
      }
     ]
    },
    "2d2253f9a8a1422a8dbd50825a2363c9": {
     "views": [
      {
       "cell_index": 6
      }
     ]
    },
    "2e3664f1dbb94c77968c5724a16ffd76": {
     "views": [
      {
       "cell_index": 6
      }
     ]
    },
    "2ec1d08e0b494781932f539956b816b5": {
     "views": [
      {
       "cell_index": 6
      }
     ]
    },
    "31ab7eb1b2724a528f7d227b730e4a8d": {
     "views": [
      {
       "cell_index": 6
      }
     ]
    },
    "32e18fa4607f48dead8e38710b156353": {
     "views": [
      {
       "cell_index": 6
      }
     ]
    },
    "337b36b6397642ea972d05ccdd6d70e5": {
     "views": [
      {
       "cell_index": 6
      }
     ]
    },
    "350ba199378e4d2183530fa239a7b1e6": {
     "views": [
      {
       "cell_index": 6
      }
     ]
    },
    "36a26b4db819404ab9f4af04c139dd7f": {
     "views": [
      {
       "cell_index": 6
      }
     ]
    },
    "36aceb4b13174b698acd721bdc81a09d": {
     "views": [
      {
       "cell_index": 6
      }
     ]
    },
    "37a7d1e9f0ca42c8a61824c83867c5cb": {
     "views": [
      {
       "cell_index": 6
      }
     ]
    },
    "37e9c294cf654bc580548c7aa5400ba5": {
     "views": [
      {
       "cell_index": 6
      }
     ]
    },
    "389518ed094649c980cc03de23434e43": {
     "views": [
      {
       "cell_index": 6
      }
     ]
    },
    "38a3abe9d5e041dcbedf83dafa2bee3e": {
     "views": [
      {
       "cell_index": 6
      }
     ]
    },
    "3ac7c08be7564e31bf31579231c837f2": {
     "views": [
      {
       "cell_index": 6
      }
     ]
    },
    "3ad542d3ad2241d393b74225baf6a866": {
     "views": [
      {
       "cell_index": 6
      }
     ]
    },
    "3af81dec9d6e484a95b27f3a47a08a14": {
     "views": [
      {
       "cell_index": 6
      }
     ]
    },
    "3b6a75d8d44a4a1394439d1a60d8c9df": {
     "views": [
      {
       "cell_index": 6
      }
     ]
    },
    "3b95503dadf44a12a09a9a173921342c": {
     "views": [
      {
       "cell_index": 6
      }
     ]
    },
    "3c0a1568f7204aa69e58bb8efe46c478": {
     "views": [
      {
       "cell_index": 6
      }
     ]
    },
    "3cd6106537ea494fa236587d6c1fb3b6": {
     "views": [
      {
       "cell_index": 6
      }
     ]
    },
    "3d1f6ac7d0134032a303488e0bbf1800": {
     "views": [
      {
       "cell_index": 6
      }
     ]
    },
    "411fe7b9b80e4e84b2f93e3b4f0820df": {
     "views": [
      {
       "cell_index": 6
      }
     ]
    },
    "412c63af0eb24baeb02bc283f4801027": {
     "views": [
      {
       "cell_index": 6
      }
     ]
    },
    "415d6721dcea4722a4da97efbbcee274": {
     "views": [
      {
       "cell_index": 6
      }
     ]
    },
    "418d42103ecc4f589f59231b38e3bf66": {
     "views": [
      {
       "cell_index": 6
      }
     ]
    },
    "41ed61d2ec934fa6a8e1407d3da3e0c6": {
     "views": [
      {
       "cell_index": 6
      }
     ]
    },
    "4210070cdf874cdeb3ec5f6693cb5611": {
     "views": [
      {
       "cell_index": 6
      }
     ]
    },
    "4248d0de754e4cf0838b4235825279af": {
     "views": [
      {
       "cell_index": 4
      }
     ]
    },
    "4422f2d789c94d0e8d8b80c91ea60656": {
     "views": [
      {
       "cell_index": 6
      }
     ]
    },
    "444c7212b573428ab17eff117e637ad8": {
     "views": [
      {
       "cell_index": 6
      }
     ]
    },
    "45cdfd88905d4092b2cc25e5b753b015": {
     "views": [
      {
       "cell_index": 6
      }
     ]
    },
    "495c8dcd3978401faf3ba1c565a0204c": {
     "views": [
      {
       "cell_index": 6
      }
     ]
    },
    "49e49eb77d0e40e99d5e595d9f38b22a": {
     "views": [
      {
       "cell_index": 6
      }
     ]
    },
    "4b068b65ba7b4a86a2368f9e1421089a": {
     "views": [
      {
       "cell_index": 6
      }
     ]
    },
    "4c45b19d11fc4a4bb594d22e2c75a73e": {
     "views": [
      {
       "cell_index": 6
      }
     ]
    },
    "51d39671c7f04b08a7bc5346498dccd8": {
     "views": [
      {
       "cell_index": 6
      }
     ]
    },
    "572180dee2d040d1b1fe846012938540": {
     "views": [
      {
       "cell_index": 6
      }
     ]
    },
    "57397f70153b4bac85414b1d1107864c": {
     "views": [
      {
       "cell_index": 6
      }
     ]
    },
    "59a1ba51d50b429d837b005a2e05c13d": {
     "views": [
      {
       "cell_index": 6
      }
     ]
    },
    "5cf5224b60b8448080ffa0dcaab314f3": {
     "views": [
      {
       "cell_index": 6
      }
     ]
    },
    "5fdd9a5391e7496ab0bd16c019e40a80": {
     "views": [
      {
       "cell_index": 6
      }
     ]
    },
    "603f282a33a14e6a909467ac78eb0cfd": {
     "views": [
      {
       "cell_index": 6
      }
     ]
    },
    "62cd265fc4b44b748806b4623d0881e1": {
     "views": [
      {
       "cell_index": 6
      }
     ]
    },
    "62de978d1465464fbdceeaeb7810cd37": {
     "views": [
      {
       "cell_index": 6
      }
     ]
    },
    "63baa06d3dbe48b797c82d3b95c4ab0b": {
     "views": [
      {
       "cell_index": 6
      }
     ]
    },
    "649467b80a1d4d98b31c23d12581dbc0": {
     "views": [
      {
       "cell_index": 6
      }
     ]
    },
    "66443a4392204f54816d59a58e5a3e32": {
     "views": [
      {
       "cell_index": 6
      }
     ]
    },
    "69762d9f091040bba988f69530bcefdf": {
     "views": [
      {
       "cell_index": 6
      }
     ]
    },
    "6c1b0d5e6fd9488091f4688d249bd156": {
     "views": [
      {
       "cell_index": 6
      }
     ]
    },
    "6df4f526bbb84273b2a70c6c25ad42c5": {
     "views": [
      {
       "cell_index": 6
      }
     ]
    },
    "70f5f879a03d4359ab0f20df7e7d1640": {
     "views": [
      {
       "cell_index": 6
      }
     ]
    },
    "722982c0daa04187b9380a4754f79d15": {
     "views": [
      {
       "cell_index": 6
      }
     ]
    },
    "7247fbfe48d2447eaaa49ad1c82c2fd8": {
     "views": [
      {
       "cell_index": 6
      }
     ]
    },
    "728b16fbabc14557893f0f3b40dd1063": {
     "views": [
      {
       "cell_index": 2
      }
     ]
    },
    "7480ab6aaaff4bfab2058a3ca66a541b": {
     "views": [
      {
       "cell_index": 6
      }
     ]
    },
    "74e8d272c3ff498d8040cfe187c08bbd": {
     "views": [
      {
       "cell_index": 6
      }
     ]
    },
    "758aebef4ab6412d9b4e0489b90108d2": {
     "views": [
      {
       "cell_index": 6
      }
     ]
    },
    "75c4cf8c358f4146af7de1f5642d04b7": {
     "views": [
      {
       "cell_index": 6
      }
     ]
    },
    "7809fe5a1b4c46f79bad5ff1f3c0e483": {
     "views": [
      {
       "cell_index": 6
      }
     ]
    },
    "781f7c82b1ab49b185a09749926b5aa9": {
     "views": [
      {
       "cell_index": 6
      }
     ]
    },
    "790d2b1dfce74900b5a1abf2639f7884": {
     "views": [
      {
       "cell_index": 6
      }
     ]
    },
    "7adb2451878e46e785b808ce6ba6f019": {
     "views": [
      {
       "cell_index": 6
      }
     ]
    },
    "7b60a90e4e1c4fddb25fbdb8b8f421ee": {
     "views": [
      {
       "cell_index": 6
      }
     ]
    },
    "7bf12ddca43245f7a4e291697240198a": {
     "views": [
      {
       "cell_index": 6
      }
     ]
    },
    "7c4c7490a93143e4bb17a5650f5eac10": {
     "views": [
      {
       "cell_index": 6
      }
     ]
    },
    "7df1287ebf244da0833038087449dcc3": {
     "views": [
      {
       "cell_index": 6
      }
     ]
    },
    "80e641ebceb34e7b8e591b4e4096fd5c": {
     "views": [
      {
       "cell_index": 6
      }
     ]
    },
    "81dac4d35b794861a08e238ea8579018": {
     "views": [
      {
       "cell_index": 6
      }
     ]
    },
    "854b48a8e4eb4e859eb6b783549f20c7": {
     "views": [
      {
       "cell_index": 6
      }
     ]
    },
    "86b893f1a1d147f9a83185666c7a9a63": {
     "views": [
      {
       "cell_index": 6
      }
     ]
    },
    "8b8a047b52834acfbae43babe503c2f1": {
     "views": [
      {
       "cell_index": 6
      }
     ]
    },
    "911c486db0014df4a9741610b7a374af": {
     "views": [
      {
       "cell_index": 6
      }
     ]
    },
    "92cb589fa364433cb10bbdbfcaf8324a": {
     "views": [
      {
       "cell_index": 6
      }
     ]
    },
    "9433f873f501491f989aa57158b7d9da": {
     "views": [
      {
       "cell_index": 6
      }
     ]
    },
    "945d6cd3fab14ac1841575fabc055aeb": {
     "views": [
      {
       "cell_index": 6
      }
     ]
    },
    "96a7b4ce31794921b461a582f863071a": {
     "views": [
      {
       "cell_index": 6
      }
     ]
    },
    "96f79ba3c45748feb35e37e5b4064349": {
     "views": [
      {
       "cell_index": 6
      }
     ]
    },
    "970afa6120674634b5604da10192654b": {
     "views": [
      {
       "cell_index": 6
      }
     ]
    },
    "97547876713b42f5a747332109de891c": {
     "views": [
      {
       "cell_index": 6
      }
     ]
    },
    "982112ff5b404b0e8ab8fd8a330ed874": {
     "views": [
      {
       "cell_index": 6
      }
     ]
    },
    "989fdb58f46a482186ec04b0ae8db1a9": {
     "views": [
      {
       "cell_index": 6
      }
     ]
    },
    "997e458dfabc466ba26258c5c4599be9": {
     "views": [
      {
       "cell_index": 6
      }
     ]
    },
    "99b5b3d437ac4d9482ebde4592f88d8c": {
     "views": [
      {
       "cell_index": 6
      }
     ]
    },
    "9a9fcc59f9dd4710940fb1e7ebf92840": {
     "views": [
      {
       "cell_index": 6
      }
     ]
    },
    "9d5f3a75dcee4ddbb510b0f26b1f5cac": {
     "views": [
      {
       "cell_index": 6
      }
     ]
    },
    "a08a37d1071a4e17a779ecdc7a7cf728": {
     "views": [
      {
       "cell_index": 6
      }
     ]
    },
    "a6c3449255f941918e6d6acdb284c45b": {
     "views": [
      {
       "cell_index": 6
      }
     ]
    },
    "ab171990bebe4117aee6fcd4981caa59": {
     "views": [
      {
       "cell_index": 6
      }
     ]
    },
    "abf9b70e99d04fdb9db4f29938d12a93": {
     "views": [
      {
       "cell_index": 6
      }
     ]
    },
    "ac5724810b7441cba28e07cefc207a64": {
     "views": [
      {
       "cell_index": 6
      }
     ]
    },
    "ad48c117a10c4718a57688993583053a": {
     "views": [
      {
       "cell_index": 6
      }
     ]
    },
    "ae3b438c6e5c4de79f468ee039a2e9c7": {
     "views": [
      {
       "cell_index": 6
      }
     ]
    },
    "ae76ce527cfd4c84a988f5541d9ae47d": {
     "views": [
      {
       "cell_index": 6
      }
     ]
    },
    "afa46e640a31412dbf81a865604d2914": {
     "views": [
      {
       "cell_index": 6
      }
     ]
    },
    "afcd3155d1234a308182addbcbd43d1a": {
     "views": [
      {
       "cell_index": 6
      }
     ]
    },
    "b15864ee3b3d45c8bf48bf2832d3fad2": {
     "views": [
      {
       "cell_index": 6
      }
     ]
    },
    "b3853862e0104df586c5db50833e36e6": {
     "views": [
      {
       "cell_index": 6
      }
     ]
    },
    "b42d23eb20dc4191856b77c5fdbaa3c3": {
     "views": [
      {
       "cell_index": 6
      }
     ]
    },
    "b434cbbebab441f2a6147f208f96424f": {
     "views": [
      {
       "cell_index": 6
      }
     ]
    },
    "b651004d218a47bbabc2d35b34167839": {
     "views": [
      {
       "cell_index": 6
      }
     ]
    },
    "b7e8375687d147d0bd0f84b99e008cfb": {
     "views": [
      {
       "cell_index": 6
      }
     ]
    },
    "ba2a23d2f5a54a32a972c41a32b7ffeb": {
     "views": [
      {
       "cell_index": 6
      }
     ]
    },
    "be798e3855c3408a9c4fece7dfd46bf2": {
     "views": [
      {
       "cell_index": 6
      }
     ]
    },
    "be8bb6b15f2a4bea9f8c36c6adc7ac1f": {
     "views": [
      {
       "cell_index": 6
      }
     ]
    },
    "bf4e2d200c9d41bb8b56492549cc7184": {
     "views": [
      {
       "cell_index": 6
      }
     ]
    },
    "c0c85fdfc9e64733bca5c028bb51b5b6": {
     "views": [
      {
       "cell_index": 6
      }
     ]
    },
    "c2c9c054306c4fa2a9dead378022855e": {
     "views": [
      {
       "cell_index": 3
      }
     ]
    },
    "c5667aed586a4386833db0b244dec918": {
     "views": [
      {
       "cell_index": 6
      }
     ]
    },
    "c589ec68be774281886b194cd0930ca4": {
     "views": [
      {
       "cell_index": 6
      }
     ]
    },
    "c60ec3fed19a4defb54eac9084297f27": {
     "views": [
      {
       "cell_index": 6
      }
     ]
    },
    "c73e537861d64102a4f8d4576ca23618": {
     "views": [
      {
       "cell_index": 6
      }
     ]
    },
    "ca086a958dcd4adc912f73f8f3ff4ba2": {
     "views": [
      {
       "cell_index": 6
      }
     ]
    },
    "cb4a7acd6e0d44abbd916b9c15bf6437": {
     "views": [
      {
       "cell_index": 6
      }
     ]
    },
    "cde828289a7e41018ed4f0d61f5aee11": {
     "views": [
      {
       "cell_index": 6
      }
     ]
    },
    "cedf02ee0d0c47a5bf08386295ef749d": {
     "views": [
      {
       "cell_index": 6
      }
     ]
    },
    "d044dd3dc54948748b4912a93ce0ceac": {
     "views": [
      {
       "cell_index": 6
      }
     ]
    },
    "d1c0946aea9b493bbe97148461c41208": {
     "views": [
      {
       "cell_index": 6
      }
     ]
    },
    "d25c28348ffd40ceb7294d8f143f769d": {
     "views": [
      {
       "cell_index": 6
      }
     ]
    },
    "d3a206f323db4b99b1718996f2f2db2c": {
     "views": [
      {
       "cell_index": 6
      }
     ]
    },
    "d3f6e1b271d649a99bb8956ce7772d68": {
     "views": [
      {
       "cell_index": 6
      }
     ]
    },
    "d4188c7881aa410a9fb6596c6bdd4f2c": {
     "views": [
      {
       "cell_index": 6
      }
     ]
    },
    "d4c44ed1197747fcbd54058f5cae009b": {
     "views": [
      {
       "cell_index": 6
      }
     ]
    },
    "d939de5add61413ea665f38ebc1afe86": {
     "views": [
      {
       "cell_index": 6
      }
     ]
    },
    "dabf4f4c1f6541449f16f59d22c7426f": {
     "views": [
      {
       "cell_index": 6
      }
     ]
    },
    "dbe58eb9757e4d06baf1a0e495c1bca4": {
     "views": [
      {
       "cell_index": 6
      }
     ]
    },
    "dd0d8b1607904fd99b65e551776e93e8": {
     "views": [
      {
       "cell_index": 6
      }
     ]
    },
    "dd56be2a960748a19516856ce401cfe5": {
     "views": [
      {
       "cell_index": 6
      }
     ]
    },
    "dd6bd794f16c46e6a0ed7d589eaf7e3f": {
     "views": [
      {
       "cell_index": 6
      }
     ]
    },
    "de318cfd699a414495cbc24dcc8a054f": {
     "views": [
      {
       "cell_index": 6
      }
     ]
    },
    "e135425f410049409b2825e2d605bdde": {
     "views": [
      {
       "cell_index": 6
      }
     ]
    },
    "e19b81d76dcf4036be715566711c8951": {
     "views": [
      {
       "cell_index": 6
      }
     ]
    },
    "e370a5ded229462c857e5b5791f99eaf": {
     "views": [
      {
       "cell_index": 6
      }
     ]
    },
    "e578fdf102ca4be3adfe99a3e4583b24": {
     "views": [
      {
       "cell_index": 6
      }
     ]
    },
    "e57cd2285ff94579a493f9167a4c1875": {
     "views": [
      {
       "cell_index": 6
      }
     ]
    },
    "e84a4b074e6f4c5b9a0ccaee4e500028": {
     "views": [
      {
       "cell_index": 6
      }
     ]
    },
    "e970e305db144665b33a65fae2f00326": {
     "views": [
      {
       "cell_index": 6
      }
     ]
    },
    "e9fc43b616294170a1dec568e464a8cd": {
     "views": [
      {
       "cell_index": 6
      }
     ]
    },
    "eaa9875cfb164557a232bfb45204d4ba": {
     "views": [
      {
       "cell_index": 6
      }
     ]
    },
    "eb81135d930d4d89b51827cfe1020cab": {
     "views": [
      {
       "cell_index": 6
      }
     ]
    },
    "edd03f9b4fb94443ad5a9460b760ae64": {
     "views": [
      {
       "cell_index": 6
      }
     ]
    },
    "ee1bf5fb21174f95ab90a08feeeda91b": {
     "views": [
      {
       "cell_index": 6
      }
     ]
    },
    "ef2c5e94e1334850abd355f4b69931b0": {
     "views": [
      {
       "cell_index": 6
      }
     ]
    },
    "f022179b4cc047a09ddd85be7f40a883": {
     "views": [
      {
       "cell_index": 6
      }
     ]
    },
    "f100f17a378949f1814dde6fc523c361": {
     "views": [
      {
       "cell_index": 6
      }
     ]
    },
    "f114d66790f843dd808e62c12bd88662": {
     "views": [
      {
       "cell_index": 6
      }
     ]
    },
    "f38aab71cb9f4534b7b1b8f135983964": {
     "views": [
      {
       "cell_index": 6
      }
     ]
    },
    "f52f36a41a1c4d7da06c44cef6823367": {
     "views": [
      {
       "cell_index": 6
      }
     ]
    },
    "f5ac69ce015e4468942226824b6309bb": {
     "views": [
      {
       "cell_index": 6
      }
     ]
    },
    "f6f5f5ff6ef049efaf44d94d35b013b8": {
     "views": [
      {
       "cell_index": 6
      }
     ]
    },
    "f7c3c991263244bf84f64ee7410058cd": {
     "views": [
      {
       "cell_index": 6
      }
     ]
    },
    "f925588e985943d5a18bf3ca350359bb": {
     "views": [
      {
       "cell_index": 8
      }
     ]
    },
    "f9a5d21f40b84b7d8050e0ca27b753f3": {
     "views": [
      {
       "cell_index": 6
      }
     ]
    },
    "fa254e7d332442ca93a22b0025e476ba": {
     "views": [
      {
       "cell_index": 4
      }
     ]
    },
    "fda979cb3cf94bdf9c6fa345fb01a8ff": {
     "views": [
      {
       "cell_index": 6
      }
     ]
    },
    "fdae07f2e10c4bc08224e754520a943a": {
     "views": [
      {
       "cell_index": 6
      }
     ]
    },
    "ffc158751a6e43eeb46ed0a779ce301d": {
     "views": [
      {
       "cell_index": 6
      }
     ]
    }
   },
   "version": "1.2.0"
  }
 },
 "nbformat": 4,
 "nbformat_minor": 2
}
