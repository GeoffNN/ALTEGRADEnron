{
 "cells": [
  {
   "cell_type": "code",
   "execution_count": 1,
   "metadata": {
    "collapsed": false
   },
   "outputs": [],
   "source": [
    "from collections import defaultdict\n",
    "import itertools\n",
    "from matplotlib import pyplot as plt\n",
    "import math\n",
    "import numpy as np\n",
    "import operator\n",
    "import pandas as pd\n",
    "import pickle\n",
    "import random\n",
    "import re\n",
    "import scipy\n",
    "import string\n",
    "from tqdm import tqdm_notebook\n",
    "\n",
    "\n",
    "import src.knntools as knntools\n",
    "import src.postprocess as postprocess\n",
    "import src.preprocess as preprocess\n",
    "import src.tfidftools as tfidftools\n",
    "import src.tools as tools\n",
    "import src.recencytools as recency\n",
    "import src.scoring as scoring\n",
    "import src.textembeddingtools as texttools\n",
    "import src.graphwordstools as graphtools\n",
    "\n",
    "%load_ext autoreload\n",
    "%autoreload 2\n",
    "%matplotlib inline"
   ]
  },
  {
   "cell_type": "code",
   "execution_count": 2,
   "metadata": {
    "collapsed": false
   },
   "outputs": [],
   "source": [
    "path_to_data = 'data/'\n",
    "\n",
    "training = pd.read_csv(path_to_data + 'training_set.csv', sep=',', header=0)\n",
    "\n",
    "training_info = pd.read_csv(\n",
    "    path_to_data + 'training_info.csv', sep=',', parse_dates=True, header=0)\n",
    "\n",
    "test = pd.read_csv(path_to_data + 'test_set.csv', sep=',', header=0)\n",
    "\n",
    "test_info = pd.read_csv(path_to_data + 'test_info.csv',\n",
    "                        sep=',', parse_dates=True, header=0)\n",
    "path_to_results = 'results/'"
   ]
  },
  {
   "cell_type": "code",
   "execution_count": 6,
   "metadata": {
    "collapsed": false
   },
   "outputs": [
    {
     "name": "stdout",
     "output_type": "stream",
     "text": [
      "\n",
      "\n"
     ]
    }
   ],
   "source": [
    "training_body_dict = preprocess.body_dict_from_panda(training_info)\n",
    "test_body_dict = preprocess.body_dict_from_panda(test_info)"
   ]
  },
  {
   "cell_type": "code",
   "execution_count": 3,
   "metadata": {
    "collapsed": false
   },
   "outputs": [
    {
     "name": "stdout",
     "output_type": "stream",
     "text": [
      "\n",
      "\n"
     ]
    }
   ],
   "source": [
    "training_email_ids_per_sender = preprocess.get_email_ids_per_sender(training)\n",
    "test_email_ids_per_sender = preprocess.get_email_ids_per_sender(test)"
   ]
  },
  {
   "cell_type": "code",
   "execution_count": 7,
   "metadata": {
    "collapsed": false
   },
   "outputs": [
    {
     "name": "stdout",
     "output_type": "stream",
     "text": [
      "\n",
      "\n"
     ]
    }
   ],
   "source": [
    "training_token_dict = texttools.get_token_dict(training_body_dict)\n",
    "test_token_dict = texttools.get_token_dict(test_body_dict)"
   ]
  },
  {
   "cell_type": "markdown",
   "metadata": {},
   "source": [
    "# Prepare models"
   ]
  },
  {
   "cell_type": "code",
   "execution_count": 10,
   "metadata": {
    "collapsed": false
   },
   "outputs": [
    {
     "name": "stdout",
     "output_type": "stream",
     "text": [
      "\n",
      "\n"
     ]
    }
   ],
   "source": [
    "senders_mean_lengths = {}\n",
    "senders_idf_dics = {}\n",
    "senders_idf_words = {}\n",
    "senders_twidf_matrixs = {}\n",
    "senders_twidf_mids = {}\n",
    "\n",
    "pbar_senders = tqdm_notebook(training_email_ids_per_sender.items())\n",
    "for sender, sender_mids in pbar_senders:\n",
    "    sender_token_dict = {mid:body for mid, body in training_token_dict.items() if int(mid) in sender_mids}\n",
    "    # Compute info about tokens\n",
    "    sender_doc_lengths_dic, sender_average_doc_len = texttools.get_doc_length_info(sender_token_dict)\n",
    "    senders_mean_lengths[sender] = sender_average_doc_len\n",
    "    # Get idf info\n",
    "    sender_idf_dic, sender_idf_words = tfidftools.get_idf_dic(training_token_dict)\n",
    "    senders_idf_dics[sender] = sender_idf_dic\n",
    "    senders_idf_words[sender] = sender_idf_words\n",
    "    # Get tw info\n",
    "    sender_twidf_matrix, sender_twidf_mids = graphtools.get_twidf_matrix(sender_token_dict, sender_doc_lengths_dic,\n",
    "                                                                         sender_average_doc_len, sender_idf_dic,\n",
    "                                                                         sender_idf_words, 0.003)\n",
    "    senders_twidf_mids[sender] = sender_twidf_mids\n",
    "    senders_twidf_matrixs[sender] = sender_twidf_matrix\n",
    "    "
   ]
  },
  {
   "cell_type": "markdown",
   "metadata": {},
   "source": [
    "## Make predictions"
   ]
  },
  {
   "cell_type": "markdown",
   "metadata": {},
   "source": []
  },
  {
   "cell_type": "code",
   "execution_count": 11,
   "metadata": {
    "collapsed": false
   },
   "outputs": [
    {
     "name": "stdout",
     "output_type": "stream",
     "text": [
      "\n"
     ]
    }
   ],
   "source": [
    "nb_close=50\n",
    "mid_recipient_scores = {}\n",
    "\n",
    "pbar_senders = tqdm_notebook(test_email_ids_per_sender.items())\n",
    "for sender, sender_test_mids in pbar_senders:\n",
    "    # Retrieve sender info\n",
    "    sender_average_doc_len = senders_mean_lengths[sender]\n",
    "    sender_idf_dic = senders_idf_dics[sender]\n",
    "    sender_idf_words = senders_idf_words[sender]\n",
    "    sender_twidf_mids = senders_twidf_mids[sender]\n",
    "    sender_twidf_matrix = senders_twidf_matrixs[sender]\n",
    "    for mid in sender_test_mids:\n",
    "        email_tokens = test_token_dict[mid]\n",
    "        query_vector = graphtools.get_twidf_vector_from_tokens(sender_idf_dic, sender_idf_words,\n",
    "                                                              email_tokens, sender_average_doc_len)\n",
    "        similars = knntools.find_similar(query_vector, sender_twidf_matrix,\n",
    "                                                                nb_similars=nb_close)\n",
    "        # Get mid in training set corresponding to best matches   \n",
    "        best_match_mid = [sender_twidf_mids[similar_item[0]] for similar_item in similars]\n",
    "        \n",
    "        # Get corresponding similarity scores\n",
    "        best_match_scores = [similar_item[1] for similar_item in similars]\n",
    "        test_mail_scores = defaultdict(lambda: 0)\n",
    "        for train_mid, train_score in zip(best_match_mid, best_match_scores):\n",
    "            recipients = preprocess.get_recipients(training_info, train_mid)\n",
    "            for recipient in recipients:\n",
    "                test_mail_scores[recipient] += train_score\n",
    "        mid_recipient_scores[mid] = test_mail_scores\n"
   ]
  },
  {
   "cell_type": "code",
   "execution_count": 12,
   "metadata": {
    "collapsed": false
   },
   "outputs": [],
   "source": [
    "twidf_predictions = knntools.similar_dic_to_standard(mid_recipient_scores, nb_recipients=100)"
   ]
  },
  {
   "cell_type": "code",
   "execution_count": 13,
   "metadata": {
    "collapsed": true
   },
   "outputs": [],
   "source": [
    "path_to_ranks = 'ranks_test/twidf-knn-k-senders-{nb_neighbors}-rec'.format(nb_neighbors=nb_close)\n",
    "with open(path_to_ranks, 'wb') as infile:\n",
    "              pickle.dump(twidf_predictions, infile)"
   ]
  },
  {
   "cell_type": "code",
   "execution_count": 15,
   "metadata": {
    "collapsed": false
   },
   "outputs": [],
   "source": [
    "postprocess.write_results_ranked(twidf_predictions, path_to_results, 'twidf_sender_50_nn_tw_0_003.csv')"
   ]
  },
  {
   "cell_type": "code",
   "execution_count": null,
   "metadata": {
    "collapsed": true
   },
   "outputs": [],
   "source": []
  }
 ],
 "metadata": {
  "kernelspec": {
   "display_name": "Python 3",
   "language": "python",
   "name": "python3"
  },
  "language_info": {
   "codemirror_mode": {
    "name": "ipython",
    "version": 3
   },
   "file_extension": ".py",
   "mimetype": "text/x-python",
   "name": "python",
   "nbconvert_exporter": "python",
   "pygments_lexer": "ipython3",
   "version": "3.4.3"
  },
  "widgets": {
   "state": {
    "0063200a79c7437ba659f453e34209a5": {
     "views": [
      {
       "cell_index": 6
      }
     ]
    },
    "014f33da15684df3b026c852d59e5bba": {
     "views": [
      {
       "cell_index": 6
      }
     ]
    },
    "024fc5e2046c451490d97db540b67986": {
     "views": [
      {
       "cell_index": 6
      }
     ]
    },
    "028bfad3c94146d49d83a3987fa228e1": {
     "views": [
      {
       "cell_index": 6
      }
     ]
    },
    "0354cf080272429eaade98c8453dd6a9": {
     "views": [
      {
       "cell_index": 6
      }
     ]
    },
    "039aa7f8974d4047afb0e6a633412d55": {
     "views": [
      {
       "cell_index": 6
      }
     ]
    },
    "03e5938bacb24dba90ee655f4f401354": {
     "views": [
      {
       "cell_index": 6
      }
     ]
    },
    "04461ae483eb49d3b73127fdb59fc8e3": {
     "views": [
      {
       "cell_index": 6
      }
     ]
    },
    "04a5857ce387420eaf4a8739ddfd9fb6": {
     "views": [
      {
       "cell_index": 6
      }
     ]
    },
    "04cb2ffb8dfe4605a6382feaada725c9": {
     "views": [
      {
       "cell_index": 6
      }
     ]
    },
    "05242280e68c4969a874738f1b58d8c8": {
     "views": [
      {
       "cell_index": 6
      }
     ]
    },
    "05cdf93108404d3c8b8aa285913849bf": {
     "views": [
      {
       "cell_index": 6
      }
     ]
    },
    "062a9b0acd8f409990bf6ced81971cc2": {
     "views": [
      {
       "cell_index": 6
      }
     ]
    },
    "0639e12e1b3e4d69b22839682571dcf4": {
     "views": [
      {
       "cell_index": 6
      }
     ]
    },
    "07772b5fe6214c7b97f1aabbef456329": {
     "views": [
      {
       "cell_index": 6
      }
     ]
    },
    "0797b5d130f441c487061daf77869262": {
     "views": [
      {
       "cell_index": 6
      }
     ]
    },
    "07bd60e90a1b4f1fa78a39af37e62d80": {
     "views": [
      {
       "cell_index": 6
      }
     ]
    },
    "07ced365d6d148bb825bb68316acaf07": {
     "views": [
      {
       "cell_index": 6
      }
     ]
    },
    "085636b370d9431b99be20e56becdfe6": {
     "views": [
      {
       "cell_index": 6
      }
     ]
    },
    "094776d312a64d46ad59988dcaad83e7": {
     "views": [
      {
       "cell_index": 6
      }
     ]
    },
    "0988927ff0e7452bad86f7075dda860b": {
     "views": [
      {
       "cell_index": 6
      }
     ]
    },
    "0a4c16b124fc43a4bd9d26816eb5268b": {
     "views": [
      {
       "cell_index": 6
      }
     ]
    },
    "0aa4c2a353934523baf7d852d666ffc5": {
     "views": [
      {
       "cell_index": 6
      }
     ]
    },
    "0c3fa268d76d431080377f84ad936d88": {
     "views": [
      {
       "cell_index": 6
      }
     ]
    },
    "0d2401f8abb7487b96fab9fca3589598": {
     "views": [
      {
       "cell_index": 6
      }
     ]
    },
    "0dbbc66e83a44953b1aff1b746d3fc23": {
     "views": [
      {
       "cell_index": 6
      }
     ]
    },
    "0dfbee6840a94ddf9ab748dca0e4d963": {
     "views": [
      {
       "cell_index": 6
      }
     ]
    },
    "0e3991029cb1484fa595d6c7423c66de": {
     "views": [
      {
       "cell_index": 6
      }
     ]
    },
    "0f5ba4dfb9d1444c8a5c56894a8c537b": {
     "views": [
      {
       "cell_index": 6
      }
     ]
    },
    "102515540ebe4cb7a9c21a99618a7d01": {
     "views": [
      {
       "cell_index": 6
      }
     ]
    },
    "104ae8bcd6b4433282774867c03de7b6": {
     "views": [
      {
       "cell_index": 6
      }
     ]
    },
    "116e7ee50173410faa1674dce577e174": {
     "views": [
      {
       "cell_index": 6
      }
     ]
    },
    "117af4edec6a46d8b8ff0b7d0294a82b": {
     "views": [
      {
       "cell_index": 6
      }
     ]
    },
    "11b8041619ff4a218b6d4657b617bff3": {
     "views": [
      {
       "cell_index": 6
      }
     ]
    },
    "11f2544931b34030922638890b037bf0": {
     "views": [
      {
       "cell_index": 6
      }
     ]
    },
    "126b1dd12b7c4dcb88d897c9f89f6b64": {
     "views": [
      {
       "cell_index": 6
      }
     ]
    },
    "13b917c25e1048128a240aba9c18a385": {
     "views": [
      {
       "cell_index": 6
      }
     ]
    },
    "14f313466d864ac4aa9e85a4dc13e8b8": {
     "views": [
      {
       "cell_index": 6
      }
     ]
    },
    "153141837dce4fe58aadb78b2973f1fc": {
     "views": [
      {
       "cell_index": 6
      }
     ]
    },
    "1547c544489a47e59f584338adaa359f": {
     "views": [
      {
       "cell_index": 6
      }
     ]
    },
    "15b100fb643543da98c3e018727f5c9e": {
     "views": [
      {
       "cell_index": 6
      }
     ]
    },
    "1628e3f3b68f4b1996d59de4a493953f": {
     "views": [
      {
       "cell_index": 3
      }
     ]
    },
    "16e0b00ec311474f967e66d6dc09f1ef": {
     "views": [
      {
       "cell_index": 6
      }
     ]
    },
    "1785884a478d4e76932a387a200b91d7": {
     "views": [
      {
       "cell_index": 6
      }
     ]
    },
    "184378cbce894d48b82441531b673f07": {
     "views": [
      {
       "cell_index": 6
      }
     ]
    },
    "19235e133f9843418982a15d62bb74a1": {
     "views": [
      {
       "cell_index": 6
      }
     ]
    },
    "193f8434e5d34fe0a5e1cd4b06da1f83": {
     "views": [
      {
       "cell_index": 6
      }
     ]
    },
    "1a6aa7da29274e498f4d686615fc9abb": {
     "views": [
      {
       "cell_index": 6
      }
     ]
    },
    "1ae7992cebe24d9f9a50173d357665e1": {
     "views": [
      {
       "cell_index": 2
      }
     ]
    },
    "1bf350bb2ae24ac693ca48a0e24b0c4d": {
     "views": [
      {
       "cell_index": 6
      }
     ]
    },
    "1c2b71f3fd9b4388b434dd5ffff0ae5f": {
     "views": [
      {
       "cell_index": 6
      }
     ]
    },
    "1deb00b731014530af6900c72cef1e9e": {
     "views": [
      {
       "cell_index": 6
      }
     ]
    },
    "1e8fd4609edc43298aab7504a2f000d2": {
     "views": [
      {
       "cell_index": 6
      }
     ]
    },
    "1f055d065e524ade9e933d24377c4f3c": {
     "views": [
      {
       "cell_index": 6
      }
     ]
    },
    "1fb1e1624d8f49958c41f7b3fafdfcb9": {
     "views": [
      {
       "cell_index": 6
      }
     ]
    },
    "1ff7cb7f5f564c40bbebd71e09692fdb": {
     "views": [
      {
       "cell_index": 6
      }
     ]
    },
    "20aa131221bc419b93f1c24b26aaa90d": {
     "views": [
      {
       "cell_index": 6
      }
     ]
    },
    "22a215d3ac8344619acbb7403a473588": {
     "views": [
      {
       "cell_index": 6
      }
     ]
    },
    "24157699f18d4539b47548c944d7bbb4": {
     "views": [
      {
       "cell_index": 6
      }
     ]
    },
    "24358bfbb2e2443e8b11dacd0f1d03f2": {
     "views": [
      {
       "cell_index": 6
      }
     ]
    },
    "2487a583342c4222b1b8da822751d6dd": {
     "views": [
      {
       "cell_index": 6
      }
     ]
    },
    "24f9ef378251474bb59f90cccfc34a70": {
     "views": [
      {
       "cell_index": 6
      }
     ]
    },
    "2586becb6e3f47d8b94594b95996502b": {
     "views": [
      {
       "cell_index": 6
      }
     ]
    },
    "277a95891d974e49a4392e2894615387": {
     "views": [
      {
       "cell_index": 6
      }
     ]
    },
    "2783089f2cdb436887126394716f6d7c": {
     "views": [
      {
       "cell_index": 6
      }
     ]
    },
    "28aba2c54ee14a3a8c2b20bb37c62d17": {
     "views": [
      {
       "cell_index": 6
      }
     ]
    },
    "2a432a5612574d93bc3a5f832b719555": {
     "views": [
      {
       "cell_index": 6
      }
     ]
    },
    "2b33d20cdab741bf943b94a67779e8f5": {
     "views": [
      {
       "cell_index": 6
      }
     ]
    },
    "2c763f65a8d044c48452a1657907c79b": {
     "views": [
      {
       "cell_index": 6
      }
     ]
    },
    "2d6b4e46a45b469a8a93557399cb012f": {
     "views": [
      {
       "cell_index": 6
      }
     ]
    },
    "2da6e874a7f244dab18541b17a09a938": {
     "views": [
      {
       "cell_index": 6
      }
     ]
    },
    "2e5b1657c211406c8656e47d5f5b9c96": {
     "views": [
      {
       "cell_index": 6
      }
     ]
    },
    "2f1473404f094cab96a0efdb06fdc78d": {
     "views": [
      {
       "cell_index": 6
      }
     ]
    },
    "30988bc1ae87433db9667e25fd5144a3": {
     "views": [
      {
       "cell_index": 6
      }
     ]
    },
    "30dc6b00b4504b6a909570f65a7c0333": {
     "views": [
      {
       "cell_index": 6
      }
     ]
    },
    "31c26185acae47958f49496411d39e56": {
     "views": [
      {
       "cell_index": 6
      }
     ]
    },
    "31e5592084ab4c5fad35b65e0f057c95": {
     "views": [
      {
       "cell_index": 6
      }
     ]
    },
    "31e81d9f40c14ff3a4833974ce44f0c6": {
     "views": [
      {
       "cell_index": 6
      }
     ]
    },
    "32723cf21cae4ddeb559e60df3b60907": {
     "views": [
      {
       "cell_index": 6
      }
     ]
    },
    "32f3ef552511466e967b02f3745e1704": {
     "views": [
      {
       "cell_index": 6
      }
     ]
    },
    "3338685750334da8948e9cad3ec87c92": {
     "views": [
      {
       "cell_index": 6
      }
     ]
    },
    "340b817a97c342e497b3de3821db7f83": {
     "views": [
      {
       "cell_index": 6
      }
     ]
    },
    "34a0787dcd564c7badf98817b4885473": {
     "views": [
      {
       "cell_index": 6
      }
     ]
    },
    "3742e634808945228156989d188f3707": {
     "views": [
      {
       "cell_index": 6
      }
     ]
    },
    "37b27241dca34e228099efb67f53b029": {
     "views": [
      {
       "cell_index": 6
      }
     ]
    },
    "386e7b792cf34863898840b41d35fac4": {
     "views": [
      {
       "cell_index": 6
      }
     ]
    },
    "387199379bf94824a20e67a873d52cbc": {
     "views": [
      {
       "cell_index": 6
      }
     ]
    },
    "391d5f485cdc43beab7184823af7a26b": {
     "views": [
      {
       "cell_index": 6
      }
     ]
    },
    "39b6e486c355419ab41b04031a51b9bd": {
     "views": [
      {
       "cell_index": 6
      }
     ]
    },
    "3a5223b80ece4838a81ddebf751c9136": {
     "views": [
      {
       "cell_index": 6
      }
     ]
    },
    "3ac57145d84b4b06ab6a71c516fd70b0": {
     "views": [
      {
       "cell_index": 6
      }
     ]
    },
    "3b5665824288464590172b4d7d376ade": {
     "views": [
      {
       "cell_index": 6
      }
     ]
    },
    "3bcd8d4804a84611a143d4bc2a98cf20": {
     "views": [
      {
       "cell_index": 6
      }
     ]
    },
    "3c466fdfe8bc43189ce9cd909d3efd66": {
     "views": [
      {
       "cell_index": 6
      }
     ]
    },
    "3cd051d7cd8a48fa892cb4d3311fe727": {
     "views": [
      {
       "cell_index": 9
      }
     ]
    },
    "3f1efd27bdca43cab49f1d01286433a3": {
     "views": [
      {
       "cell_index": 6
      }
     ]
    },
    "3fbf9f5b53d6459488451d13cdb66fca": {
     "views": [
      {
       "cell_index": 6
      }
     ]
    },
    "407294db38724495ac23ca5fb9e77346": {
     "views": [
      {
       "cell_index": 6
      }
     ]
    },
    "40d2ac8a5f15427fa0884447022534da": {
     "views": [
      {
       "cell_index": 6
      }
     ]
    },
    "410d491c61d047e6b3431764d13da747": {
     "views": [
      {
       "cell_index": 6
      }
     ]
    },
    "4194a13b43a6465a88f129d518ac0dc2": {
     "views": [
      {
       "cell_index": 6
      }
     ]
    },
    "41d1da94f7594cb58f14fc2ab83658cb": {
     "views": [
      {
       "cell_index": 6
      }
     ]
    },
    "42347117af334722b15691c30894e6c4": {
     "views": [
      {
       "cell_index": 6
      }
     ]
    },
    "4421f452b2544312b5c8bae6852bce7c": {
     "views": [
      {
       "cell_index": 6
      }
     ]
    },
    "4494d200e7b148789e79ad9bb81cdc29": {
     "views": [
      {
       "cell_index": 6
      }
     ]
    },
    "44be3e988b9340f9bea7690d9e17cc8c": {
     "views": [
      {
       "cell_index": 6
      }
     ]
    },
    "474ff9ae16cb4a8a99f0abb005ec71cb": {
     "views": [
      {
       "cell_index": 6
      }
     ]
    },
    "485f0a1a355a4913824603a6f1fba189": {
     "views": [
      {
       "cell_index": 6
      }
     ]
    },
    "488c813632324500947db9ae924f60cb": {
     "views": [
      {
       "cell_index": 6
      }
     ]
    },
    "48ea138f75bb44758aaf4f103429ecb0": {
     "views": [
      {
       "cell_index": 6
      }
     ]
    },
    "49afff137d184723a2ca03f52bbec6ef": {
     "views": [
      {
       "cell_index": 6
      }
     ]
    },
    "4a2700efa2c940ba8da5b84b7bc1845b": {
     "views": [
      {
       "cell_index": 6
      }
     ]
    },
    "4a92ea937174406faadf44ff8b4db082": {
     "views": [
      {
       "cell_index": 6
      }
     ]
    },
    "4bc6963d7e074755b7db827a182ff36b": {
     "views": [
      {
       "cell_index": 6
      }
     ]
    },
    "4bc8287c73974a8ab3235af6814b61f7": {
     "views": [
      {
       "cell_index": 6
      }
     ]
    },
    "4c2b30fa24d549b4bf989400bc94ffe2": {
     "views": [
      {
       "cell_index": 6
      }
     ]
    },
    "4c806e1a7da341fca78937d3949528db": {
     "views": [
      {
       "cell_index": 6
      }
     ]
    },
    "4cf393af4e644fffa8a9f6d9fa2194a4": {
     "views": [
      {
       "cell_index": 6
      }
     ]
    },
    "4d6fa27ce3c64888920a816f103bbcda": {
     "views": [
      {
       "cell_index": 6
      }
     ]
    },
    "4e50f6c3994240778b6052fafa3b0d66": {
     "views": [
      {
       "cell_index": 6
      }
     ]
    },
    "4e69886eda684eda9660a04b4e746a21": {
     "views": [
      {
       "cell_index": 6
      }
     ]
    },
    "4e8f571fd3384860adb277a7b85cc984": {
     "views": [
      {
       "cell_index": 3
      }
     ]
    },
    "4ea5dfcc03cf4014bf71f89a744b8953": {
     "views": [
      {
       "cell_index": 6
      }
     ]
    },
    "4ead2f19d8b445b3b0d705c1dc9d2f31": {
     "views": [
      {
       "cell_index": 6
      }
     ]
    },
    "4ebaef82763e432eb6535d4dbda27582": {
     "views": [
      {
       "cell_index": 6
      }
     ]
    },
    "4ec7b220d85f460cb4a06caf7daaf87b": {
     "views": [
      {
       "cell_index": 6
      }
     ]
    },
    "4ee04bbf2f234fe8b3de6e77c0ca7a6b": {
     "views": [
      {
       "cell_index": 6
      }
     ]
    },
    "4efd45ce03e643d1b9a801b78fa80133": {
     "views": [
      {
       "cell_index": 6
      }
     ]
    },
    "5073da808ad949de8d7498ea14525c4c": {
     "views": [
      {
       "cell_index": 6
      }
     ]
    },
    "519c7ac084244747a26f134cd312bf2f": {
     "views": [
      {
       "cell_index": 6
      }
     ]
    },
    "5306b5467c8f42d8a50980df937a5363": {
     "views": [
      {
       "cell_index": 6
      }
     ]
    },
    "53ae006bec12411d80eb1279bfca1983": {
     "views": [
      {
       "cell_index": 6
      }
     ]
    },
    "552c4877601641b18cad8c68ef4b751b": {
     "views": [
      {
       "cell_index": 6
      }
     ]
    },
    "554bef666fcf4636bb3e23c7cff3659c": {
     "views": [
      {
       "cell_index": 6
      }
     ]
    },
    "55a7fd9f69e44e808433386f56473c21": {
     "views": [
      {
       "cell_index": 6
      }
     ]
    },
    "55ae317065954644b874b2bd1d6e1c4a": {
     "views": [
      {
       "cell_index": 6
      }
     ]
    },
    "55b66c53715540a882b0c2f754adc606": {
     "views": [
      {
       "cell_index": 6
      }
     ]
    },
    "5606dafdc1a54a2ba32f9724cb1ec879": {
     "views": [
      {
       "cell_index": 6
      }
     ]
    },
    "562961f274f54787a2fe25e07b7b5387": {
     "views": [
      {
       "cell_index": 6
      }
     ]
    },
    "57154dc98b1e40468b1373a809022944": {
     "views": [
      {
       "cell_index": 6
      }
     ]
    },
    "58168d6368db473b84ee1d0337de1a22": {
     "views": [
      {
       "cell_index": 6
      }
     ]
    },
    "5ac257afd334427fba675d776a4eb0ff": {
     "views": [
      {
       "cell_index": 6
      }
     ]
    },
    "5af77ab1bd6949c5acf899d69893c31f": {
     "views": [
      {
       "cell_index": 6
      }
     ]
    },
    "5be41b9164f94f09be7660650198021d": {
     "views": [
      {
       "cell_index": 6
      }
     ]
    },
    "5ccab9d8a87e44b0a9cf4add06b73bec": {
     "views": [
      {
       "cell_index": 6
      }
     ]
    },
    "5dd2badbf4024e1484c7d5791a615cfc": {
     "views": [
      {
       "cell_index": 6
      }
     ]
    },
    "5e4e663e07f345ccb24cb565e6fd8005": {
     "views": [
      {
       "cell_index": 6
      }
     ]
    },
    "5f103d56ef84460db5c456dadc86ddcd": {
     "views": [
      {
       "cell_index": 6
      }
     ]
    },
    "5f5a306502c943a78b79ccc7cd35dd46": {
     "views": [
      {
       "cell_index": 6
      }
     ]
    },
    "63299a11a8124bc582babc51c22be6f5": {
     "views": [
      {
       "cell_index": 6
      }
     ]
    },
    "6517e806fb6344869b143b79a15ccfcc": {
     "views": [
      {
       "cell_index": 6
      }
     ]
    },
    "65a200ada15645dc9f6ee508f3fe8463": {
     "views": [
      {
       "cell_index": 6
      }
     ]
    },
    "65a34c4334f645fdabf85de80be042d1": {
     "views": [
      {
       "cell_index": 6
      }
     ]
    },
    "6635ab8a1fb2461faae49cf24698493f": {
     "views": [
      {
       "cell_index": 6
      }
     ]
    },
    "6640a3a1a23c4c8fbcd1fe6fb13cc226": {
     "views": [
      {
       "cell_index": 6
      }
     ]
    },
    "6760bab09e4b48278232a6dc51b6ea65": {
     "views": [
      {
       "cell_index": 6
      }
     ]
    },
    "67a2c5ba64a14598a2d446d2dabe4e13": {
     "views": [
      {
       "cell_index": 6
      }
     ]
    },
    "67bf2ff7f1ca42f4b948955afe355976": {
     "views": [
      {
       "cell_index": 6
      }
     ]
    },
    "67d11828d69f4c5882121080bcbaa360": {
     "views": [
      {
       "cell_index": 6
      }
     ]
    },
    "6854d56e96b14a548a6b85fa32ba1277": {
     "views": [
      {
       "cell_index": 6
      }
     ]
    },
    "6902bdd0941e4174b0c77d549a98718d": {
     "views": [
      {
       "cell_index": 6
      }
     ]
    },
    "691b6f6d0f4a42d58925cc9a0b200f73": {
     "views": [
      {
       "cell_index": 6
      }
     ]
    },
    "6948eef469aa45599ce26f0c7b7512f1": {
     "views": [
      {
       "cell_index": 6
      }
     ]
    },
    "69899d64480140e6812c143b580edbce": {
     "views": [
      {
       "cell_index": 6
      }
     ]
    },
    "69b3a9f45c2e4e8b86bdd6bfbe591abe": {
     "views": [
      {
       "cell_index": 6
      }
     ]
    },
    "6b9a9342a2ee410289c06779e108b9a8": {
     "views": [
      {
       "cell_index": 6
      }
     ]
    },
    "6c26fe0b9547473f820952eabcd9bf61": {
     "views": [
      {
       "cell_index": 6
      }
     ]
    },
    "6ce0ccf91c25435f89c0a308eaed1011": {
     "views": [
      {
       "cell_index": 6
      }
     ]
    },
    "6e62936224f240558afc778b47159d38": {
     "views": [
      {
       "cell_index": 6
      }
     ]
    },
    "6f39928075c04faf9f75442f342273cb": {
     "views": [
      {
       "cell_index": 6
      }
     ]
    },
    "70426674e6c54c1d998c29c3634acdc3": {
     "views": [
      {
       "cell_index": 6
      }
     ]
    },
    "72005cf66f3b435da5da291fd1450425": {
     "views": [
      {
       "cell_index": 6
      }
     ]
    },
    "7233533ece574a1693c480a2fa22e090": {
     "views": [
      {
       "cell_index": 6
      }
     ]
    },
    "72d23d2a51ed470b848701289998f394": {
     "views": [
      {
       "cell_index": 6
      }
     ]
    },
    "7356f550fd77415885336973ebc58272": {
     "views": [
      {
       "cell_index": 6
      }
     ]
    },
    "744a796970b04271a0149c00f53b09ba": {
     "views": [
      {
       "cell_index": 6
      }
     ]
    },
    "74718d5baaf943988e4bd7fc738068ca": {
     "views": [
      {
       "cell_index": 6
      }
     ]
    },
    "7480d7ea76f84096a08954c741203395": {
     "views": [
      {
       "cell_index": 6
      }
     ]
    },
    "762ad42a4e8a4b759e383603f244a39e": {
     "views": [
      {
       "cell_index": 6
      }
     ]
    },
    "7640dbb73a7a40a2a328263886ff3512": {
     "views": [
      {
       "cell_index": 6
      }
     ]
    },
    "76ce15a92f2f487f88b751defc26e8e8": {
     "views": [
      {
       "cell_index": 6
      }
     ]
    },
    "76cecdbce7164e36bf5b4a6e0874e839": {
     "views": [
      {
       "cell_index": 6
      }
     ]
    },
    "771a0e0034154deb85aba976276451dc": {
     "views": [
      {
       "cell_index": 6
      }
     ]
    },
    "781d19a9cba74b348104e053cdf165d6": {
     "views": [
      {
       "cell_index": 6
      }
     ]
    },
    "7846844835714c29b974bdcb16a5aaf7": {
     "views": [
      {
       "cell_index": 6
      }
     ]
    },
    "789eb05c004240b99c49358d4a86e748": {
     "views": [
      {
       "cell_index": 6
      }
     ]
    },
    "78cfe854a19e44858098222dd9dcc575": {
     "views": [
      {
       "cell_index": 6
      }
     ]
    },
    "79aff296db484f21ad827c5fe5901959": {
     "views": [
      {
       "cell_index": 6
      }
     ]
    },
    "7a4d405278104610b7d107b48ab0c598": {
     "views": [
      {
       "cell_index": 6
      }
     ]
    },
    "7a68a7ec70574b1a80df18a66af6c7f9": {
     "views": [
      {
       "cell_index": 6
      }
     ]
    },
    "7b45ae02381045cf92b02c57ec4387f5": {
     "views": [
      {
       "cell_index": 6
      }
     ]
    },
    "7c05a23469ab419b8727ce02a5c68425": {
     "views": [
      {
       "cell_index": 6
      }
     ]
    },
    "7c154e86052a4ee7b579b68579fc11d5": {
     "views": [
      {
       "cell_index": 6
      }
     ]
    },
    "7e6780857736471aaa9fdb33b7ccc665": {
     "views": [
      {
       "cell_index": 6
      }
     ]
    },
    "7e686c6730c84b66a72c799ef1765665": {
     "views": [
      {
       "cell_index": 6
      }
     ]
    },
    "7f0e16c8dd5148fea704c4c82a8b6a51": {
     "views": [
      {
       "cell_index": 6
      }
     ]
    },
    "7f569ff9717143d7a9cca685dce55870": {
     "views": [
      {
       "cell_index": 6
      }
     ]
    },
    "7f98b3f5a6ae4d0da88c5b03047f3362": {
     "views": [
      {
       "cell_index": 6
      }
     ]
    },
    "816d9b83982f411da821d31f01f23250": {
     "views": [
      {
       "cell_index": 6
      }
     ]
    },
    "81a434a967d34d6fa9021877ea3a8f51": {
     "views": [
      {
       "cell_index": 6
      }
     ]
    },
    "81f962d785a1448f86b0e08498849efa": {
     "views": [
      {
       "cell_index": 6
      }
     ]
    },
    "838cb62b491f41efaa038640ccfacbc1": {
     "views": [
      {
       "cell_index": 6
      }
     ]
    },
    "838dba32cab449d19f7402b637f92589": {
     "views": [
      {
       "cell_index": 6
      }
     ]
    },
    "84441a9c27e346cebddb2dd1f17aa50f": {
     "views": [
      {
       "cell_index": 6
      }
     ]
    },
    "8610a8c3034242518aed5bec39889fc6": {
     "views": [
      {
       "cell_index": 6
      }
     ]
    },
    "8648f110116e4b819db8620dda787526": {
     "views": [
      {
       "cell_index": 6
      }
     ]
    },
    "867cede59e1b435b95127a560b40e665": {
     "views": [
      {
       "cell_index": 6
      }
     ]
    },
    "87822a87b78e4214b7ccc4116c4d6a5d": {
     "views": [
      {
       "cell_index": 6
      }
     ]
    },
    "881bb115202c432e9ee1407d4352233e": {
     "views": [
      {
       "cell_index": 6
      }
     ]
    },
    "88736c7c20f74002933a124bd1840daf": {
     "views": [
      {
       "cell_index": 6
      }
     ]
    },
    "88ea151f954941a9b09eb40ce8665190": {
     "views": [
      {
       "cell_index": 6
      }
     ]
    },
    "8a4e0529383247eda4ad6043ba3b1bd8": {
     "views": [
      {
       "cell_index": 6
      }
     ]
    },
    "8baebede76e04cf88a82ddf86d6f04a7": {
     "views": [
      {
       "cell_index": 6
      }
     ]
    },
    "8bd7fe508d2543be98d27d51e6a74d1f": {
     "views": [
      {
       "cell_index": 6
      }
     ]
    },
    "8cf25bbd92394b5693259e79ce4e33d7": {
     "views": [
      {
       "cell_index": 6
      }
     ]
    },
    "8da0140c8d21412581822d7937d7ed3c": {
     "views": [
      {
       "cell_index": 6
      }
     ]
    },
    "8dc4549d7577457baf36b4183f8ffa23": {
     "views": [
      {
       "cell_index": 6
      }
     ]
    },
    "8de91761a7ac4b2a9c1cb09615cd61b5": {
     "views": [
      {
       "cell_index": 6
      }
     ]
    },
    "8e04ce14f2564bb790ce5f4dc240fffd": {
     "views": [
      {
       "cell_index": 6
      }
     ]
    },
    "8e78cb74fcb14bdfa0e8dcd49760a01f": {
     "views": [
      {
       "cell_index": 6
      }
     ]
    },
    "8f54c2d989594410a4640918987d9593": {
     "views": [
      {
       "cell_index": 6
      }
     ]
    },
    "8f7d889a459b476b8b36cf521edcf8d2": {
     "views": [
      {
       "cell_index": 6
      }
     ]
    },
    "8f858ecc59e944dea8ddf6e41b271954": {
     "views": [
      {
       "cell_index": 6
      }
     ]
    },
    "90c3f57bfeee48eb8de939560fbab3fe": {
     "views": [
      {
       "cell_index": 6
      }
     ]
    },
    "91378b4412f64cd8a6a31ac0f4b09765": {
     "views": [
      {
       "cell_index": 6
      }
     ]
    },
    "91babf8d21a44d10b846b06c521a484a": {
     "views": [
      {
       "cell_index": 6
      }
     ]
    },
    "926c28c0bbf043699a9db5dfa6328d78": {
     "views": [
      {
       "cell_index": 6
      }
     ]
    },
    "9309bc99a1e84261a2c1200c2a58daca": {
     "views": [
      {
       "cell_index": 6
      }
     ]
    },
    "936fceee36a644dbac51ef74524ae6f5": {
     "views": [
      {
       "cell_index": 6
      }
     ]
    },
    "9395710f6af04f6996e24e170fadc6aa": {
     "views": [
      {
       "cell_index": 6
      }
     ]
    },
    "947cc5adcbed46d2b6e88fcba66c5a52": {
     "views": [
      {
       "cell_index": 6
      }
     ]
    },
    "94afecc29265471c9ebc6d2ff5518970": {
     "views": [
      {
       "cell_index": 6
      }
     ]
    },
    "96313e6995d1471f8901c05d06fd55b1": {
     "views": [
      {
       "cell_index": 6
      }
     ]
    },
    "9659ba25d93e4177a453cafca47d37ac": {
     "views": [
      {
       "cell_index": 6
      }
     ]
    },
    "98c36e81a88b4fdcbe98503e1c114993": {
     "views": [
      {
       "cell_index": 6
      }
     ]
    },
    "9986171bed4e4e5db0ce31ef9b6e0c3c": {
     "views": [
      {
       "cell_index": 6
      }
     ]
    },
    "99a3eb34d85c4ef58bf46ffc105475e7": {
     "views": [
      {
       "cell_index": 6
      }
     ]
    },
    "9a5462961c8841f6be47272067f9c585": {
     "views": [
      {
       "cell_index": 6
      }
     ]
    },
    "9ab98d85f3b44621985b98a9b952504f": {
     "views": [
      {
       "cell_index": 6
      }
     ]
    },
    "9ad1f2b6132e420397b354b7e1db382a": {
     "views": [
      {
       "cell_index": 6
      }
     ]
    },
    "9c4a57ca08804eb09683f588ec5394cb": {
     "views": [
      {
       "cell_index": 6
      }
     ]
    },
    "9d940642374d4617b9335d51dce9039c": {
     "views": [
      {
       "cell_index": 6
      }
     ]
    },
    "9dce3b1638374b3fa4ff24fb246b9bfc": {
     "views": [
      {
       "cell_index": 6
      }
     ]
    },
    "9de66424939742f487fa4369993a3e2f": {
     "views": [
      {
       "cell_index": 6
      }
     ]
    },
    "9eff6d1133ed4393a822207828e166a3": {
     "views": [
      {
       "cell_index": 6
      }
     ]
    },
    "a05e567ccff7469ca934281a4c607099": {
     "views": [
      {
       "cell_index": 4
      }
     ]
    },
    "a070189fa09e4cd1a4798fb9c288d785": {
     "views": [
      {
       "cell_index": 6
      }
     ]
    },
    "a0b98cb1852a4c1aa16d370d0e4aba92": {
     "views": [
      {
       "cell_index": 6
      }
     ]
    },
    "a253e8918a58432fb966df931a49c7ff": {
     "views": [
      {
       "cell_index": 6
      }
     ]
    },
    "a2b039969df54794a8c80fb2cb652a79": {
     "views": [
      {
       "cell_index": 6
      }
     ]
    },
    "a2e73a403bb5481fb734e014010868de": {
     "views": [
      {
       "cell_index": 6
      }
     ]
    },
    "a379b5eaeb0443b4b02bd5ca62bd2799": {
     "views": [
      {
       "cell_index": 6
      }
     ]
    },
    "a3f730d8c22d4bc4a15f724f6e168675": {
     "views": [
      {
       "cell_index": 6
      }
     ]
    },
    "a5863968ac5544baa81a6619de837a31": {
     "views": [
      {
       "cell_index": 6
      }
     ]
    },
    "a5e59a1866a94c868229f6dcde7d5da3": {
     "views": [
      {
       "cell_index": 6
      }
     ]
    },
    "a676913b21d2497c973a3deb4890be72": {
     "views": [
      {
       "cell_index": 6
      }
     ]
    },
    "a700bf349c0f46b2847ec3b43855a651": {
     "views": [
      {
       "cell_index": 6
      }
     ]
    },
    "a7eacb5ad1c04b7c88bfb22858287b4e": {
     "views": [
      {
       "cell_index": 4
      }
     ]
    },
    "a9877263961d4344b35eaee96f102c0e": {
     "views": [
      {
       "cell_index": 6
      }
     ]
    },
    "a9cc38e472194460a30f9b2301bfc9fa": {
     "views": [
      {
       "cell_index": 6
      }
     ]
    },
    "aa381490ccfd43178dbe793e76d76670": {
     "views": [
      {
       "cell_index": 6
      }
     ]
    },
    "aa413c1607e64d96981346030f04412b": {
     "views": [
      {
       "cell_index": 6
      }
     ]
    },
    "aa9f5d183ed94059ae7be8f7f104f455": {
     "views": [
      {
       "cell_index": 6
      }
     ]
    },
    "ac87a1d0249c4176a4fa70c1efcf8b0b": {
     "views": [
      {
       "cell_index": 6
      }
     ]
    },
    "ad32e7783af443b48ec2adeee62ec9f8": {
     "views": [
      {
       "cell_index": 6
      }
     ]
    },
    "ade07ff2c324428394ea21725a966d2b": {
     "views": [
      {
       "cell_index": 6
      }
     ]
    },
    "ae19ad507c3743c0af41e6fe909d4634": {
     "views": [
      {
       "cell_index": 6
      }
     ]
    },
    "aecbf9cb2f424df5a08765d6c303aa33": {
     "views": [
      {
       "cell_index": 6
      }
     ]
    },
    "afa457c5ccd54c9a9720c009e3ab7db1": {
     "views": [
      {
       "cell_index": 6
      }
     ]
    },
    "afd63c8c2e2342a2b76e467f2587c5ee": {
     "views": [
      {
       "cell_index": 6
      }
     ]
    },
    "b07ee06075234826ba8b2bf0f89525de": {
     "views": [
      {
       "cell_index": 6
      }
     ]
    },
    "b0b1f980f246453b88196cae274d060a": {
     "views": [
      {
       "cell_index": 6
      }
     ]
    },
    "b150e8cca5214b199cf4ae255420c460": {
     "views": [
      {
       "cell_index": 6
      }
     ]
    },
    "b18af61b8f824ab289d638816b4462a5": {
     "views": [
      {
       "cell_index": 6
      }
     ]
    },
    "b303ea6f189847769fdc8e3d2a97879a": {
     "views": [
      {
       "cell_index": 6
      }
     ]
    },
    "b379a4a63fc245e49ce4315973e7316f": {
     "views": [
      {
       "cell_index": 6
      }
     ]
    },
    "b3cae2d7d18b49eda38179a8affb19e2": {
     "views": [
      {
       "cell_index": 6
      }
     ]
    },
    "b3cd3d175078441295dca28901a588dc": {
     "views": [
      {
       "cell_index": 6
      }
     ]
    },
    "b51ef5a4c3404a408fddf13f11b57699": {
     "views": [
      {
       "cell_index": 6
      }
     ]
    },
    "b5cdddc16416454ca5ce405605fccbc5": {
     "views": [
      {
       "cell_index": 6
      }
     ]
    },
    "b5cfdc3e09a44573abf51849e6778246": {
     "views": [
      {
       "cell_index": 6
      }
     ]
    },
    "b63b0f2c9a07489c9213a7065215efe2": {
     "views": [
      {
       "cell_index": 6
      }
     ]
    },
    "b762cd51e3604abc8130b13d82705d67": {
     "views": [
      {
       "cell_index": 6
      }
     ]
    },
    "b7730d6f5e564484b4612ee7934878a0": {
     "views": [
      {
       "cell_index": 6
      }
     ]
    },
    "b8040a315bbb47c899b061c6115da834": {
     "views": [
      {
       "cell_index": 6
      }
     ]
    },
    "b93817f6974a4e75afb6929d6d820638": {
     "views": [
      {
       "cell_index": 6
      }
     ]
    },
    "b9f665c5c7c54630af225890ff508b4d": {
     "views": [
      {
       "cell_index": 6
      }
     ]
    },
    "ba5ec5bfb45143c9bd9a821864058ded": {
     "views": [
      {
       "cell_index": 6
      }
     ]
    },
    "bb16227936994a9cb4e0285dca7d6ec7": {
     "views": [
      {
       "cell_index": 6
      }
     ]
    },
    "bc0ac82de4334196b29cad7e888fc588": {
     "views": [
      {
       "cell_index": 6
      }
     ]
    },
    "bcae205423054aa3a332a50e750169ab": {
     "views": [
      {
       "cell_index": 6
      }
     ]
    },
    "bd4d602310f64b59b32fb1513f8f0570": {
     "views": [
      {
       "cell_index": 6
      }
     ]
    },
    "bd7cdbd1a7034afd9652c55c5a2ee319": {
     "views": [
      {
       "cell_index": 6
      }
     ]
    },
    "bdef1098fbe849f9b80ee151f957b0ed": {
     "views": [
      {
       "cell_index": 6
      }
     ]
    },
    "bebe4266b04b45f5894319dbce87f78a": {
     "views": [
      {
       "cell_index": 6
      }
     ]
    },
    "bfa063f988f248a8bde1ae30fe5bb39d": {
     "views": [
      {
       "cell_index": 6
      }
     ]
    },
    "c03af14bd1d24093b752fa3737f5ab09": {
     "views": [
      {
       "cell_index": 6
      }
     ]
    },
    "c343a2af02c74b5c89f4534c76f7b0a6": {
     "views": [
      {
       "cell_index": 6
      }
     ]
    },
    "c60078b22fd4434fa39dd6714280795c": {
     "views": [
      {
       "cell_index": 6
      }
     ]
    },
    "c662a832b94448f7a7f483a2dfe86d6d": {
     "views": [
      {
       "cell_index": 6
      }
     ]
    },
    "c67ba3771c9740098eb4a858a50b5aeb": {
     "views": [
      {
       "cell_index": 6
      }
     ]
    },
    "c6ffcaf34a4944e387cf268b70526a0e": {
     "views": [
      {
       "cell_index": 6
      }
     ]
    },
    "c81cc48241624b6db38f179901ea83d1": {
     "views": [
      {
       "cell_index": 6
      }
     ]
    },
    "c8284954b70d4543b7fe98ffe849cf4f": {
     "views": [
      {
       "cell_index": 6
      }
     ]
    },
    "c903b3f3ddf94124af9cc89377de7eee": {
     "views": [
      {
       "cell_index": 6
      }
     ]
    },
    "c955aacb614947328548d81e845b5dd9": {
     "views": [
      {
       "cell_index": 6
      }
     ]
    },
    "ca2efc312fdb432fa8bfcb1a46b03a54": {
     "views": [
      {
       "cell_index": 6
      }
     ]
    },
    "cb3b0765fe624575af0178c4332fbe6e": {
     "views": [
      {
       "cell_index": 6
      }
     ]
    },
    "cb88a67feadc465ba3a24ea853863f6b": {
     "views": [
      {
       "cell_index": 6
      }
     ]
    },
    "cc24c347ce20499586e8c64cff7adb74": {
     "views": [
      {
       "cell_index": 6
      }
     ]
    },
    "cc25bf1a781c42b6ae8fd9e4b7c6a72b": {
     "views": [
      {
       "cell_index": 6
      }
     ]
    },
    "cd480bad86d5480789cbab0a13500823": {
     "views": [
      {
       "cell_index": 6
      }
     ]
    },
    "ce9df0369baf425fbec5f07966663728": {
     "views": [
      {
       "cell_index": 6
      }
     ]
    },
    "cf9ba3e485ce4528ba4b406cc9da39ce": {
     "views": [
      {
       "cell_index": 6
      }
     ]
    },
    "cff6f23522214159885e2e1196bd57dd": {
     "views": [
      {
       "cell_index": 6
      }
     ]
    },
    "d165ad782d8942c6a88b7669d865a28c": {
     "views": [
      {
       "cell_index": 6
      }
     ]
    },
    "d32f33f7155b41da846977886feca192": {
     "views": [
      {
       "cell_index": 6
      }
     ]
    },
    "d35d05936cac4b5bad80686f6df92aea": {
     "views": [
      {
       "cell_index": 6
      }
     ]
    },
    "d4c74993aa814e3f930fe9cf8d1068a3": {
     "views": [
      {
       "cell_index": 6
      }
     ]
    },
    "d51bcc9cf64347fd97e4aed6b0ca3744": {
     "views": [
      {
       "cell_index": 6
      }
     ]
    },
    "d5c11ec6946047b18fa4d5d1234455c0": {
     "views": [
      {
       "cell_index": 6
      }
     ]
    },
    "d662f3e244f6425cb48a73ff1a84cb03": {
     "views": [
      {
       "cell_index": 6
      }
     ]
    },
    "d680cb1ae1af47c98ebfa45af4051f52": {
     "views": [
      {
       "cell_index": 6
      }
     ]
    },
    "d77a0038878642c4aa2d5b156e6f44a6": {
     "views": [
      {
       "cell_index": 6
      }
     ]
    },
    "d8eee7d2653b4d678d6521a53d90fba0": {
     "views": [
      {
       "cell_index": 6
      }
     ]
    },
    "d95cdf929c184244a6236869c7e78363": {
     "views": [
      {
       "cell_index": 6
      }
     ]
    },
    "d9baa80e1d2e4ebdae2202d4c639bfdd": {
     "views": [
      {
       "cell_index": 6
      }
     ]
    },
    "d9d342fd8d114d33b72562772d40840b": {
     "views": [
      {
       "cell_index": 6
      }
     ]
    },
    "d9d6b631c0f94a1db26c7432d0dc22be": {
     "views": [
      {
       "cell_index": 6
      }
     ]
    },
    "da26b9a82c16445e841ee59213575ffd": {
     "views": [
      {
       "cell_index": 2
      }
     ]
    },
    "da76170f9b1a4c5681b5b9ba1dff0f8a": {
     "views": [
      {
       "cell_index": 6
      }
     ]
    },
    "dbd2aa64a1f94508815ce92f0894dae3": {
     "views": [
      {
       "cell_index": 6
      }
     ]
    },
    "dc24996954ef4d00a76d833fa5c81155": {
     "views": [
      {
       "cell_index": 6
      }
     ]
    },
    "dc6622e6644940a1b67abf3ab119e8db": {
     "views": [
      {
       "cell_index": 6
      }
     ]
    },
    "dda27ed999174b79bdfab14f4e7a966c": {
     "views": [
      {
       "cell_index": 6
      }
     ]
    },
    "ddc3cdeecb064741ab75e3834c2ee57b": {
     "views": [
      {
       "cell_index": 6
      }
     ]
    },
    "de618b558f624472a9022ec1912f35d5": {
     "views": [
      {
       "cell_index": 6
      }
     ]
    },
    "decbd75566e649c992a0942577223999": {
     "views": [
      {
       "cell_index": 6
      }
     ]
    },
    "dfa926dd206641c098de28bb8752048c": {
     "views": [
      {
       "cell_index": 6
      }
     ]
    },
    "dfc9d13b047d41619f9d50cd4de6d52f": {
     "views": [
      {
       "cell_index": 6
      }
     ]
    },
    "dfebeed1a47f4d7ea597ecfdb22a91aa": {
     "views": [
      {
       "cell_index": 6
      }
     ]
    },
    "e0801ab01ee041cea0e46a73f284915e": {
     "views": [
      {
       "cell_index": 6
      }
     ]
    },
    "e09b1540f05a4df386dc4ea2271e9e4e": {
     "views": [
      {
       "cell_index": 6
      }
     ]
    },
    "e2f0b6b251044f4c9ac3c5ffae5e5c80": {
     "views": [
      {
       "cell_index": 6
      }
     ]
    },
    "e2f7cd5224534a58bd7008d88ed13d02": {
     "views": [
      {
       "cell_index": 6
      }
     ]
    },
    "e428d38dc96f477cbb40f79cf718b5c4": {
     "views": [
      {
       "cell_index": 6
      }
     ]
    },
    "e4854ad47efa46d48f1ac166b4619e50": {
     "views": [
      {
       "cell_index": 6
      }
     ]
    },
    "e56e7766337f41a7ba062942e6ff1557": {
     "views": [
      {
       "cell_index": 6
      }
     ]
    },
    "e8955c32db0942f8bfe10309673e958b": {
     "views": [
      {
       "cell_index": 6
      }
     ]
    },
    "ea68f1ab45e742dab34c420a91756d11": {
     "views": [
      {
       "cell_index": 6
      }
     ]
    },
    "ec846ad6eac44d9b92356a25cba25a09": {
     "views": [
      {
       "cell_index": 6
      }
     ]
    },
    "edeff28e5cc0454cbca8c1e34f4a7456": {
     "views": [
      {
       "cell_index": 6
      }
     ]
    },
    "ee9c9e11aa924cf8bf601bf716f87278": {
     "views": [
      {
       "cell_index": 6
      }
     ]
    },
    "efdc649a127f4d139e7e4299595ec7cd": {
     "views": [
      {
       "cell_index": 6
      }
     ]
    },
    "efe5e8ee144648f4ba193d7ccfe47bce": {
     "views": [
      {
       "cell_index": 6
      }
     ]
    },
    "f1a69f0ef7654e1796eba7e386ae5256": {
     "views": [
      {
       "cell_index": 6
      }
     ]
    },
    "f1aefc88b4fa4225a6ea432329ae1ddb": {
     "views": [
      {
       "cell_index": 6
      }
     ]
    },
    "f1b82d8f67174bc582717ee582b90954": {
     "views": [
      {
       "cell_index": 6
      }
     ]
    },
    "f1c7ec124c914caf8ab8ef94adaf9261": {
     "views": [
      {
       "cell_index": 6
      }
     ]
    },
    "f1ff99391c5c4bf0b69af20744b22921": {
     "views": [
      {
       "cell_index": 6
      }
     ]
    },
    "f20526d64d154cc1847eeccf2b6225c8": {
     "views": [
      {
       "cell_index": 6
      }
     ]
    },
    "f2a3bef2f642427daa13179bd283440e": {
     "views": [
      {
       "cell_index": 6
      }
     ]
    },
    "f2b338226be546759c5e525c8dab3409": {
     "views": [
      {
       "cell_index": 6
      }
     ]
    },
    "f3add0845f1b4b64aafa7337a622712a": {
     "views": [
      {
       "cell_index": 6
      }
     ]
    },
    "f4201dd2f78640baa83142eab357f557": {
     "views": [
      {
       "cell_index": 6
      }
     ]
    },
    "f4211eff61cb4ba19642786830029339": {
     "views": [
      {
       "cell_index": 6
      }
     ]
    },
    "f4a529c2ec60430aa8ee188141b78fd0": {
     "views": [
      {
       "cell_index": 6
      }
     ]
    },
    "f4b08f83346b4b52accb3928dcda5861": {
     "views": [
      {
       "cell_index": 6
      }
     ]
    },
    "f4c97a4ff83d4a7cb649d56900e4de6b": {
     "views": [
      {
       "cell_index": 6
      }
     ]
    },
    "f6c2412e047f4d239801a495ab7bcf04": {
     "views": [
      {
       "cell_index": 6
      }
     ]
    },
    "f74b2085572045e1811cef1e2afffdf7": {
     "views": [
      {
       "cell_index": 6
      }
     ]
    },
    "f94b153fc7104bafbf8650c426c549d3": {
     "views": [
      {
       "cell_index": 6
      }
     ]
    },
    "f97375ab9a354fefb69d004a48b916f6": {
     "views": [
      {
       "cell_index": 6
      }
     ]
    },
    "f97861a50e634f1fb87bd8ba6e6830ae": {
     "views": [
      {
       "cell_index": 6
      }
     ]
    },
    "f98c5264af494f75a75781c5480df6dd": {
     "views": [
      {
       "cell_index": 6
      }
     ]
    },
    "fb22b195eef04c2d8dd651ae232e4c2c": {
     "views": [
      {
       "cell_index": 6
      }
     ]
    },
    "fb5dd763f3324515a8a4aa84149bfa10": {
     "views": [
      {
       "cell_index": 6
      }
     ]
    },
    "fc4b8a239b92420aad26508739f4be1e": {
     "views": [
      {
       "cell_index": 6
      }
     ]
    },
    "fd38dd029b2c412a8697426740ef890a": {
     "views": [
      {
       "cell_index": 6
      }
     ]
    },
    "fd9004622f8141c58b6d24bf5b0df25c": {
     "views": [
      {
       "cell_index": 6
      }
     ]
    },
    "fe6cd874dc134237867c9baa0c6bdc94": {
     "views": [
      {
       "cell_index": 6
      }
     ]
    },
    "fe89c581524c46239881a3561d611083": {
     "views": [
      {
       "cell_index": 6
      }
     ]
    },
    "ff08500dd4be4ee281d9da863ab091e7": {
     "views": [
      {
       "cell_index": 6
      }
     ]
    }
   },
   "version": "1.2.0"
  }
 },
 "nbformat": 4,
 "nbformat_minor": 2
}
