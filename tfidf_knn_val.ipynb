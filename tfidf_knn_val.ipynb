{
 "cells": [
  {
   "cell_type": "code",
   "execution_count": 9,
   "metadata": {
    "collapsed": false
   },
   "outputs": [
    {
     "name": "stdout",
     "output_type": "stream",
     "text": [
      "The autoreload extension is already loaded. To reload it, use:\n",
      "  %reload_ext autoreload\n"
     ]
    }
   ],
   "source": [
    "from collections import defaultdict\n",
    "from matplotlib import pyplot as plt\n",
    "import numpy as np\n",
    "import operator\n",
    "import pandas as pd\n",
    "import pickle\n",
    "import random\n",
    "import scipy\n",
    "from sklearn.metrics.pairwise import linear_kernel\n",
    "from sklearn.neighbors import NearestNeighbors\n",
    "\n",
    "\n",
    "import src.knntools as knntools\n",
    "import src.postprocess as postprocess\n",
    "import src.preprocess as preprocess\n",
    "import src.tfidftools as tfidftools\n",
    "import src.tools as tools\n",
    "import src.recencytools as recency\n",
    "import src.scoring as scoring\n",
    "\n",
    "%load_ext autoreload\n",
    "%autoreload 2\n",
    "%matplotlib inline"
   ]
  },
  {
   "cell_type": "code",
   "execution_count": 10,
   "metadata": {
    "collapsed": false
   },
   "outputs": [],
   "source": [
    "path_to_data = 'data/'\n",
    "\n",
    "training = pd.read_csv(path_to_data + 'training_set.csv', sep=',', header=0)\n",
    "\n",
    "training_info = pd.read_csv(\n",
    "    path_to_data + 'training_info.csv', sep=',', parse_dates=True, header=0)\n",
    "\n",
    "test = pd.read_csv(path_to_data + 'test_set.csv', sep=',', header=0)\n",
    "\n",
    "test_info = pd.read_csv(path_to_data + 'test_info.csv',\n",
    "                        sep=',', parse_dates=True, header=0)\n",
    "path_to_results = 'results/'"
   ]
  },
  {
   "cell_type": "code",
   "execution_count": 11,
   "metadata": {
    "collapsed": false
   },
   "outputs": [
    {
     "name": "stdout",
     "output_type": "stream",
     "text": [
      "Processing training !\n",
      "Processing val !\n"
     ]
    }
   ],
   "source": [
    "train_info, train_email_ids_per_sender, val_info, val_email_ids_per_sender = scoring.get_train_val(training, training_info, train_frac=0.95)"
   ]
  },
  {
   "cell_type": "code",
   "execution_count": 12,
   "metadata": {
    "collapsed": false
   },
   "outputs": [],
   "source": [
    "token_dict = preprocess.body_dict_from_panda(train_info)"
   ]
  },
  {
   "cell_type": "markdown",
   "metadata": {},
   "source": [
    "## Compute tfidf representation"
   ]
  },
  {
   "cell_type": "code",
   "execution_count": 13,
   "metadata": {
    "collapsed": false
   },
   "outputs": [],
   "source": [
    "tfidf_model, tfidf_matrix, tfidf_mids = tfidftools.get_tfidf(token_dict, 0.001, 0.10)"
   ]
  },
  {
   "cell_type": "code",
   "execution_count": 14,
   "metadata": {
    "collapsed": false
   },
   "outputs": [
    {
     "name": "stdout",
     "output_type": "stream",
     "text": [
      "(41432, 8240)\n"
     ]
    }
   ],
   "source": [
    "print(tfidf_matrix.shape)"
   ]
  },
  {
   "cell_type": "markdown",
   "metadata": {},
   "source": [
    "The tfidf vectors are of size 8240."
   ]
  },
  {
   "cell_type": "code",
   "execution_count": 19,
   "metadata": {
    "collapsed": false
   },
   "outputs": [],
   "source": [
    "nb_neighbors_list = [40, 50, 70, 100]\n"
   ]
  },
  {
   "cell_type": "code",
   "execution_count": 20,
   "metadata": {
    "collapsed": false
   },
   "outputs": [
    {
     "name": "stdout",
     "output_type": "stream",
     "text": [
      "score for 40 is 0.2361762995228149\n",
      "score for 50 is 0.23958102752198404\n",
      "score for 70 is 0.23964224661114467\n",
      "score for 100 is 0.2329420962222238\n"
     ]
    }
   ],
   "source": [
    "nb_recipients = 10\n",
    "scores = []\n",
    "\n",
    "for nb_neighbors in nb_neighbors_list:\n",
    "    mid_recipient_scores = knntools.compute_similarity_scores(tfidf_model, tfidf_matrix,\n",
    "                                  tfidf_mids, train_info, val_info, nb_similars=nb_neighbors)\n",
    "    knn_predictions = knntools.similar_dic_to_standard(mid_recipient_scores, nb_recipients)\n",
    "    current_score = scoring.compute_prediction_mad(knn_predictions, val_info)\n",
    "    path_to_ranks = 'ranks_val/knn-k-{nb_neighbors}-rec-{nb_recip}'.format(nb_neighbors=nb_neighbors,\n",
    "                                                                     nb_recip=nb_recipients)\n",
    "    with open(path_to_ranks, 'wb') as infile:\n",
    "              pickle.dump(knn_predictions, infile)\n",
    "    scores.append(current_score)\n",
    "    print('score for {nb_neighbor} is {score}'.format(nb_neighbor=nb_neighbors, score=current_score))"
   ]
  },
  {
   "cell_type": "code",
   "execution_count": 21,
   "metadata": {
    "collapsed": false
   },
   "outputs": [
    {
     "data": {
      "image/png": "[encoded data removed]",
      "text/plain": [
       "<matplotlib.figure.Figure at 0x7f9bb0962c18>"
      ]
     },
     "metadata": {},
     "output_type": "display_data"
    }
   ],
   "source": [
    "plt.plot(nb_neighbors_list, scores)\n",
    "plt.xlabel('number of nearest neighbours')\n",
    "plt.ylabel('map score')\n",
    "plt.show()"
   ]
  },
  {
   "cell_type": "markdown",
   "metadata": {},
   "source": [
    "### Compute best knn model and save to files"
   ]
  },
  {
   "cell_type": "code",
   "execution_count": 48,
   "metadata": {
    "collapsed": false
   },
   "outputs": [],
   "source": [
    "best_neighbor_nb = 50\n",
    "mid_recipient_scores = knntools.compute_similarity_scores(tfidf_model, tfidf_matrix,\n",
    "                                  tfidf_mids, train_info, val_info, nb_similars=best_neighbor_nb)\n"
   ]
  },
  {
   "cell_type": "code",
   "execution_count": 49,
   "metadata": {
    "collapsed": false
   },
   "outputs": [
    {
     "name": "stdout",
     "output_type": "stream",
     "text": [
      "0.234852695217\n"
     ]
    }
   ],
   "source": [
    "knn_predictions = knntools.similar_dic_to_standard(mid_recipient_scores, keep_all=True)\n",
    "best_score = scoring.compute_prediction_mad(knn_predictions, val_info)\n",
    "print(best_score)"
   ]
  },
  {
   "cell_type": "code",
   "execution_count": 47,
   "metadata": {
    "collapsed": true
   },
   "outputs": [],
   "source": [
    "path_to_ranks = 'ranks_val/knn-k-{nb_neighbors}-rec-all'.format(nb_neighbors=best_neighbor_nb)\n",
    "with open(path_to_ranks, 'wb') as infile:\n",
    "          pickle.dump(knn_predictions, infile)"
   ]
  },
  {
   "cell_type": "code",
   "execution_count": null,
   "metadata": {
    "collapsed": true
   },
   "outputs": [],
   "source": []
  }
 ],
 "metadata": {
  "kernelspec": {
   "display_name": "Python 3",
   "language": "python",
   "name": "python3"
  },
  "language_info": {
   "codemirror_mode": {
    "name": "ipython",
    "version": 3
   },
   "file_extension": ".py",
   "mimetype": "text/x-python",
   "name": "python",
   "nbconvert_exporter": "python",
   "pygments_lexer": "ipython3",
   "version": "3.4.3"
  },
  "widgets": {
   "state": {
    "0b79ff7c34f74db3ac0913eb98aaab8e": {
     "views": [
      {
       "cell_index": 2
      }
     ]
    },
    "175a3d49e4dc42ffbc83a9c9b8df0c56": {
     "views": [
      {
       "cell_index": 3
      }
     ]
    },
    "1d197585803a47beb6510a91e42713b2": {
     "views": [
      {
       "cell_index": 2
      }
     ]
    },
    "762c3eff311146b7b2b1a448d425404b": {
     "views": [
      {
       "cell_index": 9
      }
     ]
    },
    "7d54fe4fe67f444c8ae537543f1747bf": {
     "views": [
      {
       "cell_index": 9
      }
     ]
    },
    "9cd665e375164ea4adcc80652fb74d7e": {
     "views": [
      {
       "cell_index": 9
      }
     ]
    },
    "a68475ead8a24ae6accf2b7c5da9b2f2": {
     "views": [
      {
       "cell_index": 9
      }
     ]
    },
    "b40e7736d7b843b89a27411cf63cd3a3": {
     "views": [
      {
       "cell_index": 9
      }
     ]
    },
    "bd7d3d9abb724e3dae3396295f800dfc": {
     "views": [
      {
       "cell_index": 2
      }
     ]
    },
    "d68cf5d2d6684908a8873fe5fc6eabfc": {
     "views": [
      {
       "cell_index": 2
      }
     ]
    },
    "ea06a58e71904013bec4fe8b41fab23b": {
     "views": [
      {
       "cell_index": 9
      }
     ]
    }
   },
   "version": "1.2.0"
  }
 },
 "nbformat": 4,
 "nbformat_minor": 2
}
