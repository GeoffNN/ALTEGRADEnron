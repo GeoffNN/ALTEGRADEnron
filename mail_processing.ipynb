{
 "cells": [
  {
   "cell_type": "code",
   "execution_count": 2,
   "metadata": {
    "collapsed": false
   },
   "outputs": [
    {
     "name": "stdout",
     "output_type": "stream",
     "text": [
      "The autoreload extension is already loaded. To reload it, use:\n",
      "  %reload_ext autoreload\n"
     ]
    }
   ],
   "source": [
    "from collections import defaultdict\n",
    "import itertools\n",
    "from matplotlib import pyplot as plt\n",
    "import math\n",
    "import numpy as np\n",
    "import operator\n",
    "import pandas as pd\n",
    "import pickle\n",
    "import random\n",
    "import re\n",
    "import scipy\n",
    "import string\n",
    "from tqdm import tqdm_notebook\n",
    "\n",
    "\n",
    "import src.knntools as knntools\n",
    "import src.postprocess as postprocess\n",
    "import src.preprocess as preprocess\n",
    "import src.tfidftools as tfidftools\n",
    "import src.tools as tools\n",
    "import src.recencytools as recency\n",
    "import src.scoring as scoring\n",
    "import src.textembeddingtools as texttools\n",
    "import src.graphwordstools as graphtools\n",
    "import src.manualprocessingtools as manualtools\n",
    "\n",
    "%load_ext autoreload\n",
    "%autoreload 2\n",
    "%matplotlib inline"
   ]
  },
  {
   "cell_type": "code",
   "execution_count": 3,
   "metadata": {
    "collapsed": false
   },
   "outputs": [],
   "source": [
    "path_to_data = 'data/'\n",
    "\n",
    "training = pd.read_csv(path_to_data + 'training_set.csv', sep=',', header=0)\n",
    "\n",
    "training_info = pd.read_csv(\n",
    "    path_to_data + 'training_info.csv', sep=',', parse_dates=True, header=0)\n",
    "\n",
    "test = pd.read_csv(path_to_data + 'test_set.csv', sep=',', header=0)\n",
    "\n",
    "test_info = pd.read_csv(path_to_data + 'test_info.csv',\n",
    "                        sep=',', parse_dates=True, header=0)\n",
    "path_to_results = 'results/'"
   ]
  },
  {
   "cell_type": "code",
   "execution_count": 4,
   "metadata": {
    "collapsed": false
   },
   "outputs": [
    {
     "name": "stdout",
     "output_type": "stream",
     "text": [
      "Processing training !\n",
      "\n",
      "Processing val !\n",
      "\n"
     ]
    }
   ],
   "source": [
    "train_info, train_email_ids_per_sender, val_info, val_email_ids_per_sender = scoring.get_train_val(training, training_info, train_frac=0.95)"
   ]
  },
  {
   "cell_type": "code",
   "execution_count": 5,
   "metadata": {
    "collapsed": false
   },
   "outputs": [
    {
     "name": "stdout",
     "output_type": "stream",
     "text": [
      "\n",
      "\n"
     ]
    }
   ],
   "source": [
    "train_body_dict = preprocess.body_dict_from_panda(train_info)\n",
    "val_body_dict = preprocess.body_dict_from_panda(val_info)"
   ]
  },
  {
   "cell_type": "code",
   "execution_count": 34,
   "metadata": {
    "collapsed": false
   },
   "outputs": [],
   "source": [
    "all_recipients_in_train = preprocess.get_all_recipients_from_df(train_info)\n",
    "all_recipients_in_train = [rec.lower() for rec in all_recipients_in_train]"
   ]
  },
  {
   "cell_type": "code",
   "execution_count": 14,
   "metadata": {
    "collapsed": false
   },
   "outputs": [
    {
     "name": "stdout",
     "output_type": "stream",
     "text": [
      "\n"
     ]
    }
   ],
   "source": [
    "test_body_dict = preprocess.body_dict_from_panda(test_info)"
   ]
  },
  {
   "cell_type": "code",
   "execution_count": 43,
   "metadata": {
    "collapsed": true
   },
   "outputs": [],
   "source": [
    "test_email_ids_per_sender = preprocess.get_email_ids_per_sender(test)"
   ]
  },
  {
   "cell_type": "code",
   "execution_count": 44,
   "metadata": {
    "collapsed": false
   },
   "outputs": [],
   "source": [
    "mid_sender_dic = {}\n",
    "for sender, mids in test_email_ids_per_sender.items():\n",
    "    for mid in mids:\n",
    "        mid_sender_dic[mid] = sender"
   ]
  },
  {
   "cell_type": "code",
   "execution_count": 47,
   "metadata": {
    "collapsed": false
   },
   "outputs": [],
   "source": [
    "emails_in_content = {}\n",
    "pbar_emails = tqdm_notebook(test_body_dict.items())\n",
    "for mid, body in pbar_emails:\n",
    "    sender = mid_sender_dic[mid]\n",
    "    found_emails = list(manualtools.get_emails(body))\n",
    "    unique_found_emails = list(set(found_emails))\n",
    "    # Keep only known recipients\n",
    "    train_filtered_found_emails = [mail.lower() for mail in unique_found_emails if mail.lower() in all_recipients_in_train]\n",
    "    # Remove sender email\n",
    "    filtered_email = [mail for mail in train_filtered_found_emails if mail!=sender]\n",
    "    if (filtered_email):\n",
    "        emails_in_content[mid] = train_filtered_found_emails"
   ]
  },
  {
   "cell_type": "code",
   "execution_count": 48,
   "metadata": {
    "collapsed": false
   },
   "outputs": [
    {
     "data": {
      "text/plain": [
       "{1577: ['webmaster@cera.com'],\n",
       " 30181: ['nidia.mendoza@enron.com'],\n",
       " 31698: ['mark.evans@enron.com'],\n",
       " 48412: ['eperrigo@epsa.org', 'paul.savage@nrgenergy.com'],\n",
       " 48485: ['jhartso@enron.com'],\n",
       " 48695: ['leslie.reeves@enron.com', 'wade.stubblefield@enron.com'],\n",
       " 48901: ['acomnes@enron.com'],\n",
       " 49096: ['jhartso@enron.com'],\n",
       " 49264: ['jsteffe@enron.com'],\n",
       " 51081: ['rrich@bracepatt.com'],\n",
       " 51629: ['slmchargue@tecoenergy.com',\n",
       "  'kbparker@tecoenergy.com',\n",
       "  'jmwatson@tecoenergy.com'],\n",
       " 53510: ['rrich@bracepatt.com'],\n",
       " 71865: ['susan.jones@neg.pge.com'],\n",
       " 80780: ['joanne.rozycki@enron.com'],\n",
       " 82320: ['susan.jones@neg.pge.com'],\n",
       " 85255: ['moshuffle@hotmail.com',\n",
       "  'susan_m_scott@hotmail.com',\n",
       "  'tkuykendal@enron.com'],\n",
       " 85335: ['tkuyken@enron.com', 'drrichardson@cmsenergy.com'],\n",
       " 85409: ['tkuyken@enron.com'],\n",
       " 86785: ['mcuilla@houston.rr.com'],\n",
       " 88834: ['physics123@yahoo.com'],\n",
       " 100399: ['glaguarta@cadencemcshane.com'],\n",
       " 111487: ['merharp@hotmail.com'],\n",
       " 111944: ['susan_m_scott@hotmail.com'],\n",
       " 112064: ['sscott5@enron.com', 'jkbowles@hotmail.com', 'jespulliam@aol.com'],\n",
       " 117849: ['louis.dicarlo@enron.com'],\n",
       " 118085: ['mpalmer@enron.com'],\n",
       " 118087: ['mpalmer@enron.com'],\n",
       " 118115: ['elizabeth.tilney@enron.com',\n",
       "  'cynthia.barrow@enron.com',\n",
       "  'mark.palmer@enron.com'],\n",
       " 153062: ['mpalmer@enron.com'],\n",
       " 159577: ['eellwanger@triumphboats.com'],\n",
       " 176889: ['louis.dicarlo@enron.com'],\n",
       " 177634: ['barbara.gray@enron.com'],\n",
       " 177815: ['louis.dicarlo@enron.com'],\n",
       " 177816: ['dgold@sonic.net'],\n",
       " 189815: ['mike@tonkon.com'],\n",
       " 190066: ['rshapiro@enron.com'],\n",
       " 190356: ['enron_update@concureworkplace.com'],\n",
       " 199596: ['webmaster@cera.com'],\n",
       " 204553: ['napedersen@jonesday.com',\n",
       "  'blaising@braunlegal.com',\n",
       "  'abb@eslawfirm.com',\n",
       "  'jlondon@gralegal.com',\n",
       "  'kmccrea@sablaw.com',\n",
       "  'btenney@landuselaw.com',\n",
       "  'mshames@ucan.org',\n",
       "  'sberlin@mccarthylaw.com',\n",
       "  'mpa@a-klaw.com',\n",
       "  'wbooth@booth-law.com',\n",
       "  'jguzman@nossaman.com',\n",
       "  'lmh@eslawfirm.com',\n",
       "  'ek@a-klaw.com',\n",
       "  'jsqueri@gmssr.com',\n",
       "  'beth.fox@sce.com',\n",
       "  'lss@cpuc.ca.gov',\n",
       "  'kmills@cfbf.com',\n",
       "  'fdeleon@energy.state.ca.us',\n",
       "  'mgomez1@bart.gov',\n",
       "  'phanschen@mofo.com',\n",
       "  'ktilton@gralegal.com',\n",
       "  'mmattes@nossaman.com',\n",
       "  'bfinkelstein@turn.org',\n",
       "  'edwardoneill@dwt.com',\n",
       "  'mer@cpuc.ca.gov',\n",
       "  'dlf@cpuc.ca.gov',\n",
       "  'furutanj@efawest.navfac.navy.mil',\n",
       "  'kmcspadd@milbank.com',\n",
       "  'jbennett@gmssr.com'],\n",
       " 204625: ['emitchel@angnewspapers.com',\n",
       "  'jmalkin@orrick.com',\n",
       "  'thaines@smud.org',\n",
       "  'randy_britt@mayco.com',\n",
       "  'thoulihan@mdbe.com',\n",
       "  'patrickm@crossborderenergy.com',\n",
       "  'mbazeley@sjmercury.com',\n",
       "  'wbooth@booth-law.com',\n",
       "  'riald@kindermorgan.com',\n",
       "  'pxo2@pge.com',\n",
       "  'robert.d.schasel@fritolay.com',\n",
       "  'pjpowerlaw@aol.com',\n",
       "  'rschmidt@bartlewells.com',\n",
       "  'dhuard@manatt.com',\n",
       "  'jleslie@luce.com',\n",
       "  'jpbatmale@realenergy.com',\n",
       "  'mhg@hetrading.com',\n",
       "  'mschwebs@energy.state.ca.us',\n",
       "  'rtavares@energy.state.ca.us',\n",
       "  'ad046@detroit.freenet.org',\n",
       "  'luluw@newsdata.com',\n",
       "  'karen@klindh.com',\n",
       "  'jtachera@energy.state.ca.us',\n",
       "  'brb3@pge.com',\n",
       "  'melanie_gillette@rmiinc.com',\n",
       "  'edwardoneill@dwt.com',\n",
       "  'bradylaw@pacbell.net',\n",
       "  'jparrott@sempra.com',\n",
       "  'ssmyers@worldnet.att.net',\n",
       "  'cmkehrein@ems-ca.com',\n",
       "  'scottst@mid.org',\n",
       "  'jbennett@gmssr.com',\n",
       "  'tknox@klalawfirm.com',\n",
       "  'cyounger@manatt.com',\n",
       "  'jdh@eslawfirm.com',\n",
       "  'bill@jbsenergy.com',\n",
       "  'askaff@energy-law-group.com',\n",
       "  'napedersen@jonesday.com',\n",
       "  'dkk@eslawfirm.com',\n",
       "  'hchoy@isd.co.la.ca.us',\n",
       "  'paul.harris@bridge.com',\n",
       "  'btenney@landuselaw.com',\n",
       "  'kmelville@sempra.com',\n",
       "  'rrh3@pge.com',\n",
       "  'mpa@a-klaw.com',\n",
       "  'jguzman@nossaman.com',\n",
       "  'rogerberliner@bcjlaw.com',\n",
       "  'jbushee@sablaw.com',\n",
       "  'lindseyhowdowning@dwt.com',\n",
       "  'theresa_mueller@ci.sf.ca.us',\n",
       "  'bishop@jrwood.com',\n",
       "  'epoole@adplaw.com',\n",
       "  'jyf1@pge.com',\n",
       "  'ronknecht@aol.com',\n",
       "  'cwrmccv@worldnet.att.net',\n",
       "  'alexm@calpine.com',\n",
       "  'ed@apx.com',\n",
       "  'foothill@lmi.net',\n",
       "  'hbd@gweiss.com',\n",
       "  'picketse@sce.com',\n",
       "  'randy.chinn@senate.ca.gov',\n",
       "  'ed@clfp.com',\n",
       "  'phanschen@mofo.com',\n",
       "  'tregtremont@dwt.com',\n",
       "  'jcpaine@stoel.com',\n",
       "  'honest@compuserve.com',\n",
       "  'frank.cooley@sce.com',\n",
       "  'kpoole@adamsbroadwell.com',\n",
       "  'jhg@meyersnave.com',\n",
       "  'derkp@newsdata.com',\n",
       "  'tomb@crossborderenergy.com',\n",
       "  'dpritchard@mofo.com',\n",
       "  'ddavie@hesinet.com',\n",
       "  'kmcspadd@milbank.com',\n",
       "  'sgreenberg@realenergy.com',\n",
       "  'bill.mccallum@ci.fresno.ca.us',\n",
       "  'jlyoung@sempra.com',\n",
       "  'cread@steptoe.com',\n",
       "  'abb@eslawfirm.com',\n",
       "  'jlondon@gralegal.com',\n",
       "  'ell5@pge.com',\n",
       "  'dgeorge@kroger.com',\n",
       "  'cpeyton@sacbee.com',\n",
       "  'glsg@pge.com',\n",
       "  'mshames@ucan.org',\n",
       "  'rliebert@cfbf.com',\n",
       "  'bob_anderson@apses.com',\n",
       "  'athomas@newenergy.com',\n",
       "  'huse@eesconsulting.com',\n",
       "  'anchau@shellus.com',\n",
       "  'pjmuller@ricochet.net',\n",
       "  'whe1@pge.com',\n",
       "  'bloomje@la.whitecase.com',\n",
       "  'wendy@econinsights.com',\n",
       "  'keith-sappenfield@reliantenergy.com',\n",
       "  'rrcollins@n-h-i.org',\n",
       "  'freedman@turn.org',\n",
       "  'mgomez1@bart.gov',\n",
       "  'peter_fox-penner@brattle.com',\n",
       "  'smutny@iepa.com',\n",
       "  'jon.jacobs@paconsulting.com',\n",
       "  'dcarroll@dbsr.com',\n",
       "  'jsmollon@newwestenergy.com',\n",
       "  'jeff@hmhresources.com',\n",
       "  'bfinkelstein@turn.org',\n",
       "  'difellman@energy-law-group.com',\n",
       "  'christine_ferrari@ci.sf.ca.us',\n",
       "  'dws@keywaycorp.com',\n",
       "  'firmiyas@dof.ca.gov',\n",
       "  'rtp1@pge.com',\n",
       "  'jweil@aglet.org',\n",
       "  'jweisgall@aol.com',\n",
       "  'clpearce@duanemorris.com',\n",
       "  'julesan@aol.com',\n",
       "  'pbray@newpower.com',\n",
       "  'uwuaregion5@earthlink.net',\n",
       "  'aorchar@smud.org',\n",
       "  'rick.counihan@greenmountain.com',\n",
       "  'fmo@sdcity.sannet.gov',\n",
       "  'blaising@braunlegal.com',\n",
       "  'mdjoseph@adamsbroadwell.com',\n",
       "  'jhay@sempra.com',\n",
       "  'rpernell@energy.state.ca.us',\n",
       "  'smoss@hooked.net',\n",
       "  'kmccrea@sablaw.com',\n",
       "  'hodgesjl@pacbell.net',\n",
       "  'sberlin@mccarthylaw.com',\n",
       "  'nryan@environmentaldefense.org',\n",
       "  'jogg@jhenergy.com',\n",
       "  'jerryl@abag.ca.gov',\n",
       "  'lmh@eslawfirm.com',\n",
       "  'ek@a-klaw.com',\n",
       "  'jsqueri@gmssr.com',\n",
       "  'beth.fox@sce.com',\n",
       "  'jnnc@chevron.com',\n",
       "  'kmills@cfbf.com',\n",
       "  'rbw@mrwassoc.com',\n",
       "  'harrington@ggra.org',\n",
       "  'chrism@mid.org',\n",
       "  'brbarkovich@earthlink.net',\n",
       "  'oshirock@pacbell.net',\n",
       "  'tmberliner@duanemorris.com',\n",
       "  'mbrubaker@consultbai.com',\n",
       "  'mday@gmssr.com',\n",
       "  'mjaske@energy.state.ca.us',\n",
       "  'jskillman@prodigy.net',\n",
       "  'gdreed@sidley.com',\n",
       "  'fwmonier@tid.org',\n",
       "  'rkeen@manatt.com',\n",
       "  'mmattes@nossaman.com',\n",
       "  'gtbl@dynegy.com',\n",
       "  'chilen@llgm.com',\n",
       "  'jbradley@svmg.org',\n",
       "  'drp6@pge.com',\n",
       "  'j.p.shotwell@sce.com',\n",
       "  'fosterbc@sce.com',\n",
       "  'joe.paul@dynegy.com',\n",
       "  'tsmegal@calwater.com',\n",
       "  'rmccann@cal.net',\n",
       "  'gerhordt.herbert@msdw.com',\n",
       "  'dmarcus@slip.net'],\n",
       " 207434: ['rrich@bracepatt.com'],\n",
       " 232922: ['jderric@enron.com', 'enron_update@concureworkplace.com'],\n",
       " 232930: ['dwinn@swlegal.org'],\n",
       " 232947: ['knotestine@littler.com', 'fmackin@aol.com'],\n",
       " 233046: ['kate.cole@enron.com'],\n",
       " 233058: ['kate.cole@enron.com'],\n",
       " 255171: ['chris.abel@enron.com'],\n",
       " 257796: ['raquel.nunes-thomas@us.abb.com'],\n",
       " 272008: ['joseph.deffner@enron.com'],\n",
       " 272593: ['randyshona@hotmail.com'],\n",
       " 274204: ['jim.buerkle@enron.com'],\n",
       " 274212: ['kalmeida@caiso.com'],\n",
       " 274225: ['platter.oregon@verizon.net'],\n",
       " 278244: ['enron_update@concureworkplace.com'],\n",
       " 278366: ['mary.cook@enron.com'],\n",
       " 278404: ['mary.cook@enron.com'],\n",
       " 278411: ['scott.neal@worldnet.att.net'],\n",
       " 283707: ['randyshona@hotmail.com'],\n",
       " 285882: ['support@pira.com'],\n",
       " 285907: ['support@pira.com'],\n",
       " 285915: ['support@pira.com'],\n",
       " 285918: ['support@pira.com'],\n",
       " 285928: ['support@pira.com'],\n",
       " 285960: ['support@pira.com'],\n",
       " 285979: ['support@pira.com'],\n",
       " 286025: ['support@pira.com'],\n",
       " 286039: ['support@pira.com'],\n",
       " 286048: ['support@pira.com'],\n",
       " 286080: ['support@pira.com'],\n",
       " 286091: ['support@pira.com'],\n",
       " 286123: ['support@pira.com'],\n",
       " 286132: ['support@pira.com'],\n",
       " 286150: ['support@pira.com'],\n",
       " 286152: ['support@pira.com'],\n",
       " 286153: ['support@pira.com'],\n",
       " 286175: ['support@pira.com'],\n",
       " 286176: ['support@pira.com'],\n",
       " 299110: ['twanda.sweet@enron.com'],\n",
       " 326107: ['kelley_doolan@platts.com'],\n",
       " 335518: ['hollyw@email.msn.com'],\n",
       " 335606: ['hollyw@email.msn.com'],\n",
       " 335728: ['carlos.giron@psiusa.com'],\n",
       " 335744: ['darron.c.giron@enron.com'],\n",
       " 336396: ['flbusot@tecoenergy.com'],\n",
       " 364422: ['flemingryan99@hotmail.com'],\n",
       " 364456: ['migeorge@deloitte.ca', 'kdorland@flint-energy.com'],\n",
       " 364510: ['dandorland@hotmail.com',\n",
       "  'kdorland@flint-energy.com',\n",
       "  'migeorge@deloitte.ca'],\n",
       " 364511: ['migeorge@deloitte.ca'],\n",
       " 364530: ['maengelhardt@collinsbarrow.com'],\n",
       " 365341: ['mcarson2@enron.com'],\n",
       " 365432: ['ken.merideth@entergykoch.com'],\n",
       " 366288: ['pama9@flash.net'],\n",
       " 366344: ['s.schnitzer@worldnet.att.net'],\n",
       " 377989: ['chris.abel@enron.com'],\n",
       " 379421: ['whalley@enron.com'],\n",
       " 380341: ['pallen70@hotmail.com'],\n",
       " 390311: ['daphneco64@alltel.net', 'lwbthemarine@alltel.net'],\n",
       " 392056: ['support@pira.com'],\n",
       " 402288: ['abb@eslawfirm.com'],\n",
       " 402317: ['gig@cpuc.ca.gov',\n",
       "  'theresa_mueller@ci.sf.ca.us',\n",
       "  'rbw@mrwassoc.com',\n",
       "  'honest@compuserve.com',\n",
       "  'bfinkelstein@turn.org',\n",
       "  'bradylaw@pacbell.net',\n",
       "  'ssmyers@worldnet.att.net',\n",
       "  'bill@jbsenergy.com'],\n",
       " 402419: ['steve.hall@enron.com']}"
      ]
     },
     "execution_count": 48,
     "metadata": {},
     "output_type": "execute_result"
    }
   ],
   "source": [
    "emails_in_content\n",
    "    "
   ]
  },
  {
   "cell_type": "code",
   "execution_count": 49,
   "metadata": {
    "collapsed": false
   },
   "outputs": [
    {
     "data": {
      "text/plain": [
       "101"
      ]
     },
     "execution_count": 49,
     "metadata": {},
     "output_type": "execute_result"
    }
   ],
   "source": [
    "len(emails_in_content)"
   ]
  },
  {
   "cell_type": "code",
   "execution_count": 50,
   "metadata": {
    "collapsed": true
   },
   "outputs": [],
   "source": [
    "with open('variables/emails_in_test', 'wb') as outfile:\n",
    "    pickle.dump(emails_in_content, outfile)"
   ]
  },
  {
   "cell_type": "code",
   "execution_count": null,
   "metadata": {
    "collapsed": true
   },
   "outputs": [],
   "source": []
  }
 ],
 "metadata": {
  "kernelspec": {
   "display_name": "Python 3",
   "language": "python",
   "name": "python3"
  },
  "language_info": {
   "codemirror_mode": {
    "name": "ipython",
    "version": 3
   },
   "file_extension": ".py",
   "mimetype": "text/x-python",
   "name": "python",
   "nbconvert_exporter": "python",
   "pygments_lexer": "ipython3",
   "version": "3.4.3"
  },
  "widgets": {
   "state": {
    "0c818ae225d145f9b7d0bd36f1f6d836": {
     "views": [
      {
       "cell_index": 6
      }
     ]
    },
    "493db68fe5874defada31c8e621260e8": {
     "views": [
      {
       "cell_index": 4
      }
     ]
    },
    "51a673b35ab44678bdceaba99f66751a": {
     "views": [
      {
       "cell_index": 2
      }
     ]
    },
    "52903edf1bf24697a695111c211f0d35": {
     "views": [
      {
       "cell_index": 8
      }
     ]
    },
    "670a68c84ad74b20a5633b42d7283ca4": {
     "views": [
      {
       "cell_index": 3
      }
     ]
    },
    "6c58472d43054943bd469c7bde647abe": {
     "views": [
      {
       "cell_index": 3
      }
     ]
    },
    "eb666e1dece14405a53dbf88f359a2cf": {
     "views": [
      {
       "cell_index": 2
      }
     ]
    }
   },
   "version": "1.2.0"
  }
 },
 "nbformat": 4,
 "nbformat_minor": 2
}
