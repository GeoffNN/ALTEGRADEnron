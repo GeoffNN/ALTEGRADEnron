{
 "cells": [
  {
   "cell_type": "code",
   "execution_count": 162,
   "metadata": {
    "collapsed": false
   },
   "outputs": [
    {
     "name": "stdout",
     "output_type": "stream",
     "text": [
      "The autoreload extension is already loaded. To reload it, use:\n",
      "  %reload_ext autoreload\n"
     ]
    }
   ],
   "source": [
    "from collections import defaultdict\n",
    "import itertools\n",
    "from matplotlib import pyplot as plt\n",
    "import math\n",
    "import numpy as np\n",
    "import operator\n",
    "import pandas as pd\n",
    "import pickle\n",
    "import random\n",
    "import re\n",
    "import scipy\n",
    "import string\n",
    "from tqdm import tqdm_notebook\n",
    "\n",
    "\n",
    "import src.knntools as knntools\n",
    "import src.fusiontools as fusiontools\n",
    "import src.postprocess as postprocess\n",
    "import src.preprocess as preprocess\n",
    "import src.tfidftools as tfidftools\n",
    "import src.tools as tools\n",
    "import src.recencytools as recency\n",
    "import src.scoring as scoring\n",
    "import src.textembeddingtools as texttools\n",
    "import src.graphwordstools as graphtools\n",
    "import src.manualprocessingtools as manualtools\n",
    "\n",
    "%load_ext autoreload\n",
    "%autoreload 2\n",
    "%matplotlib inline"
   ]
  },
  {
   "cell_type": "code",
   "execution_count": 2,
   "metadata": {
    "collapsed": false
   },
   "outputs": [],
   "source": [
    "path_to_data = 'data/'\n",
    "\n",
    "training = pd.read_csv(path_to_data + 'training_set.csv', sep=',', header=0)\n",
    "\n",
    "training_info = pd.read_csv(\n",
    "    path_to_data + 'training_info.csv', sep=',', parse_dates=True, header=0)\n",
    "\n",
    "test = pd.read_csv(path_to_data + 'test_set.csv', sep=',', header=0)\n",
    "\n",
    "test_info = pd.read_csv(path_to_data + 'test_info.csv',\n",
    "                        sep=',', parse_dates=True, header=0)\n",
    "path_to_results = 'results/'"
   ]
  },
  {
   "cell_type": "code",
   "execution_count": 3,
   "metadata": {
    "collapsed": false
   },
   "outputs": [
    {
     "name": "stdout",
     "output_type": "stream",
     "text": [
      "Processing training !\n",
      "\n",
      "Processing val !\n",
      "\n"
     ]
    }
   ],
   "source": [
    "train_info, train_email_ids_per_sender, val_info, val_email_ids_per_sender = scoring.get_train_val(training, training_info, train_frac=0.95)"
   ]
  },
  {
   "cell_type": "code",
   "execution_count": 6,
   "metadata": {
    "collapsed": false
   },
   "outputs": [
    {
     "name": "stdout",
     "output_type": "stream",
     "text": [
      "\n",
      "\n"
     ]
    }
   ],
   "source": [
    "train_body_dict = preprocess.body_dict_from_panda(train_info)\n",
    "val_body_dict = preprocess.body_dict_from_panda(val_info)"
   ]
  },
  {
   "cell_type": "code",
   "execution_count": 7,
   "metadata": {
    "collapsed": false
   },
   "outputs": [
    {
     "name": "stdout",
     "output_type": "stream",
     "text": [
      "\n"
     ]
    }
   ],
   "source": [
    "all_recipients_in_train = preprocess.get_all_recipients_from_df(train_info)\n",
    "all_recipients_in_train = [rec.lower() for rec in all_recipients_in_train]"
   ]
  },
  {
   "cell_type": "code",
   "execution_count": 78,
   "metadata": {
    "collapsed": false
   },
   "outputs": [],
   "source": [
    "val_body_dict = preprocess.body_dict_from_panda(val_info)"
   ]
  },
  {
   "cell_type": "code",
   "execution_count": 80,
   "metadata": {
    "collapsed": false
   },
   "outputs": [],
   "source": [
    "# test_email_ids_per_sender = preprocess.get_email_ids_per_sender(test)"
   ]
  },
  {
   "cell_type": "code",
   "execution_count": 81,
   "metadata": {
    "collapsed": false
   },
   "outputs": [],
   "source": [
    "val_mid_sender_dic = preprocess.get_mid_sender_dict(val_email_ids_per_sender)"
   ]
  },
  {
   "cell_type": "code",
   "execution_count": 103,
   "metadata": {
    "collapsed": false
   },
   "outputs": [],
   "source": [
    "val_emails_in_content = manualtools.get_filtered_emails_dic(val_body_dict, val_mid_sender_dic, candidate_list=None)"
   ]
  },
  {
   "cell_type": "code",
   "execution_count": 254,
   "metadata": {
    "collapsed": false
   },
   "outputs": [],
   "source": [
    "train_mid_sender_dic = preprocess.get_mid_sender_dict(train_email_ids_per_sender)\n",
    "train_emails_in_content = manualtools.get_filtered_emails_dic(train_body_dict, train_mid_sender_dic, candidate_list=all_recipients_in_train)"
   ]
  },
  {
   "cell_type": "code",
   "execution_count": 190,
   "metadata": {
    "collapsed": false
   },
   "outputs": [
    {
     "name": "stdout",
     "output_type": "stream",
     "text": [
      "2181\n",
      "0.00313311936421\n"
     ]
    }
   ],
   "source": [
    "\n",
    "current_score = scoring.compute_prediction_mad(in_body_predictions, val_info)\n",
    "print(current_score)"
   ]
  },
  {
   "cell_type": "code",
   "execution_count": 106,
   "metadata": {
    "collapsed": true
   },
   "outputs": [],
   "source": [
    "with open('variables/emails_in_val', 'wb') as outfile:\n",
    "    pickle.dump(emails_in_content, outfile)"
   ]
  },
  {
   "cell_type": "code",
   "execution_count": 243,
   "metadata": {
    "collapsed": false
   },
   "outputs": [],
   "source": [
    "extracted_subject_length = 10\n",
    "keyword = 'From:'\n",
    "val_subject_dic = manualtools.get_keyword_dic(val_body_dict, keyword=keyword,\n",
    "                                              extracted_length=extracted_subject_length)\n",
    "train_subject_dic = manualtools.get_keyword_dic(train_body_dict, keyword=keyword,\n",
    "                                                extracted_length=extracted_subject_length)"
   ]
  },
  {
   "cell_type": "code",
   "execution_count": 244,
   "metadata": {
    "collapsed": false
   },
   "outputs": [],
   "source": [
    "keyword_prediction_scores = {}\n",
    "for mid, val_body in val_body_dict.items():\n",
    "    recipient_scores = defaultdict(int)\n",
    "    if (mid in val_subject_dic.keys()):\n",
    "        val_subject = val_subject_dic[mid]\n",
    "        mids = [mid for mid, train_subject in train_subject_dic.items() if train_subject == val_subject]\n",
    "        for hit_mid in mids:\n",
    "            recipients = preprocess.get_recipients(train_info, hit_mid)\n",
    "            for recipient in recipients:\n",
    "                recipient_scores[recipient] += 1\n",
    "        keyword_prediction_scores[mid] = recipient_scores\n",
    "    else:\n",
    "        keyword_prediction_scores[mid] = {}\n",
    "        \n",
    "keyword_predictions = knntools.similar_dic_to_standard(keyword_prediction_scores)\n",
    "            "
   ]
  },
  {
   "cell_type": "code",
   "execution_count": 249,
   "metadata": {
    "collapsed": false
   },
   "outputs": [],
   "source": [
    "keyword_predictions = manualtools.get_keyword_prediction(train_body_dict, val_body_dict, train_info, keyword, extracted_length=20)"
   ]
  },
  {
   "cell_type": "code",
   "execution_count": 251,
   "metadata": {
    "collapsed": false
   },
   "outputs": [
    {
     "name": "stdout",
     "output_type": "stream",
     "text": [
      "0.0266901802241\n"
     ]
    }
   ],
   "source": [
    "current_score = scoring.compute_prediction_mad(keyword_predictions, val_info)\n",
    "print(current_score)"
   ]
  },
  {
   "cell_type": "code",
   "execution_count": 252,
   "metadata": {
    "collapsed": false
   },
   "outputs": [],
   "source": [
    "models = [keyword_predictions, in_body_predictions]\n",
    "fusion_predictions = fusiontools.reciprocal_rerank(models, 10)"
   ]
  },
  {
   "cell_type": "code",
   "execution_count": 253,
   "metadata": {
    "collapsed": false
   },
   "outputs": [
    {
     "name": "stdout",
     "output_type": "stream",
     "text": [
      "0.0258267660742\n"
     ]
    }
   ],
   "source": [
    "fusion_score = scoring.compute_prediction_mad(fusion_predictions, val_info)\n",
    "print(fusion_score)"
   ]
  },
  {
   "cell_type": "code",
   "execution_count": null,
   "metadata": {
    "collapsed": true
   },
   "outputs": [],
   "source": []
  }
 ],
 "metadata": {
  "kernelspec": {
   "display_name": "Python 3",
   "language": "python",
   "name": "python3"
  },
  "language_info": {
   "codemirror_mode": {
    "name": "ipython",
    "version": 3
   },
   "file_extension": ".py",
   "mimetype": "text/x-python",
   "name": "python",
   "nbconvert_exporter": "python",
   "pygments_lexer": "ipython3",
   "version": "3.4.3"
  },
  "widgets": {
   "state": {
    "2bbc34642e4d46d2a2e73ad83cabe1f8": {
     "views": [
      {
       "cell_index": 8
      }
     ]
    },
    "3542c87427274f46b7d3e322037a465c": {
     "views": [
      {
       "cell_index": 3
      }
     ]
    },
    "3d31d3e531c94cf7a7bb882538664727": {
     "views": [
      {
       "cell_index": 2
      }
     ]
    },
    "59d1447ede9c4a5b8b6bc3d7f51c44ef": {
     "views": [
      {
       "cell_index": 2
      }
     ]
    },
    "7b451742323c4b39922738bd509b5937": {
     "views": [
      {
       "cell_index": 4
      }
     ]
    },
    "8cbf60972c4441089a43947bee4b10a0": {
     "views": [
      {
       "cell_index": 9
      }
     ]
    },
    "9eee9f7d7cd24946b1c9db342d273221": {
     "views": [
      {
       "cell_index": 3
      }
     ]
    },
    "dd3362387d214062a0846ce9ea1d5c30": {
     "views": [
      {
       "cell_index": 5
      }
     ]
    },
    "dede90f4248c45f584a388e435d439e5": {
     "views": [
      {
       "cell_index": 14
      }
     ]
    }
   },
   "version": "1.2.0"
  }
 },
 "nbformat": 4,
 "nbformat_minor": 2
}
