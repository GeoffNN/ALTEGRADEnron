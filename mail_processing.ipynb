{
 "cells": [
  {
   "cell_type": "code",
   "execution_count": 1,
   "metadata": {
    "collapsed": false
   },
   "outputs": [],
   "source": [
    "from collections import defaultdict\n",
    "import itertools\n",
    "from matplotlib import pyplot as plt\n",
    "import math\n",
    "import numpy as np\n",
    "import operator\n",
    "import pandas as pd\n",
    "import pickle\n",
    "import random\n",
    "import re\n",
    "import scipy\n",
    "import string\n",
    "from tqdm import tqdm_notebook\n",
    "\n",
    "\n",
    "import src.knntools as knntools\n",
    "import src.fusiontools as fusiontools\n",
    "import src.postprocess as postprocess\n",
    "import src.preprocess as preprocess\n",
    "import src.tfidftools as tfidftools\n",
    "import src.tools as tools\n",
    "import src.recencytools as recency\n",
    "import src.scoring as scoring\n",
    "import src.textembeddingtools as texttools\n",
    "import src.graphwordstools as graphtools\n",
    "import src.manualprocessingtools as manualtools\n",
    "\n",
    "%load_ext autoreload\n",
    "%autoreload 2\n",
    "%matplotlib inline"
   ]
  },
  {
   "cell_type": "code",
   "execution_count": 2,
   "metadata": {
    "collapsed": false
   },
   "outputs": [],
   "source": [
    "path_to_data = 'data/'\n",
    "\n",
    "training = pd.read_csv(path_to_data + 'training_set.csv', sep=',', header=0)\n",
    "\n",
    "training_info = pd.read_csv(\n",
    "    path_to_data + 'training_info.csv', sep=',', parse_dates=True, header=0)\n",
    "\n",
    "test = pd.read_csv(path_to_data + 'test_set.csv', sep=',', header=0)\n",
    "\n",
    "test_info = pd.read_csv(path_to_data + 'test_info.csv',\n",
    "                        sep=',', parse_dates=True, header=0)\n",
    "path_to_results = 'results/'"
   ]
  },
  {
   "cell_type": "code",
   "execution_count": 3,
   "metadata": {
    "collapsed": false
   },
   "outputs": [
    {
     "name": "stdout",
     "output_type": "stream",
     "text": [
      "Processing training !\n"
     ]
    },
    {
     "name": "stderr",
     "output_type": "stream",
     "text": [
      "Widget Javascript not detected.  It may not be installed properly. Did you enable the widgetsnbextension? If not, then run \"jupyter nbextension enable --py --sys-prefix widgetsnbextension\"\n"
     ]
    },
    {
     "name": "stdout",
     "output_type": "stream",
     "text": [
      "\n",
      "Processing val !\n"
     ]
    },
    {
     "name": "stderr",
     "output_type": "stream",
     "text": [
      "Widget Javascript not detected.  It may not be installed properly. Did you enable the widgetsnbextension? If not, then run \"jupyter nbextension enable --py --sys-prefix widgetsnbextension\"\n"
     ]
    },
    {
     "name": "stdout",
     "output_type": "stream",
     "text": [
      "\n"
     ]
    }
   ],
   "source": [
    "train_info, train_email_ids_per_sender, val_info, val_email_ids_per_sender = scoring.get_train_val(training, training_info, train_frac=0.95)"
   ]
  },
  {
   "cell_type": "code",
   "execution_count": 5,
   "metadata": {
    "collapsed": false
   },
   "outputs": [
    {
     "name": "stdout",
     "output_type": "stream",
     "text": [
      "\n",
      "\n"
     ]
    }
   ],
   "source": [
    "train_body_dict = preprocess.body_dict_from_panda(train_info)\n",
    "val_body_dict = preprocess.body_dict_from_panda(val_info)"
   ]
  },
  {
   "cell_type": "code",
   "execution_count": 6,
   "metadata": {
    "collapsed": false
   },
   "outputs": [
    {
     "name": "stdout",
     "output_type": "stream",
     "text": [
      "\n"
     ]
    }
   ],
   "source": [
    "all_recipients_in_train = preprocess.get_all_recipients_from_df(train_info)\n",
    "all_recipients_in_train = [rec.lower() for rec in all_recipients_in_train]"
   ]
  },
  {
   "cell_type": "code",
   "execution_count": 7,
   "metadata": {
    "collapsed": false
   },
   "outputs": [
    {
     "name": "stdout",
     "output_type": "stream",
     "text": [
      "\n"
     ]
    }
   ],
   "source": [
    "val_body_dict = preprocess.body_dict_from_panda(val_info)"
   ]
  },
  {
   "cell_type": "markdown",
   "metadata": {},
   "source": [
    "## In body email prediction\n",
    "\n",
    "Finds emails in the body of the mail, and makes prediction that those emails are among the recipients"
   ]
  },
  {
   "cell_type": "code",
   "execution_count": 9,
   "metadata": {
    "collapsed": false
   },
   "outputs": [],
   "source": [
    "val_mid_sender_dic = preprocess.get_mid_sender_dict(val_email_ids_per_sender)"
   ]
  },
  {
   "cell_type": "code",
   "execution_count": 10,
   "metadata": {
    "collapsed": false
   },
   "outputs": [
    {
     "name": "stdout",
     "output_type": "stream",
     "text": [
      "\n"
     ]
    }
   ],
   "source": [
    "val_emails_in_content = manualtools.get_filtered_emails_dic(val_body_dict, val_mid_sender_dic, candidate_list=None)"
   ]
  },
  {
   "cell_type": "code",
   "execution_count": 20,
   "metadata": {
    "collapsed": true
   },
   "outputs": [],
   "source": [
    "val_in_body_predictions = {}\n",
    "for mid, body in val_body_dict.items():\n",
    "    if (mid in val_emails_in_content.keys()):\n",
    "        val_in_body_predictions[mid] = val_emails_in_content[mid]\n",
    "    else:\n",
    "        val_in_body_predictions[mid] = []"
   ]
  },
  {
   "cell_type": "code",
   "execution_count": 24,
   "metadata": {
    "collapsed": false
   },
   "outputs": [
    {
     "name": "stdout",
     "output_type": "stream",
     "text": [
      "0.00259819654593\n"
     ]
    }
   ],
   "source": [
    "current_score = scoring.compute_prediction_mad(val_in_body_predictions, val_info)\n",
    "print(current_score)"
   ]
  },
  {
   "cell_type": "code",
   "execution_count": 11,
   "metadata": {
    "collapsed": false
   },
   "outputs": [
    {
     "name": "stdout",
     "output_type": "stream",
     "text": [
      "\n"
     ]
    }
   ],
   "source": [
    "train_mid_sender_dic = preprocess.get_mid_sender_dict(train_email_ids_per_sender)\n",
    "train_emails_in_content = manualtools.get_filtered_emails_dic(train_body_dict, train_mid_sender_dic, candidate_list=all_recipients_in_train)"
   ]
  },
  {
   "cell_type": "code",
   "execution_count": 12,
   "metadata": {
    "collapsed": false
   },
   "outputs": [
    {
     "name": "stdout",
     "output_type": "stream",
     "text": [
      "0.0156971375808\n"
     ]
    }
   ],
   "source": [
    "current_score = scoring.compute_prediction_mad(val_emails_in_content, val_info)\n",
    "print(current_score)"
   ]
  },
  {
   "cell_type": "code",
   "execution_count": 106,
   "metadata": {
    "collapsed": true
   },
   "outputs": [],
   "source": [
    "with open('variables/emails_in_val', 'wb') as outfile:\n",
    "    pickle.dump(emails_in_content, outfile)"
   ]
  },
  {
   "cell_type": "markdown",
   "metadata": {},
   "source": [
    "## Keyword prediction\n",
    "\n",
    "- Extracts the string after a given keyword\n",
    "\n",
    "- Finds train emails with matching string sequence\n",
    "\n",
    "- Adds 1 to recipient score for each recipient of the train email\n",
    "\n",
    "- Predicts recipient with highest scores"
   ]
  },
  {
   "cell_type": "code",
   "execution_count": 13,
   "metadata": {
    "collapsed": false
   },
   "outputs": [],
   "source": [
    "extracted_subject_length = 10\n",
    "keyword = 'From:'\n",
    "val_subject_dic = manualtools.get_keyword_dic(val_body_dict, keyword=keyword,\n",
    "                                              extracted_length=extracted_subject_length)\n",
    "train_subject_dic = manualtools.get_keyword_dic(train_body_dict, keyword=keyword,\n",
    "                                                extracted_length=extracted_subject_length)"
   ]
  },
  {
   "cell_type": "code",
   "execution_count": 14,
   "metadata": {
    "collapsed": false
   },
   "outputs": [
    {
     "name": "stdout",
     "output_type": "stream",
     "text": [
      "\n"
     ]
    }
   ],
   "source": [
    "keyword_predictions = manualtools.get_keyword_prediction(train_body_dict, val_body_dict, train_info, keyword, extracted_length=20)"
   ]
  },
  {
   "cell_type": "code",
   "execution_count": 15,
   "metadata": {
    "collapsed": false
   },
   "outputs": [
    {
     "name": "stdout",
     "output_type": "stream",
     "text": [
      "0.026816672489\n"
     ]
    }
   ],
   "source": [
    "current_score = scoring.compute_prediction_mad(keyword_predictions, val_info)\n",
    "print(current_score)"
   ]
  },
  {
   "cell_type": "code",
   "execution_count": 21,
   "metadata": {
    "collapsed": false
   },
   "outputs": [],
   "source": [
    "models = [keyword_predictions, val_in_body_predictions]\n",
    "fusion_predictions = fusiontools.reciprocal_rerank(models, 10)"
   ]
  },
  {
   "cell_type": "code",
   "execution_count": 22,
   "metadata": {
    "collapsed": false
   },
   "outputs": [
    {
     "name": "stdout",
     "output_type": "stream",
     "text": [
      "0.0260003097134\n"
     ]
    }
   ],
   "source": [
    "fusion_score = scoring.compute_prediction_mad(fusion_predictions, val_info)\n",
    "print(fusion_score)"
   ]
  },
  {
   "cell_type": "code",
   "execution_count": null,
   "metadata": {
    "collapsed": true
   },
   "outputs": [],
   "source": []
  }
 ],
 "metadata": {
  "kernelspec": {
   "display_name": "Python 3",
   "language": "python",
   "name": "python3"
  },
  "language_info": {
   "codemirror_mode": {
    "name": "ipython",
    "version": 3
   },
   "file_extension": ".py",
   "mimetype": "text/x-python",
   "name": "python",
   "nbconvert_exporter": "python",
   "pygments_lexer": "ipython3",
   "version": "3.4.3"
  },
  "widgets": {
   "state": {
    "0d1e3412dee1461886f2f939e41c7034": {
     "views": [
      {
       "cell_index": 9
      }
     ]
    },
    "4b4e4d37084f4ab6b9ba92ad69f48031": {
     "views": [
      {
       "cell_index": 8
      }
     ]
    },
    "5350a8b715084892a78fdd1ec0b06486": {
     "views": [
      {
       "cell_index": 4
      }
     ]
    },
    "59d1447ede9c4a5b8b6bc3d7f51c44ef": {
     "views": [
      {
       "cell_index": 2
      }
     ]
    },
    "61098cb1b41e44c88f328d4fcc971ef3": {
     "views": [
      {
       "cell_index": 3
      }
     ]
    },
    "9eee9f7d7cd24946b1c9db342d273221": {
     "views": [
      {
       "cell_index": 3
      }
     ]
    },
    "b37b58de773f43a994311afa5f87c459": {
     "views": [
      {
       "cell_index": 2
      }
     ]
    },
    "bc6f19e9860b4d9286cd046fdc8bed29": {
     "views": [
      {
       "cell_index": 5
      }
     ]
    },
    "c6a7d1e2b0014dffa7d31111ce787243": {
     "views": [
      {
       "cell_index": 2
      }
     ]
    },
    "d96f7026bac04b539120769c9903b4f1": {
     "views": [
      {
       "cell_index": 3
      }
     ]
    },
    "f5d00b7abfa44e8c93a962600cd8c39b": {
     "views": [
      {
       "cell_index": 13
      }
     ]
    },
    "f5d62412b709470aa86553edd65a9e62": {
     "views": [
      {
       "cell_index": 3
      }
     ]
    }
   },
   "version": "1.2.0"
  }
 },
 "nbformat": 4,
 "nbformat_minor": 2
}
