{
 "cells": [
  {
   "cell_type": "code",
   "execution_count": 1,
   "metadata": {
    "collapsed": false
   },
   "outputs": [],
   "source": [
    "from collections import defaultdict\n",
    "import itertools\n",
    "from matplotlib import pyplot as plt\n",
    "import math\n",
    "import numpy as np\n",
    "import operator\n",
    "import pandas as pd\n",
    "import pickle\n",
    "import random\n",
    "import re\n",
    "import scipy\n",
    "import string\n",
    "from tqdm import tqdm_notebook\n",
    "\n",
    "\n",
    "import src.knntools as knntools\n",
    "import src.fusiontools as fusiontools\n",
    "import src.postprocess as postprocess\n",
    "import src.preprocess as preprocess\n",
    "import src.tfidftools as tfidftools\n",
    "import src.tools as tools\n",
    "import src.recencytools as recency\n",
    "import src.scoring as scoring\n",
    "import src.textembeddingtools as texttools\n",
    "import src.graphwordstools as graphtools\n",
    "import src.manualprocessingtools as manualtools\n",
    "\n",
    "%load_ext autoreload\n",
    "%autoreload 2\n",
    "%matplotlib inline"
   ]
  },
  {
   "cell_type": "markdown",
   "metadata": {},
   "source": [
    "# Load dataset"
   ]
  },
  {
   "cell_type": "code",
   "execution_count": 40,
   "metadata": {
    "collapsed": false
   },
   "outputs": [],
   "source": [
    "path_to_data = 'data/'\n",
    "\n",
    "training = pd.read_csv(path_to_data + 'training_set.csv', sep=',', header=0)\n",
    "\n",
    "training_info = pd.read_csv(\n",
    "    path_to_data + 'training_info.csv', sep=',', parse_dates=True, header=0)\n",
    "\n",
    "test = pd.read_csv(path_to_data + 'test_set.csv', sep=',', header=0)\n",
    "\n",
    "test_info = pd.read_csv(path_to_data + 'test_info.csv',\n",
    "                        sep=',', parse_dates=True, header=0)\n",
    "path_to_results = 'results/'"
   ]
  },
  {
   "cell_type": "code",
   "execution_count": 41,
   "metadata": {
    "collapsed": false
   },
   "outputs": [
    {
     "name": "stdout",
     "output_type": "stream",
     "text": [
      "Processing training !\n",
      "\n",
      "Processing val !\n",
      "\n"
     ]
    }
   ],
   "source": [
    "train_info, train_email_ids_per_sender, val_info, val_email_ids_per_sender = scoring.get_train_val(training, training_info, train_frac=0.95)"
   ]
  },
  {
   "cell_type": "code",
   "execution_count": 42,
   "metadata": {
    "collapsed": false
   },
   "outputs": [
    {
     "name": "stdout",
     "output_type": "stream",
     "text": [
      "\n",
      "\n"
     ]
    }
   ],
   "source": [
    "train_body_dict = preprocess.body_dict_from_panda(train_info)\n",
    "val_body_dict = preprocess.body_dict_from_panda(val_info)"
   ]
  },
  {
   "cell_type": "markdown",
   "metadata": {},
   "source": [
    "## Retreive all the know email list\n",
    "\n",
    "This allows us to filter the emails in the body to potentially only keep the emails that were present as recipients in the training set."
   ]
  },
  {
   "cell_type": "code",
   "execution_count": 43,
   "metadata": {
    "collapsed": false
   },
   "outputs": [
    {
     "name": "stdout",
     "output_type": "stream",
     "text": [
      "\n"
     ]
    }
   ],
   "source": [
    "all_recipients_in_train = preprocess.get_all_recipients_from_df(train_info)\n",
    "all_recipients_in_train = [rec.lower() for rec in all_recipients_in_train]"
   ]
  },
  {
   "cell_type": "code",
   "execution_count": 44,
   "metadata": {
    "collapsed": false
   },
   "outputs": [
    {
     "name": "stdout",
     "output_type": "stream",
     "text": [
      "9597 were found in the training set\n"
     ]
    }
   ],
   "source": [
    "print('{nb_rec} were found in the training set'.format(nb_rec=len(all_recipients_in_train)))"
   ]
  },
  {
   "cell_type": "code",
   "execution_count": 45,
   "metadata": {
    "collapsed": false
   },
   "outputs": [
    {
     "name": "stdout",
     "output_type": "stream",
     "text": [
      "\n"
     ]
    }
   ],
   "source": [
    "val_body_dict = preprocess.body_dict_from_panda(val_info)"
   ]
  },
  {
   "cell_type": "markdown",
   "metadata": {},
   "source": [
    "## In body email prediction\n",
    "\n",
    "Finds emails in the body of the mail, and makes prediction that those emails are among the recipients.\n",
    "\n"
   ]
  },
  {
   "cell_type": "code",
   "execution_count": 46,
   "metadata": {
    "collapsed": false
   },
   "outputs": [],
   "source": [
    "val_mid_sender_dic = preprocess.get_mid_sender_dict(val_email_ids_per_sender)"
   ]
  },
  {
   "cell_type": "markdown",
   "metadata": {},
   "source": [
    "### Filter emails present in known recipient list "
   ]
  },
  {
   "cell_type": "code",
   "execution_count": 47,
   "metadata": {
    "collapsed": false
   },
   "outputs": [
    {
     "name": "stdout",
     "output_type": "stream",
     "text": [
      "\n"
     ]
    }
   ],
   "source": [
    "val_emails_in_content = manualtools.get_filtered_emails_dic(val_body_dict, val_mid_sender_dic, candidate_list=all_recipients_in_train)"
   ]
  },
  {
   "cell_type": "code",
   "execution_count": 48,
   "metadata": {
    "collapsed": true
   },
   "outputs": [],
   "source": [
    "val_in_body_predictions = {}\n",
    "for mid, body in val_body_dict.items():\n",
    "    if (mid in val_emails_in_content.keys()):\n",
    "        val_in_body_predictions[mid] = val_emails_in_content[mid]"
   ]
  },
  {
   "cell_type": "code",
   "execution_count": 49,
   "metadata": {
    "collapsed": false
   },
   "outputs": [
    {
     "name": "stdout",
     "output_type": "stream",
     "text": [
      "0.0416666666667\n"
     ]
    }
   ],
   "source": [
    "current_score = scoring.compute_prediction_mad(val_in_body_predictions, val_info)\n",
    "print(current_score)"
   ]
  },
  {
   "cell_type": "markdown",
   "metadata": {},
   "source": [
    "###  Keep all emails in body (no filter) "
   ]
  },
  {
   "cell_type": "code",
   "execution_count": 50,
   "metadata": {
    "collapsed": false
   },
   "outputs": [
    {
     "name": "stdout",
     "output_type": "stream",
     "text": [
      "\n",
      "0.0180055401662\n"
     ]
    }
   ],
   "source": [
    "val_emails_in_content = manualtools.get_filtered_emails_dic(val_body_dict, val_mid_sender_dic, candidate_list=None)\n",
    "\n",
    "val_in_body_predictions = {}\n",
    "for mid, body in val_body_dict.items():\n",
    "    if (mid in val_emails_in_content.keys()):\n",
    "        val_in_body_predictions[mid] = val_emails_in_content[mid]\n",
    "        \n",
    "current_score = scoring.compute_prediction_mad(val_in_body_predictions, val_info)\n",
    "print(current_score)"
   ]
  },
  {
   "cell_type": "markdown",
   "metadata": {},
   "source": [
    "We see that filtering out the emails not present in the candidate list significantly improves the results, but that overall the performances are pretty poor. "
   ]
  },
  {
   "cell_type": "code",
   "execution_count": 53,
   "metadata": {
    "collapsed": false
   },
   "outputs": [
    {
     "name": "stdout",
     "output_type": "stream",
     "text": [
      "\n",
      "0.0747570571871\n"
     ]
    }
   ],
   "source": [
    "train_mid_sender_dic = preprocess.get_mid_sender_dict(train_email_ids_per_sender)\n",
    "train_emails_in_content = manualtools.get_filtered_emails_dic(train_body_dict, train_mid_sender_dic, candidate_list=None)\n",
    "train_in_body_predictions = {}\n",
    "for mid, body in train_body_dict.items():\n",
    "    if (mid in train_emails_in_content.keys()):\n",
    "        train_in_body_predictions[mid] = train_emails_in_content[mid]\n",
    "        \n",
    "current_score = scoring.compute_prediction_mad(train_in_body_predictions, train_info)\n",
    "print(current_score)"
   ]
  },
  {
   "cell_type": "markdown",
   "metadata": {},
   "source": [
    "For the emails in the training set that contain recipients in the body, we obtain slightly better prediction results. "
   ]
  },
  {
   "cell_type": "markdown",
   "metadata": {},
   "source": [
    "## Keyword prediction\n",
    "\n",
    "- Extracts the string after a given keyword\n",
    "\n",
    "- Finds train emails with matching string sequence\n",
    "\n",
    "- Adds 1 to recipient score for each recipient of the train email\n",
    "\n",
    "- Predicts recipient with highest scores"
   ]
  },
  {
   "cell_type": "code",
   "execution_count": 55,
   "metadata": {
    "collapsed": true
   },
   "outputs": [],
   "source": [
    "keywords = ['From:', 'FW:', 'Subject']"
   ]
  },
  {
   "cell_type": "code",
   "execution_count": 61,
   "metadata": {
    "collapsed": false
   },
   "outputs": [
    {
     "name": "stdout",
     "output_type": "stream",
     "text": [
      "\n",
      "\"From:\" score : 0.11337176196376941\n",
      "\n",
      "\"FW:\" score : 0.015641293013555786\n",
      "\n",
      "\"Subject\" score : 0.04579764121663563\n"
     ]
    }
   ],
   "source": [
    "extracted_subject_length = 20\n",
    "\n",
    "for keyword in keywords:\n",
    "    keyword_predictions = manualtools.get_keyword_prediction(train_body_dict, val_body_dict,\n",
    "                                                             train_info, keyword, extracted_length=20)\n",
    "    current_score = scoring.compute_prediction_mad(keyword_predictions, val_info)\n",
    "    print('\"{key}\" score : {score}'.format(key=keyword, score=current_score))"
   ]
  },
  {
   "cell_type": "markdown",
   "metadata": {
    "collapsed": false
   },
   "source": [
    "As expected, the most informative field is 'From:'.\n",
    "\n",
    "We notice that by themselves, when present on the e-mail, none of the keywords allow us (by itself) to make competitive predictions"
   ]
  },
  {
   "cell_type": "code",
   "execution_count": null,
   "metadata": {
    "collapsed": true
   },
   "outputs": [],
   "source": []
  }
 ],
 "metadata": {
  "kernelspec": {
   "display_name": "Python 3",
   "language": "python",
   "name": "python3"
  },
  "language_info": {
   "codemirror_mode": {
    "name": "ipython",
    "version": 3
   },
   "file_extension": ".py",
   "mimetype": "text/x-python",
   "name": "python",
   "nbconvert_exporter": "python",
   "pygments_lexer": "ipython3",
   "version": "3.4.3"
  },
  "widgets": {
   "state": {
    "072323f4232d4bda9858f027bebcb718": {
     "views": [
      {
       "cell_index": 3
      }
     ]
    },
    "22e4ef54b0ef4ea0a9d1554292ced078": {
     "views": [
      {
       "cell_index": 16
      }
     ]
    },
    "2fe02299eb704e268b66f6b8ea475545": {
     "views": [
      {
       "cell_index": 18
      }
     ]
    },
    "3333f5bc19c6441fae6b9bfedb9a0ed0": {
     "views": [
      {
       "cell_index": 3
      }
     ]
    },
    "354835b6280c46ddb74a8d85ab9eac7f": {
     "views": [
      {
       "cell_index": 22
      }
     ]
    },
    "39c7f63d224649c6ad627d042a2727b5": {
     "views": [
      {
       "cell_index": 4
      }
     ]
    },
    "4e891851f5a74fe5879b9ae88bdaa691": {
     "views": [
      {
       "cell_index": 4
      }
     ]
    },
    "4f7550973e15480285b14e470eacce9b": {
     "views": [
      {
       "cell_index": 22
      }
     ]
    },
    "9f8f835b1a2b4e7997ad234753c703e2": {
     "views": [
      {
       "cell_index": 3
      }
     ]
    },
    "a165792e38ee4a849ce0eabe19d965a9": {
     "views": [
      {
       "cell_index": 6
      }
     ]
    },
    "a881550e1dc44a72a4886cad5904ba6a": {
     "views": [
      {
       "cell_index": 22
      }
     ]
    },
    "aebca4ddb0044f3c839b3bea0e4dd504": {
     "views": [
      {
       "cell_index": 22
      }
     ]
    },
    "b7628f3e72c5426283f2463f2fba92ca": {
     "views": [
      {
       "cell_index": 12
      }
     ]
    },
    "c031482aa7cd41d3b44104998e9f1ac5": {
     "views": [
      {
       "cell_index": 22
      }
     ]
    },
    "d5f2d68dc1bb414f8e8f473567bede6b": {
     "views": [
      {
       "cell_index": 23
      }
     ]
    },
    "d841f69818ae438ab9997db91a24ede2": {
     "views": [
      {
       "cell_index": 4
      }
     ]
    },
    "da7728ce926f4da9af1312b7cc1820aa": {
     "views": [
      {
       "cell_index": 8
      }
     ]
    },
    "ed836fd0ab2d4852b1cbe08b69d438ac": {
     "views": [
      {
       "cell_index": 22
      }
     ]
    }
   },
   "version": "1.2.0"
  }
 },
 "nbformat": 4,
 "nbformat_minor": 2
}
